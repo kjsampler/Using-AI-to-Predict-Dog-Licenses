{
 "cells": [
  {
   "cell_type": "markdown",
   "metadata": {
    "id": "H-KDfNxBTzPi"
   },
   "source": [
    "# Model"
   ]
  },
  {
   "cell_type": "code",
   "execution_count": 1,
   "metadata": {
    "id": "wSSUO2848QIz"
   },
   "outputs": [
    {
     "ename": "ImportError",
     "evalue": "Keras requires TensorFlow 2.2 or higher. Install TensorFlow via `pip install tensorflow`",
     "output_type": "error",
     "traceback": [
      "\u001b[1;31m---------------------------------------------------------------------------\u001b[0m",
      "\u001b[1;31mImportError\u001b[0m                               Traceback (most recent call last)",
      "\u001b[1;32m~\\Anaconda3\\lib\\site-packages\\tensorflow\\python\\pywrap_tensorflow.py\u001b[0m in \u001b[0;36m<module>\u001b[1;34m\u001b[0m\n\u001b[0;32m     63\u001b[0m   \u001b[1;32mtry\u001b[0m\u001b[1;33m:\u001b[0m\u001b[1;33m\u001b[0m\u001b[1;33m\u001b[0m\u001b[0m\n\u001b[1;32m---> 64\u001b[1;33m     \u001b[1;32mfrom\u001b[0m \u001b[0mtensorflow\u001b[0m\u001b[1;33m.\u001b[0m\u001b[0mpython\u001b[0m\u001b[1;33m.\u001b[0m\u001b[0m_pywrap_tensorflow_internal\u001b[0m \u001b[1;32mimport\u001b[0m \u001b[1;33m*\u001b[0m\u001b[1;33m\u001b[0m\u001b[1;33m\u001b[0m\u001b[0m\n\u001b[0m\u001b[0;32m     65\u001b[0m   \u001b[1;31m# This try catch logic is because there is no bazel equivalent for py_extension.\u001b[0m\u001b[1;33m\u001b[0m\u001b[1;33m\u001b[0m\u001b[1;33m\u001b[0m\u001b[0m\n",
      "\u001b[1;31mImportError\u001b[0m: DLL load failed: The specified module could not be found.",
      "\nDuring handling of the above exception, another exception occurred:\n",
      "\u001b[1;31mImportError\u001b[0m                               Traceback (most recent call last)",
      "\u001b[1;32m~\\Anaconda3\\lib\\site-packages\\keras\\__init__.py\u001b[0m in \u001b[0;36m<module>\u001b[1;34m\u001b[0m\n\u001b[0;32m      2\u001b[0m \u001b[1;32mtry\u001b[0m\u001b[1;33m:\u001b[0m\u001b[1;33m\u001b[0m\u001b[1;33m\u001b[0m\u001b[0m\n\u001b[1;32m----> 3\u001b[1;33m     \u001b[1;32mfrom\u001b[0m \u001b[0mtensorflow\u001b[0m\u001b[1;33m.\u001b[0m\u001b[0mkeras\u001b[0m\u001b[1;33m.\u001b[0m\u001b[0mlayers\u001b[0m\u001b[1;33m.\u001b[0m\u001b[0mexperimental\u001b[0m\u001b[1;33m.\u001b[0m\u001b[0mpreprocessing\u001b[0m \u001b[1;32mimport\u001b[0m \u001b[0mRandomRotation\u001b[0m\u001b[1;33m\u001b[0m\u001b[1;33m\u001b[0m\u001b[0m\n\u001b[0m\u001b[0;32m      4\u001b[0m \u001b[1;32mexcept\u001b[0m \u001b[0mImportError\u001b[0m\u001b[1;33m:\u001b[0m\u001b[1;33m\u001b[0m\u001b[1;33m\u001b[0m\u001b[0m\n",
      "\u001b[1;32m~\\Anaconda3\\lib\\site-packages\\tensorflow\\__init__.py\u001b[0m in \u001b[0;36m<module>\u001b[1;34m\u001b[0m\n\u001b[0;32m     40\u001b[0m \u001b[1;33m\u001b[0m\u001b[0m\n\u001b[1;32m---> 41\u001b[1;33m \u001b[1;32mfrom\u001b[0m \u001b[0mtensorflow\u001b[0m\u001b[1;33m.\u001b[0m\u001b[0mpython\u001b[0m\u001b[1;33m.\u001b[0m\u001b[0mtools\u001b[0m \u001b[1;32mimport\u001b[0m \u001b[0mmodule_util\u001b[0m \u001b[1;32mas\u001b[0m \u001b[0m_module_util\u001b[0m\u001b[1;33m\u001b[0m\u001b[1;33m\u001b[0m\u001b[0m\n\u001b[0m\u001b[0;32m     42\u001b[0m \u001b[1;32mfrom\u001b[0m \u001b[0mtensorflow\u001b[0m\u001b[1;33m.\u001b[0m\u001b[0mpython\u001b[0m\u001b[1;33m.\u001b[0m\u001b[0mutil\u001b[0m\u001b[1;33m.\u001b[0m\u001b[0mlazy_loader\u001b[0m \u001b[1;32mimport\u001b[0m \u001b[0mLazyLoader\u001b[0m \u001b[1;32mas\u001b[0m \u001b[0m_LazyLoader\u001b[0m\u001b[1;33m\u001b[0m\u001b[1;33m\u001b[0m\u001b[0m\n",
      "\u001b[1;32m~\\Anaconda3\\lib\\site-packages\\tensorflow\\python\\__init__.py\u001b[0m in \u001b[0;36m<module>\u001b[1;34m\u001b[0m\n\u001b[0;32m     38\u001b[0m \u001b[1;31m# pylint: disable=wildcard-import,g-bad-import-order,g-import-not-at-top\u001b[0m\u001b[1;33m\u001b[0m\u001b[1;33m\u001b[0m\u001b[1;33m\u001b[0m\u001b[0m\n\u001b[1;32m---> 39\u001b[1;33m \u001b[1;32mfrom\u001b[0m \u001b[0mtensorflow\u001b[0m\u001b[1;33m.\u001b[0m\u001b[0mpython\u001b[0m \u001b[1;32mimport\u001b[0m \u001b[0mpywrap_tensorflow\u001b[0m \u001b[1;32mas\u001b[0m \u001b[0m_pywrap_tensorflow\u001b[0m\u001b[1;33m\u001b[0m\u001b[1;33m\u001b[0m\u001b[0m\n\u001b[0m\u001b[0;32m     40\u001b[0m \u001b[1;33m\u001b[0m\u001b[0m\n",
      "\u001b[1;32m~\\Anaconda3\\lib\\site-packages\\tensorflow\\python\\pywrap_tensorflow.py\u001b[0m in \u001b[0;36m<module>\u001b[1;34m\u001b[0m\n\u001b[0;32m     82\u001b[0m above this error message when asking for help.\"\"\" % traceback.format_exc()\n\u001b[1;32m---> 83\u001b[1;33m   \u001b[1;32mraise\u001b[0m \u001b[0mImportError\u001b[0m\u001b[1;33m(\u001b[0m\u001b[0mmsg\u001b[0m\u001b[1;33m)\u001b[0m\u001b[1;33m\u001b[0m\u001b[1;33m\u001b[0m\u001b[0m\n\u001b[0m\u001b[0;32m     84\u001b[0m \u001b[1;33m\u001b[0m\u001b[0m\n",
      "\u001b[1;31mImportError\u001b[0m: Traceback (most recent call last):\n  File \"C:\\Users\\kayce_000\\Anaconda3\\lib\\site-packages\\tensorflow\\python\\pywrap_tensorflow.py\", line 64, in <module>\n    from tensorflow.python._pywrap_tensorflow_internal import *\nImportError: DLL load failed: The specified module could not be found.\n\n\nFailed to load the native TensorFlow runtime.\n\nSee https://www.tensorflow.org/install/errors\n\nfor some common reasons and solutions.  Include the entire stack trace\nabove this error message when asking for help.",
      "\nDuring handling of the above exception, another exception occurred:\n",
      "\u001b[1;31mImportError\u001b[0m                               Traceback (most recent call last)",
      "\u001b[1;32m<ipython-input-1-ba96ac592cc8>\u001b[0m in \u001b[0;36m<module>\u001b[1;34m\u001b[0m\n\u001b[0;32m      5\u001b[0m \u001b[1;32mfrom\u001b[0m \u001b[0msklearn\u001b[0m\u001b[1;33m.\u001b[0m\u001b[0mmodel_selection\u001b[0m \u001b[1;32mimport\u001b[0m \u001b[0mtrain_test_split\u001b[0m\u001b[1;33m\u001b[0m\u001b[1;33m\u001b[0m\u001b[0m\n\u001b[0;32m      6\u001b[0m \u001b[1;32mfrom\u001b[0m \u001b[0msklearn\u001b[0m\u001b[1;33m.\u001b[0m\u001b[0mmetrics\u001b[0m \u001b[1;32mimport\u001b[0m \u001b[0mmean_squared_error\u001b[0m\u001b[1;33m\u001b[0m\u001b[1;33m\u001b[0m\u001b[0m\n\u001b[1;32m----> 7\u001b[1;33m \u001b[1;32mfrom\u001b[0m \u001b[0mkeras\u001b[0m\u001b[1;33m.\u001b[0m\u001b[0mmodels\u001b[0m \u001b[1;32mimport\u001b[0m \u001b[0mSequential\u001b[0m\u001b[1;33m,\u001b[0m \u001b[0mload_model\u001b[0m\u001b[1;33m\u001b[0m\u001b[1;33m\u001b[0m\u001b[0m\n\u001b[0m\u001b[0;32m      8\u001b[0m \u001b[1;32mfrom\u001b[0m \u001b[0mkeras\u001b[0m\u001b[1;33m.\u001b[0m\u001b[0mlayers\u001b[0m \u001b[1;32mimport\u001b[0m \u001b[0mDense\u001b[0m\u001b[1;33m,\u001b[0m \u001b[0mLSTM\u001b[0m\u001b[1;33m,\u001b[0m \u001b[0mDropout\u001b[0m\u001b[1;33m\u001b[0m\u001b[1;33m\u001b[0m\u001b[0m\n\u001b[0;32m      9\u001b[0m \u001b[1;32mimport\u001b[0m \u001b[0mtime\u001b[0m\u001b[1;33m\u001b[0m\u001b[1;33m\u001b[0m\u001b[0m\n",
      "\u001b[1;32m~\\Anaconda3\\lib\\site-packages\\keras\\__init__.py\u001b[0m in \u001b[0;36m<module>\u001b[1;34m\u001b[0m\n\u001b[0;32m      4\u001b[0m \u001b[1;32mexcept\u001b[0m \u001b[0mImportError\u001b[0m\u001b[1;33m:\u001b[0m\u001b[1;33m\u001b[0m\u001b[1;33m\u001b[0m\u001b[0m\n\u001b[0;32m      5\u001b[0m     raise ImportError(\n\u001b[1;32m----> 6\u001b[1;33m         \u001b[1;34m'Keras requires TensorFlow 2.2 or higher. '\u001b[0m\u001b[1;33m\u001b[0m\u001b[1;33m\u001b[0m\u001b[0m\n\u001b[0m\u001b[0;32m      7\u001b[0m         'Install TensorFlow via `pip install tensorflow`')\n\u001b[0;32m      8\u001b[0m \u001b[1;33m\u001b[0m\u001b[0m\n",
      "\u001b[1;31mImportError\u001b[0m: Keras requires TensorFlow 2.2 or higher. Install TensorFlow via `pip install tensorflow`"
     ]
    }
   ],
   "source": [
    "import pandas as pd\n",
    "from datetime import datetime\n",
    "from sklearn.preprocessing import LabelEncoder\n",
    "from sklearn.preprocessing import MinMaxScaler\n",
    "from sklearn.model_selection import train_test_split\n",
    "from sklearn.metrics import mean_squared_error\n",
    "from keras.models import Sequential, load_model\n",
    "from keras.layers import Dense, LSTM, Dropout\n",
    "import time\n",
    "import datetime\n",
    "import matplotlib.pyplot as plt\n",
    "import numpy as np\n",
    "import math"
   ]
  },
  {
   "cell_type": "markdown",
   "metadata": {
    "id": "dQVl5OedgPs5"
   },
   "source": [
    "Files to upload: \n",
    "uni_final.csv and df_18_final.csv  \n",
    "Path: Flatiron School > Capstone Project > Dog Licenses > data"
   ]
  },
  {
   "cell_type": "markdown",
   "metadata": {
    "id": "QPyGKuvIObRI"
   },
   "source": [
    "This kind of model and dataset would lend itself well to a multivariate LSTM model. Let's just take an initial look at the scope of the categorical variables"
   ]
  },
  {
   "cell_type": "code",
   "execution_count": null,
   "metadata": {
    "colab": {
     "base_uri": "https://localhost:8080/",
     "height": 202
    },
    "id": "jhNR7IfPArIz",
    "outputId": "98925b3f-4951-41fa-8407-fd4d0c901c18"
   },
   "outputs": [
    {
     "data": {
      "text/html": [
       "<div>\n",
       "<style scoped>\n",
       "    .dataframe tbody tr th:only-of-type {\n",
       "        vertical-align: middle;\n",
       "    }\n",
       "\n",
       "    .dataframe tbody tr th {\n",
       "        vertical-align: top;\n",
       "    }\n",
       "\n",
       "    .dataframe thead th {\n",
       "        text-align: right;\n",
       "    }\n",
       "</style>\n",
       "<table border=\"1\" class=\"dataframe\">\n",
       "  <thead>\n",
       "    <tr style=\"text-align: right;\">\n",
       "      <th></th>\n",
       "      <th>ValidDate</th>\n",
       "      <th>LicenseType</th>\n",
       "      <th>Breed</th>\n",
       "      <th>Color</th>\n",
       "      <th>DogName</th>\n",
       "      <th>OwnerZip</th>\n",
       "      <th>ExpYear</th>\n",
       "    </tr>\n",
       "  </thead>\n",
       "  <tbody>\n",
       "    <tr>\n",
       "      <th>0</th>\n",
       "      <td>2014-12-02 09:40:53</td>\n",
       "      <td>Dog Individual Neutered Male</td>\n",
       "      <td>COCKAPOO</td>\n",
       "      <td>BROWN</td>\n",
       "      <td>CHARLEY</td>\n",
       "      <td>15236</td>\n",
       "      <td>2015</td>\n",
       "    </tr>\n",
       "    <tr>\n",
       "      <th>1</th>\n",
       "      <td>2014-12-02 09:45:25</td>\n",
       "      <td>Dog Senior Citizen or Disability Neutered Male</td>\n",
       "      <td>GER SHEPHERD</td>\n",
       "      <td>BLACK/BROWN</td>\n",
       "      <td>TACODA</td>\n",
       "      <td>15238</td>\n",
       "      <td>2015</td>\n",
       "    </tr>\n",
       "    <tr>\n",
       "      <th>2</th>\n",
       "      <td>2014-12-02 09:47:55</td>\n",
       "      <td>Dog Individual Spayed Female</td>\n",
       "      <td>GER SHEPHERD</td>\n",
       "      <td>BLACK</td>\n",
       "      <td>CHARLY</td>\n",
       "      <td>15205</td>\n",
       "      <td>2015</td>\n",
       "    </tr>\n",
       "    <tr>\n",
       "      <th>3</th>\n",
       "      <td>2014-12-02 10:02:33</td>\n",
       "      <td>Dog Individual Spayed Female</td>\n",
       "      <td>LABRADOR RETRIEVER</td>\n",
       "      <td>BLACK</td>\n",
       "      <td>ABBEY</td>\n",
       "      <td>15143</td>\n",
       "      <td>2015</td>\n",
       "    </tr>\n",
       "    <tr>\n",
       "      <th>4</th>\n",
       "      <td>2014-12-02 10:05:50</td>\n",
       "      <td>Dog Individual Female</td>\n",
       "      <td>GER SHORTHAIR POINT</td>\n",
       "      <td>BROWN</td>\n",
       "      <td>CHARLEY</td>\n",
       "      <td>15228</td>\n",
       "      <td>2015</td>\n",
       "    </tr>\n",
       "  </tbody>\n",
       "</table>\n",
       "</div>"
      ],
      "text/plain": [
       "             ValidDate  ... ExpYear\n",
       "0  2014-12-02 09:40:53  ...    2015\n",
       "1  2014-12-02 09:45:25  ...    2015\n",
       "2  2014-12-02 09:47:55  ...    2015\n",
       "3  2014-12-02 10:02:33  ...    2015\n",
       "4  2014-12-02 10:05:50  ...    2015\n",
       "\n",
       "[5 rows x 7 columns]"
      ]
     },
     "execution_count": 2,
     "metadata": {
      "tags": []
     },
     "output_type": "execute_result"
    }
   ],
   "source": [
    "df_raw = pd.read_csv('raw_data.csv')\n",
    "df_raw.head()"
   ]
  },
  {
   "cell_type": "code",
   "execution_count": null,
   "metadata": {
    "colab": {
     "base_uri": "https://localhost:8080/"
    },
    "id": "6GKUb68rHWc3",
    "outputId": "e82e6bca-f42f-449d-8985-36f4af56b2c9"
   },
   "outputs": [
    {
     "name": "stdout",
     "output_type": "stream",
     "text": [
      "1146896\n"
     ]
    }
   ],
   "source": [
    "print(len(df_raw['Breed']) + len(df_raw['Color']) + len(df_raw['DogName']) + len(df_raw['OwnerZip']))\n",
    "#If we kepts columns 'as is' and did dummies, this is how many columns we would have"
   ]
  },
  {
   "cell_type": "markdown",
   "metadata": {
    "id": "Y833_eRPNisQ"
   },
   "source": [
    "A multivariate model seems to be out of the scope of this project. However, an idea for future work would be to use an aggregate of a categorical variable (ie. total PitBulls per month) or a top 10 most popular of a variable to see if we could derive any unexpected insight. "
   ]
  },
  {
   "cell_type": "markdown",
   "metadata": {
    "id": "1VOmcgkgNRVw"
   },
   "source": [
    "# Using an LSTM to predict on a single variable (sum of licenses per day)"
   ]
  },
  {
   "cell_type": "code",
   "execution_count": null,
   "metadata": {
    "id": "3Uzx-AEav2l2"
   },
   "outputs": [],
   "source": [
    "uni_final = pd.read_csv('/content/uni_final.csv')"
   ]
  },
  {
   "cell_type": "code",
   "execution_count": null,
   "metadata": {
    "colab": {
     "base_uri": "https://localhost:8080/",
     "height": 202
    },
    "id": "iSq98vDqwCcj",
    "outputId": "9016b25f-9e93-4c72-f1e4-11329187f635"
   },
   "outputs": [
    {
     "data": {
      "text/html": [
       "<div>\n",
       "<style scoped>\n",
       "    .dataframe tbody tr th:only-of-type {\n",
       "        vertical-align: middle;\n",
       "    }\n",
       "\n",
       "    .dataframe tbody tr th {\n",
       "        vertical-align: top;\n",
       "    }\n",
       "\n",
       "    .dataframe thead th {\n",
       "        text-align: right;\n",
       "    }\n",
       "</style>\n",
       "<table border=\"1\" class=\"dataframe\">\n",
       "  <thead>\n",
       "    <tr style=\"text-align: right;\">\n",
       "      <th></th>\n",
       "      <th>ValidDate</th>\n",
       "      <th>Sum</th>\n",
       "    </tr>\n",
       "  </thead>\n",
       "  <tbody>\n",
       "    <tr>\n",
       "      <th>0</th>\n",
       "      <td>2014-12-02</td>\n",
       "      <td>82</td>\n",
       "    </tr>\n",
       "    <tr>\n",
       "      <th>1</th>\n",
       "      <td>2014-12-03</td>\n",
       "      <td>232</td>\n",
       "    </tr>\n",
       "    <tr>\n",
       "      <th>2</th>\n",
       "      <td>2014-12-04</td>\n",
       "      <td>351</td>\n",
       "    </tr>\n",
       "    <tr>\n",
       "      <th>3</th>\n",
       "      <td>2014-12-05</td>\n",
       "      <td>163</td>\n",
       "    </tr>\n",
       "    <tr>\n",
       "      <th>4</th>\n",
       "      <td>2014-12-08</td>\n",
       "      <td>337</td>\n",
       "    </tr>\n",
       "  </tbody>\n",
       "</table>\n",
       "</div>"
      ],
      "text/plain": [
       "    ValidDate  Sum\n",
       "0  2014-12-02   82\n",
       "1  2014-12-03  232\n",
       "2  2014-12-04  351\n",
       "3  2014-12-05  163\n",
       "4  2014-12-08  337"
      ]
     },
     "execution_count": 5,
     "metadata": {
      "tags": []
     },
     "output_type": "execute_result"
    }
   ],
   "source": [
    "uni_final.head()"
   ]
  },
  {
   "cell_type": "code",
   "execution_count": null,
   "metadata": {
    "id": "Bv31wmM6wM51"
   },
   "outputs": [],
   "source": [
    "uni_final.set_index('ValidDate', inplace = True)"
   ]
  },
  {
   "cell_type": "code",
   "execution_count": null,
   "metadata": {
    "colab": {
     "base_uri": "https://localhost:8080/",
     "height": 233
    },
    "id": "vMIopdWywZW1",
    "outputId": "c5d30dbe-402c-41f2-a3ba-73704af84b0d"
   },
   "outputs": [
    {
     "data": {
      "text/html": [
       "<div>\n",
       "<style scoped>\n",
       "    .dataframe tbody tr th:only-of-type {\n",
       "        vertical-align: middle;\n",
       "    }\n",
       "\n",
       "    .dataframe tbody tr th {\n",
       "        vertical-align: top;\n",
       "    }\n",
       "\n",
       "    .dataframe thead th {\n",
       "        text-align: right;\n",
       "    }\n",
       "</style>\n",
       "<table border=\"1\" class=\"dataframe\">\n",
       "  <thead>\n",
       "    <tr style=\"text-align: right;\">\n",
       "      <th></th>\n",
       "      <th>Sum</th>\n",
       "    </tr>\n",
       "    <tr>\n",
       "      <th>ValidDate</th>\n",
       "      <th></th>\n",
       "    </tr>\n",
       "  </thead>\n",
       "  <tbody>\n",
       "    <tr>\n",
       "      <th>2014-12-02</th>\n",
       "      <td>82</td>\n",
       "    </tr>\n",
       "    <tr>\n",
       "      <th>2014-12-03</th>\n",
       "      <td>232</td>\n",
       "    </tr>\n",
       "    <tr>\n",
       "      <th>2014-12-04</th>\n",
       "      <td>351</td>\n",
       "    </tr>\n",
       "    <tr>\n",
       "      <th>2014-12-05</th>\n",
       "      <td>163</td>\n",
       "    </tr>\n",
       "    <tr>\n",
       "      <th>2014-12-08</th>\n",
       "      <td>337</td>\n",
       "    </tr>\n",
       "  </tbody>\n",
       "</table>\n",
       "</div>"
      ],
      "text/plain": [
       "            Sum\n",
       "ValidDate      \n",
       "2014-12-02   82\n",
       "2014-12-03  232\n",
       "2014-12-04  351\n",
       "2014-12-05  163\n",
       "2014-12-08  337"
      ]
     },
     "execution_count": 7,
     "metadata": {
      "tags": []
     },
     "output_type": "execute_result"
    }
   ],
   "source": [
    "uni_final.head()"
   ]
  },
  {
   "cell_type": "code",
   "execution_count": null,
   "metadata": {
    "id": "TYiPfQ-nwbg1"
   },
   "outputs": [],
   "source": [
    "#Because I am only testing on one variable, should I still scale it? \n",
    "#Scale for sake of timely convergence"
   ]
  },
  {
   "cell_type": "code",
   "execution_count": null,
   "metadata": {
    "id": "D93Qu32E-1GJ"
   },
   "outputs": [],
   "source": [
    "scaler = MinMaxScaler()\n",
    "uni_scaled = scaler.fit_transform(uni_final.values)"
   ]
  },
  {
   "cell_type": "markdown",
   "metadata": {
    "id": "fQ4e1I8YMwWy"
   },
   "source": [
    "#Use series_to_supervise() function from Jason Brownlee via Machine Learning Mastery\n",
    "#Use a lag of 1 to match SARIMA model "
   ]
  },
  {
   "cell_type": "code",
   "execution_count": null,
   "metadata": {
    "id": "MUfhie-Sye2N"
   },
   "outputs": [],
   "source": [
    "def series_to_supervise(data, n_in = 1, n_out = 1, dropnan = True):\n",
    "  n_vars = 1 if type(data) is list else data.shape[1]\n",
    "  df = pd.DataFrame(data)\n",
    "  cols, names = list(), list()\n",
    "\n",
    "  for i in range(n_in, 0, -1):\n",
    "    cols.append(df.shift(i))\n",
    "    names += [('var%d(t-%d)' % (j+1, i)) for j in range(n_vars)]\n",
    "  for i in range(0, n_out):\n",
    "    cols.append(df.shift(-i))\n",
    "    if i == 0:\n",
    "      names += [('var%d' % (j+1)) for j in range(n_vars)]\n",
    "    else: \n",
    "      names += [('var%d(t-%d)' % (j+1, i)) for j in range(n_vars)]\n",
    "  agg = pd.concat(cols, axis = 1)\n",
    "  agg.columns = names\n",
    "  if dropnan:\n",
    "    agg.dropna(inplace = True)\n",
    "  return agg"
   ]
  },
  {
   "cell_type": "code",
   "execution_count": null,
   "metadata": {
    "colab": {
     "base_uri": "https://localhost:8080/",
     "height": 202
    },
    "id": "Thr9pX4yAXRI",
    "outputId": "e6d9c5cf-ec99-4dd9-893a-c21942428027"
   },
   "outputs": [
    {
     "data": {
      "text/html": [
       "<div>\n",
       "<style scoped>\n",
       "    .dataframe tbody tr th:only-of-type {\n",
       "        vertical-align: middle;\n",
       "    }\n",
       "\n",
       "    .dataframe tbody tr th {\n",
       "        vertical-align: top;\n",
       "    }\n",
       "\n",
       "    .dataframe thead th {\n",
       "        text-align: right;\n",
       "    }\n",
       "</style>\n",
       "<table border=\"1\" class=\"dataframe\">\n",
       "  <thead>\n",
       "    <tr style=\"text-align: right;\">\n",
       "      <th></th>\n",
       "      <th>var1(t-1)</th>\n",
       "      <th>var1</th>\n",
       "    </tr>\n",
       "  </thead>\n",
       "  <tbody>\n",
       "    <tr>\n",
       "      <th>1</th>\n",
       "      <td>0.013245</td>\n",
       "      <td>0.037474</td>\n",
       "    </tr>\n",
       "    <tr>\n",
       "      <th>2</th>\n",
       "      <td>0.037474</td>\n",
       "      <td>0.056695</td>\n",
       "    </tr>\n",
       "    <tr>\n",
       "      <th>3</th>\n",
       "      <td>0.056695</td>\n",
       "      <td>0.026329</td>\n",
       "    </tr>\n",
       "    <tr>\n",
       "      <th>4</th>\n",
       "      <td>0.026329</td>\n",
       "      <td>0.054434</td>\n",
       "    </tr>\n",
       "    <tr>\n",
       "      <th>5</th>\n",
       "      <td>0.054434</td>\n",
       "      <td>0.027298</td>\n",
       "    </tr>\n",
       "  </tbody>\n",
       "</table>\n",
       "</div>"
      ],
      "text/plain": [
       "   var1(t-1)      var1\n",
       "1   0.013245  0.037474\n",
       "2   0.037474  0.056695\n",
       "3   0.056695  0.026329\n",
       "4   0.026329  0.054434\n",
       "5   0.054434  0.027298"
      ]
     },
     "execution_count": 11,
     "metadata": {
      "tags": []
     },
     "output_type": "execute_result"
    }
   ],
   "source": [
    "uni_lstm = series_to_supervise(uni_scaled, 1, 1)\n",
    "uni_lstm.head()"
   ]
  },
  {
   "cell_type": "markdown",
   "metadata": {
    "id": "isLo3xDvMm30"
   },
   "source": [
    "# Fit data for LSTM model, split into train and test sets"
   ]
  },
  {
   "cell_type": "code",
   "execution_count": null,
   "metadata": {
    "id": "h-MBbE1PCNuh"
   },
   "outputs": [],
   "source": [
    "X = uni_lstm['var1(t-1)'].values\n",
    "y = uni_lstm['var1'].values"
   ]
  },
  {
   "cell_type": "code",
   "execution_count": null,
   "metadata": {
    "id": "WVZQmUcPA6qY"
   },
   "outputs": [],
   "source": [
    "X_train, X_test, y_train, y_test = train_test_split(X, y, test_size = 0.3, random_state = 42)"
   ]
  },
  {
   "cell_type": "code",
   "execution_count": null,
   "metadata": {
    "colab": {
     "base_uri": "https://localhost:8080/"
    },
    "id": "rCKWC7I1EKmo",
    "outputId": "0a807586-4799-43f9-8150-2e7e87590408"
   },
   "outputs": [
    {
     "name": "stdout",
     "output_type": "stream",
     "text": [
      "(541,) (541,) (232,) (232,)\n"
     ]
    }
   ],
   "source": [
    "print(X_train.shape, y_train.shape, X_test.shape, y_test.shape)"
   ]
  },
  {
   "cell_type": "markdown",
   "metadata": {
    "id": "h_Xl-OYHMdDV"
   },
   "source": [
    "# Build LSTM model and tune to lowest possible MSE "
   ]
  },
  {
   "cell_type": "code",
   "execution_count": null,
   "metadata": {
    "colab": {
     "base_uri": "https://localhost:8080/"
    },
    "id": "eQyAArJ4DidA",
    "outputId": "d1006d4f-eda0-46bd-f1fe-aef7d30cdce0"
   },
   "outputs": [
    {
     "name": "stdout",
     "output_type": "stream",
     "text": [
      "(541, 1, 1) (541,) (232, 1, 1) (232,)\n"
     ]
    }
   ],
   "source": [
    "#Reshape into a 3D that LSTM expects\n",
    "#Inputs, timesteps (1), features (1)\n",
    "X_train = X_train.reshape((X_train.shape[0], 1, 1))\n",
    "X_test = X_test.reshape((X_test.shape[0], 1, 1))\n",
    "print(X_train.shape, y_train.shape, X_test.shape, y_test.shape)"
   ]
  },
  {
   "cell_type": "code",
   "execution_count": null,
   "metadata": {
    "colab": {
     "base_uri": "https://localhost:8080/"
    },
    "id": "dnFjslm2Ecxf",
    "outputId": "a2f899dc-6a74-4f16-d130-b01fd0024705"
   },
   "outputs": [
    {
     "name": "stdout",
     "output_type": "stream",
     "text": [
      "Epoch 1/50\n",
      "8/8 [==============================] - 0s 57ms/step - loss: 0.0196 - mse: 0.0196 - val_loss: 0.0150 - val_mse: 0.0150\n",
      "Epoch 2/50\n",
      "8/8 [==============================] - 0s 5ms/step - loss: 0.0185 - mse: 0.0185 - val_loss: 0.0144 - val_mse: 0.0144\n",
      "Epoch 3/50\n",
      "8/8 [==============================] - 0s 4ms/step - loss: 0.0177 - mse: 0.0177 - val_loss: 0.0139 - val_mse: 0.0139\n",
      "Epoch 4/50\n",
      "8/8 [==============================] - 0s 4ms/step - loss: 0.0172 - mse: 0.0172 - val_loss: 0.0137 - val_mse: 0.0137\n",
      "Epoch 5/50\n",
      "8/8 [==============================] - 0s 4ms/step - loss: 0.0169 - mse: 0.0169 - val_loss: 0.0135 - val_mse: 0.0135\n",
      "Epoch 6/50\n",
      "8/8 [==============================] - 0s 4ms/step - loss: 0.0166 - mse: 0.0166 - val_loss: 0.0134 - val_mse: 0.0134\n",
      "Epoch 7/50\n",
      "8/8 [==============================] - 0s 5ms/step - loss: 0.0164 - mse: 0.0164 - val_loss: 0.0134 - val_mse: 0.0134\n",
      "Epoch 8/50\n",
      "8/8 [==============================] - 0s 4ms/step - loss: 0.0163 - mse: 0.0163 - val_loss: 0.0133 - val_mse: 0.0133\n",
      "Epoch 9/50\n",
      "8/8 [==============================] - 0s 4ms/step - loss: 0.0162 - mse: 0.0162 - val_loss: 0.0133 - val_mse: 0.0133\n",
      "Epoch 10/50\n",
      "8/8 [==============================] - 0s 4ms/step - loss: 0.0162 - mse: 0.0162 - val_loss: 0.0133 - val_mse: 0.0133\n",
      "Epoch 11/50\n",
      "8/8 [==============================] - 0s 4ms/step - loss: 0.0161 - mse: 0.0161 - val_loss: 0.0133 - val_mse: 0.0133\n",
      "Epoch 12/50\n",
      "8/8 [==============================] - 0s 4ms/step - loss: 0.0161 - mse: 0.0161 - val_loss: 0.0133 - val_mse: 0.0133\n",
      "Epoch 13/50\n",
      "8/8 [==============================] - 0s 4ms/step - loss: 0.0161 - mse: 0.0161 - val_loss: 0.0133 - val_mse: 0.0133\n",
      "Epoch 14/50\n",
      "8/8 [==============================] - 0s 4ms/step - loss: 0.0161 - mse: 0.0161 - val_loss: 0.0134 - val_mse: 0.0134\n",
      "Epoch 15/50\n",
      "8/8 [==============================] - 0s 5ms/step - loss: 0.0161 - mse: 0.0161 - val_loss: 0.0134 - val_mse: 0.0134\n",
      "Epoch 16/50\n",
      "8/8 [==============================] - 0s 6ms/step - loss: 0.0160 - mse: 0.0160 - val_loss: 0.0134 - val_mse: 0.0134\n",
      "Epoch 17/50\n",
      "8/8 [==============================] - 0s 4ms/step - loss: 0.0160 - mse: 0.0160 - val_loss: 0.0134 - val_mse: 0.0134\n",
      "Epoch 18/50\n",
      "8/8 [==============================] - 0s 5ms/step - loss: 0.0160 - mse: 0.0160 - val_loss: 0.0134 - val_mse: 0.0134\n",
      "Epoch 19/50\n",
      "8/8 [==============================] - 0s 4ms/step - loss: 0.0160 - mse: 0.0160 - val_loss: 0.0134 - val_mse: 0.0134\n",
      "Epoch 20/50\n",
      "8/8 [==============================] - 0s 5ms/step - loss: 0.0160 - mse: 0.0160 - val_loss: 0.0134 - val_mse: 0.0134\n",
      "Epoch 21/50\n",
      "8/8 [==============================] - 0s 5ms/step - loss: 0.0160 - mse: 0.0160 - val_loss: 0.0134 - val_mse: 0.0134\n",
      "Epoch 22/50\n",
      "8/8 [==============================] - 0s 5ms/step - loss: 0.0160 - mse: 0.0160 - val_loss: 0.0134 - val_mse: 0.0134\n",
      "Epoch 23/50\n",
      "8/8 [==============================] - 0s 5ms/step - loss: 0.0160 - mse: 0.0160 - val_loss: 0.0134 - val_mse: 0.0134\n",
      "Epoch 24/50\n",
      "8/8 [==============================] - 0s 4ms/step - loss: 0.0160 - mse: 0.0160 - val_loss: 0.0134 - val_mse: 0.0134\n",
      "Epoch 25/50\n",
      "8/8 [==============================] - 0s 5ms/step - loss: 0.0160 - mse: 0.0160 - val_loss: 0.0134 - val_mse: 0.0134\n",
      "Epoch 26/50\n",
      "8/8 [==============================] - 0s 5ms/step - loss: 0.0160 - mse: 0.0160 - val_loss: 0.0134 - val_mse: 0.0134\n",
      "Epoch 27/50\n",
      "8/8 [==============================] - 0s 4ms/step - loss: 0.0160 - mse: 0.0160 - val_loss: 0.0134 - val_mse: 0.0134\n",
      "Epoch 28/50\n",
      "8/8 [==============================] - 0s 5ms/step - loss: 0.0160 - mse: 0.0160 - val_loss: 0.0134 - val_mse: 0.0134\n",
      "Epoch 29/50\n",
      "8/8 [==============================] - 0s 4ms/step - loss: 0.0160 - mse: 0.0160 - val_loss: 0.0134 - val_mse: 0.0134\n",
      "Epoch 30/50\n",
      "8/8 [==============================] - 0s 5ms/step - loss: 0.0160 - mse: 0.0160 - val_loss: 0.0134 - val_mse: 0.0134\n",
      "Epoch 31/50\n",
      "8/8 [==============================] - 0s 5ms/step - loss: 0.0159 - mse: 0.0159 - val_loss: 0.0133 - val_mse: 0.0133\n",
      "Epoch 32/50\n",
      "8/8 [==============================] - 0s 4ms/step - loss: 0.0159 - mse: 0.0159 - val_loss: 0.0133 - val_mse: 0.0133\n",
      "Epoch 33/50\n",
      "8/8 [==============================] - 0s 4ms/step - loss: 0.0159 - mse: 0.0159 - val_loss: 0.0133 - val_mse: 0.0133\n",
      "Epoch 34/50\n",
      "8/8 [==============================] - 0s 6ms/step - loss: 0.0159 - mse: 0.0159 - val_loss: 0.0133 - val_mse: 0.0133\n",
      "Epoch 35/50\n",
      "8/8 [==============================] - 0s 4ms/step - loss: 0.0159 - mse: 0.0159 - val_loss: 0.0133 - val_mse: 0.0133\n",
      "Epoch 36/50\n",
      "8/8 [==============================] - 0s 4ms/step - loss: 0.0159 - mse: 0.0159 - val_loss: 0.0133 - val_mse: 0.0133\n",
      "Epoch 37/50\n",
      "8/8 [==============================] - 0s 5ms/step - loss: 0.0159 - mse: 0.0159 - val_loss: 0.0133 - val_mse: 0.0133\n",
      "Epoch 38/50\n",
      "8/8 [==============================] - 0s 5ms/step - loss: 0.0159 - mse: 0.0159 - val_loss: 0.0133 - val_mse: 0.0133\n",
      "Epoch 39/50\n",
      "8/8 [==============================] - 0s 4ms/step - loss: 0.0159 - mse: 0.0159 - val_loss: 0.0133 - val_mse: 0.0133\n",
      "Epoch 40/50\n",
      "8/8 [==============================] - 0s 4ms/step - loss: 0.0159 - mse: 0.0159 - val_loss: 0.0133 - val_mse: 0.0133\n",
      "Epoch 41/50\n",
      "8/8 [==============================] - 0s 5ms/step - loss: 0.0159 - mse: 0.0159 - val_loss: 0.0133 - val_mse: 0.0133\n",
      "Epoch 42/50\n",
      "8/8 [==============================] - 0s 5ms/step - loss: 0.0159 - mse: 0.0159 - val_loss: 0.0133 - val_mse: 0.0133\n",
      "Epoch 43/50\n",
      "8/8 [==============================] - 0s 5ms/step - loss: 0.0159 - mse: 0.0159 - val_loss: 0.0133 - val_mse: 0.0133\n",
      "Epoch 44/50\n",
      "8/8 [==============================] - 0s 5ms/step - loss: 0.0159 - mse: 0.0159 - val_loss: 0.0133 - val_mse: 0.0133\n",
      "Epoch 45/50\n",
      "8/8 [==============================] - 0s 4ms/step - loss: 0.0159 - mse: 0.0159 - val_loss: 0.0133 - val_mse: 0.0133\n",
      "Epoch 46/50\n",
      "8/8 [==============================] - 0s 5ms/step - loss: 0.0159 - mse: 0.0159 - val_loss: 0.0133 - val_mse: 0.0133\n",
      "Epoch 47/50\n",
      "8/8 [==============================] - 0s 5ms/step - loss: 0.0158 - mse: 0.0158 - val_loss: 0.0133 - val_mse: 0.0133\n",
      "Epoch 48/50\n",
      "8/8 [==============================] - 0s 6ms/step - loss: 0.0158 - mse: 0.0158 - val_loss: 0.0132 - val_mse: 0.0132\n",
      "Epoch 49/50\n",
      "8/8 [==============================] - 0s 5ms/step - loss: 0.0158 - mse: 0.0158 - val_loss: 0.0132 - val_mse: 0.0132\n",
      "Epoch 50/50\n",
      "8/8 [==============================] - 0s 4ms/step - loss: 0.0158 - mse: 0.0158 - val_loss: 0.0132 - val_mse: 0.0132\n",
      "Time elapsed:  0:00:05.215281\n"
     ]
    }
   ],
   "source": [
    "#Build the LSTM model! \n",
    "now = datetime.datetime.now()\n",
    "model = Sequential()\n",
    "model.add(LSTM(50, input_shape = (X_train.shape[1], X_train.shape[2])))\n",
    "model.add(Dense(1))\n",
    "model.compile(loss = 'mse', optimizer = 'sgd', metrics = ['mse'])\n",
    "\n",
    "history = model.fit(X_train, y_train, epochs = 50, batch_size = 72, validation_data = (X_test, y_test), verbose = True, shuffle = False)\n",
    "later = datetime.datetime.now()\n",
    "elapsed = later - now\n",
    "print('Time elapsed: ', elapsed)"
   ]
  },
  {
   "cell_type": "code",
   "execution_count": null,
   "metadata": {
    "colab": {
     "base_uri": "https://localhost:8080/",
     "height": 265
    },
    "id": "2mgSEb7iLkeH",
    "outputId": "667af33d-8ec6-4caf-b65c-baadbd48ce22"
   },
   "outputs": [
    {
     "data": {
      "image/png": "[encoded data removed]",
      "text/plain": [
       "<Figure size 432x288 with 1 Axes>"
      ]
     },
     "metadata": {
      "needs_background": "light",
      "tags": []
     },
     "output_type": "display_data"
    }
   ],
   "source": [
    "plt.plot(history.history['loss'], label = 'train')\n",
    "plt.plot(history.history['val_loss'], label = 'test')\n",
    "plt.legend()\n",
    "plt.show()"
   ]
  },
  {
   "cell_type": "code",
   "execution_count": null,
   "metadata": {
    "id": "hrmilvwknz1h"
   },
   "outputs": [],
   "source": [
    "# Looks like it's converging before even 10 epochs"
   ]
  },
  {
   "cell_type": "code",
   "execution_count": null,
   "metadata": {
    "colab": {
     "base_uri": "https://localhost:8080/"
    },
    "id": "Wy8_BT8wq_HJ",
    "outputId": "db741132-c888-4bd3-adb3-468ee132b71e"
   },
   "outputs": [
    {
     "data": {
      "text/plain": [
       "(232, 1, 1)"
      ]
     },
     "execution_count": 19,
     "metadata": {
      "tags": []
     },
     "output_type": "execute_result"
    }
   ],
   "source": [
    "X_test = X_test.reshape(X_test.shape[0], 1, 1)\n",
    "X_test.shape"
   ]
  },
  {
   "cell_type": "code",
   "execution_count": null,
   "metadata": {
    "colab": {
     "base_uri": "https://localhost:8080/"
    },
    "id": "VTCi1vYsn4Z_",
    "outputId": "6b163eaa-524a-4221-af84-4be98d7db9ef"
   },
   "outputs": [
    {
     "name": "stdout",
     "output_type": "stream",
     "text": [
      "MSE of prediction:  507356.01\n"
     ]
    }
   ],
   "source": [
    "# Time to make a prediction\n",
    "yhat = model.predict(X_test)\n",
    "X_test = X_test.reshape((X_test.shape[0], X_test.shape[2]))\n",
    "inv_yhat = np.concatenate((yhat, X_test[:, 1:]), axis = 1)\n",
    "inv_yhat = scaler.inverse_transform(inv_yhat)\n",
    "inv_yhat = inv_yhat[:, 0]\n",
    "\n",
    "y_test = y_test.reshape((len(y_test), 1))\n",
    "inv_y = np.concatenate((y_test, X_test[:, 1:]), axis = 1)\n",
    "inv_y = scaler.inverse_transform(inv_y)\n",
    "inv_y = inv_y[:, 0]\n",
    "\n",
    "mse = mean_squared_error(inv_y, inv_yhat)\n",
    "print('MSE of prediction: ', np.round(mse, 2))"
   ]
  },
  {
   "cell_type": "code",
   "execution_count": null,
   "metadata": {
    "id": "wNWtesYOsU_g"
   },
   "outputs": [],
   "source": [
    "# ARIMA model MSE = 145107.43, LSTM model MSE = 528370.14"
   ]
  },
  {
   "cell_type": "code",
   "execution_count": null,
   "metadata": {
    "id": "2hCtAcnFvMmA"
   },
   "outputs": [],
   "source": [
    "#Try to get the lowest MSE possible before trying to make a forecast.  "
   ]
  },
  {
   "cell_type": "code",
   "execution_count": null,
   "metadata": {
    "colab": {
     "base_uri": "https://localhost:8080/"
    },
    "id": "MId3DbaxQDVI",
    "outputId": "6c7d9403-9af3-43e0-b91f-6c77e9c3838d"
   },
   "outputs": [
    {
     "name": "stdout",
     "output_type": "stream",
     "text": [
      "(541, 1, 1) (541,) (232, 1, 1) (232, 1)\n"
     ]
    }
   ],
   "source": [
    "#Reshape into a 3D that LSTM expects\n",
    "#Inputs, timesteps (1), features (1)\n",
    "X_train = X_train.reshape((X_train.shape[0], 1, 1))\n",
    "X_test = X_test.reshape((X_test.shape[0], 1, 1))\n",
    "print(X_train.shape, y_train.shape, X_test.shape, y_test.shape)"
   ]
  },
  {
   "cell_type": "code",
   "execution_count": null,
   "metadata": {
    "colab": {
     "base_uri": "https://localhost:8080/"
    },
    "id": "nb_oKWZkzhZY",
    "outputId": "a43f2ab7-9477-4605-9807-ca50e7335d44"
   },
   "outputs": [
    {
     "name": "stdout",
     "output_type": "stream",
     "text": [
      "Epoch 1/50\n",
      "8/8 [==============================] - 0s 55ms/step - loss: 0.0185 - mse: 0.0185 - val_loss: 0.0141 - val_mse: 0.0141\n",
      "Epoch 2/50\n",
      "8/8 [==============================] - 0s 5ms/step - loss: 0.0170 - mse: 0.0170 - val_loss: 0.0142 - val_mse: 0.0142\n",
      "Epoch 3/50\n",
      "8/8 [==============================] - 0s 4ms/step - loss: 0.0169 - mse: 0.0169 - val_loss: 0.0142 - val_mse: 0.0142\n",
      "Epoch 4/50\n",
      "8/8 [==============================] - 0s 4ms/step - loss: 0.0169 - mse: 0.0169 - val_loss: 0.0142 - val_mse: 0.0142\n",
      "Epoch 5/50\n",
      "8/8 [==============================] - 0s 4ms/step - loss: 0.0168 - mse: 0.0168 - val_loss: 0.0142 - val_mse: 0.0142\n",
      "Epoch 6/50\n",
      "8/8 [==============================] - 0s 4ms/step - loss: 0.0168 - mse: 0.0168 - val_loss: 0.0141 - val_mse: 0.0141\n",
      "Epoch 7/50\n",
      "8/8 [==============================] - 0s 4ms/step - loss: 0.0168 - mse: 0.0168 - val_loss: 0.0141 - val_mse: 0.0141\n",
      "Epoch 8/50\n",
      "8/8 [==============================] - 0s 5ms/step - loss: 0.0168 - mse: 0.0168 - val_loss: 0.0141 - val_mse: 0.0141\n",
      "Epoch 9/50\n",
      "8/8 [==============================] - 0s 5ms/step - loss: 0.0167 - mse: 0.0167 - val_loss: 0.0141 - val_mse: 0.0141\n",
      "Epoch 10/50\n",
      "8/8 [==============================] - 0s 5ms/step - loss: 0.0167 - mse: 0.0167 - val_loss: 0.0140 - val_mse: 0.0140\n",
      "Epoch 11/50\n",
      "8/8 [==============================] - 0s 5ms/step - loss: 0.0167 - mse: 0.0167 - val_loss: 0.0140 - val_mse: 0.0140\n",
      "Epoch 12/50\n",
      "8/8 [==============================] - 0s 5ms/step - loss: 0.0167 - mse: 0.0167 - val_loss: 0.0140 - val_mse: 0.0140\n",
      "Epoch 13/50\n",
      "8/8 [==============================] - 0s 5ms/step - loss: 0.0166 - mse: 0.0166 - val_loss: 0.0140 - val_mse: 0.0140\n",
      "Epoch 14/50\n",
      "8/8 [==============================] - 0s 4ms/step - loss: 0.0166 - mse: 0.0166 - val_loss: 0.0139 - val_mse: 0.0139\n",
      "Epoch 15/50\n",
      "8/8 [==============================] - 0s 5ms/step - loss: 0.0166 - mse: 0.0166 - val_loss: 0.0139 - val_mse: 0.0139\n",
      "Epoch 16/50\n",
      "8/8 [==============================] - 0s 4ms/step - loss: 0.0166 - mse: 0.0166 - val_loss: 0.0139 - val_mse: 0.0139\n",
      "Epoch 17/50\n",
      "8/8 [==============================] - 0s 4ms/step - loss: 0.0166 - mse: 0.0166 - val_loss: 0.0139 - val_mse: 0.0139\n",
      "Epoch 18/50\n",
      "8/8 [==============================] - 0s 5ms/step - loss: 0.0165 - mse: 0.0165 - val_loss: 0.0139 - val_mse: 0.0139\n",
      "Epoch 19/50\n",
      "8/8 [==============================] - 0s 5ms/step - loss: 0.0165 - mse: 0.0165 - val_loss: 0.0138 - val_mse: 0.0138\n",
      "Epoch 20/50\n",
      "8/8 [==============================] - 0s 5ms/step - loss: 0.0165 - mse: 0.0165 - val_loss: 0.0138 - val_mse: 0.0138\n",
      "Epoch 21/50\n",
      "8/8 [==============================] - 0s 4ms/step - loss: 0.0165 - mse: 0.0165 - val_loss: 0.0138 - val_mse: 0.0138\n",
      "Epoch 22/50\n",
      "8/8 [==============================] - 0s 4ms/step - loss: 0.0164 - mse: 0.0164 - val_loss: 0.0138 - val_mse: 0.0138\n",
      "Epoch 23/50\n",
      "8/8 [==============================] - 0s 5ms/step - loss: 0.0164 - mse: 0.0164 - val_loss: 0.0137 - val_mse: 0.0137\n",
      "Epoch 24/50\n",
      "8/8 [==============================] - 0s 4ms/step - loss: 0.0164 - mse: 0.0164 - val_loss: 0.0137 - val_mse: 0.0137\n",
      "Epoch 25/50\n",
      "8/8 [==============================] - 0s 4ms/step - loss: 0.0164 - mse: 0.0164 - val_loss: 0.0137 - val_mse: 0.0137\n",
      "Epoch 26/50\n",
      "8/8 [==============================] - 0s 5ms/step - loss: 0.0163 - mse: 0.0163 - val_loss: 0.0137 - val_mse: 0.0137\n",
      "Epoch 27/50\n",
      "8/8 [==============================] - 0s 5ms/step - loss: 0.0163 - mse: 0.0163 - val_loss: 0.0137 - val_mse: 0.0137\n",
      "Epoch 28/50\n",
      "8/8 [==============================] - 0s 5ms/step - loss: 0.0163 - mse: 0.0163 - val_loss: 0.0136 - val_mse: 0.0136\n",
      "Epoch 29/50\n",
      "8/8 [==============================] - 0s 6ms/step - loss: 0.0163 - mse: 0.0163 - val_loss: 0.0136 - val_mse: 0.0136\n",
      "Epoch 30/50\n",
      "8/8 [==============================] - 0s 4ms/step - loss: 0.0163 - mse: 0.0163 - val_loss: 0.0136 - val_mse: 0.0136\n",
      "Epoch 31/50\n",
      "8/8 [==============================] - 0s 5ms/step - loss: 0.0162 - mse: 0.0162 - val_loss: 0.0136 - val_mse: 0.0136\n",
      "Epoch 32/50\n",
      "8/8 [==============================] - 0s 5ms/step - loss: 0.0162 - mse: 0.0162 - val_loss: 0.0135 - val_mse: 0.0135\n",
      "Epoch 33/50\n",
      "8/8 [==============================] - 0s 6ms/step - loss: 0.0162 - mse: 0.0162 - val_loss: 0.0135 - val_mse: 0.0135\n",
      "Epoch 34/50\n",
      "8/8 [==============================] - 0s 5ms/step - loss: 0.0162 - mse: 0.0162 - val_loss: 0.0135 - val_mse: 0.0135\n",
      "Epoch 35/50\n",
      "8/8 [==============================] - 0s 5ms/step - loss: 0.0161 - mse: 0.0161 - val_loss: 0.0135 - val_mse: 0.0135\n",
      "Epoch 36/50\n",
      "8/8 [==============================] - 0s 5ms/step - loss: 0.0161 - mse: 0.0161 - val_loss: 0.0135 - val_mse: 0.0135\n",
      "Epoch 37/50\n",
      "8/8 [==============================] - 0s 5ms/step - loss: 0.0161 - mse: 0.0161 - val_loss: 0.0134 - val_mse: 0.0134\n",
      "Epoch 38/50\n",
      "8/8 [==============================] - 0s 5ms/step - loss: 0.0161 - mse: 0.0161 - val_loss: 0.0134 - val_mse: 0.0134\n",
      "Epoch 39/50\n",
      "8/8 [==============================] - 0s 6ms/step - loss: 0.0161 - mse: 0.0161 - val_loss: 0.0134 - val_mse: 0.0134\n",
      "Epoch 40/50\n",
      "8/8 [==============================] - 0s 5ms/step - loss: 0.0160 - mse: 0.0160 - val_loss: 0.0134 - val_mse: 0.0134\n",
      "Epoch 41/50\n",
      "8/8 [==============================] - 0s 5ms/step - loss: 0.0160 - mse: 0.0160 - val_loss: 0.0134 - val_mse: 0.0134\n",
      "Epoch 42/50\n",
      "8/8 [==============================] - 0s 5ms/step - loss: 0.0160 - mse: 0.0160 - val_loss: 0.0133 - val_mse: 0.0133\n",
      "Epoch 43/50\n",
      "8/8 [==============================] - 0s 5ms/step - loss: 0.0160 - mse: 0.0160 - val_loss: 0.0133 - val_mse: 0.0133\n",
      "Epoch 44/50\n",
      "8/8 [==============================] - 0s 5ms/step - loss: 0.0159 - mse: 0.0159 - val_loss: 0.0133 - val_mse: 0.0133\n",
      "Epoch 45/50\n",
      "8/8 [==============================] - 0s 5ms/step - loss: 0.0159 - mse: 0.0159 - val_loss: 0.0133 - val_mse: 0.0133\n",
      "Epoch 46/50\n",
      "8/8 [==============================] - 0s 6ms/step - loss: 0.0159 - mse: 0.0159 - val_loss: 0.0133 - val_mse: 0.0133\n",
      "Epoch 47/50\n",
      "8/8 [==============================] - 0s 5ms/step - loss: 0.0159 - mse: 0.0159 - val_loss: 0.0132 - val_mse: 0.0132\n",
      "Epoch 48/50\n",
      "8/8 [==============================] - 0s 5ms/step - loss: 0.0159 - mse: 0.0159 - val_loss: 0.0132 - val_mse: 0.0132\n",
      "Epoch 49/50\n",
      "8/8 [==============================] - 0s 4ms/step - loss: 0.0158 - mse: 0.0158 - val_loss: 0.0132 - val_mse: 0.0132\n",
      "Epoch 50/50\n",
      "8/8 [==============================] - 0s 6ms/step - loss: 0.0158 - mse: 0.0158 - val_loss: 0.0132 - val_mse: 0.0132\n",
      "Time elapsed:  0:00:04.807652\n"
     ]
    }
   ],
   "source": [
    "# Tune the model \n",
    "now = datetime.datetime.now()\n",
    "model_tune = Sequential()\n",
    "model_tune.add(LSTM(50, input_shape = (X_train.shape[1], X_train.shape[2])))\n",
    "model_tune.add(Dense(50, activation = 'tanh'))\n",
    "model_tune.add(Dense(35, activation = 'tanh'))\n",
    "model_tune.add(Dense(20, activation = 'tanh'))\n",
    "model_tune.add(Dense(1))\n",
    "model_tune.compile(loss = 'mse', optimizer = 'sgd', metrics = ['mse'])\n",
    "\n",
    "history_tune = model_tune.fit(X_train, y_train, epochs = 50, batch_size = 72, validation_data = (X_test, y_test), verbose = True, shuffle = False)\n",
    "later = datetime.datetime.now()\n",
    "elapsed = later - now\n",
    "print('Time elapsed: ', elapsed)"
   ]
  },
  {
   "cell_type": "code",
   "execution_count": null,
   "metadata": {
    "colab": {
     "base_uri": "https://localhost:8080/",
     "height": 265
    },
    "id": "F1QnTN_2Plw7",
    "outputId": "40160262-d506-429b-82fe-fa2af82f02ab"
   },
   "outputs": [
    {
     "data": {
      "image/png": "[encoded data removed]",
      "text/plain": [
       "<Figure size 432x288 with 1 Axes>"
      ]
     },
     "metadata": {
      "needs_background": "light",
      "tags": []
     },
     "output_type": "display_data"
    }
   ],
   "source": [
    "plt.plot(history_tune.history['loss'], label = 'train')\n",
    "plt.plot(history_tune.history['val_loss'], label = 'test')\n",
    "plt.legend()\n",
    "plt.show()"
   ]
  },
  {
   "cell_type": "code",
   "execution_count": null,
   "metadata": {
    "id": "u_onHtKsQ8Fy"
   },
   "outputs": [],
   "source": [
    "#Still definitely overfitting, even more so now\n",
    "# Original MSE: 0.0164 \n",
    "# Tune MSE: 0.0153 \n",
    "# Keep the 5 layers. Let's look at how to reduce the overfitting"
   ]
  },
  {
   "cell_type": "code",
   "execution_count": null,
   "metadata": {
    "colab": {
     "base_uri": "https://localhost:8080/"
    },
    "id": "eTWJmyaxKcrq",
    "outputId": "ae5a837d-7ea3-47cb-c77c-65e75885bc8d"
   },
   "outputs": [
    {
     "name": "stdout",
     "output_type": "stream",
     "text": [
      "(541, 1, 1) (541,) (232, 1, 1) (232, 1)\n"
     ]
    }
   ],
   "source": [
    "#Reshape into a 3D that LSTM expects\n",
    "#Inputs, timesteps (1), features (1)\n",
    "X_train = X_train.reshape((X_train.shape[0], 1, 1))\n",
    "X_test = X_test.reshape((X_test.shape[0], 1, 1))\n",
    "print(X_train.shape, y_train.shape, X_test.shape, y_test.shape)"
   ]
  },
  {
   "cell_type": "code",
   "execution_count": null,
   "metadata": {
    "colab": {
     "base_uri": "https://localhost:8080/"
    },
    "id": "-z4kh9CkKfZK",
    "outputId": "ad5dadec-1bab-4cd9-8d8d-95c94e3bc273"
   },
   "outputs": [
    {
     "name": "stdout",
     "output_type": "stream",
     "text": [
      "MSE of tuned prediction:  504718.73\n"
     ]
    }
   ],
   "source": [
    "yhat_tune = model_tune.predict(X_test)\n",
    "X_test = X_test.reshape((X_test.shape[0], X_test.shape[2]))\n",
    "inv_yhat_tune = np.concatenate((yhat_tune, X_test[:, 1:]), axis = 1)\n",
    "inv_yhat_tune = scaler.inverse_transform(inv_yhat_tune)\n",
    "inv_yhat_tune = inv_yhat_tune[:, 0]\n",
    "\n",
    "y_test_tune = y_test.reshape((len(y_test), 1))\n",
    "inv_y_tune = np.concatenate((y_test_tune, X_test[:, 1:]), axis = 1)\n",
    "inv_y_tune = scaler.inverse_transform(inv_y_tune)\n",
    "inv_y_tune = inv_y_tune[:, 0]\n",
    "\n",
    "mse_tune = mean_squared_error(inv_y_tune, inv_yhat_tune)\n",
    "print('MSE of tuned prediction: ', np.round(mse_tune, 2))"
   ]
  },
  {
   "cell_type": "code",
   "execution_count": null,
   "metadata": {
    "id": "yGVo-M0XKrms"
   },
   "outputs": [],
   "source": [
    "#LSTM model MSE = 528370.14\n",
    "#Tune 1 = 461669.22"
   ]
  },
  {
   "cell_type": "code",
   "execution_count": null,
   "metadata": {
    "colab": {
     "base_uri": "https://localhost:8080/"
    },
    "id": "fafYD1LfRmSC",
    "outputId": "868816b6-acea-41c2-a4b4-d1eba2f2453a"
   },
   "outputs": [
    {
     "name": "stdout",
     "output_type": "stream",
     "text": [
      "(541, 1, 1) (541,) (232, 1, 1) (232, 1)\n"
     ]
    }
   ],
   "source": [
    "#Reshape into a 3D that LSTM expects\n",
    "#Inputs, timesteps (1), features (1)\n",
    "X_train = X_train.reshape((X_train.shape[0], 1, 1))\n",
    "X_test = X_test.reshape((X_test.shape[0], 1, 1))\n",
    "print(X_train.shape, y_train.shape, X_test.shape, y_test.shape)"
   ]
  },
  {
   "cell_type": "code",
   "execution_count": null,
   "metadata": {
    "colab": {
     "base_uri": "https://localhost:8080/"
    },
    "id": "tFilTOZnRCrR",
    "outputId": "704542f3-f3d2-4b54-b39c-6a4c6ac3289b"
   },
   "outputs": [
    {
     "name": "stdout",
     "output_type": "stream",
     "text": [
      "Epoch 1/50\n",
      "8/8 [==============================] - 0s 59ms/step - loss: 0.0186 - mse: 0.0186 - val_loss: 0.0125 - val_mse: 0.0125\n",
      "Epoch 2/50\n",
      "8/8 [==============================] - 0s 6ms/step - loss: 0.0143 - mse: 0.0143 - val_loss: 0.0104 - val_mse: 0.0104\n",
      "Epoch 3/50\n",
      "8/8 [==============================] - 0s 6ms/step - loss: 0.0126 - mse: 0.0126 - val_loss: 0.0087 - val_mse: 0.0087\n",
      "Epoch 4/50\n",
      "8/8 [==============================] - 0s 5ms/step - loss: 0.0120 - mse: 0.0120 - val_loss: 0.0069 - val_mse: 0.0069\n",
      "Epoch 5/50\n",
      "8/8 [==============================] - 0s 6ms/step - loss: 0.0114 - mse: 0.0114 - val_loss: 0.0060 - val_mse: 0.0060\n",
      "Epoch 6/50\n",
      "8/8 [==============================] - 0s 6ms/step - loss: 0.0104 - mse: 0.0104 - val_loss: 0.0056 - val_mse: 0.0056\n",
      "Epoch 7/50\n",
      "8/8 [==============================] - 0s 6ms/step - loss: 0.0105 - mse: 0.0105 - val_loss: 0.0055 - val_mse: 0.0055\n",
      "Epoch 8/50\n",
      "8/8 [==============================] - 0s 6ms/step - loss: 0.0109 - mse: 0.0109 - val_loss: 0.0055 - val_mse: 0.0055\n",
      "Epoch 9/50\n",
      "8/8 [==============================] - 0s 6ms/step - loss: 0.0106 - mse: 0.0106 - val_loss: 0.0058 - val_mse: 0.0058\n",
      "Epoch 10/50\n",
      "8/8 [==============================] - 0s 6ms/step - loss: 0.0099 - mse: 0.0099 - val_loss: 0.0059 - val_mse: 0.0059\n",
      "Epoch 11/50\n",
      "8/8 [==============================] - 0s 6ms/step - loss: 0.0100 - mse: 0.0100 - val_loss: 0.0057 - val_mse: 0.0057\n",
      "Epoch 12/50\n",
      "8/8 [==============================] - 0s 5ms/step - loss: 0.0103 - mse: 0.0103 - val_loss: 0.0057 - val_mse: 0.0057\n",
      "Epoch 13/50\n",
      "8/8 [==============================] - 0s 5ms/step - loss: 0.0100 - mse: 0.0100 - val_loss: 0.0058 - val_mse: 0.0058\n",
      "Epoch 14/50\n",
      "8/8 [==============================] - 0s 5ms/step - loss: 0.0101 - mse: 0.0101 - val_loss: 0.0059 - val_mse: 0.0059\n",
      "Epoch 15/50\n",
      "8/8 [==============================] - 0s 6ms/step - loss: 0.0109 - mse: 0.0109 - val_loss: 0.0059 - val_mse: 0.0059\n",
      "Epoch 16/50\n",
      "8/8 [==============================] - 0s 5ms/step - loss: 0.0113 - mse: 0.0113 - val_loss: 0.0059 - val_mse: 0.0059\n",
      "Epoch 17/50\n",
      "8/8 [==============================] - 0s 5ms/step - loss: 0.0091 - mse: 0.0091 - val_loss: 0.0060 - val_mse: 0.0060\n",
      "Epoch 18/50\n",
      "8/8 [==============================] - 0s 5ms/step - loss: 0.0108 - mse: 0.0108 - val_loss: 0.0059 - val_mse: 0.0059\n",
      "Epoch 19/50\n",
      "8/8 [==============================] - 0s 5ms/step - loss: 0.0105 - mse: 0.0105 - val_loss: 0.0058 - val_mse: 0.0058\n",
      "Epoch 20/50\n",
      "8/8 [==============================] - 0s 5ms/step - loss: 0.0105 - mse: 0.0105 - val_loss: 0.0059 - val_mse: 0.0059\n",
      "Epoch 21/50\n",
      "8/8 [==============================] - 0s 5ms/step - loss: 0.0104 - mse: 0.0104 - val_loss: 0.0058 - val_mse: 0.0058\n",
      "Epoch 22/50\n",
      "8/8 [==============================] - 0s 5ms/step - loss: 0.0100 - mse: 0.0100 - val_loss: 0.0057 - val_mse: 0.0057\n",
      "Epoch 23/50\n",
      "8/8 [==============================] - 0s 5ms/step - loss: 0.0109 - mse: 0.0109 - val_loss: 0.0057 - val_mse: 0.0057\n",
      "Epoch 24/50\n",
      "8/8 [==============================] - 0s 5ms/step - loss: 0.0101 - mse: 0.0101 - val_loss: 0.0057 - val_mse: 0.0057\n",
      "Epoch 25/50\n",
      "8/8 [==============================] - 0s 6ms/step - loss: 0.0101 - mse: 0.0101 - val_loss: 0.0057 - val_mse: 0.0057\n",
      "Epoch 26/50\n",
      "8/8 [==============================] - 0s 5ms/step - loss: 0.0101 - mse: 0.0101 - val_loss: 0.0056 - val_mse: 0.0056\n",
      "Epoch 27/50\n",
      "8/8 [==============================] - 0s 6ms/step - loss: 0.0103 - mse: 0.0103 - val_loss: 0.0056 - val_mse: 0.0056\n",
      "Epoch 28/50\n",
      "8/8 [==============================] - 0s 5ms/step - loss: 0.0097 - mse: 0.0097 - val_loss: 0.0056 - val_mse: 0.0056\n",
      "Epoch 29/50\n",
      "8/8 [==============================] - 0s 6ms/step - loss: 0.0104 - mse: 0.0104 - val_loss: 0.0055 - val_mse: 0.0055\n",
      "Epoch 30/50\n",
      "8/8 [==============================] - 0s 5ms/step - loss: 0.0096 - mse: 0.0096 - val_loss: 0.0055 - val_mse: 0.0055\n",
      "Epoch 31/50\n",
      "8/8 [==============================] - 0s 5ms/step - loss: 0.0103 - mse: 0.0103 - val_loss: 0.0057 - val_mse: 0.0057\n",
      "Epoch 32/50\n",
      "8/8 [==============================] - 0s 5ms/step - loss: 0.0100 - mse: 0.0100 - val_loss: 0.0057 - val_mse: 0.0057\n",
      "Epoch 33/50\n",
      "8/8 [==============================] - 0s 5ms/step - loss: 0.0100 - mse: 0.0100 - val_loss: 0.0057 - val_mse: 0.0057\n",
      "Epoch 34/50\n",
      "8/8 [==============================] - 0s 6ms/step - loss: 0.0097 - mse: 0.0097 - val_loss: 0.0056 - val_mse: 0.0056\n",
      "Epoch 35/50\n",
      "8/8 [==============================] - 0s 6ms/step - loss: 0.0097 - mse: 0.0097 - val_loss: 0.0054 - val_mse: 0.0054\n",
      "Epoch 36/50\n",
      "8/8 [==============================] - 0s 5ms/step - loss: 0.0107 - mse: 0.0107 - val_loss: 0.0055 - val_mse: 0.0055\n",
      "Epoch 37/50\n",
      "8/8 [==============================] - 0s 6ms/step - loss: 0.0097 - mse: 0.0097 - val_loss: 0.0057 - val_mse: 0.0057\n",
      "Epoch 38/50\n",
      "8/8 [==============================] - 0s 6ms/step - loss: 0.0100 - mse: 0.0100 - val_loss: 0.0058 - val_mse: 0.0058\n",
      "Epoch 39/50\n",
      "8/8 [==============================] - 0s 5ms/step - loss: 0.0103 - mse: 0.0103 - val_loss: 0.0058 - val_mse: 0.0058\n",
      "Epoch 40/50\n",
      "8/8 [==============================] - 0s 5ms/step - loss: 0.0101 - mse: 0.0101 - val_loss: 0.0058 - val_mse: 0.0058\n",
      "Epoch 41/50\n",
      "8/8 [==============================] - 0s 5ms/step - loss: 0.0104 - mse: 0.0104 - val_loss: 0.0058 - val_mse: 0.0058\n",
      "Epoch 42/50\n",
      "8/8 [==============================] - 0s 5ms/step - loss: 0.0103 - mse: 0.0103 - val_loss: 0.0057 - val_mse: 0.0057\n",
      "Epoch 43/50\n",
      "8/8 [==============================] - 0s 5ms/step - loss: 0.0104 - mse: 0.0104 - val_loss: 0.0057 - val_mse: 0.0057\n",
      "Epoch 44/50\n",
      "8/8 [==============================] - 0s 5ms/step - loss: 0.0101 - mse: 0.0101 - val_loss: 0.0056 - val_mse: 0.0056\n",
      "Epoch 45/50\n",
      "8/8 [==============================] - 0s 6ms/step - loss: 0.0105 - mse: 0.0105 - val_loss: 0.0056 - val_mse: 0.0056\n",
      "Epoch 46/50\n",
      "8/8 [==============================] - 0s 6ms/step - loss: 0.0102 - mse: 0.0102 - val_loss: 0.0056 - val_mse: 0.0056\n",
      "Epoch 47/50\n",
      "8/8 [==============================] - 0s 6ms/step - loss: 0.0099 - mse: 0.0099 - val_loss: 0.0056 - val_mse: 0.0056\n",
      "Epoch 48/50\n",
      "8/8 [==============================] - 0s 6ms/step - loss: 0.0095 - mse: 0.0095 - val_loss: 0.0056 - val_mse: 0.0056\n",
      "Epoch 49/50\n",
      "8/8 [==============================] - 0s 6ms/step - loss: 0.0099 - mse: 0.0099 - val_loss: 0.0054 - val_mse: 0.0054\n",
      "Epoch 50/50\n",
      "8/8 [==============================] - 0s 5ms/step - loss: 0.0104 - mse: 0.0104 - val_loss: 0.0055 - val_mse: 0.0055\n",
      "Time elapsed:  0:00:05.207281\n"
     ]
    }
   ],
   "source": [
    "# Tune the model \n",
    "# Keep 5 layers, try dropouts and maybe an adam optimizer\n",
    "now = datetime.datetime.now()\n",
    "model_tune = Sequential()\n",
    "model_tune.add(LSTM(50, input_shape = (X_train.shape[1], X_train.shape[2])))\n",
    "model_tune.add(Dense(50, activation = 'tanh'))\n",
    "model_tune.add(Dropout(0.3))\n",
    "model_tune.add(Dense(35, activation = 'tanh'))\n",
    "model_tune.add(Dropout(0.3))\n",
    "model_tune.add(Dense(20, activation = 'tanh'))\n",
    "model_tune.add(Dropout(0.3))\n",
    "model_tune.add(Dense(1))\n",
    "model_tune.compile(loss = 'mse', optimizer = 'adam', metrics = ['mse'])\n",
    "\n",
    "history_tune = model_tune.fit(X_train, y_train, epochs = 50, batch_size = 72, validation_data = (X_test, y_test), verbose = True, shuffle = False)\n",
    "later = datetime.datetime.now()\n",
    "elapsed = later - now\n",
    "print('Time elapsed: ', elapsed)"
   ]
  },
  {
   "cell_type": "code",
   "execution_count": null,
   "metadata": {
    "colab": {
     "base_uri": "https://localhost:8080/",
     "height": 265
    },
    "id": "FoSAiqUOThFS",
    "outputId": "bb975e7a-068e-4c93-d9b4-845b018be6f1"
   },
   "outputs": [
    {
     "data": {
      "image/png": "[encoded data removed]",
      "text/plain": [
       "<Figure size 432x288 with 1 Axes>"
      ]
     },
     "metadata": {
      "needs_background": "light",
      "tags": []
     },
     "output_type": "display_data"
    }
   ],
   "source": [
    "plt.plot(history_tune.history['loss'], label = 'train')\n",
    "plt.plot(history_tune.history['val_loss'], label = 'test')\n",
    "plt.legend()\n",
    "plt.show()"
   ]
  },
  {
   "cell_type": "code",
   "execution_count": null,
   "metadata": {
    "id": "evqehBSsTqVR"
   },
   "outputs": [],
   "source": [
    "# Original MSE: 0.0164\n",
    "# Tune MSE: 0.0098 \n",
    "# I may go ahead and attempt a forecast with this model and see what the MSE is"
   ]
  },
  {
   "cell_type": "code",
   "execution_count": null,
   "metadata": {
    "colab": {
     "base_uri": "https://localhost:8080/"
    },
    "id": "QVUqnWC-VNbD",
    "outputId": "ac42750b-be3a-44d3-b603-953d5df0f908"
   },
   "outputs": [
    {
     "name": "stdout",
     "output_type": "stream",
     "text": [
      "(541, 1, 1) (541,) (232, 1, 1) (232, 1)\n"
     ]
    }
   ],
   "source": [
    "#Reshape into a 3D that LSTM expects\n",
    "#Inputs, timesteps (1), features (1)\n",
    "X_train = X_train.reshape((X_train.shape[0], 1, 1))\n",
    "X_test = X_test.reshape((X_test.shape[0], 1, 1))\n",
    "print(X_train.shape, y_train.shape, X_test.shape, y_test.shape)"
   ]
  },
  {
   "cell_type": "code",
   "execution_count": null,
   "metadata": {
    "colab": {
     "base_uri": "https://localhost:8080/"
    },
    "id": "aH50fwhuUAL5",
    "outputId": "cb4aaadd-e5c9-4553-f8d3-47a7fd0825b3"
   },
   "outputs": [
    {
     "name": "stdout",
     "output_type": "stream",
     "text": [
      "MSE of tuned prediction:  212194.89\n"
     ]
    }
   ],
   "source": [
    "yhat_tune = model_tune.predict(X_test)\n",
    "X_test = X_test.reshape((X_test.shape[0], X_test.shape[2]))\n",
    "inv_yhat_tune = np.concatenate((yhat_tune, X_test[:, 1:]), axis = 1)\n",
    "inv_yhat_tune = scaler.inverse_transform(inv_yhat_tune)\n",
    "inv_yhat_tune = inv_yhat_tune[:, 0]\n",
    "\n",
    "y_test_tune = y_test.reshape((len(y_test), 1))\n",
    "inv_y_tune = np.concatenate((y_test_tune, X_test[:, 1:]), axis = 1)\n",
    "inv_y_tune = scaler.inverse_transform(inv_y_tune)\n",
    "inv_y_tune = inv_y_tune[:, 0]\n",
    "\n",
    "mse_tune = mean_squared_error(inv_y_tune, inv_yhat_tune)\n",
    "print('MSE of tuned prediction: ', np.round(mse_tune, 2))"
   ]
  },
  {
   "cell_type": "code",
   "execution_count": null,
   "metadata": {
    "id": "irwfrViPK1Xe"
   },
   "outputs": [],
   "source": [
    "#LSTM model MSE = 528370.14\n",
    "#Tune 1 = 461669.22\n",
    "#Tune 2 = 215734.43"
   ]
  },
  {
   "cell_type": "code",
   "execution_count": null,
   "metadata": {
    "id": "FFD55Jk2VfaC"
   },
   "outputs": [],
   "source": [
    "# Attempt a few more tuning measures, since this is not taking long to run. \n",
    "# Tune until LSTM < ARIMA "
   ]
  },
  {
   "cell_type": "code",
   "execution_count": null,
   "metadata": {
    "colab": {
     "base_uri": "https://localhost:8080/"
    },
    "id": "Kb0oZ24BWfQa",
    "outputId": "7a03c865-a87a-46dd-93bf-03561cf08478"
   },
   "outputs": [
    {
     "name": "stdout",
     "output_type": "stream",
     "text": [
      "(541, 1, 1) (541,) (232, 1, 1) (232, 1)\n"
     ]
    }
   ],
   "source": [
    "#Reshape into a 3D that LSTM expects\n",
    "#Inputs, timesteps (1), features (1)\n",
    "X_train = X_train.reshape((X_train.shape[0], 1, 1))\n",
    "X_test = X_test.reshape((X_test.shape[0], 1, 1))\n",
    "print(X_train.shape, y_train.shape, X_test.shape, y_test.shape)"
   ]
  },
  {
   "cell_type": "code",
   "execution_count": null,
   "metadata": {
    "colab": {
     "base_uri": "https://localhost:8080/"
    },
    "id": "bM11-Un2V2Dx",
    "outputId": "c8f34eb9-796b-41be-acb7-31d2a496ecbd"
   },
   "outputs": [
    {
     "name": "stdout",
     "output_type": "stream",
     "text": [
      "Epoch 1/10\n",
      "8/8 [==============================] - 0s 57ms/step - loss: 0.0183 - mse: 0.0183 - val_loss: 0.0131 - val_mse: 0.0131\n",
      "Epoch 2/10\n",
      "8/8 [==============================] - 0s 5ms/step - loss: 0.0163 - mse: 0.0163 - val_loss: 0.0126 - val_mse: 0.0126\n",
      "Epoch 3/10\n",
      "8/8 [==============================] - 0s 5ms/step - loss: 0.0160 - mse: 0.0160 - val_loss: 0.0119 - val_mse: 0.0119\n",
      "Epoch 4/10\n",
      "8/8 [==============================] - 0s 5ms/step - loss: 0.0145 - mse: 0.0145 - val_loss: 0.0112 - val_mse: 0.0112\n",
      "Epoch 5/10\n",
      "8/8 [==============================] - 0s 5ms/step - loss: 0.0139 - mse: 0.0139 - val_loss: 0.0102 - val_mse: 0.0102\n",
      "Epoch 6/10\n",
      "8/8 [==============================] - 0s 5ms/step - loss: 0.0127 - mse: 0.0127 - val_loss: 0.0091 - val_mse: 0.0091\n",
      "Epoch 7/10\n",
      "8/8 [==============================] - 0s 5ms/step - loss: 0.0125 - mse: 0.0125 - val_loss: 0.0079 - val_mse: 0.0079\n",
      "Epoch 8/10\n",
      "8/8 [==============================] - 0s 5ms/step - loss: 0.0119 - mse: 0.0119 - val_loss: 0.0070 - val_mse: 0.0070\n",
      "Epoch 9/10\n",
      "8/8 [==============================] - 0s 5ms/step - loss: 0.0118 - mse: 0.0118 - val_loss: 0.0065 - val_mse: 0.0065\n",
      "Epoch 10/10\n",
      "8/8 [==============================] - 0s 6ms/step - loss: 0.0114 - mse: 0.0114 - val_loss: 0.0060 - val_mse: 0.0060\n",
      "Time elapsed:  0:00:03.229956\n"
     ]
    }
   ],
   "source": [
    "# Try a relu activation to see what happens. \n",
    "# Train for 10 epochs, since it's converging well before 50.\n",
    "\n",
    "now = datetime.datetime.now()\n",
    "model_tune = Sequential()\n",
    "model_tune.add(LSTM(50, input_shape = (X_train.shape[1], X_train.shape[2])))\n",
    "model_tune.add(Dense(50, activation = 'relu'))\n",
    "model_tune.add(Dropout(0.3))\n",
    "model_tune.add(Dense(35, activation = 'relu'))\n",
    "model_tune.add(Dropout(0.3))\n",
    "model_tune.add(Dense(20, activation = 'relu'))\n",
    "model_tune.add(Dropout(0.3))\n",
    "model_tune.add(Dense(1))\n",
    "model_tune.compile(loss = 'mse', optimizer = 'adam', metrics = ['mse'])\n",
    "\n",
    "history_tune = model_tune.fit(X_train, y_train, epochs = 10, batch_size = 72, validation_data = (X_test, y_test), verbose = True, shuffle = False)\n",
    "later = datetime.datetime.now()\n",
    "elapsed = later - now\n",
    "print('Time elapsed: ', elapsed)"
   ]
  },
  {
   "cell_type": "code",
   "execution_count": null,
   "metadata": {
    "id": "6_txT1HyWgjx"
   },
   "outputs": [],
   "source": [
    "# Previous tune MSE: 0.0098\n",
    "# Current tune MSE: 0.0114 \n",
    "# Keep the tanh activation "
   ]
  },
  {
   "cell_type": "code",
   "execution_count": null,
   "metadata": {
    "colab": {
     "base_uri": "https://localhost:8080/"
    },
    "id": "-JlMpRfgLCLd",
    "outputId": "e1b3a491-a28b-4164-9288-312195f15f86"
   },
   "outputs": [
    {
     "name": "stdout",
     "output_type": "stream",
     "text": [
      "MSE of tuned prediction:  228306.43\n"
     ]
    }
   ],
   "source": [
    "yhat_tune = model_tune.predict(X_test)\n",
    "X_test = X_test.reshape((X_test.shape[0], X_test.shape[2]))\n",
    "inv_yhat_tune = np.concatenate((yhat_tune, X_test[:, 1:]), axis = 1)\n",
    "inv_yhat_tune = scaler.inverse_transform(inv_yhat_tune)\n",
    "inv_yhat_tune = inv_yhat_tune[:, 0]\n",
    "\n",
    "y_test_tune = y_test.reshape((len(y_test), 1))\n",
    "inv_y_tune = np.concatenate((y_test_tune, X_test[:, 1:]), axis = 1)\n",
    "inv_y_tune = scaler.inverse_transform(inv_y_tune)\n",
    "inv_y_tune = inv_y_tune[:, 0]\n",
    "\n",
    "mse_tune = mean_squared_error(inv_y_tune, inv_yhat_tune)\n",
    "print('MSE of tuned prediction: ', np.round(mse_tune, 2))"
   ]
  },
  {
   "cell_type": "code",
   "execution_count": null,
   "metadata": {
    "id": "mAcCKnm0LKtT"
   },
   "outputs": [],
   "source": [
    "#LSTM model MSE = 528370.14\n",
    "#Tune 1 = 461669.22\n",
    "#Tune 2 = 215734.43\n",
    "#Tune 3 = 226372.89"
   ]
  },
  {
   "cell_type": "code",
   "execution_count": null,
   "metadata": {
    "colab": {
     "base_uri": "https://localhost:8080/"
    },
    "id": "-GcZ3uMlXXRw",
    "outputId": "da420fe2-d173-4962-999b-acefd36a5a24"
   },
   "outputs": [
    {
     "name": "stdout",
     "output_type": "stream",
     "text": [
      "(541, 1, 1) (541,) (232, 1, 1) (232, 1)\n"
     ]
    }
   ],
   "source": [
    "#Reshape into a 3D that LSTM expects\n",
    "#Inputs, timesteps (1), features (1)\n",
    "X_train = X_train.reshape((X_train.shape[0], 1, 1))\n",
    "X_test = X_test.reshape((X_test.shape[0], 1, 1))\n",
    "print(X_train.shape, y_train.shape, X_test.shape, y_test.shape)"
   ]
  },
  {
   "cell_type": "code",
   "execution_count": null,
   "metadata": {
    "colab": {
     "base_uri": "https://localhost:8080/"
    },
    "id": "fX-wj7TRW4nI",
    "outputId": "f93511b0-1283-4c8b-c4dc-f07a9c4658aa"
   },
   "outputs": [
    {
     "name": "stdout",
     "output_type": "stream",
     "text": [
      "Epoch 1/10\n",
      "28/28 [==============================] - 0s 18ms/step - loss: 0.0145 - mse: 0.0145 - val_loss: 0.0080 - val_mse: 0.0080\n",
      "Epoch 2/10\n",
      "28/28 [==============================] - 0s 3ms/step - loss: 0.0112 - mse: 0.0112 - val_loss: 0.0061 - val_mse: 0.0061\n",
      "Epoch 3/10\n",
      "28/28 [==============================] - 0s 4ms/step - loss: 0.0103 - mse: 0.0103 - val_loss: 0.0059 - val_mse: 0.0059\n",
      "Epoch 4/10\n",
      "28/28 [==============================] - 0s 4ms/step - loss: 0.0102 - mse: 0.0102 - val_loss: 0.0060 - val_mse: 0.0060\n",
      "Epoch 5/10\n",
      "28/28 [==============================] - 0s 3ms/step - loss: 0.0107 - mse: 0.0107 - val_loss: 0.0064 - val_mse: 0.0064\n",
      "Epoch 6/10\n",
      "28/28 [==============================] - 0s 3ms/step - loss: 0.0108 - mse: 0.0108 - val_loss: 0.0064 - val_mse: 0.0064\n",
      "Epoch 7/10\n",
      "28/28 [==============================] - 0s 3ms/step - loss: 0.0110 - mse: 0.0110 - val_loss: 0.0063 - val_mse: 0.0063\n",
      "Epoch 8/10\n",
      "28/28 [==============================] - 0s 3ms/step - loss: 0.0105 - mse: 0.0105 - val_loss: 0.0059 - val_mse: 0.0059\n",
      "Epoch 9/10\n",
      "28/28 [==============================] - 0s 3ms/step - loss: 0.0098 - mse: 0.0098 - val_loss: 0.0061 - val_mse: 0.0061\n",
      "Epoch 10/10\n",
      "28/28 [==============================] - 0s 4ms/step - loss: 0.0104 - mse: 0.0104 - val_loss: 0.0064 - val_mse: 0.0064\n",
      "Time elapsed:  0:00:03.569844\n"
     ]
    }
   ],
   "source": [
    "# Try changing batch size \n",
    "now = datetime.datetime.now()\n",
    "model_tune = Sequential()\n",
    "model_tune.add(LSTM(50, input_shape = (X_train.shape[1], X_train.shape[2])))\n",
    "model_tune.add(Dense(50, activation = 'tanh'))\n",
    "model_tune.add(Dropout(0.3))\n",
    "model_tune.add(Dense(35, activation = 'tanh'))\n",
    "model_tune.add(Dropout(0.3))\n",
    "model_tune.add(Dense(20, activation = 'tanh'))\n",
    "model_tune.add(Dropout(0.3))\n",
    "model_tune.add(Dense(1))\n",
    "model_tune.compile(loss = 'mse', optimizer = 'adam', metrics = ['mse'])\n",
    "\n",
    "history_tune = model_tune.fit(X_train, y_train, epochs = 10, batch_size = 20, validation_data = (X_test, y_test), verbose = True, shuffle = False)\n",
    "later = datetime.datetime.now()\n",
    "elapsed = later - now\n",
    "print('Time elapsed: ', elapsed)"
   ]
  },
  {
   "cell_type": "code",
   "execution_count": null,
   "metadata": {
    "id": "QBddyRfjXaRR"
   },
   "outputs": [],
   "source": [
    "# Previous tune MSE: 0.0098\n",
    "# Current tune MSE: 0.0094\n",
    "# Batch size did not make a significant difference "
   ]
  },
  {
   "cell_type": "code",
   "execution_count": null,
   "metadata": {
    "colab": {
     "base_uri": "https://localhost:8080/"
    },
    "id": "EMB0_kcXLYWz",
    "outputId": "0508c256-8e8d-4aa8-925a-e62d43e8caea"
   },
   "outputs": [
    {
     "name": "stdout",
     "output_type": "stream",
     "text": [
      "MSE of tuned prediction:  245863.14\n"
     ]
    }
   ],
   "source": [
    "yhat_tune = model_tune.predict(X_test)\n",
    "X_test = X_test.reshape((X_test.shape[0], X_test.shape[2]))\n",
    "inv_yhat_tune = np.concatenate((yhat_tune, X_test[:, 1:]), axis = 1)\n",
    "inv_yhat_tune = scaler.inverse_transform(inv_yhat_tune)\n",
    "inv_yhat_tune = inv_yhat_tune[:, 0]\n",
    "\n",
    "y_test_tune = y_test.reshape((len(y_test), 1))\n",
    "inv_y_tune = np.concatenate((y_test_tune, X_test[:, 1:]), axis = 1)\n",
    "inv_y_tune = scaler.inverse_transform(inv_y_tune)\n",
    "inv_y_tune = inv_y_tune[:, 0]\n",
    "\n",
    "mse_tune = mean_squared_error(inv_y_tune, inv_yhat_tune)\n",
    "print('MSE of tuned prediction: ', np.round(mse_tune, 2))"
   ]
  },
  {
   "cell_type": "code",
   "execution_count": null,
   "metadata": {
    "id": "dmkSfoASLaGb"
   },
   "outputs": [],
   "source": [
    "#LSTM model MSE = 528370.14\n",
    "#Tune 1 = 461669.22\n",
    "#Tune 2 = 215734.43\n",
    "#Tune 3 = 226372.89\n",
    "#Tune 4 = 233653.45\n",
    "\n",
    "#Keep tune 2"
   ]
  },
  {
   "cell_type": "code",
   "execution_count": null,
   "metadata": {
    "colab": {
     "base_uri": "https://localhost:8080/"
    },
    "id": "11oDsS9rMrSM",
    "outputId": "98cd22ae-f0ff-44e9-b6da-b2ee1bb43480"
   },
   "outputs": [
    {
     "name": "stdout",
     "output_type": "stream",
     "text": [
      "(541, 1, 1) (541,) (232, 1, 1) (232, 1)\n"
     ]
    }
   ],
   "source": [
    "#Reshape into a 3D that LSTM expects\n",
    "#Inputs, timesteps (1), features (1)\n",
    "X_train = X_train.reshape((X_train.shape[0], 1, 1))\n",
    "X_test = X_test.reshape((X_test.shape[0], 1, 1))\n",
    "print(X_train.shape, y_train.shape, X_test.shape, y_test.shape)"
   ]
  },
  {
   "cell_type": "code",
   "execution_count": null,
   "metadata": {
    "colab": {
     "base_uri": "https://localhost:8080/"
    },
    "id": "iq2LpVm9MZxd",
    "outputId": "2520b740-9003-45ef-b036-855876752d63"
   },
   "outputs": [
    {
     "name": "stdout",
     "output_type": "stream",
     "text": [
      "Epoch 1/10\n",
      "8/8 [==============================] - 0s 56ms/step - loss: 0.0161 - mse: 0.0161 - val_loss: 0.0105 - val_mse: 0.0105\n",
      "Epoch 2/10\n",
      "8/8 [==============================] - 0s 6ms/step - loss: 0.0121 - mse: 0.0121 - val_loss: 0.0085 - val_mse: 0.0085\n",
      "Epoch 3/10\n",
      "8/8 [==============================] - 0s 5ms/step - loss: 0.0117 - mse: 0.0117 - val_loss: 0.0068 - val_mse: 0.0068\n",
      "Epoch 4/10\n",
      "8/8 [==============================] - 0s 5ms/step - loss: 0.0116 - mse: 0.0116 - val_loss: 0.0060 - val_mse: 0.0060\n",
      "Epoch 5/10\n",
      "8/8 [==============================] - 0s 5ms/step - loss: 0.0103 - mse: 0.0103 - val_loss: 0.0056 - val_mse: 0.0056\n",
      "Epoch 6/10\n",
      "8/8 [==============================] - 0s 6ms/step - loss: 0.0103 - mse: 0.0103 - val_loss: 0.0055 - val_mse: 0.0055\n",
      "Epoch 7/10\n",
      "8/8 [==============================] - 0s 5ms/step - loss: 0.0104 - mse: 0.0104 - val_loss: 0.0054 - val_mse: 0.0054\n",
      "Epoch 8/10\n",
      "8/8 [==============================] - 0s 5ms/step - loss: 0.0101 - mse: 0.0101 - val_loss: 0.0055 - val_mse: 0.0055\n",
      "Epoch 9/10\n",
      "8/8 [==============================] - 0s 5ms/step - loss: 0.0105 - mse: 0.0105 - val_loss: 0.0057 - val_mse: 0.0057\n",
      "Epoch 10/10\n",
      "8/8 [==============================] - 0s 5ms/step - loss: 0.0103 - mse: 0.0103 - val_loss: 0.0060 - val_mse: 0.0060\n",
      "Time elapsed:  0:00:03.310651\n"
     ]
    }
   ],
   "source": [
    "now = datetime.datetime.now()\n",
    "model_tune = Sequential()\n",
    "model_tune.add(LSTM(50, input_shape = (X_train.shape[1], X_train.shape[2])))\n",
    "model_tune.add(Dense(50, activation = 'tanh'))\n",
    "model_tune.add(Dropout(0.3))\n",
    "model_tune.add(Dense(35, activation = 'tanh'))\n",
    "model_tune.add(Dropout(0.3))\n",
    "model_tune.add(Dense(20, activation = 'tanh'))\n",
    "model_tune.add(Dropout(0.3))\n",
    "model_tune.add(Dense(1))\n",
    "model_tune.compile(loss = 'mse', optimizer = 'adam', metrics = ['mse'])\n",
    "\n",
    "history_tune = model_tune.fit(X_train, y_train, epochs = 10, batch_size = 72, validation_data = (X_test, y_test), verbose = True, shuffle = False)\n",
    "later = datetime.datetime.now()\n",
    "elapsed = later - now\n",
    "print('Time elapsed: ', elapsed)"
   ]
  },
  {
   "cell_type": "code",
   "execution_count": null,
   "metadata": {
    "id": "JBhcYpRuiMtT"
   },
   "outputs": [],
   "source": [
    "# Increase lags. It's not a direct comparison to ARIMA, but it will most likely increase the accuracy of the prediction "
   ]
  },
  {
   "cell_type": "code",
   "execution_count": null,
   "metadata": {
    "colab": {
     "base_uri": "https://localhost:8080/",
     "height": 202
    },
    "id": "zaVk-N3cimCx",
    "outputId": "a365161e-70f2-4471-e76b-810f609e6478"
   },
   "outputs": [
    {
     "data": {
      "text/html": [
       "<div>\n",
       "<style scoped>\n",
       "    .dataframe tbody tr th:only-of-type {\n",
       "        vertical-align: middle;\n",
       "    }\n",
       "\n",
       "    .dataframe tbody tr th {\n",
       "        vertical-align: top;\n",
       "    }\n",
       "\n",
       "    .dataframe thead th {\n",
       "        text-align: right;\n",
       "    }\n",
       "</style>\n",
       "<table border=\"1\" class=\"dataframe\">\n",
       "  <thead>\n",
       "    <tr style=\"text-align: right;\">\n",
       "      <th></th>\n",
       "      <th>var1(t-3)</th>\n",
       "      <th>var1(t-2)</th>\n",
       "      <th>var1(t-1)</th>\n",
       "      <th>var1</th>\n",
       "    </tr>\n",
       "  </thead>\n",
       "  <tbody>\n",
       "    <tr>\n",
       "      <th>3</th>\n",
       "      <td>0.013245</td>\n",
       "      <td>0.037474</td>\n",
       "      <td>0.056695</td>\n",
       "      <td>0.026329</td>\n",
       "    </tr>\n",
       "    <tr>\n",
       "      <th>4</th>\n",
       "      <td>0.037474</td>\n",
       "      <td>0.056695</td>\n",
       "      <td>0.026329</td>\n",
       "      <td>0.054434</td>\n",
       "    </tr>\n",
       "    <tr>\n",
       "      <th>5</th>\n",
       "      <td>0.056695</td>\n",
       "      <td>0.026329</td>\n",
       "      <td>0.054434</td>\n",
       "      <td>0.027298</td>\n",
       "    </tr>\n",
       "    <tr>\n",
       "      <th>6</th>\n",
       "      <td>0.026329</td>\n",
       "      <td>0.054434</td>\n",
       "      <td>0.027298</td>\n",
       "      <td>0.017606</td>\n",
       "    </tr>\n",
       "    <tr>\n",
       "      <th>7</th>\n",
       "      <td>0.054434</td>\n",
       "      <td>0.027298</td>\n",
       "      <td>0.017606</td>\n",
       "      <td>0.019706</td>\n",
       "    </tr>\n",
       "  </tbody>\n",
       "</table>\n",
       "</div>"
      ],
      "text/plain": [
       "   var1(t-3)  var1(t-2)  var1(t-1)      var1\n",
       "3   0.013245   0.037474   0.056695  0.026329\n",
       "4   0.037474   0.056695   0.026329  0.054434\n",
       "5   0.056695   0.026329   0.054434  0.027298\n",
       "6   0.026329   0.054434   0.027298  0.017606\n",
       "7   0.054434   0.027298   0.017606  0.019706"
      ]
     },
     "execution_count": 51,
     "metadata": {
      "tags": []
     },
     "output_type": "execute_result"
    }
   ],
   "source": [
    "three_lag = series_to_supervise(uni_scaled, 3, 1)\n",
    "three_lag.head()"
   ]
  },
  {
   "cell_type": "code",
   "execution_count": null,
   "metadata": {
    "id": "GkxbyT99jZGT"
   },
   "outputs": [],
   "source": [
    "X_3 = three_lag.drop(['var1'], axis = 1).values\n",
    "y_3 = three_lag['var1'].values"
   ]
  },
  {
   "cell_type": "code",
   "execution_count": null,
   "metadata": {
    "id": "DuyrWaOojx0b"
   },
   "outputs": [],
   "source": [
    "X_train_3, X_test_3, y_train_3, y_test_3 = train_test_split(X_3, y_3, test_size = 0.3, random_state = 42)"
   ]
  },
  {
   "cell_type": "code",
   "execution_count": null,
   "metadata": {
    "colab": {
     "base_uri": "https://localhost:8080/"
    },
    "id": "BRL4lLOQlWIK",
    "outputId": "d0a93f93-0b90-42e8-b773-3dfca1a436f9"
   },
   "outputs": [
    {
     "name": "stdout",
     "output_type": "stream",
     "text": [
      "(539, 3, 1) (539,) (232, 3, 1) (232,)\n"
     ]
    }
   ],
   "source": [
    "#Reshape into a 3D that LSTM expects\n",
    "#Inputs, timesteps (1), features (1)\n",
    "X_train_3 = X_train_3.reshape((X_train_3.shape[0], 3, 1))\n",
    "X_test_3 = X_test_3.reshape((X_test.shape[0], 3, 1))\n",
    "print(X_train_3.shape, y_train_3.shape, X_test_3.shape, y_test_3.shape)"
   ]
  },
  {
   "cell_type": "code",
   "execution_count": null,
   "metadata": {
    "colab": {
     "base_uri": "https://localhost:8080/"
    },
    "id": "dEn5NWdIllE9",
    "outputId": "1cd5a3ee-69f7-4f0b-a905-dadb0e87d922"
   },
   "outputs": [
    {
     "name": "stdout",
     "output_type": "stream",
     "text": [
      "Epoch 1/10\n",
      "8/8 [==============================] - 0s 58ms/step - loss: 0.0156 - mse: 0.0156 - val_loss: 0.0131 - val_mse: 0.0131\n",
      "Epoch 2/10\n",
      "8/8 [==============================] - 0s 6ms/step - loss: 0.0091 - mse: 0.0091 - val_loss: 0.0090 - val_mse: 0.0090\n",
      "Epoch 3/10\n",
      "8/8 [==============================] - 0s 6ms/step - loss: 0.0063 - mse: 0.0063 - val_loss: 0.0073 - val_mse: 0.0073\n",
      "Epoch 4/10\n",
      "8/8 [==============================] - 0s 6ms/step - loss: 0.0077 - mse: 0.0077 - val_loss: 0.0076 - val_mse: 0.0076\n",
      "Epoch 5/10\n",
      "8/8 [==============================] - 0s 6ms/step - loss: 0.0063 - mse: 0.0063 - val_loss: 0.0076 - val_mse: 0.0076\n",
      "Epoch 6/10\n",
      "8/8 [==============================] - 0s 6ms/step - loss: 0.0060 - mse: 0.0060 - val_loss: 0.0074 - val_mse: 0.0074\n",
      "Epoch 7/10\n",
      "8/8 [==============================] - 0s 6ms/step - loss: 0.0087 - mse: 0.0087 - val_loss: 0.0080 - val_mse: 0.0080\n",
      "Epoch 8/10\n",
      "8/8 [==============================] - 0s 6ms/step - loss: 0.0077 - mse: 0.0077 - val_loss: 0.0083 - val_mse: 0.0083\n",
      "Epoch 9/10\n",
      "8/8 [==============================] - 0s 7ms/step - loss: 0.0059 - mse: 0.0059 - val_loss: 0.0080 - val_mse: 0.0080\n",
      "Epoch 10/10\n",
      "8/8 [==============================] - 0s 6ms/step - loss: 0.0067 - mse: 0.0067 - val_loss: 0.0075 - val_mse: 0.0075\n"
     ]
    }
   ],
   "source": [
    "now = datetime.datetime.now()\n",
    "model_3 = Sequential()\n",
    "model_3.add(LSTM(50, input_shape = (X_train_3.shape[1], X_train_3.shape[2])))\n",
    "model_3.add(Dense(50, activation = 'tanh'))\n",
    "model_3.add(Dropout(0.3))\n",
    "model_3.add(Dense(35, activation = 'tanh'))\n",
    "model_3.add(Dropout(0.3))\n",
    "model_3.add(Dense(20, activation = 'tanh'))\n",
    "model_3.add(Dropout(0.3))\n",
    "model_3.add(Dense(1))\n",
    "model_3.compile(loss = 'mse', optimizer = 'adam', metrics = ['mse'])\n",
    "\n",
    "history_3 = model_3.fit(X_train_3, y_train_3, epochs = 10, batch_size = 72, validation_data = (X_test_3, y_test_3), verbose = True, shuffle = False)\n",
    "later = datetime.datetime.now()\n",
    "elapsed = later - now"
   ]
  },
  {
   "cell_type": "code",
   "execution_count": null,
   "metadata": {
    "id": "3r_fgjenl8Ip"
   },
   "outputs": [],
   "source": [
    "#Single lag MSE: 0.0094\n",
    "#3 day lag MSE: 0.0066\n",
    "# I think I'll take a win where I can get it. There's always the opportunity to keep tuning, but I think this is where i'll call it for this project. \n",
    "# Now for a forecast."
   ]
  },
  {
   "cell_type": "code",
   "execution_count": null,
   "metadata": {
    "id": "J_oIezjomQwh"
   },
   "outputs": [],
   "source": [
    "# ARIMA model MSE = 145107.43, tuned LSTM model MSE = 217163.67"
   ]
  },
  {
   "cell_type": "code",
   "execution_count": null,
   "metadata": {
    "colab": {
     "base_uri": "https://localhost:8080/"
    },
    "id": "apdREr1omdqx",
    "outputId": "f676a122-7aa7-4716-e6f4-57500382ae69"
   },
   "outputs": [
    {
     "name": "stdout",
     "output_type": "stream",
     "text": [
      "(539, 3, 1) (539,) (232, 3, 1) (232,)\n"
     ]
    }
   ],
   "source": [
    "#Reshape into a 3D that LSTM expects\n",
    "#Inputs, timesteps (3), features (1)\n",
    "X_train_3 = X_train_3.reshape((X_train_3.shape[0], 3, 1))\n",
    "X_test_3 = X_test_3.reshape((X_test.shape[0], 3, 1))\n",
    "print(X_train_3.shape, y_train_3.shape, X_test_3.shape, y_test_3.shape)"
   ]
  },
  {
   "cell_type": "code",
   "execution_count": null,
   "metadata": {
    "colab": {
     "base_uri": "https://localhost:8080/"
    },
    "id": "qvQbT8obmYnZ",
    "outputId": "1c4e3f1d-c380-44f6-9e68-7c5c592e8de9"
   },
   "outputs": [
    {
     "name": "stdout",
     "output_type": "stream",
     "text": [
      "MSE of Lag 3 prediction:  288473.52\n"
     ]
    }
   ],
   "source": [
    "yhat_3 = model_3.predict(X_test_3)\n",
    "X_test_3 = X_test_3.reshape((X_test_3.shape[0], 3))\n",
    "inv_yhat_3 = np.concatenate((yhat_3, X_test_3[:, 1:]), axis = 1)\n",
    "inv_yhat_3 = scaler.inverse_transform(inv_yhat_3)\n",
    "inv_yhat_3 = inv_yhat_3[:, 0]\n",
    "\n",
    "y_test_3 = y_test_3.reshape((len(y_test_3), 1))\n",
    "inv_y_3 = np.concatenate((y_test_3, X_test_3[:, 1:]), axis = 1)\n",
    "inv_y_3 = scaler.inverse_transform(inv_y_3)\n",
    "inv_y_3 = inv_y_3[:, 0]\n",
    "\n",
    "mse_3 = mean_squared_error(inv_y_3, inv_yhat_3)\n",
    "print('MSE of Lag 3 prediction: ', np.round(mse_3, 2))"
   ]
  },
  {
   "cell_type": "code",
   "execution_count": null,
   "metadata": {
    "id": "R75AGFZOnRdC"
   },
   "outputs": [],
   "source": [
    "#Well that didn't go as expected... \n",
    "# ARIMA model MSE = 145107.43, tuned LSTM model MSE = 217163.67, Lag 3 LSTM MSE = 326862.06"
   ]
  },
  {
   "cell_type": "code",
   "execution_count": null,
   "metadata": {
    "colab": {
     "base_uri": "https://localhost:8080/",
     "height": 202
    },
    "id": "7N-UDo6Spzth",
    "outputId": "aae1b857-0b08-4c84-cba3-10a24a2c75e9"
   },
   "outputs": [
    {
     "data": {
      "text/html": [
       "<div>\n",
       "<style scoped>\n",
       "    .dataframe tbody tr th:only-of-type {\n",
       "        vertical-align: middle;\n",
       "    }\n",
       "\n",
       "    .dataframe tbody tr th {\n",
       "        vertical-align: top;\n",
       "    }\n",
       "\n",
       "    .dataframe thead th {\n",
       "        text-align: right;\n",
       "    }\n",
       "</style>\n",
       "<table border=\"1\" class=\"dataframe\">\n",
       "  <thead>\n",
       "    <tr style=\"text-align: right;\">\n",
       "      <th></th>\n",
       "      <th>var1(t-5)</th>\n",
       "      <th>var1(t-4)</th>\n",
       "      <th>var1(t-3)</th>\n",
       "      <th>var1(t-2)</th>\n",
       "      <th>var1(t-1)</th>\n",
       "      <th>var1</th>\n",
       "    </tr>\n",
       "  </thead>\n",
       "  <tbody>\n",
       "    <tr>\n",
       "      <th>5</th>\n",
       "      <td>0.013245</td>\n",
       "      <td>0.037474</td>\n",
       "      <td>0.056695</td>\n",
       "      <td>0.026329</td>\n",
       "      <td>0.054434</td>\n",
       "      <td>0.027298</td>\n",
       "    </tr>\n",
       "    <tr>\n",
       "      <th>6</th>\n",
       "      <td>0.037474</td>\n",
       "      <td>0.056695</td>\n",
       "      <td>0.026329</td>\n",
       "      <td>0.054434</td>\n",
       "      <td>0.027298</td>\n",
       "      <td>0.017606</td>\n",
       "    </tr>\n",
       "    <tr>\n",
       "      <th>7</th>\n",
       "      <td>0.056695</td>\n",
       "      <td>0.026329</td>\n",
       "      <td>0.054434</td>\n",
       "      <td>0.027298</td>\n",
       "      <td>0.017606</td>\n",
       "      <td>0.019706</td>\n",
       "    </tr>\n",
       "    <tr>\n",
       "      <th>8</th>\n",
       "      <td>0.026329</td>\n",
       "      <td>0.054434</td>\n",
       "      <td>0.027298</td>\n",
       "      <td>0.017606</td>\n",
       "      <td>0.019706</td>\n",
       "      <td>0.017768</td>\n",
       "    </tr>\n",
       "    <tr>\n",
       "      <th>9</th>\n",
       "      <td>0.054434</td>\n",
       "      <td>0.027298</td>\n",
       "      <td>0.017606</td>\n",
       "      <td>0.019706</td>\n",
       "      <td>0.017768</td>\n",
       "      <td>0.019545</td>\n",
       "    </tr>\n",
       "  </tbody>\n",
       "</table>\n",
       "</div>"
      ],
      "text/plain": [
       "   var1(t-5)  var1(t-4)  var1(t-3)  var1(t-2)  var1(t-1)      var1\n",
       "5   0.013245   0.037474   0.056695   0.026329   0.054434  0.027298\n",
       "6   0.037474   0.056695   0.026329   0.054434   0.027298  0.017606\n",
       "7   0.056695   0.026329   0.054434   0.027298   0.017606  0.019706\n",
       "8   0.026329   0.054434   0.027298   0.017606   0.019706  0.017768\n",
       "9   0.054434   0.027298   0.017606   0.019706   0.017768  0.019545"
      ]
     },
     "execution_count": 61,
     "metadata": {
      "tags": []
     },
     "output_type": "execute_result"
    }
   ],
   "source": [
    "#Try lag of 5, choose best from that. \n",
    "five_lag = series_to_supervise(uni_scaled, 5, 1)\n",
    "five_lag.head()"
   ]
  },
  {
   "cell_type": "code",
   "execution_count": null,
   "metadata": {
    "id": "j3IDxLUGICWT"
   },
   "outputs": [],
   "source": [
    "X_5 = five_lag.drop(['var1'], axis = 1).values\n",
    "y_5 = five_lag['var1'].values"
   ]
  },
  {
   "cell_type": "code",
   "execution_count": null,
   "metadata": {
    "id": "padSkTGLH4wT"
   },
   "outputs": [],
   "source": [
    "X_train_5, X_test_5, y_train_5, y_test_5 = train_test_split(X_5, y_5, test_size = 0.3, random_state = 42)"
   ]
  },
  {
   "cell_type": "code",
   "execution_count": null,
   "metadata": {
    "colab": {
     "base_uri": "https://localhost:8080/"
    },
    "id": "5nOCT1nkILer",
    "outputId": "cf944142-82ae-46b1-e6ec-d135a5310aa7"
   },
   "outputs": [
    {
     "name": "stdout",
     "output_type": "stream",
     "text": [
      "(538, 5, 1) (538,) (231, 5, 1) (231,)\n"
     ]
    }
   ],
   "source": [
    "#Reshape into a 3D that LSTM expects\n",
    "#Inputs, timesteps (5), features (1)\n",
    "X_train_5 = X_train_5.reshape((X_train_5.shape[0], 5, 1))\n",
    "X_test_5 = X_test_5.reshape((X_test_5.shape[0], 5, 1))\n",
    "print(X_train_5.shape, y_train_5.shape, X_test_5.shape, y_test_5.shape)"
   ]
  },
  {
   "cell_type": "code",
   "execution_count": null,
   "metadata": {
    "colab": {
     "base_uri": "https://localhost:8080/"
    },
    "id": "jHjhDFIFIeGT",
    "outputId": "b8baa10c-cd56-400c-fc68-a05b872ac5b7"
   },
   "outputs": [
    {
     "name": "stdout",
     "output_type": "stream",
     "text": [
      "Epoch 1/10\n",
      "27/27 [==============================] - 1s 20ms/step - loss: 0.0108 - mse: 0.0108 - val_loss: 0.0042 - val_mse: 0.0042\n",
      "Epoch 2/10\n",
      "27/27 [==============================] - 0s 5ms/step - loss: 0.0109 - mse: 0.0109 - val_loss: 0.0041 - val_mse: 0.0041\n",
      "Epoch 3/10\n",
      "27/27 [==============================] - 0s 5ms/step - loss: 0.0093 - mse: 0.0093 - val_loss: 0.0037 - val_mse: 0.0037\n",
      "Epoch 4/10\n",
      "27/27 [==============================] - 0s 5ms/step - loss: 0.0093 - mse: 0.0093 - val_loss: 0.0041 - val_mse: 0.0041\n",
      "Epoch 5/10\n",
      "27/27 [==============================] - 0s 5ms/step - loss: 0.0094 - mse: 0.0094 - val_loss: 0.0038 - val_mse: 0.0038\n",
      "Epoch 6/10\n",
      "27/27 [==============================] - 0s 5ms/step - loss: 0.0097 - mse: 0.0097 - val_loss: 0.0038 - val_mse: 0.0038\n",
      "Epoch 7/10\n",
      "27/27 [==============================] - 0s 5ms/step - loss: 0.0094 - mse: 0.0094 - val_loss: 0.0046 - val_mse: 0.0046\n",
      "Epoch 8/10\n",
      "27/27 [==============================] - 0s 6ms/step - loss: 0.0102 - mse: 0.0102 - val_loss: 0.0038 - val_mse: 0.0038\n",
      "Epoch 9/10\n",
      "27/27 [==============================] - 0s 5ms/step - loss: 0.0090 - mse: 0.0090 - val_loss: 0.0040 - val_mse: 0.0040\n",
      "Epoch 10/10\n",
      "27/27 [==============================] - 0s 4ms/step - loss: 0.0086 - mse: 0.0086 - val_loss: 0.0039 - val_mse: 0.0039\n",
      "Time elapsed:  0:00:04.213750\n"
     ]
    }
   ],
   "source": [
    "now = datetime.datetime.now()\n",
    "model_5 = Sequential()\n",
    "model_5.add(LSTM(50, input_shape = (X_train_5.shape[1], X_train_5.shape[2])))\n",
    "model_5.add(Dense(50, activation = 'tanh'))\n",
    "model_5.add(Dropout(0.3))\n",
    "model_5.add(Dense(35, activation = 'tanh'))\n",
    "model_5.add(Dropout(0.3))\n",
    "model_5.add(Dense(20, activation = 'tanh'))\n",
    "model_5.add(Dropout(0.3))\n",
    "model_5.add(Dense(1))\n",
    "model_5.compile(loss = 'mse', optimizer = 'adam', metrics = ['mse'])\n",
    "\n",
    "history_5 = model_5.fit(X_train_5, y_train_5, epochs = 10, batch_size = 20, validation_data = (X_test_5, y_test_5), verbose = True, shuffle = False)\n",
    "later = datetime.datetime.now()\n",
    "elapsed = later - now\n",
    "print('Time elapsed: ', elapsed)"
   ]
  },
  {
   "cell_type": "code",
   "execution_count": null,
   "metadata": {
    "id": "ugt8PiRnIudD"
   },
   "outputs": [],
   "source": [
    "#Single lag MSE: 0.0094\n",
    "#3 day lag MSE: 0.0066\n",
    "#5 day lag MSE: 0.0075\n",
    "#Higher than 3 day lag, but I'll go ahead and run a forecast "
   ]
  },
  {
   "cell_type": "code",
   "execution_count": null,
   "metadata": {
    "colab": {
     "base_uri": "https://localhost:8080/"
    },
    "id": "LfWZrMbvJcdz",
    "outputId": "5efe47a0-a30e-42f1-e78f-92fd36c76e45"
   },
   "outputs": [
    {
     "name": "stdout",
     "output_type": "stream",
     "text": [
      "(538, 5, 1) (538,) (231, 5, 1) (231,)\n"
     ]
    }
   ],
   "source": [
    "#Reshape into a 3D that LSTM expects\n",
    "#Inputs, timesteps (5), features (1)\n",
    "X_train_5 = X_train_5.reshape((X_train_5.shape[0], 5, 1))\n",
    "X_test_5 = X_test_5.reshape((X_test_5.shape[0], 5, 1))\n",
    "print(X_train_5.shape, y_train_5.shape, X_test_5.shape, y_test_5.shape)"
   ]
  },
  {
   "cell_type": "code",
   "execution_count": null,
   "metadata": {
    "colab": {
     "base_uri": "https://localhost:8080/"
    },
    "id": "M3G57capJGAL",
    "outputId": "90dab011-f65a-440c-9085-8eed6eae52f2"
   },
   "outputs": [
    {
     "name": "stdout",
     "output_type": "stream",
     "text": [
      "MSE of Lag 5 prediction:  150148.29\n"
     ]
    }
   ],
   "source": [
    "yhat_5 = model_5.predict(X_test_5)\n",
    "X_test_5 = X_test_5.reshape((X_test_5.shape[0], 5))\n",
    "inv_yhat_5 = np.concatenate((yhat_5, X_test_5[:, 1:]), axis = 1)\n",
    "inv_yhat_5 = scaler.inverse_transform(inv_yhat_5)\n",
    "inv_yhat_5 = inv_yhat_5[:, 0]\n",
    "\n",
    "y_test_5 = y_test_5.reshape((len(y_test_5), 1))\n",
    "inv_y_5 = np.concatenate((y_test_5, X_test_5[:, 1:]), axis = 1)\n",
    "inv_y_5 = scaler.inverse_transform(inv_y_5)\n",
    "inv_y_5 = inv_y_5[:, 0]\n",
    "\n",
    "mse_5 = mean_squared_error(inv_y_5, inv_yhat_5)\n",
    "print('MSE of Lag 5 prediction: ', np.round(mse_5, 2))"
   ]
  },
  {
   "cell_type": "code",
   "execution_count": null,
   "metadata": {
    "id": "Y1awCTmeJjsD"
   },
   "outputs": [],
   "source": [
    "# ARIMA model MSE = 145107.43\n",
    "#tuned LSTM model MSE = 217163.67\n",
    "#Lag 3 LSTM MSE = 314797.98\n",
    "#Lag 5 LSTM MSE = 166632.05"
   ]
  },
  {
   "cell_type": "code",
   "execution_count": null,
   "metadata": {
    "id": "_InEUhhoJzO6"
   },
   "outputs": [],
   "source": [
    "#I will be using this tuned model for my future predictions. It's not great, but there is always opportunity to improve it. "
   ]
  },
  {
   "cell_type": "code",
   "execution_count": null,
   "metadata": {
    "colab": {
     "base_uri": "https://localhost:8080/"
    },
    "id": "iItS7OBvBNwQ",
    "outputId": "e580e616-6dbd-4b58-e257-b4795275173d"
   },
   "outputs": [
    {
     "name": "stdout",
     "output_type": "stream",
     "text": [
      "(538, 5, 1) (538,) (231, 5, 1) (231, 1)\n"
     ]
    }
   ],
   "source": [
    "X_train_5 = X_train_5.reshape((X_train_5.shape[0], 5, 1))\n",
    "X_test_5 = X_test_5.reshape((X_test_5.shape[0], 5, 1))\n",
    "print(X_train_5.shape, y_train_5.shape, X_test_5.shape, y_test_5.shape)"
   ]
  },
  {
   "cell_type": "code",
   "execution_count": null,
   "metadata": {
    "colab": {
     "base_uri": "https://localhost:8080/"
    },
    "id": "n5VJ3twwLwbk",
    "outputId": "ed6e2d1c-4783-4975-8f42-f61215f16373"
   },
   "outputs": [
    {
     "name": "stdout",
     "output_type": "stream",
     "text": [
      "Epoch 1/10\n",
      "27/27 [==============================] - 1s 20ms/step - loss: 0.0129 - mse: 0.0129 - val_loss: 0.0042 - val_mse: 0.0042\n",
      "Epoch 2/10\n",
      "27/27 [==============================] - 0s 5ms/step - loss: 0.0094 - mse: 0.0094 - val_loss: 0.0043 - val_mse: 0.0043\n",
      "Epoch 3/10\n",
      "27/27 [==============================] - 0s 5ms/step - loss: 0.0084 - mse: 0.0084 - val_loss: 0.0037 - val_mse: 0.0037\n",
      "Epoch 4/10\n",
      "27/27 [==============================] - 0s 5ms/step - loss: 0.0100 - mse: 0.0100 - val_loss: 0.0041 - val_mse: 0.0041\n",
      "Epoch 5/10\n",
      "27/27 [==============================] - 0s 5ms/step - loss: 0.0080 - mse: 0.0080 - val_loss: 0.0039 - val_mse: 0.0039\n",
      "Epoch 6/10\n",
      "27/27 [==============================] - 0s 5ms/step - loss: 0.0098 - mse: 0.0098 - val_loss: 0.0040 - val_mse: 0.0040\n",
      "Epoch 7/10\n",
      "27/27 [==============================] - 0s 5ms/step - loss: 0.0089 - mse: 0.0089 - val_loss: 0.0042 - val_mse: 0.0042\n",
      "Epoch 8/10\n",
      "27/27 [==============================] - 0s 6ms/step - loss: 0.0081 - mse: 0.0081 - val_loss: 0.0041 - val_mse: 0.0041\n",
      "Epoch 9/10\n",
      "27/27 [==============================] - 0s 5ms/step - loss: 0.0079 - mse: 0.0079 - val_loss: 0.0040 - val_mse: 0.0040\n",
      "Epoch 10/10\n",
      "27/27 [==============================] - 0s 5ms/step - loss: 0.0084 - mse: 0.0084 - val_loss: 0.0040 - val_mse: 0.0040\n",
      "WARNING:tensorflow:From /usr/local/lib/python3.6/dist-packages/tensorflow/python/training/tracking/tracking.py:111: Model.state_updates (from tensorflow.python.keras.engine.training) is deprecated and will be removed in a future version.\n",
      "Instructions for updating:\n",
      "This property should not be used in TensorFlow 2.0, as updates are applied automatically.\n",
      "WARNING:tensorflow:From /usr/local/lib/python3.6/dist-packages/tensorflow/python/training/tracking/tracking.py:111: Layer.updates (from tensorflow.python.keras.engine.base_layer) is deprecated and will be removed in a future version.\n",
      "Instructions for updating:\n",
      "This property should not be used in TensorFlow 2.0, as updates are applied automatically.\n",
      "INFO:tensorflow:Assets written to: final_model/assets\n"
     ]
    }
   ],
   "source": [
    "model_5 = Sequential()\n",
    "model_5.add(LSTM(50, input_shape = (X_train_5.shape[1], X_train_5.shape[2])))\n",
    "model_5.add(Dense(50, activation = 'tanh'))\n",
    "model_5.add(Dropout(0.3))\n",
    "model_5.add(Dense(35, activation = 'tanh'))\n",
    "model_5.add(Dropout(0.3))\n",
    "model_5.add(Dense(20, activation = 'tanh'))\n",
    "model_5.add(Dropout(0.3))\n",
    "model_5.add(Dense(1))\n",
    "model_5.compile(loss = 'mse', optimizer = 'adam', metrics = ['mse'])\n",
    "model_5.fit(X_train_5, y_train_5, epochs = 10, batch_size = 20, validation_data = (X_test_5, y_test_5), verbose = True, shuffle = False)\n",
    "model_5.save('final_model')"
   ]
  },
  {
   "cell_type": "markdown",
   "metadata": {
    "id": "duQYMAS-K8MB"
   },
   "source": [
    "# Write a function to recursively forecast a given number of steps into the future, and return a dataframe with forecasted values\n"
   ]
  },
  {
   "cell_type": "code",
   "execution_count": null,
   "metadata": {
    "id": "5qxIeIZz_0PP"
   },
   "outputs": [],
   "source": [
    "#Create output df\n",
    "output = pd.DataFrame({'Valid Date': pd.date_range(start = '2017-12-22', end = '2018-12-20', freq = 'B')})\n",
    "output = output[(output['Valid Date'] != '2017-12-25') &\n",
    "                (output['Valid Date'] != '2018-01-01') &\n",
    "                (output['Valid Date'] != '2018-01-15') &\n",
    "                (output['Valid Date'] != '2018-02-19') &\n",
    "                (output['Valid Date'] != '2018-05-28') &\n",
    "                (output['Valid Date'] != '2018-07-04') &\n",
    "                (output['Valid Date'] != '2018-09-03') &\n",
    "                (output['Valid Date'] != '2018-11-12') &\n",
    "                (output['Valid Date'] != '2018-11-22')]"
   ]
  },
  {
   "cell_type": "code",
   "execution_count": null,
   "metadata": {
    "id": "Aqy3V0rwHihl"
   },
   "outputs": [],
   "source": [
    "#Write prediction function\n",
    "def predict_values(training_data, output):\n",
    "  ''' A function that takes in training data and uses a tuned LSTM neural \n",
    "  network to recursively predict data for a given number of steps.\n",
    "\n",
    "  Inputs: training_data: The last 5 points of the models training set\n",
    "    output: user provided dataframe formatted with a desired time period to be predicted\n",
    "    as a pd.TimeStamp \n",
    "  Returns: The output parameter with a scaled prediction and unscaled prediction column \n",
    "  appended'''\n",
    "\n",
    "  predictions = []\n",
    "  predictions.append(training_data)\n",
    "  x_array = np.array(predictions)\n",
    "  x_array = x_array.reshape(1, 5, 1)\n",
    "#Generate predictions\n",
    "  model = load_model('final_model')\n",
    "  for n in range(len(output)):\n",
    "    pred = model.predict(x_array)\n",
    "    x_array = np.append(x_array, pred)\n",
    "    predictions.append(pred)\n",
    "\n",
    "    x_array = x_array[-5:].reshape(1, 5, 1)\n",
    "\n",
    "#Add predictions to output df, unlist the values\n",
    "  predictions = predictions[1:]\n",
    "  pred_list = []\n",
    "  for n in range(len(output)):\n",
    "    pred_list.append(predictions[n].tolist())\n",
    "\n",
    "  unlisted = []\n",
    "  for n in range(len(pred_list)):\n",
    "    var = pred_list[n]\n",
    "    var = var[0]\n",
    "    unlisted.append(var)\n",
    "\n",
    "  output['Scaled Prediction'] = unlisted\n",
    "\n",
    "#Unscale predicted value\n",
    "  unlisted_array = np.array(unlisted)\n",
    "  unlisted_array = unlisted_array.reshape(-1, 1)\n",
    "  output['Predicted Value'] = scaler.inverse_transform(unlisted_array)\n",
    "\n",
    "  return output"
   ]
  },
  {
   "cell_type": "code",
   "execution_count": null,
   "metadata": {
    "id": "9NyvMvw9Hk77"
   },
   "outputs": [],
   "source": [
    "year_one = predict_values(X_train[-5:], output)"
   ]
  },
  {
   "cell_type": "code",
   "execution_count": null,
   "metadata": {
    "id": "w7Pjgq4bH0mc"
   },
   "outputs": [],
   "source": [
    "year_one = year_one.set_index('Valid Date')"
   ]
  },
  {
   "cell_type": "code",
   "execution_count": null,
   "metadata": {
    "colab": {
     "base_uri": "https://localhost:8080/",
     "height": 311
    },
    "id": "PtilAnWbBTN_",
    "outputId": "60251483-ef15-48b1-c31c-699d8f0dcd54"
   },
   "outputs": [
    {
     "data": {
      "text/plain": [
       "Text(0, 0.5, 'Predicted Licenses Dispensed')"
      ]
     },
     "execution_count": 77,
     "metadata": {
      "tags": []
     },
     "output_type": "execute_result"
    },
    {
     "data": {
      "image/png": "[encoded data removed]",
      "text/plain": [
       "<Figure size 432x288 with 1 Axes>"
      ]
     },
     "metadata": {
      "needs_background": "light",
      "tags": []
     },
     "output_type": "display_data"
    }
   ],
   "source": [
    "fig = year_one['Predicted Value'].plot()\n",
    "fig.set_title('Predicted Value')\n",
    "fig.set_xlabel('Valid Date')\n",
    "fig.set_ylabel('Predicted Licenses Dispensed')"
   ]
  },
  {
   "cell_type": "code",
   "execution_count": null,
   "metadata": {
    "id": "XbLqnE4_HWuG"
   },
   "outputs": [],
   "source": [
    "#There's a lot going on in the first 3 months, but after that it converges on itself\n",
    "#I think that part of the issue here is that 251 steps is just too much for this kind of model\n",
    "#I will still calculate the MSE, just out of curiosity"
   ]
  },
  {
   "cell_type": "code",
   "execution_count": null,
   "metadata": {
    "id": "9aWq8LRUHxHF"
   },
   "outputs": [],
   "source": [
    "#To keep it consistent, we will set all negative values to 0\n",
    "year_one.loc[year_one['Predicted Value'] < 0] = 0"
   ]
  },
  {
   "cell_type": "code",
   "execution_count": null,
   "metadata": {
    "id": "3Ch0aNXVITBM"
   },
   "outputs": [],
   "source": [
    "df_18 = pd.read_csv('df_18_final.csv')\n",
    "df_18 = df_18.set_index('ValidDate')"
   ]
  },
  {
   "cell_type": "code",
   "execution_count": null,
   "metadata": {
    "colab": {
     "base_uri": "https://localhost:8080/"
    },
    "id": "nGLm7Zv-JKmO",
    "outputId": "b4d79caa-587e-4ebb-b5d7-42ca110251f9"
   },
   "outputs": [
    {
     "name": "stdout",
     "output_type": "stream",
     "text": [
      "The forecast MSE is 142611.59\n"
     ]
    }
   ],
   "source": [
    "mse = ((year_one['Predicted Value'] - df_18['Sum']) ** 2).mean()\n",
    "print('The forecast MSE is {}'.format(round(mse, 2)))"
   ]
  },
  {
   "cell_type": "markdown",
   "metadata": {
    "id": "hHqNG6ZYT5H8"
   },
   "source": [
    "# Conclusions/ Interpretation"
   ]
  },
  {
   "cell_type": "markdown",
   "metadata": {
    "id": "jNUWgWF6Pzgd"
   },
   "source": [
    "Despite that scary looking graph, this actually performs better than our SARIMA forecast, which had an MSE of 145107.43. This model is not too shabby. And has the benefit that we didn't have to gridsearch for the best pdq like the SARIMA. It should definitely be used for a shorter amount of steps though, as it would seem the accuracy really starts to drop off as the model converges on itself.  \n",
    "Some ideas for future work:  \n",
    "* I would love to run a couple multivariate models and see if the categorical variables influence the forecast somehow.  \n",
    "* As with most neural networks, you could spend weeks just tuning this. If there were more time, I would like to keep tweaking the final model and seeing just how low we can get the MSE. Even though this is the lowest one, it's still pretty high. "
   ]
  }
 ],
 "metadata": {
  "colab": {
   "collapsed_sections": [],
   "name": "Flatiron School Capstone- LSTM Time Series.ipynb",
   "provenance": []
  },
  "kernelspec": {
   "display_name": "Python 3",
   "language": "python",
   "name": "python3"
  },
  "language_info": {
   "codemirror_mode": {
    "name": "ipython",
    "version": 3
   },
   "file_extension": ".py",
   "mimetype": "text/x-python",
   "name": "python",
   "nbconvert_exporter": "python",
   "pygments_lexer": "ipython3",
   "version": "3.7.3"
  }
 },
 "nbformat": 4,
 "nbformat_minor": 1
}
