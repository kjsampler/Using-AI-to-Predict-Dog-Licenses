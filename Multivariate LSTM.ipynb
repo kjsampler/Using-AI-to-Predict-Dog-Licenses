{
  "nbformat": 4,
  "nbformat_minor": 0,
  "metadata": {
    "kernelspec": {
      "display_name": "Python 3",
      "language": "python",
      "name": "python3"
    },
    "language_info": {
      "codemirror_mode": {
        "name": "ipython",
        "version": 3
      },
      "file_extension": ".py",
      "mimetype": "text/x-python",
      "name": "python",
      "nbconvert_exporter": "python",
      "pygments_lexer": "ipython3",
      "version": "3.7.3"
    },
    "colab": {
      "name": "Multivariate LSTM.ipynb",
      "provenance": []
    }
  },
  "cells": [
    {
      "cell_type": "markdown",
      "metadata": {
        "id": "T0kE4jVeOSCw"
      },
      "source": [
        "# Steps: \n",
        "1. Determine which variables to use\n",
        "2. Cut down size of dataframe (maybe top 10 and do dummies? or an aggregate (# of pitbulls per month)\n",
        "3. Create multivariate dataframe, including timestamp index\n",
        "4. Scale, series_to_supervise\n",
        "5. Fit data, split to train_test sets\n",
        "6. Use univariate LSTM, tune to lowest MSE\n",
        "7. Compare univariate to multivariate scores, make analysis\n",
        "8. Save model and fit into function\n",
        "9. Write new prediction function? \n",
        "10. Conclude, interpret\n",
        "11. Make more visualizations\n",
        "12. Blog about it\n",
        "13. Where do we go from here? \n",
        "14. What is the \"so what\"? "
      ]
    },
    {
      "cell_type": "code",
      "metadata": {
        "colab": {
          "base_uri": "https://localhost:8080/"
        },
        "id": "0nzM9RcK33DS",
        "outputId": "3cac6a1c-1873-40ee-fbbf-ceb5fdb144b4"
      },
      "source": [
        "from google.colab import drive\n",
        "drive.mount('/content/drive')"
      ],
      "execution_count": 1,
      "outputs": [
        {
          "output_type": "stream",
          "text": [
            "Mounted at /content/drive\n"
          ],
          "name": "stdout"
        }
      ]
    },
    {
      "cell_type": "code",
      "metadata": {
        "id": "nMGgCrDVOSC3"
      },
      "source": [
        "import pandas as pd\n",
        "import warnings\n",
        "warnings.filterwarnings('ignore')\n",
        "import matplotlib.pyplot as plt\n",
        "%matplotlib inline\n",
        "import seaborn as sns\n",
        "from pandas.plotting import table\n",
        "from sklearn.preprocessing import MinMaxScaler\n",
        "from sklearn.model_selection import train_test_split\n",
        "import time\n",
        "import datetime\n",
        "from sklearn.metrics import mean_squared_error\n",
        "from keras.models import Sequential, load_model\n",
        "from keras.layers import Dense, LSTM, Dropout\n",
        "import numpy as np"
      ],
      "execution_count": 2,
      "outputs": []
    },
    {
      "cell_type": "code",
      "metadata": {
        "id": "NjN747MlU4eL"
      },
      "source": [
        "#file path for data: capstone/using-AI-to-predict-dog-licenses/data\r\n",
        "#open raw_data.csv"
      ],
      "execution_count": 3,
      "outputs": []
    },
    {
      "cell_type": "code",
      "metadata": {
        "id": "1jtq5HZiOSC5"
      },
      "source": [
        "df = pd.read_csv('/content/drive/MyDrive/raw_data.csv')"
      ],
      "execution_count": 4,
      "outputs": []
    },
    {
      "cell_type": "code",
      "metadata": {
        "id": "USRSLPP9OSC5"
      },
      "source": [
        "df.set_index('ValidDate', inplace = True)"
      ],
      "execution_count": 5,
      "outputs": []
    },
    {
      "cell_type": "code",
      "metadata": {
        "id": "i9d8D564OSC6"
      },
      "source": [
        "df = df.drop(['ExpYear'], axis = 1)"
      ],
      "execution_count": 6,
      "outputs": []
    },
    {
      "cell_type": "code",
      "metadata": {
        "id": "-sIwGPlKOSC6",
        "colab": {
          "base_uri": "https://localhost:8080/",
          "height": 233
        },
        "outputId": "064946ab-ace1-438f-9794-cf33e1defda1"
      },
      "source": [
        "df.head()"
      ],
      "execution_count": 7,
      "outputs": [
        {
          "output_type": "execute_result",
          "data": {
            "text/html": [
              "<div>\n",
              "<style scoped>\n",
              "    .dataframe tbody tr th:only-of-type {\n",
              "        vertical-align: middle;\n",
              "    }\n",
              "\n",
              "    .dataframe tbody tr th {\n",
              "        vertical-align: top;\n",
              "    }\n",
              "\n",
              "    .dataframe thead th {\n",
              "        text-align: right;\n",
              "    }\n",
              "</style>\n",
              "<table border=\"1\" class=\"dataframe\">\n",
              "  <thead>\n",
              "    <tr style=\"text-align: right;\">\n",
              "      <th></th>\n",
              "      <th>LicenseType</th>\n",
              "      <th>Breed</th>\n",
              "      <th>Color</th>\n",
              "      <th>DogName</th>\n",
              "      <th>OwnerZip</th>\n",
              "    </tr>\n",
              "    <tr>\n",
              "      <th>ValidDate</th>\n",
              "      <th></th>\n",
              "      <th></th>\n",
              "      <th></th>\n",
              "      <th></th>\n",
              "      <th></th>\n",
              "    </tr>\n",
              "  </thead>\n",
              "  <tbody>\n",
              "    <tr>\n",
              "      <th>2014-12-02 09:40:53</th>\n",
              "      <td>Dog Individual Neutered Male</td>\n",
              "      <td>COCKAPOO</td>\n",
              "      <td>BROWN</td>\n",
              "      <td>CHARLEY</td>\n",
              "      <td>15236</td>\n",
              "    </tr>\n",
              "    <tr>\n",
              "      <th>2014-12-02 09:45:25</th>\n",
              "      <td>Dog Senior Citizen or Disability Neutered Male</td>\n",
              "      <td>GER SHEPHERD</td>\n",
              "      <td>BLACK/BROWN</td>\n",
              "      <td>TACODA</td>\n",
              "      <td>15238</td>\n",
              "    </tr>\n",
              "    <tr>\n",
              "      <th>2014-12-02 09:47:55</th>\n",
              "      <td>Dog Individual Spayed Female</td>\n",
              "      <td>GER SHEPHERD</td>\n",
              "      <td>BLACK</td>\n",
              "      <td>CHARLY</td>\n",
              "      <td>15205</td>\n",
              "    </tr>\n",
              "    <tr>\n",
              "      <th>2014-12-02 10:02:33</th>\n",
              "      <td>Dog Individual Spayed Female</td>\n",
              "      <td>LABRADOR RETRIEVER</td>\n",
              "      <td>BLACK</td>\n",
              "      <td>ABBEY</td>\n",
              "      <td>15143</td>\n",
              "    </tr>\n",
              "    <tr>\n",
              "      <th>2014-12-02 10:05:50</th>\n",
              "      <td>Dog Individual Female</td>\n",
              "      <td>GER SHORTHAIR POINT</td>\n",
              "      <td>BROWN</td>\n",
              "      <td>CHARLEY</td>\n",
              "      <td>15228</td>\n",
              "    </tr>\n",
              "  </tbody>\n",
              "</table>\n",
              "</div>"
            ],
            "text/plain": [
              "                                                        LicenseType  ... OwnerZip\n",
              "ValidDate                                                            ...         \n",
              "2014-12-02 09:40:53                    Dog Individual Neutered Male  ...    15236\n",
              "2014-12-02 09:45:25  Dog Senior Citizen or Disability Neutered Male  ...    15238\n",
              "2014-12-02 09:47:55                    Dog Individual Spayed Female  ...    15205\n",
              "2014-12-02 10:02:33                    Dog Individual Spayed Female  ...    15143\n",
              "2014-12-02 10:05:50                           Dog Individual Female  ...    15228\n",
              "\n",
              "[5 rows x 5 columns]"
            ]
          },
          "metadata": {
            "tags": []
          },
          "execution_count": 7
        }
      ]
    },
    {
      "cell_type": "code",
      "metadata": {
        "id": "rCbpRhDJOSC6",
        "colab": {
          "base_uri": "https://localhost:8080/"
        },
        "outputId": "590c03b7-7fe2-4077-cede-5b7826727ca8"
      },
      "source": [
        "df['Breed'].value_counts().sum()"
      ],
      "execution_count": 8,
      "outputs": [
        {
          "output_type": "execute_result",
          "data": {
            "text/plain": [
              "286724"
            ]
          },
          "metadata": {
            "tags": []
          },
          "execution_count": 8
        }
      ]
    },
    {
      "cell_type": "code",
      "metadata": {
        "id": "Oqab9Uv9OSC7",
        "colab": {
          "base_uri": "https://localhost:8080/"
        },
        "outputId": "e2073ff1-6105-4657-a37e-aa689f7a2bf9"
      },
      "source": [
        "len(df['Breed'].unique())"
      ],
      "execution_count": 9,
      "outputs": [
        {
          "output_type": "execute_result",
          "data": {
            "text/plain": [
              "340"
            ]
          },
          "metadata": {
            "tags": []
          },
          "execution_count": 9
        }
      ]
    },
    {
      "cell_type": "code",
      "metadata": {
        "id": "sHZlhfU0OSC7"
      },
      "source": [
        "#I would definitely need to look at cutting that number down- that would be way too noisy.\n",
        "#My initial thought is to see what the top 10 breeds are\n",
        "#Maybe from there I can either to dummies or aggregate"
      ],
      "execution_count": 10,
      "outputs": []
    },
    {
      "cell_type": "code",
      "metadata": {
        "id": "Xw1bZZNrOSC7"
      },
      "source": [
        "top_ten = df['Breed'].value_counts()[:11]"
      ],
      "execution_count": 11,
      "outputs": []
    },
    {
      "cell_type": "code",
      "metadata": {
        "id": "n9T5XZdWOSC8",
        "colab": {
          "base_uri": "https://localhost:8080/"
        },
        "outputId": "0ba230ea-98d7-4995-8055-b52e1e7723d6"
      },
      "source": [
        "top_ten\n",
        "#bar chart here"
      ],
      "execution_count": 12,
      "outputs": [
        {
          "output_type": "execute_result",
          "data": {
            "text/plain": [
              "MIXED                  29009\n",
              "LABRADOR RETRIEVER     19713\n",
              "LAB MIX                17714\n",
              "GOLDEN RETRIEVER        9344\n",
              "GER SHEPHERD            8437\n",
              "SHIH TZU                7976\n",
              "BEAGLE                  7960\n",
              "CHIHUAHUA               7664\n",
              "TAG                     7475\n",
              "AM PIT BULL TERRIER     7332\n",
              "YORKSHIRE TERRIER       6268\n",
              "Name: Breed, dtype: int64"
            ]
          },
          "metadata": {
            "tags": []
          },
          "execution_count": 12
        }
      ]
    },
    {
      "cell_type": "code",
      "metadata": {
        "id": "9vt82EMSOSC8"
      },
      "source": [
        "#TAG is not a type of dog. they are denoting that they are putting tags on an existing dog"
      ],
      "execution_count": 13,
      "outputs": []
    },
    {
      "cell_type": "code",
      "metadata": {
        "id": "eX0d16cMOSC8",
        "colab": {
          "base_uri": "https://localhost:8080/",
          "height": 171
        },
        "outputId": "73618838-2f7b-445c-e410-7f41736769b5"
      },
      "source": [
        "tag_df = df.loc[df['Breed'] == 'TAG']\n",
        "tag_df.loc[(tag_df['DogName'] == 'SHADOW') & (tag_df['OwnerZip'] == 15102)]"
      ],
      "execution_count": 14,
      "outputs": [
        {
          "output_type": "execute_result",
          "data": {
            "text/html": [
              "<div>\n",
              "<style scoped>\n",
              "    .dataframe tbody tr th:only-of-type {\n",
              "        vertical-align: middle;\n",
              "    }\n",
              "\n",
              "    .dataframe tbody tr th {\n",
              "        vertical-align: top;\n",
              "    }\n",
              "\n",
              "    .dataframe thead th {\n",
              "        text-align: right;\n",
              "    }\n",
              "</style>\n",
              "<table border=\"1\" class=\"dataframe\">\n",
              "  <thead>\n",
              "    <tr style=\"text-align: right;\">\n",
              "      <th></th>\n",
              "      <th>LicenseType</th>\n",
              "      <th>Breed</th>\n",
              "      <th>Color</th>\n",
              "      <th>DogName</th>\n",
              "      <th>OwnerZip</th>\n",
              "    </tr>\n",
              "    <tr>\n",
              "      <th>ValidDate</th>\n",
              "      <th></th>\n",
              "      <th></th>\n",
              "      <th></th>\n",
              "      <th></th>\n",
              "      <th></th>\n",
              "    </tr>\n",
              "  </thead>\n",
              "  <tbody>\n",
              "    <tr>\n",
              "      <th>2015-03-12 11:11:36</th>\n",
              "      <td>Dog Individual Spayed Female</td>\n",
              "      <td>TAG</td>\n",
              "      <td>BLACK</td>\n",
              "      <td>SHADOW</td>\n",
              "      <td>15102</td>\n",
              "    </tr>\n",
              "    <tr>\n",
              "      <th>2017-01-10 09:39:46</th>\n",
              "      <td>Dog Individual Spayed Female</td>\n",
              "      <td>TAG</td>\n",
              "      <td>BLACK</td>\n",
              "      <td>SHADOW</td>\n",
              "      <td>15102</td>\n",
              "    </tr>\n",
              "    <tr>\n",
              "      <th>2015-12-11 10:35:08</th>\n",
              "      <td>Dog Individual Spayed Female</td>\n",
              "      <td>TAG</td>\n",
              "      <td>BLACK</td>\n",
              "      <td>SHADOW</td>\n",
              "      <td>15102</td>\n",
              "    </tr>\n",
              "  </tbody>\n",
              "</table>\n",
              "</div>"
            ],
            "text/plain": [
              "                                      LicenseType Breed  ... DogName OwnerZip\n",
              "ValidDate                                                ...                 \n",
              "2015-03-12 11:11:36  Dog Individual Spayed Female   TAG  ...  SHADOW    15102\n",
              "2017-01-10 09:39:46  Dog Individual Spayed Female   TAG  ...  SHADOW    15102\n",
              "2015-12-11 10:35:08  Dog Individual Spayed Female   TAG  ...  SHADOW    15102\n",
              "\n",
              "[3 rows x 5 columns]"
            ]
          },
          "metadata": {
            "tags": []
          },
          "execution_count": 14
        }
      ]
    },
    {
      "cell_type": "code",
      "metadata": {
        "scrolled": true,
        "id": "wgfsZv_6OSC8",
        "colab": {
          "base_uri": "https://localhost:8080/"
        },
        "outputId": "0d7a63f3-8bec-40f4-85ff-22c1fd093a56"
      },
      "source": [
        "a = len(tag_df['DogName'])\n",
        "b = len(tag_df['DogName'].value_counts())\n",
        "a-b"
      ],
      "execution_count": 15,
      "outputs": [
        {
          "output_type": "execute_result",
          "data": {
            "text/plain": [
              "5708"
            ]
          },
          "metadata": {
            "tags": []
          },
          "execution_count": 15
        }
      ]
    },
    {
      "cell_type": "code",
      "metadata": {
        "id": "UlDZAkEJOSC9"
      },
      "source": [
        "#Time to zoom out. What am i hoping to accomplish here? \n",
        "#A multivariate time series. OG problem: predict number of licenses dispensed per day. \n",
        "#New problem: predict licenses dispenses while considering extra variables. \n",
        "#I think top 10 dummies is actually going to benefit me most. \n",
        "#Let's start with breed: top 9 and 'other'\n",
        "## investigate whether an 'other' column is going to unbalance the data too bad; \n",
        "#we may need to keep it to top 10 with a disclaimer"
      ],
      "execution_count": 16,
      "outputs": []
    },
    {
      "cell_type": "code",
      "metadata": {
        "id": "gossOYOwOSC9",
        "colab": {
          "base_uri": "https://localhost:8080/",
          "height": 233
        },
        "outputId": "97973314-5d2f-40ef-de41-25e9d67a301e"
      },
      "source": [
        "df.head()"
      ],
      "execution_count": 17,
      "outputs": [
        {
          "output_type": "execute_result",
          "data": {
            "text/html": [
              "<div>\n",
              "<style scoped>\n",
              "    .dataframe tbody tr th:only-of-type {\n",
              "        vertical-align: middle;\n",
              "    }\n",
              "\n",
              "    .dataframe tbody tr th {\n",
              "        vertical-align: top;\n",
              "    }\n",
              "\n",
              "    .dataframe thead th {\n",
              "        text-align: right;\n",
              "    }\n",
              "</style>\n",
              "<table border=\"1\" class=\"dataframe\">\n",
              "  <thead>\n",
              "    <tr style=\"text-align: right;\">\n",
              "      <th></th>\n",
              "      <th>LicenseType</th>\n",
              "      <th>Breed</th>\n",
              "      <th>Color</th>\n",
              "      <th>DogName</th>\n",
              "      <th>OwnerZip</th>\n",
              "    </tr>\n",
              "    <tr>\n",
              "      <th>ValidDate</th>\n",
              "      <th></th>\n",
              "      <th></th>\n",
              "      <th></th>\n",
              "      <th></th>\n",
              "      <th></th>\n",
              "    </tr>\n",
              "  </thead>\n",
              "  <tbody>\n",
              "    <tr>\n",
              "      <th>2014-12-02 09:40:53</th>\n",
              "      <td>Dog Individual Neutered Male</td>\n",
              "      <td>COCKAPOO</td>\n",
              "      <td>BROWN</td>\n",
              "      <td>CHARLEY</td>\n",
              "      <td>15236</td>\n",
              "    </tr>\n",
              "    <tr>\n",
              "      <th>2014-12-02 09:45:25</th>\n",
              "      <td>Dog Senior Citizen or Disability Neutered Male</td>\n",
              "      <td>GER SHEPHERD</td>\n",
              "      <td>BLACK/BROWN</td>\n",
              "      <td>TACODA</td>\n",
              "      <td>15238</td>\n",
              "    </tr>\n",
              "    <tr>\n",
              "      <th>2014-12-02 09:47:55</th>\n",
              "      <td>Dog Individual Spayed Female</td>\n",
              "      <td>GER SHEPHERD</td>\n",
              "      <td>BLACK</td>\n",
              "      <td>CHARLY</td>\n",
              "      <td>15205</td>\n",
              "    </tr>\n",
              "    <tr>\n",
              "      <th>2014-12-02 10:02:33</th>\n",
              "      <td>Dog Individual Spayed Female</td>\n",
              "      <td>LABRADOR RETRIEVER</td>\n",
              "      <td>BLACK</td>\n",
              "      <td>ABBEY</td>\n",
              "      <td>15143</td>\n",
              "    </tr>\n",
              "    <tr>\n",
              "      <th>2014-12-02 10:05:50</th>\n",
              "      <td>Dog Individual Female</td>\n",
              "      <td>GER SHORTHAIR POINT</td>\n",
              "      <td>BROWN</td>\n",
              "      <td>CHARLEY</td>\n",
              "      <td>15228</td>\n",
              "    </tr>\n",
              "  </tbody>\n",
              "</table>\n",
              "</div>"
            ],
            "text/plain": [
              "                                                        LicenseType  ... OwnerZip\n",
              "ValidDate                                                            ...         \n",
              "2014-12-02 09:40:53                    Dog Individual Neutered Male  ...    15236\n",
              "2014-12-02 09:45:25  Dog Senior Citizen or Disability Neutered Male  ...    15238\n",
              "2014-12-02 09:47:55                    Dog Individual Spayed Female  ...    15205\n",
              "2014-12-02 10:02:33                    Dog Individual Spayed Female  ...    15143\n",
              "2014-12-02 10:05:50                           Dog Individual Female  ...    15228\n",
              "\n",
              "[5 rows x 5 columns]"
            ]
          },
          "metadata": {
            "tags": []
          },
          "execution_count": 17
        }
      ]
    },
    {
      "cell_type": "code",
      "metadata": {
        "id": "Z54G_BXiOSC9",
        "colab": {
          "base_uri": "https://localhost:8080/"
        },
        "outputId": "ae8f62f9-4087-45e0-d62b-4b9d61e2da3c"
      },
      "source": [
        "df.isnull().sum()"
      ],
      "execution_count": 18,
      "outputs": [
        {
          "output_type": "execute_result",
          "data": {
            "text/plain": [
              "LicenseType    0\n",
              "Breed          0\n",
              "Color          0\n",
              "DogName        0\n",
              "OwnerZip       0\n",
              "dtype: int64"
            ]
          },
          "metadata": {
            "tags": []
          },
          "execution_count": 18
        }
      ]
    },
    {
      "cell_type": "code",
      "metadata": {
        "id": "GHTtXszROSC9"
      },
      "source": [
        "breed_df = pd.DataFrame(df.Breed)\n",
        "breed_df.set_index(breed_df.index, inplace = True)\n",
        "breed_df.index = pd.to_datetime(breed_df.index)"
      ],
      "execution_count": 19,
      "outputs": []
    },
    {
      "cell_type": "markdown",
      "metadata": {
        "id": "EgVJQW8ZOSC-"
      },
      "source": [
        "MIXED\n",
        "LABRADOR RETRIEVER     \n",
        "LAB MIX                \n",
        "GOLDEN RETRIEVER        \n",
        "GER SHEPHERD            \n",
        "SHIH TZU            \n",
        "BEAGLE                  \n",
        "CHIHUAHUA                                  \n",
        "AM PIT BULL TERRIER     \n",
        "YORKSHIRE TERRIER      "
      ]
    },
    {
      "cell_type": "code",
      "metadata": {
        "id": "_JQmNtrPOSC-",
        "colab": {
          "base_uri": "https://localhost:8080/",
          "height": 233
        },
        "outputId": "44ac71db-fcdb-4add-c050-d159df7ca3df"
      },
      "source": [
        "df_top_ten = breed_df[(breed_df['Breed'] == 'MIXED') |\n",
        "                     (breed_df['Breed'] == 'LABRADOR RETRIEVER') |\n",
        "                     (breed_df['Breed'] == 'LAB MIX') |\n",
        "                     (breed_df['Breed'] == 'GOLDEN RETRIEVER') |\n",
        "                     (breed_df['Breed'] == 'GER SHEPHERD') |\n",
        "                     (breed_df['Breed'] == 'SHIH TZU') |\n",
        "                     (breed_df['Breed'] == 'BEAGLE') |\n",
        "                     (breed_df['Breed'] == 'CHIHUAHUA') |\n",
        "                     (breed_df['Breed'] == 'AM PIT BULL TERRIER')|\n",
        "                     (breed_df['Breed'] == 'YORKSHIRE TERRIER')]\n",
        "df_top_ten.head()"
      ],
      "execution_count": 20,
      "outputs": [
        {
          "output_type": "execute_result",
          "data": {
            "text/html": [
              "<div>\n",
              "<style scoped>\n",
              "    .dataframe tbody tr th:only-of-type {\n",
              "        vertical-align: middle;\n",
              "    }\n",
              "\n",
              "    .dataframe tbody tr th {\n",
              "        vertical-align: top;\n",
              "    }\n",
              "\n",
              "    .dataframe thead th {\n",
              "        text-align: right;\n",
              "    }\n",
              "</style>\n",
              "<table border=\"1\" class=\"dataframe\">\n",
              "  <thead>\n",
              "    <tr style=\"text-align: right;\">\n",
              "      <th></th>\n",
              "      <th>Breed</th>\n",
              "    </tr>\n",
              "    <tr>\n",
              "      <th>ValidDate</th>\n",
              "      <th></th>\n",
              "    </tr>\n",
              "  </thead>\n",
              "  <tbody>\n",
              "    <tr>\n",
              "      <th>2014-12-02 09:45:25</th>\n",
              "      <td>GER SHEPHERD</td>\n",
              "    </tr>\n",
              "    <tr>\n",
              "      <th>2014-12-02 09:47:55</th>\n",
              "      <td>GER SHEPHERD</td>\n",
              "    </tr>\n",
              "    <tr>\n",
              "      <th>2014-12-02 10:02:33</th>\n",
              "      <td>LABRADOR RETRIEVER</td>\n",
              "    </tr>\n",
              "    <tr>\n",
              "      <th>2014-12-02 10:08:13</th>\n",
              "      <td>YORKSHIRE TERRIER</td>\n",
              "    </tr>\n",
              "    <tr>\n",
              "      <th>2014-12-02 10:15:30</th>\n",
              "      <td>YORKSHIRE TERRIER</td>\n",
              "    </tr>\n",
              "  </tbody>\n",
              "</table>\n",
              "</div>"
            ],
            "text/plain": [
              "                                  Breed\n",
              "ValidDate                              \n",
              "2014-12-02 09:45:25        GER SHEPHERD\n",
              "2014-12-02 09:47:55        GER SHEPHERD\n",
              "2014-12-02 10:02:33  LABRADOR RETRIEVER\n",
              "2014-12-02 10:08:13   YORKSHIRE TERRIER\n",
              "2014-12-02 10:15:30   YORKSHIRE TERRIER"
            ]
          },
          "metadata": {
            "tags": []
          },
          "execution_count": 20
        }
      ]
    },
    {
      "cell_type": "code",
      "metadata": {
        "id": "PBay18MVOSC-",
        "colab": {
          "base_uri": "https://localhost:8080/"
        },
        "outputId": "ca67e3aa-adf2-444f-ab32-41cd28052113"
      },
      "source": [
        "print(\"Breed df: \", len(breed_df))\n",
        "print(\"Top Ten df: \", len(df_top_ten))\n",
        "print(\"Difference: \", len(breed_df)-len(df_top_ten))"
      ],
      "execution_count": 21,
      "outputs": [
        {
          "output_type": "stream",
          "text": [
            "Breed df:  286724\n",
            "Top Ten df:  121417\n",
            "Difference:  165307\n"
          ],
          "name": "stdout"
        }
      ]
    },
    {
      "cell_type": "code",
      "metadata": {
        "id": "yPmesD9JOSC_",
        "colab": {
          "base_uri": "https://localhost:8080/",
          "height": 337
        },
        "outputId": "22f2be14-52f9-48f6-f616-130e4e0a2988"
      },
      "source": [
        "ten_dummies = pd.get_dummies(df_top_ten['Breed'])\n",
        "ten_dummies.head()"
      ],
      "execution_count": 22,
      "outputs": [
        {
          "output_type": "execute_result",
          "data": {
            "text/html": [
              "<div>\n",
              "<style scoped>\n",
              "    .dataframe tbody tr th:only-of-type {\n",
              "        vertical-align: middle;\n",
              "    }\n",
              "\n",
              "    .dataframe tbody tr th {\n",
              "        vertical-align: top;\n",
              "    }\n",
              "\n",
              "    .dataframe thead th {\n",
              "        text-align: right;\n",
              "    }\n",
              "</style>\n",
              "<table border=\"1\" class=\"dataframe\">\n",
              "  <thead>\n",
              "    <tr style=\"text-align: right;\">\n",
              "      <th></th>\n",
              "      <th>AM PIT BULL TERRIER</th>\n",
              "      <th>BEAGLE</th>\n",
              "      <th>CHIHUAHUA</th>\n",
              "      <th>GER SHEPHERD</th>\n",
              "      <th>GOLDEN RETRIEVER</th>\n",
              "      <th>LAB MIX</th>\n",
              "      <th>LABRADOR RETRIEVER</th>\n",
              "      <th>MIXED</th>\n",
              "      <th>SHIH TZU</th>\n",
              "      <th>YORKSHIRE TERRIER</th>\n",
              "    </tr>\n",
              "    <tr>\n",
              "      <th>ValidDate</th>\n",
              "      <th></th>\n",
              "      <th></th>\n",
              "      <th></th>\n",
              "      <th></th>\n",
              "      <th></th>\n",
              "      <th></th>\n",
              "      <th></th>\n",
              "      <th></th>\n",
              "      <th></th>\n",
              "      <th></th>\n",
              "    </tr>\n",
              "  </thead>\n",
              "  <tbody>\n",
              "    <tr>\n",
              "      <th>2014-12-02 09:45:25</th>\n",
              "      <td>0</td>\n",
              "      <td>0</td>\n",
              "      <td>0</td>\n",
              "      <td>1</td>\n",
              "      <td>0</td>\n",
              "      <td>0</td>\n",
              "      <td>0</td>\n",
              "      <td>0</td>\n",
              "      <td>0</td>\n",
              "      <td>0</td>\n",
              "    </tr>\n",
              "    <tr>\n",
              "      <th>2014-12-02 09:47:55</th>\n",
              "      <td>0</td>\n",
              "      <td>0</td>\n",
              "      <td>0</td>\n",
              "      <td>1</td>\n",
              "      <td>0</td>\n",
              "      <td>0</td>\n",
              "      <td>0</td>\n",
              "      <td>0</td>\n",
              "      <td>0</td>\n",
              "      <td>0</td>\n",
              "    </tr>\n",
              "    <tr>\n",
              "      <th>2014-12-02 10:02:33</th>\n",
              "      <td>0</td>\n",
              "      <td>0</td>\n",
              "      <td>0</td>\n",
              "      <td>0</td>\n",
              "      <td>0</td>\n",
              "      <td>0</td>\n",
              "      <td>1</td>\n",
              "      <td>0</td>\n",
              "      <td>0</td>\n",
              "      <td>0</td>\n",
              "    </tr>\n",
              "    <tr>\n",
              "      <th>2014-12-02 10:08:13</th>\n",
              "      <td>0</td>\n",
              "      <td>0</td>\n",
              "      <td>0</td>\n",
              "      <td>0</td>\n",
              "      <td>0</td>\n",
              "      <td>0</td>\n",
              "      <td>0</td>\n",
              "      <td>0</td>\n",
              "      <td>0</td>\n",
              "      <td>1</td>\n",
              "    </tr>\n",
              "    <tr>\n",
              "      <th>2014-12-02 10:15:30</th>\n",
              "      <td>0</td>\n",
              "      <td>0</td>\n",
              "      <td>0</td>\n",
              "      <td>0</td>\n",
              "      <td>0</td>\n",
              "      <td>0</td>\n",
              "      <td>0</td>\n",
              "      <td>0</td>\n",
              "      <td>0</td>\n",
              "      <td>1</td>\n",
              "    </tr>\n",
              "  </tbody>\n",
              "</table>\n",
              "</div>"
            ],
            "text/plain": [
              "                     AM PIT BULL TERRIER  BEAGLE  ...  SHIH TZU  YORKSHIRE TERRIER\n",
              "ValidDate                                         ...                             \n",
              "2014-12-02 09:45:25                    0       0  ...         0                  0\n",
              "2014-12-02 09:47:55                    0       0  ...         0                  0\n",
              "2014-12-02 10:02:33                    0       0  ...         0                  0\n",
              "2014-12-02 10:08:13                    0       0  ...         0                  1\n",
              "2014-12-02 10:15:30                    0       0  ...         0                  1\n",
              "\n",
              "[5 rows x 10 columns]"
            ]
          },
          "metadata": {
            "tags": []
          },
          "execution_count": 22
        }
      ]
    },
    {
      "cell_type": "code",
      "metadata": {
        "id": "-uPwquJqOSC_",
        "colab": {
          "base_uri": "https://localhost:8080/",
          "height": 233
        },
        "outputId": "4b43681d-ba81-4911-ae7f-ace495bb7c0b"
      },
      "source": [
        "breed = ten_dummies.resample('B').sum()\n",
        "breed.head()"
      ],
      "execution_count": 23,
      "outputs": [
        {
          "output_type": "execute_result",
          "data": {
            "text/html": [
              "<div>\n",
              "<style scoped>\n",
              "    .dataframe tbody tr th:only-of-type {\n",
              "        vertical-align: middle;\n",
              "    }\n",
              "\n",
              "    .dataframe tbody tr th {\n",
              "        vertical-align: top;\n",
              "    }\n",
              "\n",
              "    .dataframe thead th {\n",
              "        text-align: right;\n",
              "    }\n",
              "</style>\n",
              "<table border=\"1\" class=\"dataframe\">\n",
              "  <thead>\n",
              "    <tr style=\"text-align: right;\">\n",
              "      <th></th>\n",
              "      <th>AM PIT BULL TERRIER</th>\n",
              "      <th>BEAGLE</th>\n",
              "      <th>CHIHUAHUA</th>\n",
              "      <th>GER SHEPHERD</th>\n",
              "      <th>GOLDEN RETRIEVER</th>\n",
              "      <th>LAB MIX</th>\n",
              "      <th>LABRADOR RETRIEVER</th>\n",
              "      <th>MIXED</th>\n",
              "      <th>SHIH TZU</th>\n",
              "      <th>YORKSHIRE TERRIER</th>\n",
              "    </tr>\n",
              "    <tr>\n",
              "      <th>ValidDate</th>\n",
              "      <th></th>\n",
              "      <th></th>\n",
              "      <th></th>\n",
              "      <th></th>\n",
              "      <th></th>\n",
              "      <th></th>\n",
              "      <th></th>\n",
              "      <th></th>\n",
              "      <th></th>\n",
              "      <th></th>\n",
              "    </tr>\n",
              "  </thead>\n",
              "  <tbody>\n",
              "    <tr>\n",
              "      <th>2014-12-02</th>\n",
              "      <td>2.0</td>\n",
              "      <td>1.0</td>\n",
              "      <td>1.0</td>\n",
              "      <td>4.0</td>\n",
              "      <td>2.0</td>\n",
              "      <td>3.0</td>\n",
              "      <td>9.0</td>\n",
              "      <td>10.0</td>\n",
              "      <td>1.0</td>\n",
              "      <td>3.0</td>\n",
              "    </tr>\n",
              "    <tr>\n",
              "      <th>2014-12-03</th>\n",
              "      <td>6.0</td>\n",
              "      <td>8.0</td>\n",
              "      <td>2.0</td>\n",
              "      <td>3.0</td>\n",
              "      <td>8.0</td>\n",
              "      <td>17.0</td>\n",
              "      <td>12.0</td>\n",
              "      <td>40.0</td>\n",
              "      <td>2.0</td>\n",
              "      <td>3.0</td>\n",
              "    </tr>\n",
              "    <tr>\n",
              "      <th>2014-12-04</th>\n",
              "      <td>5.0</td>\n",
              "      <td>7.0</td>\n",
              "      <td>2.0</td>\n",
              "      <td>7.0</td>\n",
              "      <td>17.0</td>\n",
              "      <td>17.0</td>\n",
              "      <td>29.0</td>\n",
              "      <td>51.0</td>\n",
              "      <td>12.0</td>\n",
              "      <td>13.0</td>\n",
              "    </tr>\n",
              "    <tr>\n",
              "      <th>2014-12-05</th>\n",
              "      <td>4.0</td>\n",
              "      <td>2.0</td>\n",
              "      <td>5.0</td>\n",
              "      <td>2.0</td>\n",
              "      <td>9.0</td>\n",
              "      <td>10.0</td>\n",
              "      <td>10.0</td>\n",
              "      <td>21.0</td>\n",
              "      <td>5.0</td>\n",
              "      <td>3.0</td>\n",
              "    </tr>\n",
              "    <tr>\n",
              "      <th>2014-12-08</th>\n",
              "      <td>5.0</td>\n",
              "      <td>5.0</td>\n",
              "      <td>8.0</td>\n",
              "      <td>11.0</td>\n",
              "      <td>9.0</td>\n",
              "      <td>14.0</td>\n",
              "      <td>23.0</td>\n",
              "      <td>47.0</td>\n",
              "      <td>8.0</td>\n",
              "      <td>10.0</td>\n",
              "    </tr>\n",
              "  </tbody>\n",
              "</table>\n",
              "</div>"
            ],
            "text/plain": [
              "            AM PIT BULL TERRIER  BEAGLE  ...  SHIH TZU  YORKSHIRE TERRIER\n",
              "ValidDate                                ...                             \n",
              "2014-12-02                  2.0     1.0  ...       1.0                3.0\n",
              "2014-12-03                  6.0     8.0  ...       2.0                3.0\n",
              "2014-12-04                  5.0     7.0  ...      12.0               13.0\n",
              "2014-12-05                  4.0     2.0  ...       5.0                3.0\n",
              "2014-12-08                  5.0     5.0  ...       8.0               10.0\n",
              "\n",
              "[5 rows x 10 columns]"
            ]
          },
          "metadata": {
            "tags": []
          },
          "execution_count": 23
        }
      ]
    },
    {
      "cell_type": "code",
      "metadata": {
        "id": "6prIOkJbOSC_",
        "colab": {
          "base_uri": "https://localhost:8080/",
          "height": 337
        },
        "outputId": "b915b193-aebb-4cc3-a826-9f9497f252d6"
      },
      "source": [
        "breed['Total'] = breed.sum(axis = 1)\n",
        "breed.head()"
      ],
      "execution_count": 24,
      "outputs": [
        {
          "output_type": "execute_result",
          "data": {
            "text/html": [
              "<div>\n",
              "<style scoped>\n",
              "    .dataframe tbody tr th:only-of-type {\n",
              "        vertical-align: middle;\n",
              "    }\n",
              "\n",
              "    .dataframe tbody tr th {\n",
              "        vertical-align: top;\n",
              "    }\n",
              "\n",
              "    .dataframe thead th {\n",
              "        text-align: right;\n",
              "    }\n",
              "</style>\n",
              "<table border=\"1\" class=\"dataframe\">\n",
              "  <thead>\n",
              "    <tr style=\"text-align: right;\">\n",
              "      <th></th>\n",
              "      <th>AM PIT BULL TERRIER</th>\n",
              "      <th>BEAGLE</th>\n",
              "      <th>CHIHUAHUA</th>\n",
              "      <th>GER SHEPHERD</th>\n",
              "      <th>GOLDEN RETRIEVER</th>\n",
              "      <th>LAB MIX</th>\n",
              "      <th>LABRADOR RETRIEVER</th>\n",
              "      <th>MIXED</th>\n",
              "      <th>SHIH TZU</th>\n",
              "      <th>YORKSHIRE TERRIER</th>\n",
              "      <th>Total</th>\n",
              "    </tr>\n",
              "    <tr>\n",
              "      <th>ValidDate</th>\n",
              "      <th></th>\n",
              "      <th></th>\n",
              "      <th></th>\n",
              "      <th></th>\n",
              "      <th></th>\n",
              "      <th></th>\n",
              "      <th></th>\n",
              "      <th></th>\n",
              "      <th></th>\n",
              "      <th></th>\n",
              "      <th></th>\n",
              "    </tr>\n",
              "  </thead>\n",
              "  <tbody>\n",
              "    <tr>\n",
              "      <th>2014-12-02</th>\n",
              "      <td>2.0</td>\n",
              "      <td>1.0</td>\n",
              "      <td>1.0</td>\n",
              "      <td>4.0</td>\n",
              "      <td>2.0</td>\n",
              "      <td>3.0</td>\n",
              "      <td>9.0</td>\n",
              "      <td>10.0</td>\n",
              "      <td>1.0</td>\n",
              "      <td>3.0</td>\n",
              "      <td>36.0</td>\n",
              "    </tr>\n",
              "    <tr>\n",
              "      <th>2014-12-03</th>\n",
              "      <td>6.0</td>\n",
              "      <td>8.0</td>\n",
              "      <td>2.0</td>\n",
              "      <td>3.0</td>\n",
              "      <td>8.0</td>\n",
              "      <td>17.0</td>\n",
              "      <td>12.0</td>\n",
              "      <td>40.0</td>\n",
              "      <td>2.0</td>\n",
              "      <td>3.0</td>\n",
              "      <td>101.0</td>\n",
              "    </tr>\n",
              "    <tr>\n",
              "      <th>2014-12-04</th>\n",
              "      <td>5.0</td>\n",
              "      <td>7.0</td>\n",
              "      <td>2.0</td>\n",
              "      <td>7.0</td>\n",
              "      <td>17.0</td>\n",
              "      <td>17.0</td>\n",
              "      <td>29.0</td>\n",
              "      <td>51.0</td>\n",
              "      <td>12.0</td>\n",
              "      <td>13.0</td>\n",
              "      <td>160.0</td>\n",
              "    </tr>\n",
              "    <tr>\n",
              "      <th>2014-12-05</th>\n",
              "      <td>4.0</td>\n",
              "      <td>2.0</td>\n",
              "      <td>5.0</td>\n",
              "      <td>2.0</td>\n",
              "      <td>9.0</td>\n",
              "      <td>10.0</td>\n",
              "      <td>10.0</td>\n",
              "      <td>21.0</td>\n",
              "      <td>5.0</td>\n",
              "      <td>3.0</td>\n",
              "      <td>71.0</td>\n",
              "    </tr>\n",
              "    <tr>\n",
              "      <th>2014-12-08</th>\n",
              "      <td>5.0</td>\n",
              "      <td>5.0</td>\n",
              "      <td>8.0</td>\n",
              "      <td>11.0</td>\n",
              "      <td>9.0</td>\n",
              "      <td>14.0</td>\n",
              "      <td>23.0</td>\n",
              "      <td>47.0</td>\n",
              "      <td>8.0</td>\n",
              "      <td>10.0</td>\n",
              "      <td>140.0</td>\n",
              "    </tr>\n",
              "  </tbody>\n",
              "</table>\n",
              "</div>"
            ],
            "text/plain": [
              "            AM PIT BULL TERRIER  BEAGLE  ...  YORKSHIRE TERRIER  Total\n",
              "ValidDate                                ...                          \n",
              "2014-12-02                  2.0     1.0  ...                3.0   36.0\n",
              "2014-12-03                  6.0     8.0  ...                3.0  101.0\n",
              "2014-12-04                  5.0     7.0  ...               13.0  160.0\n",
              "2014-12-05                  4.0     2.0  ...                3.0   71.0\n",
              "2014-12-08                  5.0     5.0  ...               10.0  140.0\n",
              "\n",
              "[5 rows x 11 columns]"
            ]
          },
          "metadata": {
            "tags": []
          },
          "execution_count": 24
        }
      ]
    },
    {
      "cell_type": "code",
      "metadata": {
        "id": "JNmLyX_XOSC_"
      },
      "source": [
        "breed.to_csv('breed_daily_totals.csv')"
      ],
      "execution_count": 25,
      "outputs": []
    },
    {
      "cell_type": "code",
      "metadata": {
        "id": "Och2W0XnOSDA"
      },
      "source": [
        "#next I would like to get a pretty visualization of this- a colorful line chart"
      ],
      "execution_count": 26,
      "outputs": []
    },
    {
      "cell_type": "code",
      "metadata": {
        "id": "LghVw0byOSDA"
      },
      "source": [
        "#run model on just top 10, determine the importance of dog breed in prediction\n",
        "#if it's highly correlated, consider 'other' column, or even 340 dummies? "
      ],
      "execution_count": 27,
      "outputs": []
    },
    {
      "cell_type": "markdown",
      "metadata": {
        "id": "D7wfLrl1OSDA"
      },
      "source": [
        "## Scaling Data"
      ]
    },
    {
      "cell_type": "code",
      "metadata": {
        "id": "7x6GxDRAOSDA"
      },
      "source": [
        "scaler = MinMaxScaler()\n",
        "scaled_df = scaler.fit_transform(breed.values)"
      ],
      "execution_count": 28,
      "outputs": []
    },
    {
      "cell_type": "markdown",
      "metadata": {
        "id": "5NAj_ZpjOSDB"
      },
      "source": [
        "series_to_supervise function courtesy of Jason Brownlee with Machine Learning Mastery"
      ]
    },
    {
      "cell_type": "code",
      "metadata": {
        "id": "NT8MSqu4OSDB"
      },
      "source": [
        "def series_to_supervise(data, n_in = 1, n_out = 1, dropnan = True):\n",
        "    n_vars = 1 if type(data) is list else data.shape[1]\n",
        "    df = pd.DataFrame(data)\n",
        "    cols, names = list(), list()\n",
        "\n",
        "    for i in range(n_in, 0, -1):\n",
        "        cols.append(df.shift(i))\n",
        "        names += [('var%d(t-%d)' % (j+1, i)) for j in range(n_vars)]\n",
        "    for i in range(0, n_out):\n",
        "        cols.append(df.shift(-i))\n",
        "        if i == 0:\n",
        "            names += [('var%d' % (j+1)) for j in range(n_vars)]\n",
        "        else: \n",
        "            names += [('var%d(t-%d)' % (j+1, i)) for j in range(n_vars)]\n",
        "    agg = pd.concat(cols, axis = 1)\n",
        "    agg.columns = names\n",
        "    if dropnan:\n",
        "        agg.dropna(inplace = True)\n",
        "    return agg"
      ],
      "execution_count": 29,
      "outputs": []
    },
    {
      "cell_type": "code",
      "metadata": {
        "id": "14fbcYJsOSDB",
        "colab": {
          "base_uri": "https://localhost:8080/",
          "height": 239
        },
        "outputId": "0fc0265f-c661-4af4-f885-03fb09f732b9"
      },
      "source": [
        "#start with lag of 1\n",
        "lstm_df = series_to_supervise(scaled_df)\n",
        "lstm_df.head()"
      ],
      "execution_count": 30,
      "outputs": [
        {
          "output_type": "execute_result",
          "data": {
            "text/html": [
              "<div>\n",
              "<style scoped>\n",
              "    .dataframe tbody tr th:only-of-type {\n",
              "        vertical-align: middle;\n",
              "    }\n",
              "\n",
              "    .dataframe tbody tr th {\n",
              "        vertical-align: top;\n",
              "    }\n",
              "\n",
              "    .dataframe thead th {\n",
              "        text-align: right;\n",
              "    }\n",
              "</style>\n",
              "<table border=\"1\" class=\"dataframe\">\n",
              "  <thead>\n",
              "    <tr style=\"text-align: right;\">\n",
              "      <th></th>\n",
              "      <th>var1(t-1)</th>\n",
              "      <th>var2(t-1)</th>\n",
              "      <th>var3(t-1)</th>\n",
              "      <th>var4(t-1)</th>\n",
              "      <th>var5(t-1)</th>\n",
              "      <th>var6(t-1)</th>\n",
              "      <th>var7(t-1)</th>\n",
              "      <th>var8(t-1)</th>\n",
              "      <th>var9(t-1)</th>\n",
              "      <th>var10(t-1)</th>\n",
              "      <th>var11(t-1)</th>\n",
              "      <th>var1</th>\n",
              "      <th>var2</th>\n",
              "      <th>var3</th>\n",
              "      <th>var4</th>\n",
              "      <th>var5</th>\n",
              "      <th>var6</th>\n",
              "      <th>var7</th>\n",
              "      <th>var8</th>\n",
              "      <th>var9</th>\n",
              "      <th>var10</th>\n",
              "      <th>var11</th>\n",
              "    </tr>\n",
              "  </thead>\n",
              "  <tbody>\n",
              "    <tr>\n",
              "      <th>1</th>\n",
              "      <td>0.018018</td>\n",
              "      <td>0.004831</td>\n",
              "      <td>0.007194</td>\n",
              "      <td>0.023256</td>\n",
              "      <td>0.008475</td>\n",
              "      <td>0.007812</td>\n",
              "      <td>0.020045</td>\n",
              "      <td>0.012690</td>\n",
              "      <td>0.005128</td>\n",
              "      <td>0.019737</td>\n",
              "      <td>0.013025</td>\n",
              "      <td>0.054054</td>\n",
              "      <td>0.038647</td>\n",
              "      <td>0.014388</td>\n",
              "      <td>0.017442</td>\n",
              "      <td>0.033898</td>\n",
              "      <td>0.044271</td>\n",
              "      <td>0.026726</td>\n",
              "      <td>0.050761</td>\n",
              "      <td>0.010256</td>\n",
              "      <td>0.019737</td>\n",
              "      <td>0.036541</td>\n",
              "    </tr>\n",
              "    <tr>\n",
              "      <th>2</th>\n",
              "      <td>0.054054</td>\n",
              "      <td>0.038647</td>\n",
              "      <td>0.014388</td>\n",
              "      <td>0.017442</td>\n",
              "      <td>0.033898</td>\n",
              "      <td>0.044271</td>\n",
              "      <td>0.026726</td>\n",
              "      <td>0.050761</td>\n",
              "      <td>0.010256</td>\n",
              "      <td>0.019737</td>\n",
              "      <td>0.036541</td>\n",
              "      <td>0.045045</td>\n",
              "      <td>0.033816</td>\n",
              "      <td>0.014388</td>\n",
              "      <td>0.040698</td>\n",
              "      <td>0.072034</td>\n",
              "      <td>0.044271</td>\n",
              "      <td>0.064588</td>\n",
              "      <td>0.064721</td>\n",
              "      <td>0.061538</td>\n",
              "      <td>0.085526</td>\n",
              "      <td>0.057887</td>\n",
              "    </tr>\n",
              "    <tr>\n",
              "      <th>3</th>\n",
              "      <td>0.045045</td>\n",
              "      <td>0.033816</td>\n",
              "      <td>0.014388</td>\n",
              "      <td>0.040698</td>\n",
              "      <td>0.072034</td>\n",
              "      <td>0.044271</td>\n",
              "      <td>0.064588</td>\n",
              "      <td>0.064721</td>\n",
              "      <td>0.061538</td>\n",
              "      <td>0.085526</td>\n",
              "      <td>0.057887</td>\n",
              "      <td>0.036036</td>\n",
              "      <td>0.009662</td>\n",
              "      <td>0.035971</td>\n",
              "      <td>0.011628</td>\n",
              "      <td>0.038136</td>\n",
              "      <td>0.026042</td>\n",
              "      <td>0.022272</td>\n",
              "      <td>0.026650</td>\n",
              "      <td>0.025641</td>\n",
              "      <td>0.019737</td>\n",
              "      <td>0.025687</td>\n",
              "    </tr>\n",
              "    <tr>\n",
              "      <th>4</th>\n",
              "      <td>0.036036</td>\n",
              "      <td>0.009662</td>\n",
              "      <td>0.035971</td>\n",
              "      <td>0.011628</td>\n",
              "      <td>0.038136</td>\n",
              "      <td>0.026042</td>\n",
              "      <td>0.022272</td>\n",
              "      <td>0.026650</td>\n",
              "      <td>0.025641</td>\n",
              "      <td>0.019737</td>\n",
              "      <td>0.025687</td>\n",
              "      <td>0.045045</td>\n",
              "      <td>0.024155</td>\n",
              "      <td>0.057554</td>\n",
              "      <td>0.063953</td>\n",
              "      <td>0.038136</td>\n",
              "      <td>0.036458</td>\n",
              "      <td>0.051225</td>\n",
              "      <td>0.059645</td>\n",
              "      <td>0.041026</td>\n",
              "      <td>0.065789</td>\n",
              "      <td>0.050651</td>\n",
              "    </tr>\n",
              "    <tr>\n",
              "      <th>5</th>\n",
              "      <td>0.045045</td>\n",
              "      <td>0.024155</td>\n",
              "      <td>0.057554</td>\n",
              "      <td>0.063953</td>\n",
              "      <td>0.038136</td>\n",
              "      <td>0.036458</td>\n",
              "      <td>0.051225</td>\n",
              "      <td>0.059645</td>\n",
              "      <td>0.041026</td>\n",
              "      <td>0.065789</td>\n",
              "      <td>0.050651</td>\n",
              "      <td>0.054054</td>\n",
              "      <td>0.028986</td>\n",
              "      <td>0.014388</td>\n",
              "      <td>0.040698</td>\n",
              "      <td>0.029661</td>\n",
              "      <td>0.010417</td>\n",
              "      <td>0.026726</td>\n",
              "      <td>0.020305</td>\n",
              "      <td>0.015385</td>\n",
              "      <td>0.013158</td>\n",
              "      <td>0.023517</td>\n",
              "    </tr>\n",
              "  </tbody>\n",
              "</table>\n",
              "</div>"
            ],
            "text/plain": [
              "   var1(t-1)  var2(t-1)  var3(t-1)  ...      var9     var10     var11\n",
              "1   0.018018   0.004831   0.007194  ...  0.010256  0.019737  0.036541\n",
              "2   0.054054   0.038647   0.014388  ...  0.061538  0.085526  0.057887\n",
              "3   0.045045   0.033816   0.014388  ...  0.025641  0.019737  0.025687\n",
              "4   0.036036   0.009662   0.035971  ...  0.041026  0.065789  0.050651\n",
              "5   0.045045   0.024155   0.057554  ...  0.015385  0.013158  0.023517\n",
              "\n",
              "[5 rows x 22 columns]"
            ]
          },
          "metadata": {
            "tags": []
          },
          "execution_count": 30
        }
      ]
    },
    {
      "cell_type": "code",
      "metadata": {
        "id": "K5BdEgkdOSDB",
        "colab": {
          "base_uri": "https://localhost:8080/"
        },
        "outputId": "f71ae578-e375-468b-b7b5-0cb3097d8faa"
      },
      "source": [
        "lstm_df.columns"
      ],
      "execution_count": 31,
      "outputs": [
        {
          "output_type": "execute_result",
          "data": {
            "text/plain": [
              "Index(['var1(t-1)', 'var2(t-1)', 'var3(t-1)', 'var4(t-1)', 'var5(t-1)',\n",
              "       'var6(t-1)', 'var7(t-1)', 'var8(t-1)', 'var9(t-1)', 'var10(t-1)',\n",
              "       'var11(t-1)', 'var1', 'var2', 'var3', 'var4', 'var5', 'var6', 'var7',\n",
              "       'var8', 'var9', 'var10', 'var11'],\n",
              "      dtype='object')"
            ]
          },
          "metadata": {
            "tags": []
          },
          "execution_count": 31
        }
      ]
    },
    {
      "cell_type": "code",
      "metadata": {
        "id": "UAk3YO5hOSDB",
        "colab": {
          "base_uri": "https://localhost:8080/"
        },
        "outputId": "54e64bac-4586-4326-e620-0f2c50d22a73"
      },
      "source": [
        "lstm_df.drop(lstm_df.columns[[11, 12, 13, 14, 15, 16, 17, 18, 19, 20]], axis = 1, inplace = True)\n",
        "lstm_df.columns"
      ],
      "execution_count": 32,
      "outputs": [
        {
          "output_type": "execute_result",
          "data": {
            "text/plain": [
              "Index(['var1(t-1)', 'var2(t-1)', 'var3(t-1)', 'var4(t-1)', 'var5(t-1)',\n",
              "       'var6(t-1)', 'var7(t-1)', 'var8(t-1)', 'var9(t-1)', 'var10(t-1)',\n",
              "       'var11(t-1)', 'var11'],\n",
              "      dtype='object')"
            ]
          },
          "metadata": {
            "tags": []
          },
          "execution_count": 32
        }
      ]
    },
    {
      "cell_type": "code",
      "metadata": {
        "id": "ow13znQLOSDC"
      },
      "source": [
        "#train_test_split\n",
        "X = lstm_df[lstm_df.columns[:10]].values\n",
        "y = lstm_df['var11'].values"
      ],
      "execution_count": 33,
      "outputs": []
    },
    {
      "cell_type": "code",
      "metadata": {
        "id": "7UWc5BqnOSDC"
      },
      "source": [
        "X_train, X_test, y_train, y_test = train_test_split(X, y, test_size = 0.3, random_state = 42)"
      ],
      "execution_count": 34,
      "outputs": []
    },
    {
      "cell_type": "code",
      "metadata": {
        "id": "EyKcbfRAOSDC",
        "colab": {
          "base_uri": "https://localhost:8080/"
        },
        "outputId": "e7f7e0a1-6629-40f8-b376-9544cd2c6b79"
      },
      "source": [
        "print(\"X_train: \",X_train.shape)\n",
        "print(\"X_test: \", X_test.shape)\n",
        "print(\"Y_train: \", y_train.shape)\n",
        "print(\"y_test: \", y_test.shape)"
      ],
      "execution_count": 35,
      "outputs": [
        {
          "output_type": "stream",
          "text": [
            "X_train:  (727, 10)\n",
            "X_test:  (312, 10)\n",
            "Y_train:  (727,)\n",
            "y_test:  (312,)\n"
          ],
          "name": "stdout"
        }
      ]
    },
    {
      "cell_type": "code",
      "metadata": {
        "id": "6oQ49_D9OSDC",
        "colab": {
          "base_uri": "https://localhost:8080/"
        },
        "outputId": "0067a77e-7ec4-413b-f308-452b30191c7d"
      },
      "source": [
        "#Reshape into a 3D that LSTM expects\n",
        "X_train = X_train.reshape((X_train.shape[0], 1, X_train.shape[1]))\n",
        "X_test = X_test.reshape((X_test.shape[0], 1, X_test.shape[1]))\n",
        "print(X_train.shape)\n",
        "print(X_test.shape)"
      ],
      "execution_count": 36,
      "outputs": [
        {
          "output_type": "stream",
          "text": [
            "(727, 1, 10)\n",
            "(312, 1, 10)\n"
          ],
          "name": "stdout"
        }
      ]
    },
    {
      "cell_type": "code",
      "metadata": {
        "id": "gqL0MkYSpJ4L"
      },
      "source": [
        "np.save(\"drive/MyDrive/X_train\", X_train)\r\n",
        "np.save(\"drive/MyDrive/X_test\", X_test)"
      ],
      "execution_count": 57,
      "outputs": []
    },
    {
      "cell_type": "code",
      "metadata": {
        "id": "aFbO0eMRrf8t"
      },
      "source": [
        "np.save(\"drive/MyDrive/y_train\", y_train)\r\n",
        "np.save(\"drive/MyDrive/y_test\", y_test)"
      ],
      "execution_count": 91,
      "outputs": []
    },
    {
      "cell_type": "code",
      "metadata": {
        "id": "k3UK_PMtOSDD"
      },
      "source": [
        "#Because I have already done the work of optimizing the sum for LSTM, I'll use the optimal model from the univariate\n",
        "#I can always go back and tune further\n",
        "#This does mean I will have to adjust the data to 5 lags"
      ],
      "execution_count": 37,
      "outputs": []
    },
    {
      "cell_type": "code",
      "metadata": {
        "id": "KiLqK2HBOSDD",
        "colab": {
          "base_uri": "https://localhost:8080/",
          "height": 239
        },
        "outputId": "a585ec24-2b9c-4e20-896e-b5e69f456643"
      },
      "source": [
        "lag_5 = series_to_supervise(scaled_df, 5, 1)\n",
        "lag_5.head()"
      ],
      "execution_count": 38,
      "outputs": [
        {
          "output_type": "execute_result",
          "data": {
            "text/html": [
              "<div>\n",
              "<style scoped>\n",
              "    .dataframe tbody tr th:only-of-type {\n",
              "        vertical-align: middle;\n",
              "    }\n",
              "\n",
              "    .dataframe tbody tr th {\n",
              "        vertical-align: top;\n",
              "    }\n",
              "\n",
              "    .dataframe thead th {\n",
              "        text-align: right;\n",
              "    }\n",
              "</style>\n",
              "<table border=\"1\" class=\"dataframe\">\n",
              "  <thead>\n",
              "    <tr style=\"text-align: right;\">\n",
              "      <th></th>\n",
              "      <th>var1(t-5)</th>\n",
              "      <th>var2(t-5)</th>\n",
              "      <th>var3(t-5)</th>\n",
              "      <th>var4(t-5)</th>\n",
              "      <th>var5(t-5)</th>\n",
              "      <th>var6(t-5)</th>\n",
              "      <th>var7(t-5)</th>\n",
              "      <th>var8(t-5)</th>\n",
              "      <th>var9(t-5)</th>\n",
              "      <th>var10(t-5)</th>\n",
              "      <th>var11(t-5)</th>\n",
              "      <th>var1(t-4)</th>\n",
              "      <th>var2(t-4)</th>\n",
              "      <th>var3(t-4)</th>\n",
              "      <th>var4(t-4)</th>\n",
              "      <th>var5(t-4)</th>\n",
              "      <th>var6(t-4)</th>\n",
              "      <th>var7(t-4)</th>\n",
              "      <th>var8(t-4)</th>\n",
              "      <th>var9(t-4)</th>\n",
              "      <th>var10(t-4)</th>\n",
              "      <th>var11(t-4)</th>\n",
              "      <th>var1(t-3)</th>\n",
              "      <th>var2(t-3)</th>\n",
              "      <th>var3(t-3)</th>\n",
              "      <th>var4(t-3)</th>\n",
              "      <th>var5(t-3)</th>\n",
              "      <th>var6(t-3)</th>\n",
              "      <th>var7(t-3)</th>\n",
              "      <th>var8(t-3)</th>\n",
              "      <th>var9(t-3)</th>\n",
              "      <th>var10(t-3)</th>\n",
              "      <th>var11(t-3)</th>\n",
              "      <th>var1(t-2)</th>\n",
              "      <th>var2(t-2)</th>\n",
              "      <th>var3(t-2)</th>\n",
              "      <th>var4(t-2)</th>\n",
              "      <th>var5(t-2)</th>\n",
              "      <th>var6(t-2)</th>\n",
              "      <th>var7(t-2)</th>\n",
              "      <th>var8(t-2)</th>\n",
              "      <th>var9(t-2)</th>\n",
              "      <th>var10(t-2)</th>\n",
              "      <th>var11(t-2)</th>\n",
              "      <th>var1(t-1)</th>\n",
              "      <th>var2(t-1)</th>\n",
              "      <th>var3(t-1)</th>\n",
              "      <th>var4(t-1)</th>\n",
              "      <th>var5(t-1)</th>\n",
              "      <th>var6(t-1)</th>\n",
              "      <th>var7(t-1)</th>\n",
              "      <th>var8(t-1)</th>\n",
              "      <th>var9(t-1)</th>\n",
              "      <th>var10(t-1)</th>\n",
              "      <th>var11(t-1)</th>\n",
              "      <th>var1</th>\n",
              "      <th>var2</th>\n",
              "      <th>var3</th>\n",
              "      <th>var4</th>\n",
              "      <th>var5</th>\n",
              "      <th>var6</th>\n",
              "      <th>var7</th>\n",
              "      <th>var8</th>\n",
              "      <th>var9</th>\n",
              "      <th>var10</th>\n",
              "      <th>var11</th>\n",
              "    </tr>\n",
              "  </thead>\n",
              "  <tbody>\n",
              "    <tr>\n",
              "      <th>5</th>\n",
              "      <td>0.018018</td>\n",
              "      <td>0.004831</td>\n",
              "      <td>0.007194</td>\n",
              "      <td>0.023256</td>\n",
              "      <td>0.008475</td>\n",
              "      <td>0.007812</td>\n",
              "      <td>0.020045</td>\n",
              "      <td>0.012690</td>\n",
              "      <td>0.005128</td>\n",
              "      <td>0.019737</td>\n",
              "      <td>0.013025</td>\n",
              "      <td>0.054054</td>\n",
              "      <td>0.038647</td>\n",
              "      <td>0.014388</td>\n",
              "      <td>0.017442</td>\n",
              "      <td>0.033898</td>\n",
              "      <td>0.044271</td>\n",
              "      <td>0.026726</td>\n",
              "      <td>0.050761</td>\n",
              "      <td>0.010256</td>\n",
              "      <td>0.019737</td>\n",
              "      <td>0.036541</td>\n",
              "      <td>0.045045</td>\n",
              "      <td>0.033816</td>\n",
              "      <td>0.014388</td>\n",
              "      <td>0.040698</td>\n",
              "      <td>0.072034</td>\n",
              "      <td>0.044271</td>\n",
              "      <td>0.064588</td>\n",
              "      <td>0.064721</td>\n",
              "      <td>0.061538</td>\n",
              "      <td>0.085526</td>\n",
              "      <td>0.057887</td>\n",
              "      <td>0.036036</td>\n",
              "      <td>0.009662</td>\n",
              "      <td>0.035971</td>\n",
              "      <td>0.011628</td>\n",
              "      <td>0.038136</td>\n",
              "      <td>0.026042</td>\n",
              "      <td>0.022272</td>\n",
              "      <td>0.026650</td>\n",
              "      <td>0.025641</td>\n",
              "      <td>0.019737</td>\n",
              "      <td>0.025687</td>\n",
              "      <td>0.045045</td>\n",
              "      <td>0.024155</td>\n",
              "      <td>0.057554</td>\n",
              "      <td>0.063953</td>\n",
              "      <td>0.038136</td>\n",
              "      <td>0.036458</td>\n",
              "      <td>0.051225</td>\n",
              "      <td>0.059645</td>\n",
              "      <td>0.041026</td>\n",
              "      <td>0.065789</td>\n",
              "      <td>0.050651</td>\n",
              "      <td>0.054054</td>\n",
              "      <td>0.028986</td>\n",
              "      <td>0.014388</td>\n",
              "      <td>0.040698</td>\n",
              "      <td>0.029661</td>\n",
              "      <td>0.010417</td>\n",
              "      <td>0.026726</td>\n",
              "      <td>0.020305</td>\n",
              "      <td>0.015385</td>\n",
              "      <td>0.013158</td>\n",
              "      <td>0.023517</td>\n",
              "    </tr>\n",
              "    <tr>\n",
              "      <th>6</th>\n",
              "      <td>0.054054</td>\n",
              "      <td>0.038647</td>\n",
              "      <td>0.014388</td>\n",
              "      <td>0.017442</td>\n",
              "      <td>0.033898</td>\n",
              "      <td>0.044271</td>\n",
              "      <td>0.026726</td>\n",
              "      <td>0.050761</td>\n",
              "      <td>0.010256</td>\n",
              "      <td>0.019737</td>\n",
              "      <td>0.036541</td>\n",
              "      <td>0.045045</td>\n",
              "      <td>0.033816</td>\n",
              "      <td>0.014388</td>\n",
              "      <td>0.040698</td>\n",
              "      <td>0.072034</td>\n",
              "      <td>0.044271</td>\n",
              "      <td>0.064588</td>\n",
              "      <td>0.064721</td>\n",
              "      <td>0.061538</td>\n",
              "      <td>0.085526</td>\n",
              "      <td>0.057887</td>\n",
              "      <td>0.036036</td>\n",
              "      <td>0.009662</td>\n",
              "      <td>0.035971</td>\n",
              "      <td>0.011628</td>\n",
              "      <td>0.038136</td>\n",
              "      <td>0.026042</td>\n",
              "      <td>0.022272</td>\n",
              "      <td>0.026650</td>\n",
              "      <td>0.025641</td>\n",
              "      <td>0.019737</td>\n",
              "      <td>0.025687</td>\n",
              "      <td>0.045045</td>\n",
              "      <td>0.024155</td>\n",
              "      <td>0.057554</td>\n",
              "      <td>0.063953</td>\n",
              "      <td>0.038136</td>\n",
              "      <td>0.036458</td>\n",
              "      <td>0.051225</td>\n",
              "      <td>0.059645</td>\n",
              "      <td>0.041026</td>\n",
              "      <td>0.065789</td>\n",
              "      <td>0.050651</td>\n",
              "      <td>0.054054</td>\n",
              "      <td>0.028986</td>\n",
              "      <td>0.014388</td>\n",
              "      <td>0.040698</td>\n",
              "      <td>0.029661</td>\n",
              "      <td>0.010417</td>\n",
              "      <td>0.026726</td>\n",
              "      <td>0.020305</td>\n",
              "      <td>0.015385</td>\n",
              "      <td>0.013158</td>\n",
              "      <td>0.023517</td>\n",
              "      <td>0.036036</td>\n",
              "      <td>0.009662</td>\n",
              "      <td>0.007194</td>\n",
              "      <td>0.005814</td>\n",
              "      <td>0.012712</td>\n",
              "      <td>0.013021</td>\n",
              "      <td>0.013363</td>\n",
              "      <td>0.013959</td>\n",
              "      <td>0.010256</td>\n",
              "      <td>0.013158</td>\n",
              "      <td>0.013386</td>\n",
              "    </tr>\n",
              "    <tr>\n",
              "      <th>7</th>\n",
              "      <td>0.045045</td>\n",
              "      <td>0.033816</td>\n",
              "      <td>0.014388</td>\n",
              "      <td>0.040698</td>\n",
              "      <td>0.072034</td>\n",
              "      <td>0.044271</td>\n",
              "      <td>0.064588</td>\n",
              "      <td>0.064721</td>\n",
              "      <td>0.061538</td>\n",
              "      <td>0.085526</td>\n",
              "      <td>0.057887</td>\n",
              "      <td>0.036036</td>\n",
              "      <td>0.009662</td>\n",
              "      <td>0.035971</td>\n",
              "      <td>0.011628</td>\n",
              "      <td>0.038136</td>\n",
              "      <td>0.026042</td>\n",
              "      <td>0.022272</td>\n",
              "      <td>0.026650</td>\n",
              "      <td>0.025641</td>\n",
              "      <td>0.019737</td>\n",
              "      <td>0.025687</td>\n",
              "      <td>0.045045</td>\n",
              "      <td>0.024155</td>\n",
              "      <td>0.057554</td>\n",
              "      <td>0.063953</td>\n",
              "      <td>0.038136</td>\n",
              "      <td>0.036458</td>\n",
              "      <td>0.051225</td>\n",
              "      <td>0.059645</td>\n",
              "      <td>0.041026</td>\n",
              "      <td>0.065789</td>\n",
              "      <td>0.050651</td>\n",
              "      <td>0.054054</td>\n",
              "      <td>0.028986</td>\n",
              "      <td>0.014388</td>\n",
              "      <td>0.040698</td>\n",
              "      <td>0.029661</td>\n",
              "      <td>0.010417</td>\n",
              "      <td>0.026726</td>\n",
              "      <td>0.020305</td>\n",
              "      <td>0.015385</td>\n",
              "      <td>0.013158</td>\n",
              "      <td>0.023517</td>\n",
              "      <td>0.036036</td>\n",
              "      <td>0.009662</td>\n",
              "      <td>0.007194</td>\n",
              "      <td>0.005814</td>\n",
              "      <td>0.012712</td>\n",
              "      <td>0.013021</td>\n",
              "      <td>0.013363</td>\n",
              "      <td>0.013959</td>\n",
              "      <td>0.010256</td>\n",
              "      <td>0.013158</td>\n",
              "      <td>0.013386</td>\n",
              "      <td>0.054054</td>\n",
              "      <td>0.000000</td>\n",
              "      <td>0.000000</td>\n",
              "      <td>0.023256</td>\n",
              "      <td>0.029661</td>\n",
              "      <td>0.020833</td>\n",
              "      <td>0.020045</td>\n",
              "      <td>0.013959</td>\n",
              "      <td>0.020513</td>\n",
              "      <td>0.006579</td>\n",
              "      <td>0.018090</td>\n",
              "    </tr>\n",
              "    <tr>\n",
              "      <th>8</th>\n",
              "      <td>0.036036</td>\n",
              "      <td>0.009662</td>\n",
              "      <td>0.035971</td>\n",
              "      <td>0.011628</td>\n",
              "      <td>0.038136</td>\n",
              "      <td>0.026042</td>\n",
              "      <td>0.022272</td>\n",
              "      <td>0.026650</td>\n",
              "      <td>0.025641</td>\n",
              "      <td>0.019737</td>\n",
              "      <td>0.025687</td>\n",
              "      <td>0.045045</td>\n",
              "      <td>0.024155</td>\n",
              "      <td>0.057554</td>\n",
              "      <td>0.063953</td>\n",
              "      <td>0.038136</td>\n",
              "      <td>0.036458</td>\n",
              "      <td>0.051225</td>\n",
              "      <td>0.059645</td>\n",
              "      <td>0.041026</td>\n",
              "      <td>0.065789</td>\n",
              "      <td>0.050651</td>\n",
              "      <td>0.054054</td>\n",
              "      <td>0.028986</td>\n",
              "      <td>0.014388</td>\n",
              "      <td>0.040698</td>\n",
              "      <td>0.029661</td>\n",
              "      <td>0.010417</td>\n",
              "      <td>0.026726</td>\n",
              "      <td>0.020305</td>\n",
              "      <td>0.015385</td>\n",
              "      <td>0.013158</td>\n",
              "      <td>0.023517</td>\n",
              "      <td>0.036036</td>\n",
              "      <td>0.009662</td>\n",
              "      <td>0.007194</td>\n",
              "      <td>0.005814</td>\n",
              "      <td>0.012712</td>\n",
              "      <td>0.013021</td>\n",
              "      <td>0.013363</td>\n",
              "      <td>0.013959</td>\n",
              "      <td>0.010256</td>\n",
              "      <td>0.013158</td>\n",
              "      <td>0.013386</td>\n",
              "      <td>0.054054</td>\n",
              "      <td>0.000000</td>\n",
              "      <td>0.000000</td>\n",
              "      <td>0.023256</td>\n",
              "      <td>0.029661</td>\n",
              "      <td>0.020833</td>\n",
              "      <td>0.020045</td>\n",
              "      <td>0.013959</td>\n",
              "      <td>0.020513</td>\n",
              "      <td>0.006579</td>\n",
              "      <td>0.018090</td>\n",
              "      <td>0.045045</td>\n",
              "      <td>0.009662</td>\n",
              "      <td>0.021583</td>\n",
              "      <td>0.023256</td>\n",
              "      <td>0.012712</td>\n",
              "      <td>0.015625</td>\n",
              "      <td>0.011136</td>\n",
              "      <td>0.011421</td>\n",
              "      <td>0.010256</td>\n",
              "      <td>0.013158</td>\n",
              "      <td>0.014834</td>\n",
              "    </tr>\n",
              "    <tr>\n",
              "      <th>9</th>\n",
              "      <td>0.045045</td>\n",
              "      <td>0.024155</td>\n",
              "      <td>0.057554</td>\n",
              "      <td>0.063953</td>\n",
              "      <td>0.038136</td>\n",
              "      <td>0.036458</td>\n",
              "      <td>0.051225</td>\n",
              "      <td>0.059645</td>\n",
              "      <td>0.041026</td>\n",
              "      <td>0.065789</td>\n",
              "      <td>0.050651</td>\n",
              "      <td>0.054054</td>\n",
              "      <td>0.028986</td>\n",
              "      <td>0.014388</td>\n",
              "      <td>0.040698</td>\n",
              "      <td>0.029661</td>\n",
              "      <td>0.010417</td>\n",
              "      <td>0.026726</td>\n",
              "      <td>0.020305</td>\n",
              "      <td>0.015385</td>\n",
              "      <td>0.013158</td>\n",
              "      <td>0.023517</td>\n",
              "      <td>0.036036</td>\n",
              "      <td>0.009662</td>\n",
              "      <td>0.007194</td>\n",
              "      <td>0.005814</td>\n",
              "      <td>0.012712</td>\n",
              "      <td>0.013021</td>\n",
              "      <td>0.013363</td>\n",
              "      <td>0.013959</td>\n",
              "      <td>0.010256</td>\n",
              "      <td>0.013158</td>\n",
              "      <td>0.013386</td>\n",
              "      <td>0.054054</td>\n",
              "      <td>0.000000</td>\n",
              "      <td>0.000000</td>\n",
              "      <td>0.023256</td>\n",
              "      <td>0.029661</td>\n",
              "      <td>0.020833</td>\n",
              "      <td>0.020045</td>\n",
              "      <td>0.013959</td>\n",
              "      <td>0.020513</td>\n",
              "      <td>0.006579</td>\n",
              "      <td>0.018090</td>\n",
              "      <td>0.045045</td>\n",
              "      <td>0.009662</td>\n",
              "      <td>0.021583</td>\n",
              "      <td>0.023256</td>\n",
              "      <td>0.012712</td>\n",
              "      <td>0.015625</td>\n",
              "      <td>0.011136</td>\n",
              "      <td>0.011421</td>\n",
              "      <td>0.010256</td>\n",
              "      <td>0.013158</td>\n",
              "      <td>0.014834</td>\n",
              "      <td>0.063063</td>\n",
              "      <td>0.019324</td>\n",
              "      <td>0.007194</td>\n",
              "      <td>0.011628</td>\n",
              "      <td>0.016949</td>\n",
              "      <td>0.018229</td>\n",
              "      <td>0.006682</td>\n",
              "      <td>0.020305</td>\n",
              "      <td>0.010256</td>\n",
              "      <td>0.013158</td>\n",
              "      <td>0.017366</td>\n",
              "    </tr>\n",
              "  </tbody>\n",
              "</table>\n",
              "</div>"
            ],
            "text/plain": [
              "   var1(t-5)  var2(t-5)  var3(t-5)  ...      var9     var10     var11\n",
              "5   0.018018   0.004831   0.007194  ...  0.015385  0.013158  0.023517\n",
              "6   0.054054   0.038647   0.014388  ...  0.010256  0.013158  0.013386\n",
              "7   0.045045   0.033816   0.014388  ...  0.020513  0.006579  0.018090\n",
              "8   0.036036   0.009662   0.035971  ...  0.010256  0.013158  0.014834\n",
              "9   0.045045   0.024155   0.057554  ...  0.010256  0.013158  0.017366\n",
              "\n",
              "[5 rows x 66 columns]"
            ]
          },
          "metadata": {
            "tags": []
          },
          "execution_count": 38
        }
      ]
    },
    {
      "cell_type": "code",
      "metadata": {
        "id": "4XPLUo9hOSDE",
        "colab": {
          "base_uri": "https://localhost:8080/"
        },
        "outputId": "e2e5bdaf-93aa-4949-85bb-79d48caa85b3"
      },
      "source": [
        "lag_5.columns"
      ],
      "execution_count": 39,
      "outputs": [
        {
          "output_type": "execute_result",
          "data": {
            "text/plain": [
              "Index(['var1(t-5)', 'var2(t-5)', 'var3(t-5)', 'var4(t-5)', 'var5(t-5)',\n",
              "       'var6(t-5)', 'var7(t-5)', 'var8(t-5)', 'var9(t-5)', 'var10(t-5)',\n",
              "       'var11(t-5)', 'var1(t-4)', 'var2(t-4)', 'var3(t-4)', 'var4(t-4)',\n",
              "       'var5(t-4)', 'var6(t-4)', 'var7(t-4)', 'var8(t-4)', 'var9(t-4)',\n",
              "       'var10(t-4)', 'var11(t-4)', 'var1(t-3)', 'var2(t-3)', 'var3(t-3)',\n",
              "       'var4(t-3)', 'var5(t-3)', 'var6(t-3)', 'var7(t-3)', 'var8(t-3)',\n",
              "       'var9(t-3)', 'var10(t-3)', 'var11(t-3)', 'var1(t-2)', 'var2(t-2)',\n",
              "       'var3(t-2)', 'var4(t-2)', 'var5(t-2)', 'var6(t-2)', 'var7(t-2)',\n",
              "       'var8(t-2)', 'var9(t-2)', 'var10(t-2)', 'var11(t-2)', 'var1(t-1)',\n",
              "       'var2(t-1)', 'var3(t-1)', 'var4(t-1)', 'var5(t-1)', 'var6(t-1)',\n",
              "       'var7(t-1)', 'var8(t-1)', 'var9(t-1)', 'var10(t-1)', 'var11(t-1)',\n",
              "       'var1', 'var2', 'var3', 'var4', 'var5', 'var6', 'var7', 'var8', 'var9',\n",
              "       'var10', 'var11'],\n",
              "      dtype='object')"
            ]
          },
          "metadata": {
            "tags": []
          },
          "execution_count": 39
        }
      ]
    },
    {
      "cell_type": "code",
      "metadata": {
        "id": "8gq9Ml9hOSDE",
        "colab": {
          "base_uri": "https://localhost:8080/"
        },
        "outputId": "b413cbd7-d833-4b5b-d029-b69a10a74103"
      },
      "source": [
        "lag_5.drop(lag_5.columns[[55, 56, 57, 58, 59, 60, 61, 62, 63, 64]], axis = 1, inplace = True)\n",
        "lag_5.columns"
      ],
      "execution_count": 40,
      "outputs": [
        {
          "output_type": "execute_result",
          "data": {
            "text/plain": [
              "Index(['var1(t-5)', 'var2(t-5)', 'var3(t-5)', 'var4(t-5)', 'var5(t-5)',\n",
              "       'var6(t-5)', 'var7(t-5)', 'var8(t-5)', 'var9(t-5)', 'var10(t-5)',\n",
              "       'var11(t-5)', 'var1(t-4)', 'var2(t-4)', 'var3(t-4)', 'var4(t-4)',\n",
              "       'var5(t-4)', 'var6(t-4)', 'var7(t-4)', 'var8(t-4)', 'var9(t-4)',\n",
              "       'var10(t-4)', 'var11(t-4)', 'var1(t-3)', 'var2(t-3)', 'var3(t-3)',\n",
              "       'var4(t-3)', 'var5(t-3)', 'var6(t-3)', 'var7(t-3)', 'var8(t-3)',\n",
              "       'var9(t-3)', 'var10(t-3)', 'var11(t-3)', 'var1(t-2)', 'var2(t-2)',\n",
              "       'var3(t-2)', 'var4(t-2)', 'var5(t-2)', 'var6(t-2)', 'var7(t-2)',\n",
              "       'var8(t-2)', 'var9(t-2)', 'var10(t-2)', 'var11(t-2)', 'var1(t-1)',\n",
              "       'var2(t-1)', 'var3(t-1)', 'var4(t-1)', 'var5(t-1)', 'var6(t-1)',\n",
              "       'var7(t-1)', 'var8(t-1)', 'var9(t-1)', 'var10(t-1)', 'var11(t-1)',\n",
              "       'var11'],\n",
              "      dtype='object')"
            ]
          },
          "metadata": {
            "tags": []
          },
          "execution_count": 40
        }
      ]
    },
    {
      "cell_type": "code",
      "metadata": {
        "id": "XtL1czm5OSDE",
        "colab": {
          "base_uri": "https://localhost:8080/"
        },
        "outputId": "e033b678-bfbd-4066-b38d-3aee4b4811ef"
      },
      "source": [
        "len(lag_5.columns)"
      ],
      "execution_count": 41,
      "outputs": [
        {
          "output_type": "execute_result",
          "data": {
            "text/plain": [
              "56"
            ]
          },
          "metadata": {
            "tags": []
          },
          "execution_count": 41
        }
      ]
    },
    {
      "cell_type": "code",
      "metadata": {
        "id": "WaKQ02L1OSDE"
      },
      "source": [
        "X_5 = lag_5[lag_5.columns[:55]].values\n",
        "y_5 = lag_5['var11'].values"
      ],
      "execution_count": 42,
      "outputs": []
    },
    {
      "cell_type": "code",
      "metadata": {
        "id": "8y7MYerLOSDE"
      },
      "source": [
        "X5_train, X5_test, y5_train, y5_test = train_test_split(X_5, y_5, test_size = 0.3, random_state = 42)"
      ],
      "execution_count": 43,
      "outputs": []
    },
    {
      "cell_type": "code",
      "metadata": {
        "id": "3LbeHIYuOSDF",
        "colab": {
          "base_uri": "https://localhost:8080/"
        },
        "outputId": "1b5ff100-2f02-4d73-b02b-f19546cb3b1b"
      },
      "source": [
        "print(\"X5_train: \",X5_train.shape)\n",
        "print(\"X5_test: \", X5_test.shape)\n",
        "print(\"Y5_train: \", y5_train.shape)\n",
        "print(\"y5_test: \", y5_test.shape)"
      ],
      "execution_count": 44,
      "outputs": [
        {
          "output_type": "stream",
          "text": [
            "X5_train:  (724, 55)\n",
            "X5_test:  (311, 55)\n",
            "Y5_train:  (724,)\n",
            "y5_test:  (311,)\n"
          ],
          "name": "stdout"
        }
      ]
    },
    {
      "cell_type": "code",
      "metadata": {
        "colab": {
          "base_uri": "https://localhost:8080/"
        },
        "id": "jC7QVHe-CoBq",
        "outputId": "2d710b1e-53a4-4eff-a418-dc04e84ab02e"
      },
      "source": [
        "X5_train = X5_train.reshape((X5_train.shape[0], 5, 11))\r\n",
        "X5_test = X5_test.reshape((X5_test.shape[0], 5, 11))\r\n",
        "print(X5_train.shape)\r\n",
        "print(X5_test.shape)"
      ],
      "execution_count": 45,
      "outputs": [
        {
          "output_type": "stream",
          "text": [
            "(724, 5, 11)\n",
            "(311, 5, 11)\n"
          ],
          "name": "stdout"
        }
      ]
    },
    {
      "cell_type": "code",
      "metadata": {
        "id": "bJtsEdGdC1JC"
      },
      "source": [
        "np.save(\"drive/MyDrive/X5_train\", X5_train)\r\n",
        "np.save(\"drive/MyDrive/X5_test\", X5_test)"
      ],
      "execution_count": 46,
      "outputs": []
    },
    {
      "cell_type": "code",
      "metadata": {
        "id": "hUP6pOyTOSDF",
        "colab": {
          "base_uri": "https://localhost:8080/"
        },
        "outputId": "71327cfd-e339-4de7-e087-cf4dd53de995"
      },
      "source": [
        "#same model from univariate experiment\n",
        "now = datetime.datetime.now()\n",
        "model_5 = Sequential()\n",
        "model_5.add(LSTM(50, input_shape = (X5_train.shape[1], X5_train.shape[2])))\n",
        "model_5.add(Dense(50, activation = 'tanh'))\n",
        "model_5.add(Dropout(0.3))\n",
        "model_5.add(Dense(35, activation = 'tanh'))\n",
        "model_5.add(Dropout(0.3))\n",
        "model_5.add(Dense(20, activation = 'tanh'))\n",
        "model_5.add(Dropout(0.3))\n",
        "model_5.add(Dense(1))\n",
        "model_5.compile(loss = 'mse', optimizer = 'adam', metrics = ['mse'])\n",
        "\n",
        "history_5 = model_5.fit(X5_train, y5_train, epochs = 10, batch_size = 20, validation_data = (X5_test, y5_test),\n",
        "                        verbose = True, shuffle = False)\n",
        "later = datetime.datetime.now()\n",
        "elapsed = later - now\n",
        "print('Time elapsed: ', elapsed)"
      ],
      "execution_count": 47,
      "outputs": [
        {
          "output_type": "stream",
          "text": [
            "Epoch 1/10\n",
            "37/37 [==============================] - 3s 26ms/step - loss: 0.0078 - mse: 0.0078 - val_loss: 0.0059 - val_mse: 0.0059\n",
            "Epoch 2/10\n",
            "37/37 [==============================] - 0s 6ms/step - loss: 0.0052 - mse: 0.0052 - val_loss: 0.0070 - val_mse: 0.0070\n",
            "Epoch 3/10\n",
            "37/37 [==============================] - 0s 6ms/step - loss: 0.0080 - mse: 0.0080 - val_loss: 0.0061 - val_mse: 0.0061\n",
            "Epoch 4/10\n",
            "37/37 [==============================] - 0s 6ms/step - loss: 0.0050 - mse: 0.0050 - val_loss: 0.0054 - val_mse: 0.0054\n",
            "Epoch 5/10\n",
            "37/37 [==============================] - 0s 6ms/step - loss: 0.0049 - mse: 0.0049 - val_loss: 0.0055 - val_mse: 0.0055\n",
            "Epoch 6/10\n",
            "37/37 [==============================] - 0s 6ms/step - loss: 0.0048 - mse: 0.0048 - val_loss: 0.0058 - val_mse: 0.0058\n",
            "Epoch 7/10\n",
            "37/37 [==============================] - 0s 6ms/step - loss: 0.0068 - mse: 0.0068 - val_loss: 0.0054 - val_mse: 0.0054\n",
            "Epoch 8/10\n",
            "37/37 [==============================] - 0s 6ms/step - loss: 0.0044 - mse: 0.0044 - val_loss: 0.0056 - val_mse: 0.0056\n",
            "Epoch 9/10\n",
            "37/37 [==============================] - 0s 7ms/step - loss: 0.0036 - mse: 0.0036 - val_loss: 0.0061 - val_mse: 0.0061\n",
            "Epoch 10/10\n",
            "37/37 [==============================] - 0s 6ms/step - loss: 0.0064 - mse: 0.0064 - val_loss: 0.0053 - val_mse: 0.0053\n",
            "Time elapsed:  0:00:05.843384\n"
          ],
          "name": "stdout"
        }
      ]
    },
    {
      "cell_type": "code",
      "metadata": {
        "id": "v3PaPjcXuZCe",
        "outputId": "a9825e8b-56bb-4d10-b0bd-0e440ed27def",
        "colab": {
          "base_uri": "https://localhost:8080/"
        }
      },
      "source": [
        "model_5.save('drive/MyDrive/model_5')"
      ],
      "execution_count": 92,
      "outputs": [
        {
          "output_type": "stream",
          "text": [
            "WARNING:absl:Found untraced functions such as lstm_cell_layer_call_and_return_conditional_losses, lstm_cell_layer_call_fn, lstm_cell_layer_call_fn, lstm_cell_layer_call_and_return_conditional_losses, lstm_cell_layer_call_and_return_conditional_losses while saving (showing 5 of 5). These functions will not be directly callable after loading.\n",
            "WARNING:absl:Found untraced functions such as lstm_cell_layer_call_and_return_conditional_losses, lstm_cell_layer_call_fn, lstm_cell_layer_call_fn, lstm_cell_layer_call_and_return_conditional_losses, lstm_cell_layer_call_and_return_conditional_losses while saving (showing 5 of 5). These functions will not be directly callable after loading.\n"
          ],
          "name": "stderr"
        },
        {
          "output_type": "stream",
          "text": [
            "INFO:tensorflow:Assets written to: drive/MyDrive/model_5/assets\n"
          ],
          "name": "stdout"
        },
        {
          "output_type": "stream",
          "text": [
            "INFO:tensorflow:Assets written to: drive/MyDrive/model_5/assets\n"
          ],
          "name": "stderr"
        }
      ]
    },
    {
      "cell_type": "code",
      "metadata": {
        "id": "s_6ShQZzHOlL"
      },
      "source": [
        "model_5_json = model_5.to_json()\r\n",
        "with open(\"model_5.json\", \"w\") as json_file:\r\n",
        "  json_file.write(model_5_json)\r\n"
      ],
      "execution_count": 48,
      "outputs": []
    },
    {
      "cell_type": "code",
      "metadata": {
        "id": "VHfjmoVnH5aI"
      },
      "source": [
        "model_5.save_weights(\"drive/MyDrive/model_5.h5\")"
      ],
      "execution_count": 49,
      "outputs": []
    },
    {
      "cell_type": "code",
      "metadata": {
        "id": "ld9apQFRIGsx"
      },
      "source": [
        ""
      ],
      "execution_count": 49,
      "outputs": []
    },
    {
      "cell_type": "code",
      "metadata": {
        "id": "k9bfoBIvOSDF"
      },
      "source": [
        "#examine and analyze these results- let's see what's up!"
      ],
      "execution_count": 50,
      "outputs": []
    },
    {
      "cell_type": "code",
      "metadata": {
        "colab": {
          "base_uri": "https://localhost:8080/",
          "height": 265
        },
        "id": "tj_U2HrFv7lV",
        "outputId": "392ceccd-767e-4964-a0d1-1fcdb6287689"
      },
      "source": [
        "plt.plot(history_5.history['loss'], label = 'train')\r\n",
        "plt.plot(history_5.history['val_loss'], label = 'test')\r\n",
        "plt.legend()\r\n",
        "plt.show()"
      ],
      "execution_count": 51,
      "outputs": [
        {
          "output_type": "display_data",
          "data": {
            "image/png": "[encoded data removed]",
            "text/plain": [
              "<Figure size 432x288 with 1 Axes>"
            ]
          },
          "metadata": {
            "tags": [],
            "needs_background": "light"
          }
        }
      ]
    },
    {
      "cell_type": "code",
      "metadata": {
        "colab": {
          "base_uri": "https://localhost:8080/"
        },
        "id": "S2Eoalw6wAtO",
        "outputId": "36c29172-506b-49b4-e8f9-071ebb76d525"
      },
      "source": [
        "#making predictions \r\n",
        "yhat = model_5.predict(X5_test)\r\n",
        "X5_test = X5_test.reshape((X5_test.shape[0], 55))\r\n",
        "inv_yhat = np.concatenate((yhat, X5_test[:, -10:]), axis = 1)\r\n",
        "inv_yhat = scaler.inverse_transform(inv_yhat)\r\n",
        "inv_yhat = inv_yhat[:, 0]\r\n",
        "\r\n",
        "y5_test = y5_test.reshape((len(y5_test), 1))\r\n",
        "inv_y = np.concatenate((y5_test, X5_test[:, -10:]), axis = 1)\r\n",
        "inv_y = scaler.inverse_transform(inv_y)\r\n",
        "inv_y = inv_y[:, 0]\r\n",
        "\r\n",
        "mse = mean_squared_error(inv_y, inv_yhat)\r\n",
        "print('MSE of prediction: ', np.round(mse, 2))"
      ],
      "execution_count": 52,
      "outputs": [
        {
          "output_type": "stream",
          "text": [
            "MSE of prediction:  64.94\n"
          ],
          "name": "stdout"
        }
      ]
    },
    {
      "cell_type": "code",
      "metadata": {
        "id": "DBaNN32iySf8"
      },
      "source": [
        "#daaaaaaang"
      ],
      "execution_count": 53,
      "outputs": []
    },
    {
      "cell_type": "markdown",
      "metadata": {
        "id": "9sFGPLmAOitK"
      },
      "source": [
        "Just for fun- let's see what happens when we use the recursive function"
      ]
    },
    {
      "cell_type": "code",
      "metadata": {
        "id": "7QTv8klLwoJk"
      },
      "source": [
        "#Create output df\r\n",
        "output = pd.DataFrame({'Valid Date': pd.date_range(start = '2017-12-22', end = '2018-12-20', freq = 'B')})\r\n",
        "output = output[(output['Valid Date'] != '2017-12-25') &\r\n",
        "                (output['Valid Date'] != '2018-01-01') &\r\n",
        "                (output['Valid Date'] != '2018-01-15') &\r\n",
        "                (output['Valid Date'] != '2018-02-19') &\r\n",
        "                (output['Valid Date'] != '2018-05-28') &\r\n",
        "                (output['Valid Date'] != '2018-07-04') &\r\n",
        "                (output['Valid Date'] != '2018-09-03') &\r\n",
        "                (output['Valid Date'] != '2018-11-12') &\r\n",
        "                (output['Valid Date'] != '2018-11-22')]"
      ],
      "execution_count": 54,
      "outputs": []
    },
    {
      "cell_type": "code",
      "metadata": {
        "id": "rWyRdFkyOrMD"
      },
      "source": [
        "#attempt using predict_values function from univariate model\r\n",
        "def predict_values(training_data, output):\r\n",
        "  ''' A function that takes in training data and uses a tuned LSTM neural \r\n",
        "  network to recursively predict data for a given number of steps.\r\n",
        "\r\n",
        "  Inputs: training_data: The last 5 points of the models training set\r\n",
        "    output: user provided dataframe formatted with a desired time period to be predicted\r\n",
        "    as a pd.TimeStamp \r\n",
        "  Returns: The output parameter with a scaled prediction and unscaled prediction column \r\n",
        "  appended'''\r\n",
        "\r\n",
        "  predictions = []\r\n",
        "  predictions.append(training_data)\r\n",
        "  x_array = np.array(predictions)\r\n",
        "  #ammend function to intake number of input variables\r\n",
        "  x_array = x_array.reshape(1, 5, 1)\r\n",
        "#Generate predictions\r\n",
        "  model = model_5\r\n",
        "  for n in range(len(output)):\r\n",
        "    pred = model.predict(x_array)\r\n",
        "    x_array = np.append(x_array, pred)\r\n",
        "    predictions.append(pred)\r\n",
        "\r\n",
        "    x_array = x_array[-5:].reshape(1, 5, 1)\r\n",
        "\r\n",
        "#Add predictions to output df, unlist the values\r\n",
        "  predictions = predictions[1:]\r\n",
        "  pred_list = []\r\n",
        "  for n in range(len(output)):\r\n",
        "    pred_list.append(predictions[n].tolist())\r\n",
        "\r\n",
        "  unlisted = []\r\n",
        "  for n in range(len(pred_list)):\r\n",
        "    var = pred_list[n]\r\n",
        "    var = var[0]\r\n",
        "    unlisted.append(var)\r\n",
        "\r\n",
        "  output['Scaled Prediction'] = unlisted\r\n",
        "\r\n",
        "#Unscale predicted value\r\n",
        "  unlisted_array = np.array(unlisted)\r\n",
        "  unlisted_array = unlisted_array.reshape(-1, 1)\r\n",
        "  output['Predicted Value'] = scaler.inverse_transform(unlisted_array)\r\n",
        "\r\n",
        "  return output"
      ],
      "execution_count": 55,
      "outputs": []
    },
    {
      "cell_type": "code",
      "metadata": {
        "colab": {
          "base_uri": "https://localhost:8080/",
          "height": 287
        },
        "id": "wEHBPeHIO1sZ",
        "outputId": "0f97940b-a539-4ca4-e145-6458d10a625b"
      },
      "source": [
        "year_one = predict_values(X5_train[-5:], output)"
      ],
      "execution_count": 56,
      "outputs": [
        {
          "output_type": "error",
          "ename": "ValueError",
          "evalue": "ignored",
          "traceback": [
            "\u001b[0;31m---------------------------------------------------------------------------\u001b[0m",
            "\u001b[0;31mValueError\u001b[0m                                Traceback (most recent call last)",
            "\u001b[0;32m<ipython-input-56-bad138c4c5a4>\u001b[0m in \u001b[0;36m<module>\u001b[0;34m()\u001b[0m\n\u001b[0;32m----> 1\u001b[0;31m \u001b[0myear_one\u001b[0m \u001b[0;34m=\u001b[0m \u001b[0mpredict_values\u001b[0m\u001b[0;34m(\u001b[0m\u001b[0mX5_train\u001b[0m\u001b[0;34m[\u001b[0m\u001b[0;34m-\u001b[0m\u001b[0;36m5\u001b[0m\u001b[0;34m:\u001b[0m\u001b[0;34m]\u001b[0m\u001b[0;34m,\u001b[0m \u001b[0moutput\u001b[0m\u001b[0;34m)\u001b[0m\u001b[0;34m\u001b[0m\u001b[0;34m\u001b[0m\u001b[0m\n\u001b[0m",
            "\u001b[0;32m<ipython-input-55-2fd6ee7f5718>\u001b[0m in \u001b[0;36mpredict_values\u001b[0;34m(training_data, output)\u001b[0m\n\u001b[1;32m     14\u001b[0m   \u001b[0mx_array\u001b[0m \u001b[0;34m=\u001b[0m \u001b[0mnp\u001b[0m\u001b[0;34m.\u001b[0m\u001b[0marray\u001b[0m\u001b[0;34m(\u001b[0m\u001b[0mpredictions\u001b[0m\u001b[0;34m)\u001b[0m\u001b[0;34m\u001b[0m\u001b[0;34m\u001b[0m\u001b[0m\n\u001b[1;32m     15\u001b[0m   \u001b[0;31m#ammend function to intake number of input variables\u001b[0m\u001b[0;34m\u001b[0m\u001b[0;34m\u001b[0m\u001b[0;34m\u001b[0m\u001b[0m\n\u001b[0;32m---> 16\u001b[0;31m   \u001b[0mx_array\u001b[0m \u001b[0;34m=\u001b[0m \u001b[0mx_array\u001b[0m\u001b[0;34m.\u001b[0m\u001b[0mreshape\u001b[0m\u001b[0;34m(\u001b[0m\u001b[0;36m1\u001b[0m\u001b[0;34m,\u001b[0m \u001b[0;36m5\u001b[0m\u001b[0;34m,\u001b[0m \u001b[0;36m1\u001b[0m\u001b[0;34m)\u001b[0m\u001b[0;34m\u001b[0m\u001b[0;34m\u001b[0m\u001b[0m\n\u001b[0m\u001b[1;32m     17\u001b[0m \u001b[0;31m#Generate predictions\u001b[0m\u001b[0;34m\u001b[0m\u001b[0;34m\u001b[0m\u001b[0;34m\u001b[0m\u001b[0m\n\u001b[1;32m     18\u001b[0m   \u001b[0mmodel\u001b[0m \u001b[0;34m=\u001b[0m \u001b[0mmodel_5\u001b[0m\u001b[0;34m\u001b[0m\u001b[0;34m\u001b[0m\u001b[0m\n",
            "\u001b[0;31mValueError\u001b[0m: cannot reshape array of size 275 into shape (1,5,1)"
          ]
        }
      ]
    },
    {
      "cell_type": "code",
      "metadata": {
        "id": "yb_g5fZdRrwR"
      },
      "source": [
        "#so the issue is that in a univariate model, i could just take the last 5 data points\r\n",
        "#each point was a unique entry\r\n",
        "#now, the last 5 points would correlate all to the same variable\r\n",
        "#so i need to figure out how to grab the last point from var1, var2 etc"
      ],
      "execution_count": 58,
      "outputs": []
    },
    {
      "cell_type": "code",
      "metadata": {
        "id": "aSVxfVOhmzIO"
      },
      "source": [
        "#I just need to use the same data from the last experiment.\r\n",
        "#just amend it to 10 features, but not 5 lags.  "
      ],
      "execution_count": 59,
      "outputs": []
    },
    {
      "cell_type": "code",
      "metadata": {
        "id": "i8mlqeFnrWZB",
        "outputId": "63c51984-9d92-433a-c205-dbf715a601b7",
        "colab": {
          "base_uri": "https://localhost:8080/"
        }
      },
      "source": [
        "X_train.shape"
      ],
      "execution_count": 60,
      "outputs": [
        {
          "output_type": "execute_result",
          "data": {
            "text/plain": [
              "(727, 1, 10)"
            ]
          },
          "metadata": {
            "tags": []
          },
          "execution_count": 60
        }
      ]
    },
    {
      "cell_type": "code",
      "metadata": {
        "id": "BX_gFSsgsDZS"
      },
      "source": [
        "X_train = X_train.reshape(727,10)"
      ],
      "execution_count": 61,
      "outputs": []
    },
    {
      "cell_type": "code",
      "metadata": {
        "id": "EAx0fCyl7WNa",
        "outputId": "1811909a-2fcc-47f8-be9e-97b246b55561",
        "colab": {
          "base_uri": "https://localhost:8080/",
          "height": 202
        }
      },
      "source": [
        "train_df = pd.DataFrame(X_train)\r\n",
        "train_df.head()"
      ],
      "execution_count": 62,
      "outputs": [
        {
          "output_type": "execute_result",
          "data": {
            "text/html": [
              "<div>\n",
              "<style scoped>\n",
              "    .dataframe tbody tr th:only-of-type {\n",
              "        vertical-align: middle;\n",
              "    }\n",
              "\n",
              "    .dataframe tbody tr th {\n",
              "        vertical-align: top;\n",
              "    }\n",
              "\n",
              "    .dataframe thead th {\n",
              "        text-align: right;\n",
              "    }\n",
              "</style>\n",
              "<table border=\"1\" class=\"dataframe\">\n",
              "  <thead>\n",
              "    <tr style=\"text-align: right;\">\n",
              "      <th></th>\n",
              "      <th>0</th>\n",
              "      <th>1</th>\n",
              "      <th>2</th>\n",
              "      <th>3</th>\n",
              "      <th>4</th>\n",
              "      <th>5</th>\n",
              "      <th>6</th>\n",
              "      <th>7</th>\n",
              "      <th>8</th>\n",
              "      <th>9</th>\n",
              "    </tr>\n",
              "  </thead>\n",
              "  <tbody>\n",
              "    <tr>\n",
              "      <th>0</th>\n",
              "      <td>0.054054</td>\n",
              "      <td>0.014493</td>\n",
              "      <td>0.050360</td>\n",
              "      <td>0.011628</td>\n",
              "      <td>0.008475</td>\n",
              "      <td>0.007812</td>\n",
              "      <td>0.008909</td>\n",
              "      <td>0.013959</td>\n",
              "      <td>0.020513</td>\n",
              "      <td>0.000000</td>\n",
              "    </tr>\n",
              "    <tr>\n",
              "      <th>1</th>\n",
              "      <td>0.000000</td>\n",
              "      <td>0.000000</td>\n",
              "      <td>0.000000</td>\n",
              "      <td>0.000000</td>\n",
              "      <td>0.000000</td>\n",
              "      <td>0.000000</td>\n",
              "      <td>0.000000</td>\n",
              "      <td>0.000000</td>\n",
              "      <td>0.000000</td>\n",
              "      <td>0.000000</td>\n",
              "    </tr>\n",
              "    <tr>\n",
              "      <th>2</th>\n",
              "      <td>0.009009</td>\n",
              "      <td>0.009662</td>\n",
              "      <td>0.000000</td>\n",
              "      <td>0.000000</td>\n",
              "      <td>0.000000</td>\n",
              "      <td>0.000000</td>\n",
              "      <td>0.004454</td>\n",
              "      <td>0.001269</td>\n",
              "      <td>0.000000</td>\n",
              "      <td>0.000000</td>\n",
              "    </tr>\n",
              "    <tr>\n",
              "      <th>3</th>\n",
              "      <td>0.072072</td>\n",
              "      <td>0.033816</td>\n",
              "      <td>0.007194</td>\n",
              "      <td>0.040698</td>\n",
              "      <td>0.033898</td>\n",
              "      <td>0.031250</td>\n",
              "      <td>0.044543</td>\n",
              "      <td>0.036802</td>\n",
              "      <td>0.025641</td>\n",
              "      <td>0.006579</td>\n",
              "    </tr>\n",
              "    <tr>\n",
              "      <th>4</th>\n",
              "      <td>0.000000</td>\n",
              "      <td>0.000000</td>\n",
              "      <td>0.000000</td>\n",
              "      <td>0.000000</td>\n",
              "      <td>0.000000</td>\n",
              "      <td>0.000000</td>\n",
              "      <td>0.000000</td>\n",
              "      <td>0.000000</td>\n",
              "      <td>0.000000</td>\n",
              "      <td>0.000000</td>\n",
              "    </tr>\n",
              "  </tbody>\n",
              "</table>\n",
              "</div>"
            ],
            "text/plain": [
              "          0         1         2  ...         7         8         9\n",
              "0  0.054054  0.014493  0.050360  ...  0.013959  0.020513  0.000000\n",
              "1  0.000000  0.000000  0.000000  ...  0.000000  0.000000  0.000000\n",
              "2  0.009009  0.009662  0.000000  ...  0.001269  0.000000  0.000000\n",
              "3  0.072072  0.033816  0.007194  ...  0.036802  0.025641  0.006579\n",
              "4  0.000000  0.000000  0.000000  ...  0.000000  0.000000  0.000000\n",
              "\n",
              "[5 rows x 10 columns]"
            ]
          },
          "metadata": {
            "tags": []
          },
          "execution_count": 62
        }
      ]
    },
    {
      "cell_type": "code",
      "metadata": {
        "id": "OWUf5soq7dhm"
      },
      "source": [
        "#now we are getting somewhere. now i know how to call the data\r\n",
        "#I just need to adjust the function to take in multiple values\r\n",
        "#10 vars work together to produce the target"
      ],
      "execution_count": 63,
      "outputs": []
    },
    {
      "cell_type": "code",
      "metadata": {
        "id": "ZhAOmEa6BCqN"
      },
      "source": [
        "#it would appear that predict actually DOES want 11 inputs."
      ],
      "execution_count": 64,
      "outputs": []
    },
    {
      "cell_type": "code",
      "metadata": {
        "id": "e8NAPQR_q8ay"
      },
      "source": [
        " #X = 10 features\r\n",
        "#y = 1 target\r\n",
        "#i need to predict on the last 5 rows of train_df\r\n",
        "#without a target\r\n",
        "#I'm predicting the target"
      ],
      "execution_count": 65,
      "outputs": []
    },
    {
      "cell_type": "code",
      "metadata": {
        "id": "uHzF5T1_O-qH",
        "outputId": "e607a41c-6028-4798-8dfc-4a1f48678230",
        "colab": {
          "base_uri": "https://localhost:8080/",
          "height": 202
        }
      },
      "source": [
        "train_df.head()\r\n",
        "#there's 10 vars, we need to add the target for the 11th input  "
      ],
      "execution_count": 66,
      "outputs": [
        {
          "output_type": "execute_result",
          "data": {
            "text/html": [
              "<div>\n",
              "<style scoped>\n",
              "    .dataframe tbody tr th:only-of-type {\n",
              "        vertical-align: middle;\n",
              "    }\n",
              "\n",
              "    .dataframe tbody tr th {\n",
              "        vertical-align: top;\n",
              "    }\n",
              "\n",
              "    .dataframe thead th {\n",
              "        text-align: right;\n",
              "    }\n",
              "</style>\n",
              "<table border=\"1\" class=\"dataframe\">\n",
              "  <thead>\n",
              "    <tr style=\"text-align: right;\">\n",
              "      <th></th>\n",
              "      <th>0</th>\n",
              "      <th>1</th>\n",
              "      <th>2</th>\n",
              "      <th>3</th>\n",
              "      <th>4</th>\n",
              "      <th>5</th>\n",
              "      <th>6</th>\n",
              "      <th>7</th>\n",
              "      <th>8</th>\n",
              "      <th>9</th>\n",
              "    </tr>\n",
              "  </thead>\n",
              "  <tbody>\n",
              "    <tr>\n",
              "      <th>0</th>\n",
              "      <td>0.054054</td>\n",
              "      <td>0.014493</td>\n",
              "      <td>0.050360</td>\n",
              "      <td>0.011628</td>\n",
              "      <td>0.008475</td>\n",
              "      <td>0.007812</td>\n",
              "      <td>0.008909</td>\n",
              "      <td>0.013959</td>\n",
              "      <td>0.020513</td>\n",
              "      <td>0.000000</td>\n",
              "    </tr>\n",
              "    <tr>\n",
              "      <th>1</th>\n",
              "      <td>0.000000</td>\n",
              "      <td>0.000000</td>\n",
              "      <td>0.000000</td>\n",
              "      <td>0.000000</td>\n",
              "      <td>0.000000</td>\n",
              "      <td>0.000000</td>\n",
              "      <td>0.000000</td>\n",
              "      <td>0.000000</td>\n",
              "      <td>0.000000</td>\n",
              "      <td>0.000000</td>\n",
              "    </tr>\n",
              "    <tr>\n",
              "      <th>2</th>\n",
              "      <td>0.009009</td>\n",
              "      <td>0.009662</td>\n",
              "      <td>0.000000</td>\n",
              "      <td>0.000000</td>\n",
              "      <td>0.000000</td>\n",
              "      <td>0.000000</td>\n",
              "      <td>0.004454</td>\n",
              "      <td>0.001269</td>\n",
              "      <td>0.000000</td>\n",
              "      <td>0.000000</td>\n",
              "    </tr>\n",
              "    <tr>\n",
              "      <th>3</th>\n",
              "      <td>0.072072</td>\n",
              "      <td>0.033816</td>\n",
              "      <td>0.007194</td>\n",
              "      <td>0.040698</td>\n",
              "      <td>0.033898</td>\n",
              "      <td>0.031250</td>\n",
              "      <td>0.044543</td>\n",
              "      <td>0.036802</td>\n",
              "      <td>0.025641</td>\n",
              "      <td>0.006579</td>\n",
              "    </tr>\n",
              "    <tr>\n",
              "      <th>4</th>\n",
              "      <td>0.000000</td>\n",
              "      <td>0.000000</td>\n",
              "      <td>0.000000</td>\n",
              "      <td>0.000000</td>\n",
              "      <td>0.000000</td>\n",
              "      <td>0.000000</td>\n",
              "      <td>0.000000</td>\n",
              "      <td>0.000000</td>\n",
              "      <td>0.000000</td>\n",
              "      <td>0.000000</td>\n",
              "    </tr>\n",
              "  </tbody>\n",
              "</table>\n",
              "</div>"
            ],
            "text/plain": [
              "          0         1         2  ...         7         8         9\n",
              "0  0.054054  0.014493  0.050360  ...  0.013959  0.020513  0.000000\n",
              "1  0.000000  0.000000  0.000000  ...  0.000000  0.000000  0.000000\n",
              "2  0.009009  0.009662  0.000000  ...  0.001269  0.000000  0.000000\n",
              "3  0.072072  0.033816  0.007194  ...  0.036802  0.025641  0.006579\n",
              "4  0.000000  0.000000  0.000000  ...  0.000000  0.000000  0.000000\n",
              "\n",
              "[5 rows x 10 columns]"
            ]
          },
          "metadata": {
            "tags": []
          },
          "execution_count": 66
        }
      ]
    },
    {
      "cell_type": "code",
      "metadata": {
        "id": "qJowRxMVPR-e",
        "outputId": "c3d24f4a-2bb4-4ada-804b-724a4cbcd72c",
        "colab": {
          "base_uri": "https://localhost:8080/",
          "height": 202
        }
      },
      "source": [
        "y_train_df = pd.DataFrame(y_train)\r\n",
        "train_df['Target'] = y_train_df\r\n",
        "train_df.head()"
      ],
      "execution_count": 67,
      "outputs": [
        {
          "output_type": "execute_result",
          "data": {
            "text/html": [
              "<div>\n",
              "<style scoped>\n",
              "    .dataframe tbody tr th:only-of-type {\n",
              "        vertical-align: middle;\n",
              "    }\n",
              "\n",
              "    .dataframe tbody tr th {\n",
              "        vertical-align: top;\n",
              "    }\n",
              "\n",
              "    .dataframe thead th {\n",
              "        text-align: right;\n",
              "    }\n",
              "</style>\n",
              "<table border=\"1\" class=\"dataframe\">\n",
              "  <thead>\n",
              "    <tr style=\"text-align: right;\">\n",
              "      <th></th>\n",
              "      <th>0</th>\n",
              "      <th>1</th>\n",
              "      <th>2</th>\n",
              "      <th>3</th>\n",
              "      <th>4</th>\n",
              "      <th>5</th>\n",
              "      <th>6</th>\n",
              "      <th>7</th>\n",
              "      <th>8</th>\n",
              "      <th>9</th>\n",
              "      <th>Target</th>\n",
              "    </tr>\n",
              "  </thead>\n",
              "  <tbody>\n",
              "    <tr>\n",
              "      <th>0</th>\n",
              "      <td>0.054054</td>\n",
              "      <td>0.014493</td>\n",
              "      <td>0.050360</td>\n",
              "      <td>0.011628</td>\n",
              "      <td>0.008475</td>\n",
              "      <td>0.007812</td>\n",
              "      <td>0.008909</td>\n",
              "      <td>0.013959</td>\n",
              "      <td>0.020513</td>\n",
              "      <td>0.000000</td>\n",
              "      <td>0.014834</td>\n",
              "    </tr>\n",
              "    <tr>\n",
              "      <th>1</th>\n",
              "      <td>0.000000</td>\n",
              "      <td>0.000000</td>\n",
              "      <td>0.000000</td>\n",
              "      <td>0.000000</td>\n",
              "      <td>0.000000</td>\n",
              "      <td>0.000000</td>\n",
              "      <td>0.000000</td>\n",
              "      <td>0.000000</td>\n",
              "      <td>0.000000</td>\n",
              "      <td>0.000000</td>\n",
              "      <td>0.000000</td>\n",
              "    </tr>\n",
              "    <tr>\n",
              "      <th>2</th>\n",
              "      <td>0.009009</td>\n",
              "      <td>0.009662</td>\n",
              "      <td>0.000000</td>\n",
              "      <td>0.000000</td>\n",
              "      <td>0.000000</td>\n",
              "      <td>0.000000</td>\n",
              "      <td>0.004454</td>\n",
              "      <td>0.001269</td>\n",
              "      <td>0.000000</td>\n",
              "      <td>0.000000</td>\n",
              "      <td>0.000362</td>\n",
              "    </tr>\n",
              "    <tr>\n",
              "      <th>3</th>\n",
              "      <td>0.072072</td>\n",
              "      <td>0.033816</td>\n",
              "      <td>0.007194</td>\n",
              "      <td>0.040698</td>\n",
              "      <td>0.033898</td>\n",
              "      <td>0.031250</td>\n",
              "      <td>0.044543</td>\n",
              "      <td>0.036802</td>\n",
              "      <td>0.025641</td>\n",
              "      <td>0.006579</td>\n",
              "      <td>0.039074</td>\n",
              "    </tr>\n",
              "    <tr>\n",
              "      <th>4</th>\n",
              "      <td>0.000000</td>\n",
              "      <td>0.000000</td>\n",
              "      <td>0.000000</td>\n",
              "      <td>0.000000</td>\n",
              "      <td>0.000000</td>\n",
              "      <td>0.000000</td>\n",
              "      <td>0.000000</td>\n",
              "      <td>0.000000</td>\n",
              "      <td>0.000000</td>\n",
              "      <td>0.000000</td>\n",
              "      <td>0.000000</td>\n",
              "    </tr>\n",
              "  </tbody>\n",
              "</table>\n",
              "</div>"
            ],
            "text/plain": [
              "          0         1         2  ...         8         9    Target\n",
              "0  0.054054  0.014493  0.050360  ...  0.020513  0.000000  0.014834\n",
              "1  0.000000  0.000000  0.000000  ...  0.000000  0.000000  0.000000\n",
              "2  0.009009  0.009662  0.000000  ...  0.000000  0.000000  0.000362\n",
              "3  0.072072  0.033816  0.007194  ...  0.025641  0.006579  0.039074\n",
              "4  0.000000  0.000000  0.000000  ...  0.000000  0.000000  0.000000\n",
              "\n",
              "[5 rows x 11 columns]"
            ]
          },
          "metadata": {
            "tags": []
          },
          "execution_count": 67
        }
      ]
    },
    {
      "cell_type": "code",
      "metadata": {
        "id": "nf0eDAWwPvJ2",
        "outputId": "e75c1903-c75d-43f0-abcc-977466cf8bf6",
        "colab": {
          "base_uri": "https://localhost:8080/"
        }
      },
      "source": [
        "predict_array = train_df[-5:].values\r\n",
        "predict_array"
      ],
      "execution_count": 68,
      "outputs": [
        {
          "output_type": "execute_result",
          "data": {
            "text/plain": [
              "array([[0.0990991 , 0.01449275, 0.02158273, 0.05232558, 0.01271186,\n",
              "        0.05208333, 0.02672606, 0.02411168, 0.02051282, 0.02631579,\n",
              "        0.02858177],\n",
              "       [0.14414414, 0.04830918, 0.05035971, 0.06395349, 0.02542373,\n",
              "        0.04947917, 0.03563474, 0.02918782, 0.03589744, 0.01973684,\n",
              "        0.07091172],\n",
              "       [0.00900901, 0.        , 0.        , 0.01162791, 0.        ,\n",
              "        0.01041667, 0.00890869, 0.00380711, 0.00512821, 0.        ,\n",
              "        0.00144718],\n",
              "       [0.11711712, 0.09178744, 0.13669065, 0.09883721, 0.04237288,\n",
              "        0.0390625 , 0.04231626, 0.03553299, 0.03589744, 0.05263158,\n",
              "        0.03111433],\n",
              "       [0.        , 0.        , 0.        , 0.        , 0.        ,\n",
              "        0.        , 0.        , 0.        , 0.        , 0.        ,\n",
              "        0.        ]])"
            ]
          },
          "metadata": {
            "tags": []
          },
          "execution_count": 68
        }
      ]
    },
    {
      "cell_type": "code",
      "metadata": {
        "id": "0tsYoHU_REpe",
        "outputId": "e44914ba-e167-4a0a-ea5f-a96fa99fec86",
        "colab": {
          "base_uri": "https://localhost:8080/"
        }
      },
      "source": [
        "predict_array.shape"
      ],
      "execution_count": 69,
      "outputs": [
        {
          "output_type": "execute_result",
          "data": {
            "text/plain": [
              "(5, 11)"
            ]
          },
          "metadata": {
            "tags": []
          },
          "execution_count": 69
        }
      ]
    },
    {
      "cell_type": "code",
      "metadata": {
        "id": "s6zqrnH9RO6e"
      },
      "source": [
        "predict_array = predict_array.reshape(1,5,11)"
      ],
      "execution_count": 70,
      "outputs": []
    },
    {
      "cell_type": "code",
      "metadata": {
        "id": "jSTR4D0ORGsu"
      },
      "source": [
        "model = model_5\r\n",
        "for n in range(len(output)):\r\n",
        "  pred = model.predict(predict_array)\r\n",
        "  # x_array = np.append(x_array, pred)\r\n",
        "  # predictions.append(pred)\r\n",
        "\r\n",
        "  # x_array = x_array[-5:].reshape(1, 5, 11)"
      ],
      "execution_count": 71,
      "outputs": []
    },
    {
      "cell_type": "code",
      "metadata": {
        "id": "tC_q-FYbRMUW",
        "outputId": "2eb100ee-f614-4b3f-a5b1-e3484ca47230",
        "colab": {
          "base_uri": "https://localhost:8080/"
        }
      },
      "source": [
        "print(pred)"
      ],
      "execution_count": 72,
      "outputs": [
        {
          "output_type": "stream",
          "text": [
            "[[0.01934108]]\n"
          ],
          "name": "stdout"
        }
      ]
    },
    {
      "cell_type": "code",
      "metadata": {
        "id": "oKv4ViPXRujm"
      },
      "source": [
        "#okay. I got pred to run, now I just need to reconcile\r\n",
        "#what exactly the output is telling me, and how to use it\r\n",
        "#changing input shape to (1, 5, 11) gives me 1 pred"
      ],
      "execution_count": 73,
      "outputs": []
    },
    {
      "cell_type": "markdown",
      "metadata": {
        "id": "HN_WRYhAU1xp"
      },
      "source": [
        "In the original function, I set x_array = the last 5 of the training data. Just vanilla targets, no predictive factors involved  \r\n",
        "The issue here is that the model will not accept only targets, it needs the 10 predictors (vars) as well  \r\n",
        "Meaning that if my model is shaped to only spit out one predicted target, it still needs predictions on the vars as well?  \r\n",
        "If I create a new line in the data frame, it will only have a value in \"target\", not in vars. And in order to predict the next line, I need it to have all 11 columns filled out.  \r\n",
        "So how am i going to fill in those vars? My initial thought is to generate a prediction for each target as well. (If I dispense 4 yorkie licenses today, my model needs to predict how many yorkie, plus all other breed, licenses will be dispensed tomorrow, in order to properly make a \"target\" prediction.  \r\n",
        "I am considering starting this function from scratch at this point- I think what worked for the univariate model may not fit with the multivariate model. "
      ]
    },
    {
      "cell_type": "markdown",
      "metadata": {
        "id": "fmTQKeMdKIIp"
      },
      "source": [
        "1. explore how model intakes and outputs data\r\n",
        "2. decide on shape of \"predictions\"\r\n",
        "3. amend original function from there"
      ]
    },
    {
      "cell_type": "code",
      "metadata": {
        "id": "U7WRLl16Kg_H",
        "outputId": "bac7bb09-5628-4c5a-ae09-f47521a1a352",
        "colab": {
          "base_uri": "https://localhost:8080/"
        }
      },
      "source": [
        "X5_train.shape"
      ],
      "execution_count": 74,
      "outputs": [
        {
          "output_type": "execute_result",
          "data": {
            "text/plain": [
              "(724, 5, 11)"
            ]
          },
          "metadata": {
            "tags": []
          },
          "execution_count": 74
        }
      ]
    },
    {
      "cell_type": "code",
      "metadata": {
        "id": "rCgBmNj6LZ3h",
        "outputId": "4e67bafa-df8a-416b-bd98-c59ad026bf7f",
        "colab": {
          "base_uri": "https://localhost:8080/"
        }
      },
      "source": [
        "predict_array.shape"
      ],
      "execution_count": 75,
      "outputs": [
        {
          "output_type": "execute_result",
          "data": {
            "text/plain": [
              "(1, 5, 11)"
            ]
          },
          "metadata": {
            "tags": []
          },
          "execution_count": 75
        }
      ]
    },
    {
      "cell_type": "code",
      "metadata": {
        "id": "r-_8isj8LjXm",
        "outputId": "35e3bde5-5734-433e-ae17-374d6ee81b7b",
        "colab": {
          "base_uri": "https://localhost:8080/"
        }
      },
      "source": [
        "exp = X5_train[0]\r\n",
        "print(exp.shape)\r\n",
        "print(exp)"
      ],
      "execution_count": 76,
      "outputs": [
        {
          "output_type": "stream",
          "text": [
            "(5, 11)\n",
            "[[0.         0.00483092 0.02158273 0.01744186 0.00423729 0.0078125\n",
            "  0.00890869 0.00507614 0.         0.         0.0068741 ]\n",
            " [0.02702703 0.03381643 0.01438849 0.00581395 0.00423729 0.02604167\n",
            "  0.0155902  0.00761421 0.01025641 0.03289474 0.01591896]\n",
            " [0.00900901 0.         0.         0.         0.         0.\n",
            "  0.         0.         0.         0.         0.00036179]\n",
            " [0.         0.         0.         0.         0.         0.\n",
            "  0.         0.         0.         0.         0.        ]\n",
            " [0.00900901 0.00483092 0.00719424 0.00581395 0.00423729 0.00260417\n",
            "  0.00445434 0.00761421 0.00512821 0.00657895 0.00578871]]\n"
          ],
          "name": "stdout"
        }
      ]
    },
    {
      "cell_type": "code",
      "metadata": {
        "id": "I6zUHfDeLu2F",
        "outputId": "f219d211-ff22-4afe-b9b4-37e1a251c521",
        "colab": {
          "base_uri": "https://localhost:8080/"
        }
      },
      "source": [
        "len(X5_train)"
      ],
      "execution_count": 77,
      "outputs": [
        {
          "output_type": "execute_result",
          "data": {
            "text/plain": [
              "724"
            ]
          },
          "metadata": {
            "tags": []
          },
          "execution_count": 77
        }
      ]
    },
    {
      "cell_type": "code",
      "metadata": {
        "id": "F4TSd9fNMFL3"
      },
      "source": [
        "#the model is actually training on 5*11*724 data points-  \r\n",
        "#each \"point\" is an array of 5*11  \r\n",
        "#5 lags, 11 features"
      ],
      "execution_count": 78,
      "outputs": []
    },
    {
      "cell_type": "code",
      "metadata": {
        "id": "YkhEWw9uMjIi"
      },
      "source": [
        "#explore the output of the function better\r\n",
        "#starting with model.predict"
      ],
      "execution_count": 79,
      "outputs": []
    },
    {
      "cell_type": "code",
      "metadata": {
        "id": "giQ8YPrzMl-Q",
        "outputId": "6f078bc6-9fce-4aea-bb66-607444a92341",
        "colab": {
          "base_uri": "https://localhost:8080/"
        }
      },
      "source": [
        "#predict_array[0] = 1, meaning I currently only have 1 row in there\r\n",
        "print(predict_array.shape)\r\n",
        "print(predict_array)"
      ],
      "execution_count": 80,
      "outputs": [
        {
          "output_type": "stream",
          "text": [
            "(1, 5, 11)\n",
            "[[[0.0990991  0.01449275 0.02158273 0.05232558 0.01271186 0.05208333\n",
            "   0.02672606 0.02411168 0.02051282 0.02631579 0.02858177]\n",
            "  [0.14414414 0.04830918 0.05035971 0.06395349 0.02542373 0.04947917\n",
            "   0.03563474 0.02918782 0.03589744 0.01973684 0.07091172]\n",
            "  [0.00900901 0.         0.         0.01162791 0.         0.01041667\n",
            "   0.00890869 0.00380711 0.00512821 0.         0.00144718]\n",
            "  [0.11711712 0.09178744 0.13669065 0.09883721 0.04237288 0.0390625\n",
            "   0.04231626 0.03553299 0.03589744 0.05263158 0.03111433]\n",
            "  [0.         0.         0.         0.         0.         0.\n",
            "   0.         0.         0.         0.         0.        ]]]\n"
          ],
          "name": "stdout"
        }
      ]
    },
    {
      "cell_type": "code",
      "metadata": {
        "id": "l7G88ackOm__"
      },
      "source": [
        "#no wait... I have a mismatch. I have 5 rows with 11 columns each. \r\n",
        "#The issue is that in X_train (which predict_array was taken from)\r\n",
        "#does NOT have 5 lags. Meaning my shape doesn't match the model"
      ],
      "execution_count": 81,
      "outputs": []
    },
    {
      "cell_type": "code",
      "metadata": {
        "id": "qPFHSVYaOzsR"
      },
      "source": [
        "#Now I have to decide: \r\n",
        "#Get rid of the lags\r\n",
        "#or figure how to accurately pull the data with 5 lags\r\n",
        "#eventually both, of course"
      ],
      "execution_count": 82,
      "outputs": []
    },
    {
      "cell_type": "code",
      "metadata": {
        "id": "qqYDIKfpO_ki"
      },
      "source": [
        "#compare accuracy with 5 lags vs. 1 lag\r\n",
        "#if small, go ahead and run function with one lag\r\n",
        "# we don't need to reinvent the wheel here"
      ],
      "execution_count": 83,
      "outputs": []
    },
    {
      "cell_type": "code",
      "metadata": {
        "id": "tVIwsz04QIg_",
        "outputId": "dc089896-3714-4f2a-8cf0-4f19096eedbb",
        "colab": {
          "base_uri": "https://localhost:8080/"
        }
      },
      "source": [
        "X_train = X_train.reshape((X_train.shape[0], 1, 10))\r\n",
        "X_test = X_test.reshape((X_test.shape[0], 1, 10))\r\n",
        "print(X_train.shape)\r\n",
        "print(X_test.shape)"
      ],
      "execution_count": 84,
      "outputs": [
        {
          "output_type": "stream",
          "text": [
            "(727, 1, 10)\n",
            "(312, 1, 10)\n"
          ],
          "name": "stdout"
        }
      ]
    },
    {
      "cell_type": "code",
      "metadata": {
        "id": "XLJlsKXrOJ0U",
        "outputId": "3d287e44-7809-4bc7-9cd6-e27f93243b96",
        "colab": {
          "base_uri": "https://localhost:8080/"
        }
      },
      "source": [
        "now = datetime.datetime.now()\r\n",
        "model_1 = Sequential()\r\n",
        "model_1.add(LSTM(50, input_shape = (X_train.shape[1], X_train.shape[2])))\r\n",
        "model_1.add(Dense(50, activation = 'tanh'))\r\n",
        "model_1.add(Dropout(0.3))\r\n",
        "model_1.add(Dense(35, activation = 'tanh'))\r\n",
        "model_1.add(Dropout(0.3))\r\n",
        "model_1.add(Dense(20, activation = 'tanh'))\r\n",
        "model_1.add(Dropout(0.3))\r\n",
        "model_1.add(Dense(1))\r\n",
        "model_1.compile(loss = 'mse', optimizer = 'adam', metrics = ['mse'])\r\n",
        "\r\n",
        "history_1 = model_1.fit(X_train, y_train, epochs = 10, batch_size = 20, validation_data = (X_test, y_test),\r\n",
        "                        verbose = True, shuffle = False)"
      ],
      "execution_count": 85,
      "outputs": [
        {
          "output_type": "stream",
          "text": [
            "Epoch 1/10\n",
            "37/37 [==============================] - 3s 16ms/step - loss: 0.0089 - mse: 0.0089 - val_loss: 0.0079 - val_mse: 0.0079\n",
            "Epoch 2/10\n",
            "37/37 [==============================] - 0s 4ms/step - loss: 0.0050 - mse: 0.0050 - val_loss: 0.0079 - val_mse: 0.0079\n",
            "Epoch 3/10\n",
            "37/37 [==============================] - 0s 4ms/step - loss: 0.0054 - mse: 0.0054 - val_loss: 0.0081 - val_mse: 0.0081\n",
            "Epoch 4/10\n",
            "37/37 [==============================] - 0s 4ms/step - loss: 0.0053 - mse: 0.0053 - val_loss: 0.0081 - val_mse: 0.0081\n",
            "Epoch 5/10\n",
            "37/37 [==============================] - 0s 4ms/step - loss: 0.0050 - mse: 0.0050 - val_loss: 0.0080 - val_mse: 0.0080\n",
            "Epoch 6/10\n",
            "37/37 [==============================] - 0s 4ms/step - loss: 0.0052 - mse: 0.0052 - val_loss: 0.0080 - val_mse: 0.0080\n",
            "Epoch 7/10\n",
            "37/37 [==============================] - 0s 4ms/step - loss: 0.0052 - mse: 0.0052 - val_loss: 0.0076 - val_mse: 0.0076\n",
            "Epoch 8/10\n",
            "37/37 [==============================] - 0s 4ms/step - loss: 0.0050 - mse: 0.0050 - val_loss: 0.0087 - val_mse: 0.0087\n",
            "Epoch 9/10\n",
            "37/37 [==============================] - 0s 4ms/step - loss: 0.0052 - mse: 0.0052 - val_loss: 0.0075 - val_mse: 0.0075\n",
            "Epoch 10/10\n",
            "37/37 [==============================] - 0s 4ms/step - loss: 0.0047 - mse: 0.0047 - val_loss: 0.0081 - val_mse: 0.0081\n"
          ],
          "name": "stdout"
        }
      ]
    },
    {
      "cell_type": "code",
      "metadata": {
        "id": "coJyZZY_cxQ5",
        "outputId": "60863165-2249-4c8f-9e58-153cccb54bb2",
        "colab": {
          "base_uri": "https://localhost:8080/"
        }
      },
      "source": [
        "#67.19\r\n",
        "#making predictions \r\n",
        "yhat = model_1.predict(X_test)\r\n",
        "X_test = X_test.reshape((X_test.shape[0], 10))\r\n",
        "inv_yhat = np.concatenate((yhat, X_test[:, -10:]), axis = 1)\r\n",
        "inv_yhat = scaler.inverse_transform(inv_yhat)\r\n",
        "inv_yhat = inv_yhat[:, 0]\r\n",
        "\r\n",
        "y_test = y_test.reshape((len(y_test), 1))\r\n",
        "inv_y = np.concatenate((y_test, X_test[:, -10:]), axis = 1)\r\n",
        "inv_y = scaler.inverse_transform(inv_y)\r\n",
        "inv_y = inv_y[:, 0]\r\n",
        "\r\n",
        "mse = mean_squared_error(inv_y, inv_yhat)\r\n",
        "print('MSE of prediction: ', np.round(mse, 2))"
      ],
      "execution_count": 86,
      "outputs": [
        {
          "output_type": "stream",
          "text": [
            "MSE of prediction:  100.31\n"
          ],
          "name": "stdout"
        }
      ]
    },
    {
      "cell_type": "code",
      "metadata": {
        "id": "LVordU8DdPKC"
      },
      "source": [
        "#kaycee\r\n",
        "#quite a lot larger\r\n",
        "#let's get the function running on 1 lag\r\n",
        "#then we can go back and worry about multiples"
      ],
      "execution_count": 87,
      "outputs": []
    },
    {
      "cell_type": "code",
      "metadata": {
        "id": "8TZeEC7DqxtB",
        "outputId": "bf3bbbc2-34ac-4997-d568-dbafdd70ce30",
        "colab": {
          "base_uri": "https://localhost:8080/"
        }
      },
      "source": [
        "predict_array = train_df[-5:].values\r\n",
        "predict_array.shape"
      ],
      "execution_count": 88,
      "outputs": [
        {
          "output_type": "execute_result",
          "data": {
            "text/plain": [
              "(5, 11)"
            ]
          },
          "metadata": {
            "tags": []
          },
          "execution_count": 88
        }
      ]
    },
    {
      "cell_type": "code",
      "metadata": {
        "id": "L_wkmLY_sHBX"
      },
      "source": [
        "training_data = predict_array"
      ],
      "execution_count": 89,
      "outputs": []
    },
    {
      "cell_type": "code",
      "metadata": {
        "id": "diCmBfmosJB5",
        "outputId": "72252df1-4f78-4843-b158-562d8f832927",
        "colab": {
          "base_uri": "https://localhost:8080/",
          "height": 287
        }
      },
      "source": [
        "predict_values(training_data, output)"
      ],
      "execution_count": 90,
      "outputs": [
        {
          "output_type": "error",
          "ename": "ValueError",
          "evalue": "ignored",
          "traceback": [
            "\u001b[0;31m---------------------------------------------------------------------------\u001b[0m",
            "\u001b[0;31mValueError\u001b[0m                                Traceback (most recent call last)",
            "\u001b[0;32m<ipython-input-90-240df0f48d6e>\u001b[0m in \u001b[0;36m<module>\u001b[0;34m()\u001b[0m\n\u001b[0;32m----> 1\u001b[0;31m \u001b[0mpredict_values\u001b[0m\u001b[0;34m(\u001b[0m\u001b[0mtraining_data\u001b[0m\u001b[0;34m,\u001b[0m \u001b[0moutput\u001b[0m\u001b[0;34m)\u001b[0m\u001b[0;34m\u001b[0m\u001b[0;34m\u001b[0m\u001b[0m\n\u001b[0m",
            "\u001b[0;32m<ipython-input-55-2fd6ee7f5718>\u001b[0m in \u001b[0;36mpredict_values\u001b[0;34m(training_data, output)\u001b[0m\n\u001b[1;32m     14\u001b[0m   \u001b[0mx_array\u001b[0m \u001b[0;34m=\u001b[0m \u001b[0mnp\u001b[0m\u001b[0;34m.\u001b[0m\u001b[0marray\u001b[0m\u001b[0;34m(\u001b[0m\u001b[0mpredictions\u001b[0m\u001b[0;34m)\u001b[0m\u001b[0;34m\u001b[0m\u001b[0;34m\u001b[0m\u001b[0m\n\u001b[1;32m     15\u001b[0m   \u001b[0;31m#ammend function to intake number of input variables\u001b[0m\u001b[0;34m\u001b[0m\u001b[0;34m\u001b[0m\u001b[0;34m\u001b[0m\u001b[0m\n\u001b[0;32m---> 16\u001b[0;31m   \u001b[0mx_array\u001b[0m \u001b[0;34m=\u001b[0m \u001b[0mx_array\u001b[0m\u001b[0;34m.\u001b[0m\u001b[0mreshape\u001b[0m\u001b[0;34m(\u001b[0m\u001b[0;36m1\u001b[0m\u001b[0;34m,\u001b[0m \u001b[0;36m5\u001b[0m\u001b[0;34m,\u001b[0m \u001b[0;36m1\u001b[0m\u001b[0;34m)\u001b[0m\u001b[0;34m\u001b[0m\u001b[0;34m\u001b[0m\u001b[0m\n\u001b[0m\u001b[1;32m     17\u001b[0m \u001b[0;31m#Generate predictions\u001b[0m\u001b[0;34m\u001b[0m\u001b[0;34m\u001b[0m\u001b[0;34m\u001b[0m\u001b[0m\n\u001b[1;32m     18\u001b[0m   \u001b[0mmodel\u001b[0m \u001b[0;34m=\u001b[0m \u001b[0mmodel_5\u001b[0m\u001b[0;34m\u001b[0m\u001b[0;34m\u001b[0m\u001b[0m\n",
            "\u001b[0;31mValueError\u001b[0m: cannot reshape array of size 55 into shape (1,5,1)"
          ]
        }
      ]
    },
    {
      "cell_type": "code",
      "metadata": {
        "id": "V4igPv52sNhQ"
      },
      "source": [
        "  training_data = training_data.reshape(1,5,11)\r\n",
        "  model = model_1\r\n",
        "  for n in range(len(output)):\r\n",
        "    pred = model.predict(training_data)\r\n",
        "    training_data = np.append(training_data,pred)\r\n",
        "    predictions.append(pred)\r\n",
        "\r\n",
        "    training_data = training_data[-5:].reshape(1, 5, 11)\r\n",
        "  print(pred)"
      ],
      "execution_count": null,
      "outputs": []
    },
    {
      "cell_type": "code",
      "metadata": {
        "id": "7FArH7-dtmRP"
      },
      "source": [
        "#model_1 expects 10 inputs\r\n",
        "#so I'm going to remove the target column"
      ],
      "execution_count": null,
      "outputs": []
    },
    {
      "cell_type": "code",
      "metadata": {
        "id": "-GxtJd3Ctt1n"
      },
      "source": [
        "train_df = train_df.drop('Target', axis = 1)\r\n",
        "train_df.head()"
      ],
      "execution_count": null,
      "outputs": []
    },
    {
      "cell_type": "code",
      "metadata": {
        "id": "J3x-TpHisqOf"
      },
      "source": [
        "training_data = train_df[-5:].values\r\n",
        "print(training_data.shape)\r\n",
        "print(training_data)"
      ],
      "execution_count": null,
      "outputs": []
    },
    {
      "cell_type": "code",
      "metadata": {
        "id": "1mVUx_TUvQb_"
      },
      "source": [
        "training_data = training_data.reshape(1, 5, 10)\r\n",
        "pred = model.predict(training_data)\r\n",
        "print(pred)"
      ],
      "execution_count": null,
      "outputs": []
    },
    {
      "cell_type": "code",
      "metadata": {
        "id": "E_RTm-ncusiX"
      },
      "source": [
        "#the 51 comes because the model is making 1 pred\r\n",
        "#i can append it to a 'target' list\r\n",
        "#but i don't know that it will help me make predictions"
      ],
      "execution_count": null,
      "outputs": []
    },
    {
      "cell_type": "code",
      "metadata": {
        "id": "fkAav2vNvUPu"
      },
      "source": [
        "#i am beginning to think that the multivariate may not be capable of forecasting-\r\n",
        "#it forecasts based on the vars info\r\n",
        "#without that, it loses it's 'smartness'\r\n",
        "#so short of making a prediction for each var, then predicting off that\r\n",
        "#i'm not sure that this will work"
      ],
      "execution_count": null,
      "outputs": []
    }
  ]
}