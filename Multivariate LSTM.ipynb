{
 "cells": [
  {
   "cell_type": "markdown",
   "metadata": {},
   "source": [
    "# Steps: \n",
    "1. Determine which variables to use\n",
    "2. Cut down size of dataframe (maybe top 10 and do dummies? or an aggregate (# of pitbulls per month)\n",
    "3. Create multivariate dataframe, including timestamp index\n",
    "4. Scale, series_to_supervise\n",
    "5. Fit data, split to train_test sets\n",
    "6. Use univariate LSTM, tune to lowest MSE\n",
    "7. Compare univariate to multivariate scores, make analysis\n",
    "8. Save model and fit into function\n",
    "9. Write new prediction function? \n",
    "10. Conclude, interpret\n",
    "11. Make more visualizations\n",
    "12. Blog about it\n",
    "13. Where do we go from here? \n",
    "14. What is the \"so what\"? "
   ]
  },
  {
   "cell_type": "code",
   "execution_count": 1,
   "metadata": {},
   "outputs": [],
   "source": [
    "import pandas as pd"
   ]
  },
  {
   "cell_type": "code",
   "execution_count": 2,
   "metadata": {},
   "outputs": [],
   "source": [
    "df = pd.read_csv('data/raw_data.csv')"
   ]
  },
  {
   "cell_type": "code",
   "execution_count": 4,
   "metadata": {},
   "outputs": [],
   "source": [
    "df.set_index('ValidDate', inplace = True)"
   ]
  },
  {
   "cell_type": "code",
   "execution_count": 10,
   "metadata": {},
   "outputs": [],
   "source": [
    "df = df.drop(['ExpYear'], axis = 1)"
   ]
  },
  {
   "cell_type": "code",
   "execution_count": 11,
   "metadata": {},
   "outputs": [
    {
     "data": {
      "text/html": [
       "<div>\n",
       "<style scoped>\n",
       "    .dataframe tbody tr th:only-of-type {\n",
       "        vertical-align: middle;\n",
       "    }\n",
       "\n",
       "    .dataframe tbody tr th {\n",
       "        vertical-align: top;\n",
       "    }\n",
       "\n",
       "    .dataframe thead th {\n",
       "        text-align: right;\n",
       "    }\n",
       "</style>\n",
       "<table border=\"1\" class=\"dataframe\">\n",
       "  <thead>\n",
       "    <tr style=\"text-align: right;\">\n",
       "      <th></th>\n",
       "      <th>LicenseType</th>\n",
       "      <th>Breed</th>\n",
       "      <th>Color</th>\n",
       "      <th>DogName</th>\n",
       "      <th>OwnerZip</th>\n",
       "    </tr>\n",
       "    <tr>\n",
       "      <th>ValidDate</th>\n",
       "      <th></th>\n",
       "      <th></th>\n",
       "      <th></th>\n",
       "      <th></th>\n",
       "      <th></th>\n",
       "    </tr>\n",
       "  </thead>\n",
       "  <tbody>\n",
       "    <tr>\n",
       "      <th>2014-12-02 09:40:53</th>\n",
       "      <td>Dog Individual Neutered Male</td>\n",
       "      <td>COCKAPOO</td>\n",
       "      <td>BROWN</td>\n",
       "      <td>CHARLEY</td>\n",
       "      <td>15236</td>\n",
       "    </tr>\n",
       "    <tr>\n",
       "      <th>2014-12-02 09:45:25</th>\n",
       "      <td>Dog Senior Citizen or Disability Neutered Male</td>\n",
       "      <td>GER SHEPHERD</td>\n",
       "      <td>BLACK/BROWN</td>\n",
       "      <td>TACODA</td>\n",
       "      <td>15238</td>\n",
       "    </tr>\n",
       "    <tr>\n",
       "      <th>2014-12-02 09:47:55</th>\n",
       "      <td>Dog Individual Spayed Female</td>\n",
       "      <td>GER SHEPHERD</td>\n",
       "      <td>BLACK</td>\n",
       "      <td>CHARLY</td>\n",
       "      <td>15205</td>\n",
       "    </tr>\n",
       "    <tr>\n",
       "      <th>2014-12-02 10:02:33</th>\n",
       "      <td>Dog Individual Spayed Female</td>\n",
       "      <td>LABRADOR RETRIEVER</td>\n",
       "      <td>BLACK</td>\n",
       "      <td>ABBEY</td>\n",
       "      <td>15143</td>\n",
       "    </tr>\n",
       "    <tr>\n",
       "      <th>2014-12-02 10:05:50</th>\n",
       "      <td>Dog Individual Female</td>\n",
       "      <td>GER SHORTHAIR POINT</td>\n",
       "      <td>BROWN</td>\n",
       "      <td>CHARLEY</td>\n",
       "      <td>15228</td>\n",
       "    </tr>\n",
       "  </tbody>\n",
       "</table>\n",
       "</div>"
      ],
      "text/plain": [
       "                                                        LicenseType  \\\n",
       "ValidDate                                                             \n",
       "2014-12-02 09:40:53                    Dog Individual Neutered Male   \n",
       "2014-12-02 09:45:25  Dog Senior Citizen or Disability Neutered Male   \n",
       "2014-12-02 09:47:55                    Dog Individual Spayed Female   \n",
       "2014-12-02 10:02:33                    Dog Individual Spayed Female   \n",
       "2014-12-02 10:05:50                           Dog Individual Female   \n",
       "\n",
       "                                   Breed        Color  DogName  OwnerZip  \n",
       "ValidDate                                                                 \n",
       "2014-12-02 09:40:53             COCKAPOO        BROWN  CHARLEY     15236  \n",
       "2014-12-02 09:45:25         GER SHEPHERD  BLACK/BROWN   TACODA     15238  \n",
       "2014-12-02 09:47:55         GER SHEPHERD        BLACK   CHARLY     15205  \n",
       "2014-12-02 10:02:33   LABRADOR RETRIEVER        BLACK    ABBEY     15143  \n",
       "2014-12-02 10:05:50  GER SHORTHAIR POINT        BROWN  CHARLEY     15228  "
      ]
     },
     "execution_count": 11,
     "metadata": {},
     "output_type": "execute_result"
    }
   ],
   "source": [
    "df.head()"
   ]
  },
  {
   "cell_type": "code",
   "execution_count": 14,
   "metadata": {},
   "outputs": [
    {
     "data": {
      "text/plain": [
       "286724"
      ]
     },
     "execution_count": 14,
     "metadata": {},
     "output_type": "execute_result"
    }
   ],
   "source": [
    "df['Breed'].value_counts().sum()"
   ]
  },
  {
   "cell_type": "code",
   "execution_count": null,
   "metadata": {},
   "outputs": [],
   "source": [
    "#I would definitely need to look at cutting that number down- that would be way too noisy.\n",
    "#My initial thought is to see what the top 10 breeds are\n",
    "#Maybe from there I can either to dummies or aggregate"
   ]
  },
  {
   "cell_type": "code",
   "execution_count": 46,
   "metadata": {},
   "outputs": [],
   "source": [
    "top_ten = df['Breed'].value_counts()[:11]"
   ]
  },
  {
   "cell_type": "code",
   "execution_count": 47,
   "metadata": {},
   "outputs": [
    {
     "data": {
      "text/plain": [
       "MIXED                  29009\n",
       "LABRADOR RETRIEVER     19713\n",
       "LAB MIX                17714\n",
       "GOLDEN RETRIEVER        9344\n",
       "GER SHEPHERD            8437\n",
       "SHIH TZU                7976\n",
       "BEAGLE                  7960\n",
       "CHIHUAHUA               7664\n",
       "TAG                     7475\n",
       "AM PIT BULL TERRIER     7332\n",
       "YORKSHIRE TERRIER       6268\n",
       "Name: Breed, dtype: int64"
      ]
     },
     "execution_count": 47,
     "metadata": {},
     "output_type": "execute_result"
    }
   ],
   "source": [
    "top_ten\n",
    "#bar chart here"
   ]
  },
  {
   "cell_type": "code",
   "execution_count": null,
   "metadata": {},
   "outputs": [],
   "source": [
    "#TAG is not a type of dog. they are denoting that they are putting tags on an existing dog"
   ]
  },
  {
   "cell_type": "code",
   "execution_count": 67,
   "metadata": {},
   "outputs": [
    {
     "data": {
      "text/html": [
       "<div>\n",
       "<style scoped>\n",
       "    .dataframe tbody tr th:only-of-type {\n",
       "        vertical-align: middle;\n",
       "    }\n",
       "\n",
       "    .dataframe tbody tr th {\n",
       "        vertical-align: top;\n",
       "    }\n",
       "\n",
       "    .dataframe thead th {\n",
       "        text-align: right;\n",
       "    }\n",
       "</style>\n",
       "<table border=\"1\" class=\"dataframe\">\n",
       "  <thead>\n",
       "    <tr style=\"text-align: right;\">\n",
       "      <th></th>\n",
       "      <th>LicenseType</th>\n",
       "      <th>Breed</th>\n",
       "      <th>Color</th>\n",
       "      <th>DogName</th>\n",
       "      <th>OwnerZip</th>\n",
       "    </tr>\n",
       "    <tr>\n",
       "      <th>ValidDate</th>\n",
       "      <th></th>\n",
       "      <th></th>\n",
       "      <th></th>\n",
       "      <th></th>\n",
       "      <th></th>\n",
       "    </tr>\n",
       "  </thead>\n",
       "  <tbody>\n",
       "    <tr>\n",
       "      <th>2015-03-12 11:11:36</th>\n",
       "      <td>Dog Individual Spayed Female</td>\n",
       "      <td>TAG</td>\n",
       "      <td>BLACK</td>\n",
       "      <td>SHADOW</td>\n",
       "      <td>15102</td>\n",
       "    </tr>\n",
       "    <tr>\n",
       "      <th>2017-01-10 09:39:46</th>\n",
       "      <td>Dog Individual Spayed Female</td>\n",
       "      <td>TAG</td>\n",
       "      <td>BLACK</td>\n",
       "      <td>SHADOW</td>\n",
       "      <td>15102</td>\n",
       "    </tr>\n",
       "    <tr>\n",
       "      <th>2015-12-11 10:35:08</th>\n",
       "      <td>Dog Individual Spayed Female</td>\n",
       "      <td>TAG</td>\n",
       "      <td>BLACK</td>\n",
       "      <td>SHADOW</td>\n",
       "      <td>15102</td>\n",
       "    </tr>\n",
       "  </tbody>\n",
       "</table>\n",
       "</div>"
      ],
      "text/plain": [
       "                                      LicenseType Breed  Color DogName  \\\n",
       "ValidDate                                                                \n",
       "2015-03-12 11:11:36  Dog Individual Spayed Female   TAG  BLACK  SHADOW   \n",
       "2017-01-10 09:39:46  Dog Individual Spayed Female   TAG  BLACK  SHADOW   \n",
       "2015-12-11 10:35:08  Dog Individual Spayed Female   TAG  BLACK  SHADOW   \n",
       "\n",
       "                     OwnerZip  \n",
       "ValidDate                      \n",
       "2015-03-12 11:11:36     15102  \n",
       "2017-01-10 09:39:46     15102  \n",
       "2015-12-11 10:35:08     15102  "
      ]
     },
     "execution_count": 67,
     "metadata": {},
     "output_type": "execute_result"
    }
   ],
   "source": [
    "tag_df = df.loc[df['Breed'] == 'TAG']\n",
    "tag_df.loc[(tag_df['DogName'] == 'SHADOW') & (tag_df['OwnerZip'] == 15102)]"
   ]
  },
  {
   "cell_type": "code",
   "execution_count": 61,
   "metadata": {
    "scrolled": true
   },
   "outputs": [
    {
     "data": {
      "text/plain": [
       "5708"
      ]
     },
     "execution_count": 61,
     "metadata": {},
     "output_type": "execute_result"
    }
   ],
   "source": [
    "a = len(tag_df['DogName'])\n",
    "b = len(tag_df['DogName'].value_counts())\n",
    "a-b"
   ]
  },
  {
   "cell_type": "code",
   "execution_count": 68,
   "metadata": {},
   "outputs": [],
   "source": [
    "top_ten_df = df[(df['Breed'] == 'MIXED') |\n",
    "                (df['Breed'] == 'LABRADOR RETRIEVER') |\n",
    "                (df['Breed'] == 'LAB MIX') |\n",
    "                (df['Breed'] == 'GOLDEN RETRIEVER') |\n",
    "                (df['Breed'] == 'GER SHEPHERD') |\n",
    "                (df['Breed'] == 'SHIH TZU') |\n",
    "                (df['Breed'] == 'BEAGLE') |\n",
    "                (df['Breed'] == 'CHIHUAHUA') |\n",
    "                (df['Breed'] == 'YORKSHIRE TERRIER') |\n",
    "                (df['Breed'] == 'AM PIT BULL TERRIER')]"
   ]
  },
  {
   "cell_type": "code",
   "execution_count": null,
   "metadata": {},
   "outputs": [],
   "source": [
    "#In the univariate model, we summed the total licenses per day. I think we could sum each breed per day,\n",
    "#and also include a column that shows the % of dogs per day that were top 10\n",
    "#Let's start by summing the top 10 per day"
   ]
  }
 ],
 "metadata": {
  "kernelspec": {
   "display_name": "Python 3",
   "language": "python",
   "name": "python3"
  },
  "language_info": {
   "codemirror_mode": {
    "name": "ipython",
    "version": 3
   },
   "file_extension": ".py",
   "mimetype": "text/x-python",
   "name": "python",
   "nbconvert_exporter": "python",
   "pygments_lexer": "ipython3",
   "version": "3.7.3"
  }
 },
 "nbformat": 4,
 "nbformat_minor": 2
}
