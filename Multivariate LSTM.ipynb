{
 "cells": [
  {
   "cell_type": "markdown",
   "metadata": {},
   "source": [
    "# Steps: \n",
    "1. Determine which variables to use\n",
    "2. Cut down size of dataframe (maybe top 10 and do dummies? or an aggregate (# of pitbulls per month)\n",
    "3. Create multivariate dataframe, including timestamp index\n",
    "4. Scale, series_to_supervise\n",
    "5. Fit data, split to train_test sets\n",
    "6. Use univariate LSTM, tune to lowest MSE\n",
    "7. Compare univariate to multivariate scores, make analysis\n",
    "8. Save model and fit into function\n",
    "9. Write new prediction function? \n",
    "10. Conclude, interpret\n",
    "11. Make more visualizations\n",
    "12. Blog about it\n",
    "13. Where do we go from here? \n",
    "14. What is the \"so what\"? "
   ]
  },
  {
   "cell_type": "code",
   "execution_count": null,
   "metadata": {},
   "outputs": [],
   "source": [
    "#feeling rather drained of this, i may just be moving to colab. this has put me off too long"
   ]
  },
  {
   "cell_type": "code",
   "execution_count": 1,
   "metadata": {},
   "outputs": [
    {
     "ename": "ImportError",
     "evalue": "Keras requires TensorFlow 2.2 or higher. Install TensorFlow via `pip install tensorflow`",
     "output_type": "error",
     "traceback": [
      "\u001b[1;31m---------------------------------------------------------------------------\u001b[0m",
      "\u001b[1;31mImportError\u001b[0m                               Traceback (most recent call last)",
      "\u001b[1;32m~\\Anaconda3\\lib\\site-packages\\tensorflow\\python\\pywrap_tensorflow.py\u001b[0m in \u001b[0;36m<module>\u001b[1;34m\u001b[0m\n\u001b[0;32m     63\u001b[0m   \u001b[1;32mtry\u001b[0m\u001b[1;33m:\u001b[0m\u001b[1;33m\u001b[0m\u001b[1;33m\u001b[0m\u001b[0m\n\u001b[1;32m---> 64\u001b[1;33m     \u001b[1;32mfrom\u001b[0m \u001b[0mtensorflow\u001b[0m\u001b[1;33m.\u001b[0m\u001b[0mpython\u001b[0m\u001b[1;33m.\u001b[0m\u001b[0m_pywrap_tensorflow_internal\u001b[0m \u001b[1;32mimport\u001b[0m \u001b[1;33m*\u001b[0m\u001b[1;33m\u001b[0m\u001b[1;33m\u001b[0m\u001b[0m\n\u001b[0m\u001b[0;32m     65\u001b[0m   \u001b[1;31m# This try catch logic is because there is no bazel equivalent for py_extension.\u001b[0m\u001b[1;33m\u001b[0m\u001b[1;33m\u001b[0m\u001b[1;33m\u001b[0m\u001b[0m\n",
      "\u001b[1;31mImportError\u001b[0m: DLL load failed: The specified module could not be found.",
      "\nDuring handling of the above exception, another exception occurred:\n",
      "\u001b[1;31mImportError\u001b[0m                               Traceback (most recent call last)",
      "\u001b[1;32m~\\Anaconda3\\lib\\site-packages\\keras\\__init__.py\u001b[0m in \u001b[0;36m<module>\u001b[1;34m\u001b[0m\n\u001b[0;32m      2\u001b[0m \u001b[1;32mtry\u001b[0m\u001b[1;33m:\u001b[0m\u001b[1;33m\u001b[0m\u001b[1;33m\u001b[0m\u001b[0m\n\u001b[1;32m----> 3\u001b[1;33m     \u001b[1;32mfrom\u001b[0m \u001b[0mtensorflow\u001b[0m\u001b[1;33m.\u001b[0m\u001b[0mkeras\u001b[0m\u001b[1;33m.\u001b[0m\u001b[0mlayers\u001b[0m\u001b[1;33m.\u001b[0m\u001b[0mexperimental\u001b[0m\u001b[1;33m.\u001b[0m\u001b[0mpreprocessing\u001b[0m \u001b[1;32mimport\u001b[0m \u001b[0mRandomRotation\u001b[0m\u001b[1;33m\u001b[0m\u001b[1;33m\u001b[0m\u001b[0m\n\u001b[0m\u001b[0;32m      4\u001b[0m \u001b[1;32mexcept\u001b[0m \u001b[0mImportError\u001b[0m\u001b[1;33m:\u001b[0m\u001b[1;33m\u001b[0m\u001b[1;33m\u001b[0m\u001b[0m\n",
      "\u001b[1;32m~\\Anaconda3\\lib\\site-packages\\tensorflow\\__init__.py\u001b[0m in \u001b[0;36m<module>\u001b[1;34m\u001b[0m\n\u001b[0;32m     40\u001b[0m \u001b[1;33m\u001b[0m\u001b[0m\n\u001b[1;32m---> 41\u001b[1;33m \u001b[1;32mfrom\u001b[0m \u001b[0mtensorflow\u001b[0m\u001b[1;33m.\u001b[0m\u001b[0mpython\u001b[0m\u001b[1;33m.\u001b[0m\u001b[0mtools\u001b[0m \u001b[1;32mimport\u001b[0m \u001b[0mmodule_util\u001b[0m \u001b[1;32mas\u001b[0m \u001b[0m_module_util\u001b[0m\u001b[1;33m\u001b[0m\u001b[1;33m\u001b[0m\u001b[0m\n\u001b[0m\u001b[0;32m     42\u001b[0m \u001b[1;32mfrom\u001b[0m \u001b[0mtensorflow\u001b[0m\u001b[1;33m.\u001b[0m\u001b[0mpython\u001b[0m\u001b[1;33m.\u001b[0m\u001b[0mutil\u001b[0m\u001b[1;33m.\u001b[0m\u001b[0mlazy_loader\u001b[0m \u001b[1;32mimport\u001b[0m \u001b[0mLazyLoader\u001b[0m \u001b[1;32mas\u001b[0m \u001b[0m_LazyLoader\u001b[0m\u001b[1;33m\u001b[0m\u001b[1;33m\u001b[0m\u001b[0m\n",
      "\u001b[1;32m~\\Anaconda3\\lib\\site-packages\\tensorflow\\python\\__init__.py\u001b[0m in \u001b[0;36m<module>\u001b[1;34m\u001b[0m\n\u001b[0;32m     38\u001b[0m \u001b[1;31m# pylint: disable=wildcard-import,g-bad-import-order,g-import-not-at-top\u001b[0m\u001b[1;33m\u001b[0m\u001b[1;33m\u001b[0m\u001b[1;33m\u001b[0m\u001b[0m\n\u001b[1;32m---> 39\u001b[1;33m \u001b[1;32mfrom\u001b[0m \u001b[0mtensorflow\u001b[0m\u001b[1;33m.\u001b[0m\u001b[0mpython\u001b[0m \u001b[1;32mimport\u001b[0m \u001b[0mpywrap_tensorflow\u001b[0m \u001b[1;32mas\u001b[0m \u001b[0m_pywrap_tensorflow\u001b[0m\u001b[1;33m\u001b[0m\u001b[1;33m\u001b[0m\u001b[0m\n\u001b[0m\u001b[0;32m     40\u001b[0m \u001b[1;33m\u001b[0m\u001b[0m\n",
      "\u001b[1;32m~\\Anaconda3\\lib\\site-packages\\tensorflow\\python\\pywrap_tensorflow.py\u001b[0m in \u001b[0;36m<module>\u001b[1;34m\u001b[0m\n\u001b[0;32m     82\u001b[0m above this error message when asking for help.\"\"\" % traceback.format_exc()\n\u001b[1;32m---> 83\u001b[1;33m   \u001b[1;32mraise\u001b[0m \u001b[0mImportError\u001b[0m\u001b[1;33m(\u001b[0m\u001b[0mmsg\u001b[0m\u001b[1;33m)\u001b[0m\u001b[1;33m\u001b[0m\u001b[1;33m\u001b[0m\u001b[0m\n\u001b[0m\u001b[0;32m     84\u001b[0m \u001b[1;33m\u001b[0m\u001b[0m\n",
      "\u001b[1;31mImportError\u001b[0m: Traceback (most recent call last):\n  File \"C:\\Users\\kayce_000\\Anaconda3\\lib\\site-packages\\tensorflow\\python\\pywrap_tensorflow.py\", line 64, in <module>\n    from tensorflow.python._pywrap_tensorflow_internal import *\nImportError: DLL load failed: The specified module could not be found.\n\n\nFailed to load the native TensorFlow runtime.\n\nSee https://www.tensorflow.org/install/errors\n\nfor some common reasons and solutions.  Include the entire stack trace\nabove this error message when asking for help.",
      "\nDuring handling of the above exception, another exception occurred:\n",
      "\u001b[1;31mImportError\u001b[0m                               Traceback (most recent call last)",
      "\u001b[1;32m<ipython-input-1-3c823c19ba39>\u001b[0m in \u001b[0;36m<module>\u001b[1;34m\u001b[0m\n\u001b[0;32m     12\u001b[0m \u001b[1;32mimport\u001b[0m \u001b[0mdatetime\u001b[0m\u001b[1;33m\u001b[0m\u001b[1;33m\u001b[0m\u001b[0m\n\u001b[0;32m     13\u001b[0m \u001b[1;32mfrom\u001b[0m \u001b[0msklearn\u001b[0m\u001b[1;33m.\u001b[0m\u001b[0mmetrics\u001b[0m \u001b[1;32mimport\u001b[0m \u001b[0mmean_squared_error\u001b[0m\u001b[1;33m\u001b[0m\u001b[1;33m\u001b[0m\u001b[0m\n\u001b[1;32m---> 14\u001b[1;33m \u001b[1;32mfrom\u001b[0m \u001b[0mkeras\u001b[0m\u001b[1;33m.\u001b[0m\u001b[0mmodels\u001b[0m \u001b[1;32mimport\u001b[0m \u001b[0mSequential\u001b[0m\u001b[1;33m,\u001b[0m \u001b[0mload_model\u001b[0m\u001b[1;33m\u001b[0m\u001b[1;33m\u001b[0m\u001b[0m\n\u001b[0m\u001b[0;32m     15\u001b[0m \u001b[1;32mfrom\u001b[0m \u001b[0mkeras\u001b[0m\u001b[1;33m.\u001b[0m\u001b[0mlayers\u001b[0m \u001b[1;32mimport\u001b[0m \u001b[0mDense\u001b[0m\u001b[1;33m,\u001b[0m \u001b[0mLSTM\u001b[0m\u001b[1;33m,\u001b[0m \u001b[0mDropout\u001b[0m\u001b[1;33m\u001b[0m\u001b[1;33m\u001b[0m\u001b[0m\n",
      "\u001b[1;32m~\\Anaconda3\\lib\\site-packages\\keras\\__init__.py\u001b[0m in \u001b[0;36m<module>\u001b[1;34m\u001b[0m\n\u001b[0;32m      4\u001b[0m \u001b[1;32mexcept\u001b[0m \u001b[0mImportError\u001b[0m\u001b[1;33m:\u001b[0m\u001b[1;33m\u001b[0m\u001b[1;33m\u001b[0m\u001b[0m\n\u001b[0;32m      5\u001b[0m     raise ImportError(\n\u001b[1;32m----> 6\u001b[1;33m         \u001b[1;34m'Keras requires TensorFlow 2.2 or higher. '\u001b[0m\u001b[1;33m\u001b[0m\u001b[1;33m\u001b[0m\u001b[0m\n\u001b[0m\u001b[0;32m      7\u001b[0m         'Install TensorFlow via `pip install tensorflow`')\n\u001b[0;32m      8\u001b[0m \u001b[1;33m\u001b[0m\u001b[0m\n",
      "\u001b[1;31mImportError\u001b[0m: Keras requires TensorFlow 2.2 or higher. Install TensorFlow via `pip install tensorflow`"
     ]
    }
   ],
   "source": [
    "import pandas as pd\n",
    "import warnings\n",
    "warnings.filterwarnings('ignore')\n",
    "import matplotlib.pyplot as plt\n",
    "%matplotlib inline\n",
    "import seaborn as sns\n",
    "from pandas.plotting import table\n",
    "import dataframe_image as dfi\n",
    "from sklearn.preprocessing import MinMaxScaler\n",
    "from sklearn.model_selection import train_test_split\n",
    "import time\n",
    "import datetime\n",
    "from sklearn.metrics import mean_squared_error\n",
    "from keras.models import Sequential, load_model\n",
    "from keras.layers import Dense, LSTM, Dropout"
   ]
  },
  {
   "cell_type": "code",
   "execution_count": 8,
   "metadata": {},
   "outputs": [
    {
     "name": "stdout",
     "output_type": "stream",
     "text": [
      "Requirement already satisfied: keras in c:\\users\\kayce_000\\anaconda3\\lib\\site-packages (2.4.3)\n",
      "Requirement already satisfied: h5py in c:\\users\\kayce_000\\anaconda3\\lib\\site-packages (from keras) (2.10.0)\n",
      "Requirement already satisfied: numpy>=1.9.1 in c:\\users\\kayce_000\\anaconda3\\lib\\site-packages (from keras) (1.19.5)\n",
      "Requirement already satisfied: scipy>=0.14 in c:\\users\\kayce_000\\anaconda3\\lib\\site-packages (from keras) (1.4.1)\n",
      "Requirement already satisfied: pyyaml in c:\\users\\kayce_000\\anaconda3\\lib\\site-packages (from keras) (5.1)\n",
      "Requirement already satisfied: six in c:\\users\\kayce_000\\appdata\\roaming\\python\\python37\\site-packages (from h5py->keras) (1.15.0)\n",
      "Note: you may need to restart the kernel to use updated packages.\n"
     ]
    }
   ],
   "source": [
    "pip install keras"
   ]
  },
  {
   "cell_type": "code",
   "execution_count": 2,
   "metadata": {},
   "outputs": [
    {
     "name": "stdout",
     "output_type": "stream",
     "text": [
      "Name: Keras\n",
      "Version: 2.4.3\n",
      "Summary: Deep Learning for humans\n",
      "Home-page: https://github.com/keras-team/keras\n",
      "Author: Francois Chollet\n",
      "Author-email: francois.chollet@gmail.com\n",
      "License: MIT\n",
      "Location: c:\\users\\kayce_000\\anaconda3\\lib\\site-packages\n",
      "Requires: pyyaml, h5py, scipy, numpy\n",
      "Required-by: \n",
      "Note: you may need to restart the kernel to use updated packages.\n"
     ]
    }
   ],
   "source": [
    "pip show keras"
   ]
  },
  {
   "cell_type": "code",
   "execution_count": 6,
   "metadata": {},
   "outputs": [
    {
     "name": "stdout",
     "output_type": "stream",
     "text": [
      "Name: tensorflow\n",
      "Version: 2.4.1\n",
      "Summary: TensorFlow is an open source machine learning framework for everyone.\n",
      "Home-page: https://www.tensorflow.org/\n",
      "Author: Google Inc.\n",
      "Author-email: packages@tensorflow.org\n",
      "License: Apache 2.0\n",
      "Location: c:\\users\\kayce_000\\anaconda3\\lib\\site-packages\n",
      "Requires: wrapt, google-pasta, h5py, six, keras-preprocessing, typing-extensions, wheel, flatbuffers, numpy, tensorboard, grpcio, absl-py, gast, tensorflow-estimator, termcolor, astunparse, opt-einsum, protobuf\n",
      "Required-by: \n",
      "Note: you may need to restart the kernel to use updated packages.\n"
     ]
    }
   ],
   "source": [
    "pip show tensorflow"
   ]
  },
  {
   "cell_type": "code",
   "execution_count": 5,
   "metadata": {},
   "outputs": [
    {
     "name": "stdout",
     "output_type": "stream",
     "text": [
      "Requirement already satisfied: tensorflow in c:\\users\\kayce_000\\anaconda3\\lib\\site-packages (2.2.0)\n",
      "Collecting tensorflow\n",
      "  Using cached tensorflow-2.4.1-cp37-cp37m-win_amd64.whl (370.7 MB)\n",
      "Requirement already satisfied: wrapt~=1.12.1 in c:\\users\\kayce_000\\appdata\\roaming\\python\\python37\\site-packages (from tensorflow) (1.12.1)\n",
      "Requirement already satisfied: termcolor~=1.1.0 in c:\\users\\kayce_000\\anaconda3\\lib\\site-packages (from tensorflow) (1.1.0)\n",
      "Requirement already satisfied: typing-extensions~=3.7.4 in c:\\users\\kayce_000\\anaconda3\\lib\\site-packages (from tensorflow) (3.7.4.3)\n",
      "Collecting tensorflow-estimator<2.5.0,>=2.4.0\n",
      "  Using cached tensorflow_estimator-2.4.0-py2.py3-none-any.whl (462 kB)\n",
      "Requirement already satisfied: astunparse~=1.6.3 in c:\\users\\kayce_000\\anaconda3\\lib\\site-packages (from tensorflow) (1.6.3)\n",
      "Requirement already satisfied: numpy~=1.19.2 in c:\\users\\kayce_000\\anaconda3\\lib\\site-packages (from tensorflow) (1.19.5)\n",
      "Requirement already satisfied: google-pasta~=0.2 in c:\\users\\kayce_000\\anaconda3\\lib\\site-packages (from tensorflow) (0.2.0)\n",
      "Requirement already satisfied: opt-einsum~=3.3.0 in c:\\users\\kayce_000\\appdata\\roaming\\python\\python37\\site-packages (from tensorflow) (3.3.0)\n",
      "Requirement already satisfied: keras-preprocessing~=1.1.2 in c:\\users\\kayce_000\\anaconda3\\lib\\site-packages (from tensorflow) (1.1.2)\n",
      "Requirement already satisfied: flatbuffers~=1.12.0 in c:\\users\\kayce_000\\appdata\\roaming\\python\\python37\\site-packages (from tensorflow) (1.12)\n",
      "Requirement already satisfied: h5py~=2.10.0 in c:\\users\\kayce_000\\anaconda3\\lib\\site-packages (from tensorflow) (2.10.0)\n",
      "Collecting tensorboard~=2.4\n",
      "  Using cached tensorboard-2.4.1-py3-none-any.whl (10.6 MB)\n",
      "Requirement already satisfied: grpcio~=1.32.0 in c:\\users\\kayce_000\\appdata\\roaming\\python\\python37\\site-packages (from tensorflow) (1.32.0)\n",
      "Requirement already satisfied: protobuf>=3.9.2 in c:\\users\\kayce_000\\anaconda3\\lib\\site-packages (from tensorflow) (3.12.2)\n",
      "Requirement already satisfied: six~=1.15.0 in c:\\users\\kayce_000\\appdata\\roaming\\python\\python37\\site-packages (from tensorflow) (1.15.0)\n",
      "Requirement already satisfied: gast==0.3.3 in c:\\users\\kayce_000\\appdata\\roaming\\python\\python37\\site-packages (from tensorflow) (0.3.3)\n",
      "Requirement already satisfied: wheel~=0.35 in c:\\users\\kayce_000\\appdata\\roaming\\python\\python37\\site-packages (from tensorflow) (0.36.2)\n",
      "Requirement already satisfied: absl-py~=0.10 in c:\\users\\kayce_000\\appdata\\roaming\\python\\python37\\site-packages (from tensorflow) (0.11.0)\n",
      "Requirement already satisfied: setuptools in c:\\users\\kayce_000\\anaconda3\\lib\\site-packages (from protobuf>=3.9.2->tensorflow) (49.2.0)\n",
      "Requirement already satisfied: google-auth<2,>=1.6.3 in c:\\users\\kayce_000\\anaconda3\\lib\\site-packages (from tensorboard~=2.4->tensorflow) (1.19.1)\n",
      "Requirement already satisfied: tensorboard-plugin-wit>=1.6.0 in c:\\users\\kayce_000\\anaconda3\\lib\\site-packages (from tensorboard~=2.4->tensorflow) (1.7.0)\n",
      "Requirement already satisfied: requests<3,>=2.21.0 in c:\\users\\kayce_000\\anaconda3\\lib\\site-packages (from tensorboard~=2.4->tensorflow) (2.21.0)\n",
      "Requirement already satisfied: markdown>=2.6.8 in c:\\users\\kayce_000\\anaconda3\\lib\\site-packages (from tensorboard~=2.4->tensorflow) (3.2.2)\n",
      "Requirement already satisfied: werkzeug>=0.11.15 in c:\\users\\kayce_000\\anaconda3\\lib\\site-packages (from tensorboard~=2.4->tensorflow) (0.14.1)\n",
      "Requirement already satisfied: google-auth-oauthlib<0.5,>=0.4.1 in c:\\users\\kayce_000\\anaconda3\\lib\\site-packages (from tensorboard~=2.4->tensorflow) (0.4.1)\n",
      "Requirement already satisfied: pyasn1-modules>=0.2.1 in c:\\users\\kayce_000\\anaconda3\\lib\\site-packages (from google-auth<2,>=1.6.3->tensorboard~=2.4->tensorflow) (0.2.8)\n",
      "Requirement already satisfied: cachetools<5.0,>=2.0.0 in c:\\users\\kayce_000\\anaconda3\\lib\\site-packages (from google-auth<2,>=1.6.3->tensorboard~=2.4->tensorflow) (4.1.1)\n",
      "Requirement already satisfied: rsa<5,>=3.1.4 in c:\\users\\kayce_000\\anaconda3\\lib\\site-packages (from google-auth<2,>=1.6.3->tensorboard~=2.4->tensorflow) (4.6)\n",
      "Requirement already satisfied: requests-oauthlib>=0.7.0 in c:\\users\\kayce_000\\anaconda3\\lib\\site-packages (from google-auth-oauthlib<0.5,>=0.4.1->tensorboard~=2.4->tensorflow) (1.3.0)\n",
      "Requirement already satisfied: importlib-metadata in c:\\users\\kayce_000\\anaconda3\\lib\\site-packages (from markdown>=2.6.8->tensorboard~=2.4->tensorflow) (0.0.0)\n",
      "Requirement already satisfied: pyasn1<0.5.0,>=0.4.6 in c:\\users\\kayce_000\\anaconda3\\lib\\site-packages (from pyasn1-modules>=0.2.1->google-auth<2,>=1.6.3->tensorboard~=2.4->tensorflow) (0.4.8)\n",
      "Requirement already satisfied: idna<2.9,>=2.5 in c:\\users\\kayce_000\\anaconda3\\lib\\site-packages (from requests<3,>=2.21.0->tensorboard~=2.4->tensorflow) (2.8)\n",
      "Requirement already satisfied: certifi>=2017.4.17 in c:\\users\\kayce_000\\anaconda3\\lib\\site-packages (from requests<3,>=2.21.0->tensorboard~=2.4->tensorflow) (2019.3.9)\n",
      "Requirement already satisfied: chardet<3.1.0,>=3.0.2 in c:\\users\\kayce_000\\anaconda3\\lib\\site-packages (from requests<3,>=2.21.0->tensorboard~=2.4->tensorflow) (3.0.4)\n",
      "Requirement already satisfied: urllib3<1.25,>=1.21.1 in c:\\users\\kayce_000\\anaconda3\\lib\\site-packages (from requests<3,>=2.21.0->tensorboard~=2.4->tensorflow) (1.24.1)\n",
      "Requirement already satisfied: oauthlib>=3.0.0 in c:\\users\\kayce_000\\anaconda3\\lib\\site-packages (from requests-oauthlib>=0.7.0->google-auth-oauthlib<0.5,>=0.4.1->tensorboard~=2.4->tensorflow) (3.1.0)\n",
      "Requirement already satisfied: zipp>=0.3.2 in c:\\users\\kayce_000\\anaconda3\\lib\\site-packages (from importlib-metadata->markdown>=2.6.8->tensorboard~=2.4->tensorflow) (0.3.3)\n",
      "Installing collected packages: tensorflow-estimator, tensorboard, tensorflow\n",
      "  Attempting uninstall: tensorflow-estimator\n",
      "    Found existing installation: tensorflow-estimator 2.2.0\n",
      "    Uninstalling tensorflow-estimator-2.2.0:\n",
      "      Successfully uninstalled tensorflow-estimator-2.2.0\n",
      "  Attempting uninstall: tensorboard\n",
      "    Found existing installation: tensorboard 2.2.2\n",
      "    Uninstalling tensorboard-2.2.2:\n",
      "      Successfully uninstalled tensorboard-2.2.2\n",
      "  Attempting uninstall: tensorflow\n",
      "    Found existing installation: tensorflow 2.2.0\n",
      "    Uninstalling tensorflow-2.2.0:\n",
      "      Successfully uninstalled tensorflow-2.2.0\n",
      "Successfully installed tensorboard-2.4.1 tensorflow-2.4.1 tensorflow-estimator-2.4.0\n",
      "Note: you may need to restart the kernel to use updated packages.\n"
     ]
    }
   ],
   "source": [
    "pip install --upgrade tensorflow"
   ]
  },
  {
   "cell_type": "code",
   "execution_count": 2,
   "metadata": {},
   "outputs": [],
   "source": [
    "df = pd.read_csv('data/raw_data.csv')"
   ]
  },
  {
   "cell_type": "code",
   "execution_count": 3,
   "metadata": {},
   "outputs": [],
   "source": [
    "df.set_index('ValidDate', inplace = True)"
   ]
  },
  {
   "cell_type": "code",
   "execution_count": 4,
   "metadata": {},
   "outputs": [],
   "source": [
    "df = df.drop(['ExpYear'], axis = 1)"
   ]
  },
  {
   "cell_type": "code",
   "execution_count": 5,
   "metadata": {},
   "outputs": [
    {
     "data": {
      "text/html": [
       "<div>\n",
       "<style scoped>\n",
       "    .dataframe tbody tr th:only-of-type {\n",
       "        vertical-align: middle;\n",
       "    }\n",
       "\n",
       "    .dataframe tbody tr th {\n",
       "        vertical-align: top;\n",
       "    }\n",
       "\n",
       "    .dataframe thead th {\n",
       "        text-align: right;\n",
       "    }\n",
       "</style>\n",
       "<table border=\"1\" class=\"dataframe\">\n",
       "  <thead>\n",
       "    <tr style=\"text-align: right;\">\n",
       "      <th></th>\n",
       "      <th>LicenseType</th>\n",
       "      <th>Breed</th>\n",
       "      <th>Color</th>\n",
       "      <th>DogName</th>\n",
       "      <th>OwnerZip</th>\n",
       "    </tr>\n",
       "    <tr>\n",
       "      <th>ValidDate</th>\n",
       "      <th></th>\n",
       "      <th></th>\n",
       "      <th></th>\n",
       "      <th></th>\n",
       "      <th></th>\n",
       "    </tr>\n",
       "  </thead>\n",
       "  <tbody>\n",
       "    <tr>\n",
       "      <th>2014-12-02 09:40:53</th>\n",
       "      <td>Dog Individual Neutered Male</td>\n",
       "      <td>COCKAPOO</td>\n",
       "      <td>BROWN</td>\n",
       "      <td>CHARLEY</td>\n",
       "      <td>15236</td>\n",
       "    </tr>\n",
       "    <tr>\n",
       "      <th>2014-12-02 09:45:25</th>\n",
       "      <td>Dog Senior Citizen or Disability Neutered Male</td>\n",
       "      <td>GER SHEPHERD</td>\n",
       "      <td>BLACK/BROWN</td>\n",
       "      <td>TACODA</td>\n",
       "      <td>15238</td>\n",
       "    </tr>\n",
       "    <tr>\n",
       "      <th>2014-12-02 09:47:55</th>\n",
       "      <td>Dog Individual Spayed Female</td>\n",
       "      <td>GER SHEPHERD</td>\n",
       "      <td>BLACK</td>\n",
       "      <td>CHARLY</td>\n",
       "      <td>15205</td>\n",
       "    </tr>\n",
       "    <tr>\n",
       "      <th>2014-12-02 10:02:33</th>\n",
       "      <td>Dog Individual Spayed Female</td>\n",
       "      <td>LABRADOR RETRIEVER</td>\n",
       "      <td>BLACK</td>\n",
       "      <td>ABBEY</td>\n",
       "      <td>15143</td>\n",
       "    </tr>\n",
       "    <tr>\n",
       "      <th>2014-12-02 10:05:50</th>\n",
       "      <td>Dog Individual Female</td>\n",
       "      <td>GER SHORTHAIR POINT</td>\n",
       "      <td>BROWN</td>\n",
       "      <td>CHARLEY</td>\n",
       "      <td>15228</td>\n",
       "    </tr>\n",
       "  </tbody>\n",
       "</table>\n",
       "</div>"
      ],
      "text/plain": [
       "                                                        LicenseType  \\\n",
       "ValidDate                                                             \n",
       "2014-12-02 09:40:53                    Dog Individual Neutered Male   \n",
       "2014-12-02 09:45:25  Dog Senior Citizen or Disability Neutered Male   \n",
       "2014-12-02 09:47:55                    Dog Individual Spayed Female   \n",
       "2014-12-02 10:02:33                    Dog Individual Spayed Female   \n",
       "2014-12-02 10:05:50                           Dog Individual Female   \n",
       "\n",
       "                                   Breed        Color  DogName  OwnerZip  \n",
       "ValidDate                                                                 \n",
       "2014-12-02 09:40:53             COCKAPOO        BROWN  CHARLEY     15236  \n",
       "2014-12-02 09:45:25         GER SHEPHERD  BLACK/BROWN   TACODA     15238  \n",
       "2014-12-02 09:47:55         GER SHEPHERD        BLACK   CHARLY     15205  \n",
       "2014-12-02 10:02:33   LABRADOR RETRIEVER        BLACK    ABBEY     15143  \n",
       "2014-12-02 10:05:50  GER SHORTHAIR POINT        BROWN  CHARLEY     15228  "
      ]
     },
     "execution_count": 5,
     "metadata": {},
     "output_type": "execute_result"
    }
   ],
   "source": [
    "df.head()"
   ]
  },
  {
   "cell_type": "code",
   "execution_count": 6,
   "metadata": {},
   "outputs": [
    {
     "data": {
      "text/plain": [
       "286724"
      ]
     },
     "execution_count": 6,
     "metadata": {},
     "output_type": "execute_result"
    }
   ],
   "source": [
    "df['Breed'].value_counts().sum()"
   ]
  },
  {
   "cell_type": "code",
   "execution_count": 7,
   "metadata": {},
   "outputs": [
    {
     "data": {
      "text/plain": [
       "340"
      ]
     },
     "execution_count": 7,
     "metadata": {},
     "output_type": "execute_result"
    }
   ],
   "source": [
    "len(df['Breed'].unique())"
   ]
  },
  {
   "cell_type": "code",
   "execution_count": 8,
   "metadata": {},
   "outputs": [],
   "source": [
    "#I would definitely need to look at cutting that number down- that would be way too noisy.\n",
    "#My initial thought is to see what the top 10 breeds are\n",
    "#Maybe from there I can either to dummies or aggregate"
   ]
  },
  {
   "cell_type": "code",
   "execution_count": 9,
   "metadata": {},
   "outputs": [],
   "source": [
    "top_ten = df['Breed'].value_counts()[:11]"
   ]
  },
  {
   "cell_type": "code",
   "execution_count": 10,
   "metadata": {},
   "outputs": [
    {
     "data": {
      "text/plain": [
       "MIXED                  29009\n",
       "LABRADOR RETRIEVER     19713\n",
       "LAB MIX                17714\n",
       "GOLDEN RETRIEVER        9344\n",
       "GER SHEPHERD            8437\n",
       "SHIH TZU                7976\n",
       "BEAGLE                  7960\n",
       "CHIHUAHUA               7664\n",
       "TAG                     7475\n",
       "AM PIT BULL TERRIER     7332\n",
       "YORKSHIRE TERRIER       6268\n",
       "Name: Breed, dtype: int64"
      ]
     },
     "execution_count": 10,
     "metadata": {},
     "output_type": "execute_result"
    }
   ],
   "source": [
    "top_ten\n",
    "#bar chart here"
   ]
  },
  {
   "cell_type": "code",
   "execution_count": 11,
   "metadata": {},
   "outputs": [],
   "source": [
    "#TAG is not a type of dog. they are denoting that they are putting tags on an existing dog"
   ]
  },
  {
   "cell_type": "code",
   "execution_count": 12,
   "metadata": {},
   "outputs": [
    {
     "data": {
      "text/html": [
       "<div>\n",
       "<style scoped>\n",
       "    .dataframe tbody tr th:only-of-type {\n",
       "        vertical-align: middle;\n",
       "    }\n",
       "\n",
       "    .dataframe tbody tr th {\n",
       "        vertical-align: top;\n",
       "    }\n",
       "\n",
       "    .dataframe thead th {\n",
       "        text-align: right;\n",
       "    }\n",
       "</style>\n",
       "<table border=\"1\" class=\"dataframe\">\n",
       "  <thead>\n",
       "    <tr style=\"text-align: right;\">\n",
       "      <th></th>\n",
       "      <th>LicenseType</th>\n",
       "      <th>Breed</th>\n",
       "      <th>Color</th>\n",
       "      <th>DogName</th>\n",
       "      <th>OwnerZip</th>\n",
       "    </tr>\n",
       "    <tr>\n",
       "      <th>ValidDate</th>\n",
       "      <th></th>\n",
       "      <th></th>\n",
       "      <th></th>\n",
       "      <th></th>\n",
       "      <th></th>\n",
       "    </tr>\n",
       "  </thead>\n",
       "  <tbody>\n",
       "    <tr>\n",
       "      <th>2015-03-12 11:11:36</th>\n",
       "      <td>Dog Individual Spayed Female</td>\n",
       "      <td>TAG</td>\n",
       "      <td>BLACK</td>\n",
       "      <td>SHADOW</td>\n",
       "      <td>15102</td>\n",
       "    </tr>\n",
       "    <tr>\n",
       "      <th>2017-01-10 09:39:46</th>\n",
       "      <td>Dog Individual Spayed Female</td>\n",
       "      <td>TAG</td>\n",
       "      <td>BLACK</td>\n",
       "      <td>SHADOW</td>\n",
       "      <td>15102</td>\n",
       "    </tr>\n",
       "    <tr>\n",
       "      <th>2015-12-11 10:35:08</th>\n",
       "      <td>Dog Individual Spayed Female</td>\n",
       "      <td>TAG</td>\n",
       "      <td>BLACK</td>\n",
       "      <td>SHADOW</td>\n",
       "      <td>15102</td>\n",
       "    </tr>\n",
       "  </tbody>\n",
       "</table>\n",
       "</div>"
      ],
      "text/plain": [
       "                                      LicenseType Breed  Color DogName  \\\n",
       "ValidDate                                                                \n",
       "2015-03-12 11:11:36  Dog Individual Spayed Female   TAG  BLACK  SHADOW   \n",
       "2017-01-10 09:39:46  Dog Individual Spayed Female   TAG  BLACK  SHADOW   \n",
       "2015-12-11 10:35:08  Dog Individual Spayed Female   TAG  BLACK  SHADOW   \n",
       "\n",
       "                     OwnerZip  \n",
       "ValidDate                      \n",
       "2015-03-12 11:11:36     15102  \n",
       "2017-01-10 09:39:46     15102  \n",
       "2015-12-11 10:35:08     15102  "
      ]
     },
     "execution_count": 12,
     "metadata": {},
     "output_type": "execute_result"
    }
   ],
   "source": [
    "tag_df = df.loc[df['Breed'] == 'TAG']\n",
    "tag_df.loc[(tag_df['DogName'] == 'SHADOW') & (tag_df['OwnerZip'] == 15102)]"
   ]
  },
  {
   "cell_type": "code",
   "execution_count": 13,
   "metadata": {
    "scrolled": true
   },
   "outputs": [
    {
     "data": {
      "text/plain": [
       "5708"
      ]
     },
     "execution_count": 13,
     "metadata": {},
     "output_type": "execute_result"
    }
   ],
   "source": [
    "a = len(tag_df['DogName'])\n",
    "b = len(tag_df['DogName'].value_counts())\n",
    "a-b"
   ]
  },
  {
   "cell_type": "code",
   "execution_count": 14,
   "metadata": {},
   "outputs": [],
   "source": [
    "#Time to zoom out. What am i hoping to accomplish here? \n",
    "#A multivariate time series. OG problem: predict number of licenses dispensed per day. \n",
    "#New problem: predict licenses dispenses while considering extra variables. \n",
    "#I think top 10 dummies is actually going to benefit me most. \n",
    "#Let's start with breed: top 9 and 'other'\n",
    "## investigate whether an 'other' column is going to unbalance the data too bad; \n",
    "#we may need to keep it to top 10 with a disclaimer"
   ]
  },
  {
   "cell_type": "code",
   "execution_count": 15,
   "metadata": {},
   "outputs": [
    {
     "data": {
      "text/html": [
       "<div>\n",
       "<style scoped>\n",
       "    .dataframe tbody tr th:only-of-type {\n",
       "        vertical-align: middle;\n",
       "    }\n",
       "\n",
       "    .dataframe tbody tr th {\n",
       "        vertical-align: top;\n",
       "    }\n",
       "\n",
       "    .dataframe thead th {\n",
       "        text-align: right;\n",
       "    }\n",
       "</style>\n",
       "<table border=\"1\" class=\"dataframe\">\n",
       "  <thead>\n",
       "    <tr style=\"text-align: right;\">\n",
       "      <th></th>\n",
       "      <th>LicenseType</th>\n",
       "      <th>Breed</th>\n",
       "      <th>Color</th>\n",
       "      <th>DogName</th>\n",
       "      <th>OwnerZip</th>\n",
       "    </tr>\n",
       "    <tr>\n",
       "      <th>ValidDate</th>\n",
       "      <th></th>\n",
       "      <th></th>\n",
       "      <th></th>\n",
       "      <th></th>\n",
       "      <th></th>\n",
       "    </tr>\n",
       "  </thead>\n",
       "  <tbody>\n",
       "    <tr>\n",
       "      <th>2014-12-02 09:40:53</th>\n",
       "      <td>Dog Individual Neutered Male</td>\n",
       "      <td>COCKAPOO</td>\n",
       "      <td>BROWN</td>\n",
       "      <td>CHARLEY</td>\n",
       "      <td>15236</td>\n",
       "    </tr>\n",
       "    <tr>\n",
       "      <th>2014-12-02 09:45:25</th>\n",
       "      <td>Dog Senior Citizen or Disability Neutered Male</td>\n",
       "      <td>GER SHEPHERD</td>\n",
       "      <td>BLACK/BROWN</td>\n",
       "      <td>TACODA</td>\n",
       "      <td>15238</td>\n",
       "    </tr>\n",
       "    <tr>\n",
       "      <th>2014-12-02 09:47:55</th>\n",
       "      <td>Dog Individual Spayed Female</td>\n",
       "      <td>GER SHEPHERD</td>\n",
       "      <td>BLACK</td>\n",
       "      <td>CHARLY</td>\n",
       "      <td>15205</td>\n",
       "    </tr>\n",
       "    <tr>\n",
       "      <th>2014-12-02 10:02:33</th>\n",
       "      <td>Dog Individual Spayed Female</td>\n",
       "      <td>LABRADOR RETRIEVER</td>\n",
       "      <td>BLACK</td>\n",
       "      <td>ABBEY</td>\n",
       "      <td>15143</td>\n",
       "    </tr>\n",
       "    <tr>\n",
       "      <th>2014-12-02 10:05:50</th>\n",
       "      <td>Dog Individual Female</td>\n",
       "      <td>GER SHORTHAIR POINT</td>\n",
       "      <td>BROWN</td>\n",
       "      <td>CHARLEY</td>\n",
       "      <td>15228</td>\n",
       "    </tr>\n",
       "  </tbody>\n",
       "</table>\n",
       "</div>"
      ],
      "text/plain": [
       "                                                        LicenseType  \\\n",
       "ValidDate                                                             \n",
       "2014-12-02 09:40:53                    Dog Individual Neutered Male   \n",
       "2014-12-02 09:45:25  Dog Senior Citizen or Disability Neutered Male   \n",
       "2014-12-02 09:47:55                    Dog Individual Spayed Female   \n",
       "2014-12-02 10:02:33                    Dog Individual Spayed Female   \n",
       "2014-12-02 10:05:50                           Dog Individual Female   \n",
       "\n",
       "                                   Breed        Color  DogName  OwnerZip  \n",
       "ValidDate                                                                 \n",
       "2014-12-02 09:40:53             COCKAPOO        BROWN  CHARLEY     15236  \n",
       "2014-12-02 09:45:25         GER SHEPHERD  BLACK/BROWN   TACODA     15238  \n",
       "2014-12-02 09:47:55         GER SHEPHERD        BLACK   CHARLY     15205  \n",
       "2014-12-02 10:02:33   LABRADOR RETRIEVER        BLACK    ABBEY     15143  \n",
       "2014-12-02 10:05:50  GER SHORTHAIR POINT        BROWN  CHARLEY     15228  "
      ]
     },
     "execution_count": 15,
     "metadata": {},
     "output_type": "execute_result"
    }
   ],
   "source": [
    "df.head()"
   ]
  },
  {
   "cell_type": "code",
   "execution_count": 16,
   "metadata": {},
   "outputs": [
    {
     "data": {
      "text/plain": [
       "LicenseType    0\n",
       "Breed          0\n",
       "Color          0\n",
       "DogName        0\n",
       "OwnerZip       0\n",
       "dtype: int64"
      ]
     },
     "execution_count": 16,
     "metadata": {},
     "output_type": "execute_result"
    }
   ],
   "source": [
    "df.isnull().sum()"
   ]
  },
  {
   "cell_type": "code",
   "execution_count": 17,
   "metadata": {},
   "outputs": [],
   "source": [
    "breed_df = pd.DataFrame(df.Breed)\n",
    "breed_df.set_index(breed_df.index, inplace = True)\n",
    "breed_df.index = pd.to_datetime(breed_df.index)"
   ]
  },
  {
   "cell_type": "markdown",
   "metadata": {},
   "source": [
    "MIXED\n",
    "LABRADOR RETRIEVER     \n",
    "LAB MIX                \n",
    "GOLDEN RETRIEVER        \n",
    "GER SHEPHERD            \n",
    "SHIH TZU            \n",
    "BEAGLE                  \n",
    "CHIHUAHUA                                  \n",
    "AM PIT BULL TERRIER     \n",
    "YORKSHIRE TERRIER      "
   ]
  },
  {
   "cell_type": "code",
   "execution_count": 18,
   "metadata": {},
   "outputs": [
    {
     "data": {
      "text/html": [
       "<div>\n",
       "<style scoped>\n",
       "    .dataframe tbody tr th:only-of-type {\n",
       "        vertical-align: middle;\n",
       "    }\n",
       "\n",
       "    .dataframe tbody tr th {\n",
       "        vertical-align: top;\n",
       "    }\n",
       "\n",
       "    .dataframe thead th {\n",
       "        text-align: right;\n",
       "    }\n",
       "</style>\n",
       "<table border=\"1\" class=\"dataframe\">\n",
       "  <thead>\n",
       "    <tr style=\"text-align: right;\">\n",
       "      <th></th>\n",
       "      <th>Breed</th>\n",
       "    </tr>\n",
       "    <tr>\n",
       "      <th>ValidDate</th>\n",
       "      <th></th>\n",
       "    </tr>\n",
       "  </thead>\n",
       "  <tbody>\n",
       "    <tr>\n",
       "      <th>2014-12-02 09:45:25</th>\n",
       "      <td>GER SHEPHERD</td>\n",
       "    </tr>\n",
       "    <tr>\n",
       "      <th>2014-12-02 09:47:55</th>\n",
       "      <td>GER SHEPHERD</td>\n",
       "    </tr>\n",
       "    <tr>\n",
       "      <th>2014-12-02 10:02:33</th>\n",
       "      <td>LABRADOR RETRIEVER</td>\n",
       "    </tr>\n",
       "    <tr>\n",
       "      <th>2014-12-02 10:08:13</th>\n",
       "      <td>YORKSHIRE TERRIER</td>\n",
       "    </tr>\n",
       "    <tr>\n",
       "      <th>2014-12-02 10:15:30</th>\n",
       "      <td>YORKSHIRE TERRIER</td>\n",
       "    </tr>\n",
       "  </tbody>\n",
       "</table>\n",
       "</div>"
      ],
      "text/plain": [
       "                                  Breed\n",
       "ValidDate                              \n",
       "2014-12-02 09:45:25        GER SHEPHERD\n",
       "2014-12-02 09:47:55        GER SHEPHERD\n",
       "2014-12-02 10:02:33  LABRADOR RETRIEVER\n",
       "2014-12-02 10:08:13   YORKSHIRE TERRIER\n",
       "2014-12-02 10:15:30   YORKSHIRE TERRIER"
      ]
     },
     "execution_count": 18,
     "metadata": {},
     "output_type": "execute_result"
    }
   ],
   "source": [
    "df_top_ten = breed_df[(breed_df['Breed'] == 'MIXED') |\n",
    "                     (breed_df['Breed'] == 'LABRADOR RETRIEVER') |\n",
    "                     (breed_df['Breed'] == 'LAB MIX') |\n",
    "                     (breed_df['Breed'] == 'GOLDEN RETRIEVER') |\n",
    "                     (breed_df['Breed'] == 'GER SHEPHERD') |\n",
    "                     (breed_df['Breed'] == 'SHIH TZU') |\n",
    "                     (breed_df['Breed'] == 'BEAGLE') |\n",
    "                     (breed_df['Breed'] == 'CHIHUAHUA') |\n",
    "                     (breed_df['Breed'] == 'AM PIT BULL TERRIER')|\n",
    "                     (breed_df['Breed'] == 'YORKSHIRE TERRIER')]\n",
    "df_top_ten.head()"
   ]
  },
  {
   "cell_type": "code",
   "execution_count": 19,
   "metadata": {},
   "outputs": [
    {
     "name": "stdout",
     "output_type": "stream",
     "text": [
      "Breed df:  286724\n",
      "Top Ten df:  121417\n",
      "Difference:  165307\n"
     ]
    }
   ],
   "source": [
    "print(\"Breed df: \", len(breed_df))\n",
    "print(\"Top Ten df: \", len(df_top_ten))\n",
    "print(\"Difference: \", len(breed_df)-len(df_top_ten))"
   ]
  },
  {
   "cell_type": "code",
   "execution_count": 20,
   "metadata": {},
   "outputs": [
    {
     "data": {
      "text/html": [
       "<div>\n",
       "<style scoped>\n",
       "    .dataframe tbody tr th:only-of-type {\n",
       "        vertical-align: middle;\n",
       "    }\n",
       "\n",
       "    .dataframe tbody tr th {\n",
       "        vertical-align: top;\n",
       "    }\n",
       "\n",
       "    .dataframe thead th {\n",
       "        text-align: right;\n",
       "    }\n",
       "</style>\n",
       "<table border=\"1\" class=\"dataframe\">\n",
       "  <thead>\n",
       "    <tr style=\"text-align: right;\">\n",
       "      <th></th>\n",
       "      <th>AM PIT BULL TERRIER</th>\n",
       "      <th>BEAGLE</th>\n",
       "      <th>CHIHUAHUA</th>\n",
       "      <th>GER SHEPHERD</th>\n",
       "      <th>GOLDEN RETRIEVER</th>\n",
       "      <th>LAB MIX</th>\n",
       "      <th>LABRADOR RETRIEVER</th>\n",
       "      <th>MIXED</th>\n",
       "      <th>SHIH TZU</th>\n",
       "      <th>YORKSHIRE TERRIER</th>\n",
       "    </tr>\n",
       "    <tr>\n",
       "      <th>ValidDate</th>\n",
       "      <th></th>\n",
       "      <th></th>\n",
       "      <th></th>\n",
       "      <th></th>\n",
       "      <th></th>\n",
       "      <th></th>\n",
       "      <th></th>\n",
       "      <th></th>\n",
       "      <th></th>\n",
       "      <th></th>\n",
       "    </tr>\n",
       "  </thead>\n",
       "  <tbody>\n",
       "    <tr>\n",
       "      <th>2014-12-02 09:45:25</th>\n",
       "      <td>0</td>\n",
       "      <td>0</td>\n",
       "      <td>0</td>\n",
       "      <td>1</td>\n",
       "      <td>0</td>\n",
       "      <td>0</td>\n",
       "      <td>0</td>\n",
       "      <td>0</td>\n",
       "      <td>0</td>\n",
       "      <td>0</td>\n",
       "    </tr>\n",
       "    <tr>\n",
       "      <th>2014-12-02 09:47:55</th>\n",
       "      <td>0</td>\n",
       "      <td>0</td>\n",
       "      <td>0</td>\n",
       "      <td>1</td>\n",
       "      <td>0</td>\n",
       "      <td>0</td>\n",
       "      <td>0</td>\n",
       "      <td>0</td>\n",
       "      <td>0</td>\n",
       "      <td>0</td>\n",
       "    </tr>\n",
       "    <tr>\n",
       "      <th>2014-12-02 10:02:33</th>\n",
       "      <td>0</td>\n",
       "      <td>0</td>\n",
       "      <td>0</td>\n",
       "      <td>0</td>\n",
       "      <td>0</td>\n",
       "      <td>0</td>\n",
       "      <td>1</td>\n",
       "      <td>0</td>\n",
       "      <td>0</td>\n",
       "      <td>0</td>\n",
       "    </tr>\n",
       "    <tr>\n",
       "      <th>2014-12-02 10:08:13</th>\n",
       "      <td>0</td>\n",
       "      <td>0</td>\n",
       "      <td>0</td>\n",
       "      <td>0</td>\n",
       "      <td>0</td>\n",
       "      <td>0</td>\n",
       "      <td>0</td>\n",
       "      <td>0</td>\n",
       "      <td>0</td>\n",
       "      <td>1</td>\n",
       "    </tr>\n",
       "    <tr>\n",
       "      <th>2014-12-02 10:15:30</th>\n",
       "      <td>0</td>\n",
       "      <td>0</td>\n",
       "      <td>0</td>\n",
       "      <td>0</td>\n",
       "      <td>0</td>\n",
       "      <td>0</td>\n",
       "      <td>0</td>\n",
       "      <td>0</td>\n",
       "      <td>0</td>\n",
       "      <td>1</td>\n",
       "    </tr>\n",
       "  </tbody>\n",
       "</table>\n",
       "</div>"
      ],
      "text/plain": [
       "                     AM PIT BULL TERRIER  BEAGLE  CHIHUAHUA  GER SHEPHERD  \\\n",
       "ValidDate                                                                   \n",
       "2014-12-02 09:45:25                    0       0          0             1   \n",
       "2014-12-02 09:47:55                    0       0          0             1   \n",
       "2014-12-02 10:02:33                    0       0          0             0   \n",
       "2014-12-02 10:08:13                    0       0          0             0   \n",
       "2014-12-02 10:15:30                    0       0          0             0   \n",
       "\n",
       "                     GOLDEN RETRIEVER  LAB MIX  LABRADOR RETRIEVER  MIXED  \\\n",
       "ValidDate                                                                   \n",
       "2014-12-02 09:45:25                 0        0                   0      0   \n",
       "2014-12-02 09:47:55                 0        0                   0      0   \n",
       "2014-12-02 10:02:33                 0        0                   1      0   \n",
       "2014-12-02 10:08:13                 0        0                   0      0   \n",
       "2014-12-02 10:15:30                 0        0                   0      0   \n",
       "\n",
       "                     SHIH TZU  YORKSHIRE TERRIER  \n",
       "ValidDate                                         \n",
       "2014-12-02 09:45:25         0                  0  \n",
       "2014-12-02 09:47:55         0                  0  \n",
       "2014-12-02 10:02:33         0                  0  \n",
       "2014-12-02 10:08:13         0                  1  \n",
       "2014-12-02 10:15:30         0                  1  "
      ]
     },
     "execution_count": 20,
     "metadata": {},
     "output_type": "execute_result"
    }
   ],
   "source": [
    "ten_dummies = pd.get_dummies(df_top_ten['Breed'])\n",
    "ten_dummies.head()"
   ]
  },
  {
   "cell_type": "code",
   "execution_count": 21,
   "metadata": {},
   "outputs": [
    {
     "data": {
      "text/html": [
       "<div>\n",
       "<style scoped>\n",
       "    .dataframe tbody tr th:only-of-type {\n",
       "        vertical-align: middle;\n",
       "    }\n",
       "\n",
       "    .dataframe tbody tr th {\n",
       "        vertical-align: top;\n",
       "    }\n",
       "\n",
       "    .dataframe thead th {\n",
       "        text-align: right;\n",
       "    }\n",
       "</style>\n",
       "<table border=\"1\" class=\"dataframe\">\n",
       "  <thead>\n",
       "    <tr style=\"text-align: right;\">\n",
       "      <th></th>\n",
       "      <th>AM PIT BULL TERRIER</th>\n",
       "      <th>BEAGLE</th>\n",
       "      <th>CHIHUAHUA</th>\n",
       "      <th>GER SHEPHERD</th>\n",
       "      <th>GOLDEN RETRIEVER</th>\n",
       "      <th>LAB MIX</th>\n",
       "      <th>LABRADOR RETRIEVER</th>\n",
       "      <th>MIXED</th>\n",
       "      <th>SHIH TZU</th>\n",
       "      <th>YORKSHIRE TERRIER</th>\n",
       "    </tr>\n",
       "    <tr>\n",
       "      <th>ValidDate</th>\n",
       "      <th></th>\n",
       "      <th></th>\n",
       "      <th></th>\n",
       "      <th></th>\n",
       "      <th></th>\n",
       "      <th></th>\n",
       "      <th></th>\n",
       "      <th></th>\n",
       "      <th></th>\n",
       "      <th></th>\n",
       "    </tr>\n",
       "  </thead>\n",
       "  <tbody>\n",
       "    <tr>\n",
       "      <th>2014-12-02</th>\n",
       "      <td>2.0</td>\n",
       "      <td>1.0</td>\n",
       "      <td>1.0</td>\n",
       "      <td>4.0</td>\n",
       "      <td>2.0</td>\n",
       "      <td>3.0</td>\n",
       "      <td>9.0</td>\n",
       "      <td>10.0</td>\n",
       "      <td>1.0</td>\n",
       "      <td>3.0</td>\n",
       "    </tr>\n",
       "    <tr>\n",
       "      <th>2014-12-03</th>\n",
       "      <td>6.0</td>\n",
       "      <td>8.0</td>\n",
       "      <td>2.0</td>\n",
       "      <td>3.0</td>\n",
       "      <td>8.0</td>\n",
       "      <td>17.0</td>\n",
       "      <td>12.0</td>\n",
       "      <td>40.0</td>\n",
       "      <td>2.0</td>\n",
       "      <td>3.0</td>\n",
       "    </tr>\n",
       "    <tr>\n",
       "      <th>2014-12-04</th>\n",
       "      <td>5.0</td>\n",
       "      <td>7.0</td>\n",
       "      <td>2.0</td>\n",
       "      <td>7.0</td>\n",
       "      <td>17.0</td>\n",
       "      <td>17.0</td>\n",
       "      <td>29.0</td>\n",
       "      <td>51.0</td>\n",
       "      <td>12.0</td>\n",
       "      <td>13.0</td>\n",
       "    </tr>\n",
       "    <tr>\n",
       "      <th>2014-12-05</th>\n",
       "      <td>4.0</td>\n",
       "      <td>2.0</td>\n",
       "      <td>5.0</td>\n",
       "      <td>2.0</td>\n",
       "      <td>9.0</td>\n",
       "      <td>10.0</td>\n",
       "      <td>10.0</td>\n",
       "      <td>21.0</td>\n",
       "      <td>5.0</td>\n",
       "      <td>3.0</td>\n",
       "    </tr>\n",
       "    <tr>\n",
       "      <th>2014-12-08</th>\n",
       "      <td>5.0</td>\n",
       "      <td>5.0</td>\n",
       "      <td>8.0</td>\n",
       "      <td>11.0</td>\n",
       "      <td>9.0</td>\n",
       "      <td>14.0</td>\n",
       "      <td>23.0</td>\n",
       "      <td>47.0</td>\n",
       "      <td>8.0</td>\n",
       "      <td>10.0</td>\n",
       "    </tr>\n",
       "  </tbody>\n",
       "</table>\n",
       "</div>"
      ],
      "text/plain": [
       "            AM PIT BULL TERRIER  BEAGLE  CHIHUAHUA  GER SHEPHERD  \\\n",
       "ValidDate                                                          \n",
       "2014-12-02                  2.0     1.0        1.0           4.0   \n",
       "2014-12-03                  6.0     8.0        2.0           3.0   \n",
       "2014-12-04                  5.0     7.0        2.0           7.0   \n",
       "2014-12-05                  4.0     2.0        5.0           2.0   \n",
       "2014-12-08                  5.0     5.0        8.0          11.0   \n",
       "\n",
       "            GOLDEN RETRIEVER  LAB MIX  LABRADOR RETRIEVER  MIXED  SHIH TZU  \\\n",
       "ValidDate                                                                    \n",
       "2014-12-02               2.0      3.0                 9.0   10.0       1.0   \n",
       "2014-12-03               8.0     17.0                12.0   40.0       2.0   \n",
       "2014-12-04              17.0     17.0                29.0   51.0      12.0   \n",
       "2014-12-05               9.0     10.0                10.0   21.0       5.0   \n",
       "2014-12-08               9.0     14.0                23.0   47.0       8.0   \n",
       "\n",
       "            YORKSHIRE TERRIER  \n",
       "ValidDate                      \n",
       "2014-12-02                3.0  \n",
       "2014-12-03                3.0  \n",
       "2014-12-04               13.0  \n",
       "2014-12-05                3.0  \n",
       "2014-12-08               10.0  "
      ]
     },
     "execution_count": 21,
     "metadata": {},
     "output_type": "execute_result"
    }
   ],
   "source": [
    "breed = ten_dummies.resample('B').sum()\n",
    "breed.head()"
   ]
  },
  {
   "cell_type": "code",
   "execution_count": 22,
   "metadata": {},
   "outputs": [
    {
     "data": {
      "text/html": [
       "<div>\n",
       "<style scoped>\n",
       "    .dataframe tbody tr th:only-of-type {\n",
       "        vertical-align: middle;\n",
       "    }\n",
       "\n",
       "    .dataframe tbody tr th {\n",
       "        vertical-align: top;\n",
       "    }\n",
       "\n",
       "    .dataframe thead th {\n",
       "        text-align: right;\n",
       "    }\n",
       "</style>\n",
       "<table border=\"1\" class=\"dataframe\">\n",
       "  <thead>\n",
       "    <tr style=\"text-align: right;\">\n",
       "      <th></th>\n",
       "      <th>AM PIT BULL TERRIER</th>\n",
       "      <th>BEAGLE</th>\n",
       "      <th>CHIHUAHUA</th>\n",
       "      <th>GER SHEPHERD</th>\n",
       "      <th>GOLDEN RETRIEVER</th>\n",
       "      <th>LAB MIX</th>\n",
       "      <th>LABRADOR RETRIEVER</th>\n",
       "      <th>MIXED</th>\n",
       "      <th>SHIH TZU</th>\n",
       "      <th>YORKSHIRE TERRIER</th>\n",
       "      <th>Total</th>\n",
       "    </tr>\n",
       "    <tr>\n",
       "      <th>ValidDate</th>\n",
       "      <th></th>\n",
       "      <th></th>\n",
       "      <th></th>\n",
       "      <th></th>\n",
       "      <th></th>\n",
       "      <th></th>\n",
       "      <th></th>\n",
       "      <th></th>\n",
       "      <th></th>\n",
       "      <th></th>\n",
       "      <th></th>\n",
       "    </tr>\n",
       "  </thead>\n",
       "  <tbody>\n",
       "    <tr>\n",
       "      <th>2014-12-02</th>\n",
       "      <td>2.0</td>\n",
       "      <td>1.0</td>\n",
       "      <td>1.0</td>\n",
       "      <td>4.0</td>\n",
       "      <td>2.0</td>\n",
       "      <td>3.0</td>\n",
       "      <td>9.0</td>\n",
       "      <td>10.0</td>\n",
       "      <td>1.0</td>\n",
       "      <td>3.0</td>\n",
       "      <td>36.0</td>\n",
       "    </tr>\n",
       "    <tr>\n",
       "      <th>2014-12-03</th>\n",
       "      <td>6.0</td>\n",
       "      <td>8.0</td>\n",
       "      <td>2.0</td>\n",
       "      <td>3.0</td>\n",
       "      <td>8.0</td>\n",
       "      <td>17.0</td>\n",
       "      <td>12.0</td>\n",
       "      <td>40.0</td>\n",
       "      <td>2.0</td>\n",
       "      <td>3.0</td>\n",
       "      <td>101.0</td>\n",
       "    </tr>\n",
       "    <tr>\n",
       "      <th>2014-12-04</th>\n",
       "      <td>5.0</td>\n",
       "      <td>7.0</td>\n",
       "      <td>2.0</td>\n",
       "      <td>7.0</td>\n",
       "      <td>17.0</td>\n",
       "      <td>17.0</td>\n",
       "      <td>29.0</td>\n",
       "      <td>51.0</td>\n",
       "      <td>12.0</td>\n",
       "      <td>13.0</td>\n",
       "      <td>160.0</td>\n",
       "    </tr>\n",
       "    <tr>\n",
       "      <th>2014-12-05</th>\n",
       "      <td>4.0</td>\n",
       "      <td>2.0</td>\n",
       "      <td>5.0</td>\n",
       "      <td>2.0</td>\n",
       "      <td>9.0</td>\n",
       "      <td>10.0</td>\n",
       "      <td>10.0</td>\n",
       "      <td>21.0</td>\n",
       "      <td>5.0</td>\n",
       "      <td>3.0</td>\n",
       "      <td>71.0</td>\n",
       "    </tr>\n",
       "    <tr>\n",
       "      <th>2014-12-08</th>\n",
       "      <td>5.0</td>\n",
       "      <td>5.0</td>\n",
       "      <td>8.0</td>\n",
       "      <td>11.0</td>\n",
       "      <td>9.0</td>\n",
       "      <td>14.0</td>\n",
       "      <td>23.0</td>\n",
       "      <td>47.0</td>\n",
       "      <td>8.0</td>\n",
       "      <td>10.0</td>\n",
       "      <td>140.0</td>\n",
       "    </tr>\n",
       "  </tbody>\n",
       "</table>\n",
       "</div>"
      ],
      "text/plain": [
       "            AM PIT BULL TERRIER  BEAGLE  CHIHUAHUA  GER SHEPHERD  \\\n",
       "ValidDate                                                          \n",
       "2014-12-02                  2.0     1.0        1.0           4.0   \n",
       "2014-12-03                  6.0     8.0        2.0           3.0   \n",
       "2014-12-04                  5.0     7.0        2.0           7.0   \n",
       "2014-12-05                  4.0     2.0        5.0           2.0   \n",
       "2014-12-08                  5.0     5.0        8.0          11.0   \n",
       "\n",
       "            GOLDEN RETRIEVER  LAB MIX  LABRADOR RETRIEVER  MIXED  SHIH TZU  \\\n",
       "ValidDate                                                                    \n",
       "2014-12-02               2.0      3.0                 9.0   10.0       1.0   \n",
       "2014-12-03               8.0     17.0                12.0   40.0       2.0   \n",
       "2014-12-04              17.0     17.0                29.0   51.0      12.0   \n",
       "2014-12-05               9.0     10.0                10.0   21.0       5.0   \n",
       "2014-12-08               9.0     14.0                23.0   47.0       8.0   \n",
       "\n",
       "            YORKSHIRE TERRIER  Total  \n",
       "ValidDate                             \n",
       "2014-12-02                3.0   36.0  \n",
       "2014-12-03                3.0  101.0  \n",
       "2014-12-04               13.0  160.0  \n",
       "2014-12-05                3.0   71.0  \n",
       "2014-12-08               10.0  140.0  "
      ]
     },
     "execution_count": 22,
     "metadata": {},
     "output_type": "execute_result"
    }
   ],
   "source": [
    "breed['Total'] = breed.sum(axis = 1)\n",
    "breed.head()"
   ]
  },
  {
   "cell_type": "code",
   "execution_count": 23,
   "metadata": {},
   "outputs": [],
   "source": [
    "breed.to_csv('data/breed_daily_totals.csv')"
   ]
  },
  {
   "cell_type": "code",
   "execution_count": 24,
   "metadata": {},
   "outputs": [],
   "source": [
    "image_df = breed.head()"
   ]
  },
  {
   "cell_type": "code",
   "execution_count": 25,
   "metadata": {},
   "outputs": [],
   "source": [
    "image_df = image_df.style.background_gradient()\n",
    "dfi.export(image_df, 'data/blog_image.png')"
   ]
  },
  {
   "cell_type": "code",
   "execution_count": 26,
   "metadata": {},
   "outputs": [],
   "source": [
    "#next I would like to get a pretty visualization of this- a colorful line chart"
   ]
  },
  {
   "cell_type": "code",
   "execution_count": 27,
   "metadata": {},
   "outputs": [],
   "source": [
    "#run model on just top 10, determine the importance of dog breed in prediction\n",
    "#if it's highly correlated, consider 'other' column, or even 340 dummies? "
   ]
  },
  {
   "cell_type": "markdown",
   "metadata": {},
   "source": [
    "## Scaling Data"
   ]
  },
  {
   "cell_type": "code",
   "execution_count": 28,
   "metadata": {},
   "outputs": [],
   "source": [
    "scaler = MinMaxScaler()\n",
    "scaled_df = scaler.fit_transform(breed.values)"
   ]
  },
  {
   "cell_type": "markdown",
   "metadata": {},
   "source": [
    "series_to_supervise function courtesy of Jason Brownlee with Machine Learning Mastery"
   ]
  },
  {
   "cell_type": "code",
   "execution_count": 29,
   "metadata": {},
   "outputs": [],
   "source": [
    "def series_to_supervise(data, n_in = 1, n_out = 1, dropnan = True):\n",
    "    n_vars = 1 if type(data) is list else data.shape[1]\n",
    "    df = pd.DataFrame(data)\n",
    "    cols, names = list(), list()\n",
    "\n",
    "    for i in range(n_in, 0, -1):\n",
    "        cols.append(df.shift(i))\n",
    "        names += [('var%d(t-%d)' % (j+1, i)) for j in range(n_vars)]\n",
    "    for i in range(0, n_out):\n",
    "        cols.append(df.shift(-i))\n",
    "        if i == 0:\n",
    "            names += [('var%d' % (j+1)) for j in range(n_vars)]\n",
    "        else: \n",
    "            names += [('var%d(t-%d)' % (j+1, i)) for j in range(n_vars)]\n",
    "    agg = pd.concat(cols, axis = 1)\n",
    "    agg.columns = names\n",
    "    if dropnan:\n",
    "        agg.dropna(inplace = True)\n",
    "    return agg"
   ]
  },
  {
   "cell_type": "code",
   "execution_count": 30,
   "metadata": {},
   "outputs": [
    {
     "data": {
      "text/html": [
       "<div>\n",
       "<style scoped>\n",
       "    .dataframe tbody tr th:only-of-type {\n",
       "        vertical-align: middle;\n",
       "    }\n",
       "\n",
       "    .dataframe tbody tr th {\n",
       "        vertical-align: top;\n",
       "    }\n",
       "\n",
       "    .dataframe thead th {\n",
       "        text-align: right;\n",
       "    }\n",
       "</style>\n",
       "<table border=\"1\" class=\"dataframe\">\n",
       "  <thead>\n",
       "    <tr style=\"text-align: right;\">\n",
       "      <th></th>\n",
       "      <th>var1(t-1)</th>\n",
       "      <th>var2(t-1)</th>\n",
       "      <th>var3(t-1)</th>\n",
       "      <th>var4(t-1)</th>\n",
       "      <th>var5(t-1)</th>\n",
       "      <th>var6(t-1)</th>\n",
       "      <th>var7(t-1)</th>\n",
       "      <th>var8(t-1)</th>\n",
       "      <th>var9(t-1)</th>\n",
       "      <th>var10(t-1)</th>\n",
       "      <th>...</th>\n",
       "      <th>var2</th>\n",
       "      <th>var3</th>\n",
       "      <th>var4</th>\n",
       "      <th>var5</th>\n",
       "      <th>var6</th>\n",
       "      <th>var7</th>\n",
       "      <th>var8</th>\n",
       "      <th>var9</th>\n",
       "      <th>var10</th>\n",
       "      <th>var11</th>\n",
       "    </tr>\n",
       "  </thead>\n",
       "  <tbody>\n",
       "    <tr>\n",
       "      <th>1</th>\n",
       "      <td>0.018018</td>\n",
       "      <td>0.004831</td>\n",
       "      <td>0.007194</td>\n",
       "      <td>0.023256</td>\n",
       "      <td>0.008475</td>\n",
       "      <td>0.007812</td>\n",
       "      <td>0.020045</td>\n",
       "      <td>0.012690</td>\n",
       "      <td>0.005128</td>\n",
       "      <td>0.019737</td>\n",
       "      <td>...</td>\n",
       "      <td>0.038647</td>\n",
       "      <td>0.014388</td>\n",
       "      <td>0.017442</td>\n",
       "      <td>0.033898</td>\n",
       "      <td>0.044271</td>\n",
       "      <td>0.026726</td>\n",
       "      <td>0.050761</td>\n",
       "      <td>0.010256</td>\n",
       "      <td>0.019737</td>\n",
       "      <td>0.036541</td>\n",
       "    </tr>\n",
       "    <tr>\n",
       "      <th>2</th>\n",
       "      <td>0.054054</td>\n",
       "      <td>0.038647</td>\n",
       "      <td>0.014388</td>\n",
       "      <td>0.017442</td>\n",
       "      <td>0.033898</td>\n",
       "      <td>0.044271</td>\n",
       "      <td>0.026726</td>\n",
       "      <td>0.050761</td>\n",
       "      <td>0.010256</td>\n",
       "      <td>0.019737</td>\n",
       "      <td>...</td>\n",
       "      <td>0.033816</td>\n",
       "      <td>0.014388</td>\n",
       "      <td>0.040698</td>\n",
       "      <td>0.072034</td>\n",
       "      <td>0.044271</td>\n",
       "      <td>0.064588</td>\n",
       "      <td>0.064721</td>\n",
       "      <td>0.061538</td>\n",
       "      <td>0.085526</td>\n",
       "      <td>0.057887</td>\n",
       "    </tr>\n",
       "    <tr>\n",
       "      <th>3</th>\n",
       "      <td>0.045045</td>\n",
       "      <td>0.033816</td>\n",
       "      <td>0.014388</td>\n",
       "      <td>0.040698</td>\n",
       "      <td>0.072034</td>\n",
       "      <td>0.044271</td>\n",
       "      <td>0.064588</td>\n",
       "      <td>0.064721</td>\n",
       "      <td>0.061538</td>\n",
       "      <td>0.085526</td>\n",
       "      <td>...</td>\n",
       "      <td>0.009662</td>\n",
       "      <td>0.035971</td>\n",
       "      <td>0.011628</td>\n",
       "      <td>0.038136</td>\n",
       "      <td>0.026042</td>\n",
       "      <td>0.022272</td>\n",
       "      <td>0.026650</td>\n",
       "      <td>0.025641</td>\n",
       "      <td>0.019737</td>\n",
       "      <td>0.025687</td>\n",
       "    </tr>\n",
       "    <tr>\n",
       "      <th>4</th>\n",
       "      <td>0.036036</td>\n",
       "      <td>0.009662</td>\n",
       "      <td>0.035971</td>\n",
       "      <td>0.011628</td>\n",
       "      <td>0.038136</td>\n",
       "      <td>0.026042</td>\n",
       "      <td>0.022272</td>\n",
       "      <td>0.026650</td>\n",
       "      <td>0.025641</td>\n",
       "      <td>0.019737</td>\n",
       "      <td>...</td>\n",
       "      <td>0.024155</td>\n",
       "      <td>0.057554</td>\n",
       "      <td>0.063953</td>\n",
       "      <td>0.038136</td>\n",
       "      <td>0.036458</td>\n",
       "      <td>0.051225</td>\n",
       "      <td>0.059645</td>\n",
       "      <td>0.041026</td>\n",
       "      <td>0.065789</td>\n",
       "      <td>0.050651</td>\n",
       "    </tr>\n",
       "    <tr>\n",
       "      <th>5</th>\n",
       "      <td>0.045045</td>\n",
       "      <td>0.024155</td>\n",
       "      <td>0.057554</td>\n",
       "      <td>0.063953</td>\n",
       "      <td>0.038136</td>\n",
       "      <td>0.036458</td>\n",
       "      <td>0.051225</td>\n",
       "      <td>0.059645</td>\n",
       "      <td>0.041026</td>\n",
       "      <td>0.065789</td>\n",
       "      <td>...</td>\n",
       "      <td>0.028986</td>\n",
       "      <td>0.014388</td>\n",
       "      <td>0.040698</td>\n",
       "      <td>0.029661</td>\n",
       "      <td>0.010417</td>\n",
       "      <td>0.026726</td>\n",
       "      <td>0.020305</td>\n",
       "      <td>0.015385</td>\n",
       "      <td>0.013158</td>\n",
       "      <td>0.023517</td>\n",
       "    </tr>\n",
       "  </tbody>\n",
       "</table>\n",
       "<p>5 rows × 22 columns</p>\n",
       "</div>"
      ],
      "text/plain": [
       "   var1(t-1)  var2(t-1)  var3(t-1)  var4(t-1)  var5(t-1)  var6(t-1)  \\\n",
       "1   0.018018   0.004831   0.007194   0.023256   0.008475   0.007812   \n",
       "2   0.054054   0.038647   0.014388   0.017442   0.033898   0.044271   \n",
       "3   0.045045   0.033816   0.014388   0.040698   0.072034   0.044271   \n",
       "4   0.036036   0.009662   0.035971   0.011628   0.038136   0.026042   \n",
       "5   0.045045   0.024155   0.057554   0.063953   0.038136   0.036458   \n",
       "\n",
       "   var7(t-1)  var8(t-1)  var9(t-1)  var10(t-1)  ...      var2      var3  \\\n",
       "1   0.020045   0.012690   0.005128    0.019737  ...  0.038647  0.014388   \n",
       "2   0.026726   0.050761   0.010256    0.019737  ...  0.033816  0.014388   \n",
       "3   0.064588   0.064721   0.061538    0.085526  ...  0.009662  0.035971   \n",
       "4   0.022272   0.026650   0.025641    0.019737  ...  0.024155  0.057554   \n",
       "5   0.051225   0.059645   0.041026    0.065789  ...  0.028986  0.014388   \n",
       "\n",
       "       var4      var5      var6      var7      var8      var9     var10  \\\n",
       "1  0.017442  0.033898  0.044271  0.026726  0.050761  0.010256  0.019737   \n",
       "2  0.040698  0.072034  0.044271  0.064588  0.064721  0.061538  0.085526   \n",
       "3  0.011628  0.038136  0.026042  0.022272  0.026650  0.025641  0.019737   \n",
       "4  0.063953  0.038136  0.036458  0.051225  0.059645  0.041026  0.065789   \n",
       "5  0.040698  0.029661  0.010417  0.026726  0.020305  0.015385  0.013158   \n",
       "\n",
       "      var11  \n",
       "1  0.036541  \n",
       "2  0.057887  \n",
       "3  0.025687  \n",
       "4  0.050651  \n",
       "5  0.023517  \n",
       "\n",
       "[5 rows x 22 columns]"
      ]
     },
     "execution_count": 30,
     "metadata": {},
     "output_type": "execute_result"
    }
   ],
   "source": [
    "#start with lag of 1\n",
    "lstm_df = series_to_supervise(scaled_df)\n",
    "lstm_df.head()"
   ]
  },
  {
   "cell_type": "code",
   "execution_count": 31,
   "metadata": {},
   "outputs": [
    {
     "data": {
      "text/plain": [
       "Index(['var1(t-1)', 'var2(t-1)', 'var3(t-1)', 'var4(t-1)', 'var5(t-1)',\n",
       "       'var6(t-1)', 'var7(t-1)', 'var8(t-1)', 'var9(t-1)', 'var10(t-1)',\n",
       "       'var11(t-1)', 'var1', 'var2', 'var3', 'var4', 'var5', 'var6', 'var7',\n",
       "       'var8', 'var9', 'var10', 'var11'],\n",
       "      dtype='object')"
      ]
     },
     "execution_count": 31,
     "metadata": {},
     "output_type": "execute_result"
    }
   ],
   "source": [
    "lstm_df.columns"
   ]
  },
  {
   "cell_type": "code",
   "execution_count": 32,
   "metadata": {},
   "outputs": [
    {
     "data": {
      "text/plain": [
       "Index(['var1(t-1)', 'var2(t-1)', 'var3(t-1)', 'var4(t-1)', 'var5(t-1)',\n",
       "       'var6(t-1)', 'var7(t-1)', 'var8(t-1)', 'var9(t-1)', 'var10(t-1)',\n",
       "       'var11(t-1)', 'var11'],\n",
       "      dtype='object')"
      ]
     },
     "execution_count": 32,
     "metadata": {},
     "output_type": "execute_result"
    }
   ],
   "source": [
    "lstm_df.drop(lstm_df.columns[[11, 12, 13, 14, 15, 16, 17, 18, 19, 20]], axis = 1, inplace = True)\n",
    "lstm_df.columns"
   ]
  },
  {
   "cell_type": "code",
   "execution_count": 33,
   "metadata": {},
   "outputs": [],
   "source": [
    "#train_test_split\n",
    "X = lstm_df[lstm_df.columns[:10]].values\n",
    "y = lstm_df['var11'].values"
   ]
  },
  {
   "cell_type": "code",
   "execution_count": 34,
   "metadata": {},
   "outputs": [],
   "source": [
    "X_train, X_test, y_train, y_test = train_test_split(X, y, test_size = 0.3, random_state = 42)"
   ]
  },
  {
   "cell_type": "code",
   "execution_count": 35,
   "metadata": {},
   "outputs": [
    {
     "name": "stdout",
     "output_type": "stream",
     "text": [
      "X_train:  (727, 10)\n",
      "X_test:  (312, 10)\n",
      "Y_train:  (727,)\n",
      "y_test:  (312,)\n"
     ]
    }
   ],
   "source": [
    "print(\"X_train: \",X_train.shape)\n",
    "print(\"X_test: \", X_test.shape)\n",
    "print(\"Y_train: \", y_train.shape)\n",
    "print(\"y_test: \", y_test.shape)"
   ]
  },
  {
   "cell_type": "code",
   "execution_count": 37,
   "metadata": {},
   "outputs": [
    {
     "name": "stdout",
     "output_type": "stream",
     "text": [
      "(727, 1, 10)\n",
      "(312, 1, 10)\n"
     ]
    }
   ],
   "source": [
    "#Reshape into a 3D that LSTM expects\n",
    "X_train = X_train.reshape((X_train.shape[0], 1, X_train.shape[1]))\n",
    "X_test = X_test.reshape((X_test.shape[0], 1, X_test.shape[1]))\n",
    "print(X_train.shape)\n",
    "print(X_test.shape)"
   ]
  },
  {
   "cell_type": "code",
   "execution_count": null,
   "metadata": {},
   "outputs": [],
   "source": [
    "#Because I have already done the work of optimizing the sum for LSTM, I'll use the optimal model from the univariate\n",
    "#I can always go back and tune further\n",
    "#This does mean I will have to adjust the data to 5 lags"
   ]
  },
  {
   "cell_type": "code",
   "execution_count": 48,
   "metadata": {},
   "outputs": [
    {
     "data": {
      "text/html": [
       "<div>\n",
       "<style scoped>\n",
       "    .dataframe tbody tr th:only-of-type {\n",
       "        vertical-align: middle;\n",
       "    }\n",
       "\n",
       "    .dataframe tbody tr th {\n",
       "        vertical-align: top;\n",
       "    }\n",
       "\n",
       "    .dataframe thead th {\n",
       "        text-align: right;\n",
       "    }\n",
       "</style>\n",
       "<table border=\"1\" class=\"dataframe\">\n",
       "  <thead>\n",
       "    <tr style=\"text-align: right;\">\n",
       "      <th></th>\n",
       "      <th>var1(t-5)</th>\n",
       "      <th>var2(t-5)</th>\n",
       "      <th>var3(t-5)</th>\n",
       "      <th>var4(t-5)</th>\n",
       "      <th>var5(t-5)</th>\n",
       "      <th>var6(t-5)</th>\n",
       "      <th>var7(t-5)</th>\n",
       "      <th>var8(t-5)</th>\n",
       "      <th>var9(t-5)</th>\n",
       "      <th>var10(t-5)</th>\n",
       "      <th>...</th>\n",
       "      <th>var2</th>\n",
       "      <th>var3</th>\n",
       "      <th>var4</th>\n",
       "      <th>var5</th>\n",
       "      <th>var6</th>\n",
       "      <th>var7</th>\n",
       "      <th>var8</th>\n",
       "      <th>var9</th>\n",
       "      <th>var10</th>\n",
       "      <th>var11</th>\n",
       "    </tr>\n",
       "  </thead>\n",
       "  <tbody>\n",
       "    <tr>\n",
       "      <th>5</th>\n",
       "      <td>0.018018</td>\n",
       "      <td>0.004831</td>\n",
       "      <td>0.007194</td>\n",
       "      <td>0.023256</td>\n",
       "      <td>0.008475</td>\n",
       "      <td>0.007812</td>\n",
       "      <td>0.020045</td>\n",
       "      <td>0.012690</td>\n",
       "      <td>0.005128</td>\n",
       "      <td>0.019737</td>\n",
       "      <td>...</td>\n",
       "      <td>0.028986</td>\n",
       "      <td>0.014388</td>\n",
       "      <td>0.040698</td>\n",
       "      <td>0.029661</td>\n",
       "      <td>0.010417</td>\n",
       "      <td>0.026726</td>\n",
       "      <td>0.020305</td>\n",
       "      <td>0.015385</td>\n",
       "      <td>0.013158</td>\n",
       "      <td>0.023517</td>\n",
       "    </tr>\n",
       "    <tr>\n",
       "      <th>6</th>\n",
       "      <td>0.054054</td>\n",
       "      <td>0.038647</td>\n",
       "      <td>0.014388</td>\n",
       "      <td>0.017442</td>\n",
       "      <td>0.033898</td>\n",
       "      <td>0.044271</td>\n",
       "      <td>0.026726</td>\n",
       "      <td>0.050761</td>\n",
       "      <td>0.010256</td>\n",
       "      <td>0.019737</td>\n",
       "      <td>...</td>\n",
       "      <td>0.009662</td>\n",
       "      <td>0.007194</td>\n",
       "      <td>0.005814</td>\n",
       "      <td>0.012712</td>\n",
       "      <td>0.013021</td>\n",
       "      <td>0.013363</td>\n",
       "      <td>0.013959</td>\n",
       "      <td>0.010256</td>\n",
       "      <td>0.013158</td>\n",
       "      <td>0.013386</td>\n",
       "    </tr>\n",
       "    <tr>\n",
       "      <th>7</th>\n",
       "      <td>0.045045</td>\n",
       "      <td>0.033816</td>\n",
       "      <td>0.014388</td>\n",
       "      <td>0.040698</td>\n",
       "      <td>0.072034</td>\n",
       "      <td>0.044271</td>\n",
       "      <td>0.064588</td>\n",
       "      <td>0.064721</td>\n",
       "      <td>0.061538</td>\n",
       "      <td>0.085526</td>\n",
       "      <td>...</td>\n",
       "      <td>0.000000</td>\n",
       "      <td>0.000000</td>\n",
       "      <td>0.023256</td>\n",
       "      <td>0.029661</td>\n",
       "      <td>0.020833</td>\n",
       "      <td>0.020045</td>\n",
       "      <td>0.013959</td>\n",
       "      <td>0.020513</td>\n",
       "      <td>0.006579</td>\n",
       "      <td>0.018090</td>\n",
       "    </tr>\n",
       "    <tr>\n",
       "      <th>8</th>\n",
       "      <td>0.036036</td>\n",
       "      <td>0.009662</td>\n",
       "      <td>0.035971</td>\n",
       "      <td>0.011628</td>\n",
       "      <td>0.038136</td>\n",
       "      <td>0.026042</td>\n",
       "      <td>0.022272</td>\n",
       "      <td>0.026650</td>\n",
       "      <td>0.025641</td>\n",
       "      <td>0.019737</td>\n",
       "      <td>...</td>\n",
       "      <td>0.009662</td>\n",
       "      <td>0.021583</td>\n",
       "      <td>0.023256</td>\n",
       "      <td>0.012712</td>\n",
       "      <td>0.015625</td>\n",
       "      <td>0.011136</td>\n",
       "      <td>0.011421</td>\n",
       "      <td>0.010256</td>\n",
       "      <td>0.013158</td>\n",
       "      <td>0.014834</td>\n",
       "    </tr>\n",
       "    <tr>\n",
       "      <th>9</th>\n",
       "      <td>0.045045</td>\n",
       "      <td>0.024155</td>\n",
       "      <td>0.057554</td>\n",
       "      <td>0.063953</td>\n",
       "      <td>0.038136</td>\n",
       "      <td>0.036458</td>\n",
       "      <td>0.051225</td>\n",
       "      <td>0.059645</td>\n",
       "      <td>0.041026</td>\n",
       "      <td>0.065789</td>\n",
       "      <td>...</td>\n",
       "      <td>0.019324</td>\n",
       "      <td>0.007194</td>\n",
       "      <td>0.011628</td>\n",
       "      <td>0.016949</td>\n",
       "      <td>0.018229</td>\n",
       "      <td>0.006682</td>\n",
       "      <td>0.020305</td>\n",
       "      <td>0.010256</td>\n",
       "      <td>0.013158</td>\n",
       "      <td>0.017366</td>\n",
       "    </tr>\n",
       "  </tbody>\n",
       "</table>\n",
       "<p>5 rows × 66 columns</p>\n",
       "</div>"
      ],
      "text/plain": [
       "   var1(t-5)  var2(t-5)  var3(t-5)  var4(t-5)  var5(t-5)  var6(t-5)  \\\n",
       "5   0.018018   0.004831   0.007194   0.023256   0.008475   0.007812   \n",
       "6   0.054054   0.038647   0.014388   0.017442   0.033898   0.044271   \n",
       "7   0.045045   0.033816   0.014388   0.040698   0.072034   0.044271   \n",
       "8   0.036036   0.009662   0.035971   0.011628   0.038136   0.026042   \n",
       "9   0.045045   0.024155   0.057554   0.063953   0.038136   0.036458   \n",
       "\n",
       "   var7(t-5)  var8(t-5)  var9(t-5)  var10(t-5)  ...      var2      var3  \\\n",
       "5   0.020045   0.012690   0.005128    0.019737  ...  0.028986  0.014388   \n",
       "6   0.026726   0.050761   0.010256    0.019737  ...  0.009662  0.007194   \n",
       "7   0.064588   0.064721   0.061538    0.085526  ...  0.000000  0.000000   \n",
       "8   0.022272   0.026650   0.025641    0.019737  ...  0.009662  0.021583   \n",
       "9   0.051225   0.059645   0.041026    0.065789  ...  0.019324  0.007194   \n",
       "\n",
       "       var4      var5      var6      var7      var8      var9     var10  \\\n",
       "5  0.040698  0.029661  0.010417  0.026726  0.020305  0.015385  0.013158   \n",
       "6  0.005814  0.012712  0.013021  0.013363  0.013959  0.010256  0.013158   \n",
       "7  0.023256  0.029661  0.020833  0.020045  0.013959  0.020513  0.006579   \n",
       "8  0.023256  0.012712  0.015625  0.011136  0.011421  0.010256  0.013158   \n",
       "9  0.011628  0.016949  0.018229  0.006682  0.020305  0.010256  0.013158   \n",
       "\n",
       "      var11  \n",
       "5  0.023517  \n",
       "6  0.013386  \n",
       "7  0.018090  \n",
       "8  0.014834  \n",
       "9  0.017366  \n",
       "\n",
       "[5 rows x 66 columns]"
      ]
     },
     "execution_count": 48,
     "metadata": {},
     "output_type": "execute_result"
    }
   ],
   "source": [
    "lag_5 = series_to_supervise(scaled_df, 5, 1)\n",
    "lag_5.head()"
   ]
  },
  {
   "cell_type": "code",
   "execution_count": 49,
   "metadata": {},
   "outputs": [
    {
     "data": {
      "text/plain": [
       "Index(['var1(t-5)', 'var2(t-5)', 'var3(t-5)', 'var4(t-5)', 'var5(t-5)',\n",
       "       'var6(t-5)', 'var7(t-5)', 'var8(t-5)', 'var9(t-5)', 'var10(t-5)',\n",
       "       'var11(t-5)', 'var1(t-4)', 'var2(t-4)', 'var3(t-4)', 'var4(t-4)',\n",
       "       'var5(t-4)', 'var6(t-4)', 'var7(t-4)', 'var8(t-4)', 'var9(t-4)',\n",
       "       'var10(t-4)', 'var11(t-4)', 'var1(t-3)', 'var2(t-3)', 'var3(t-3)',\n",
       "       'var4(t-3)', 'var5(t-3)', 'var6(t-3)', 'var7(t-3)', 'var8(t-3)',\n",
       "       'var9(t-3)', 'var10(t-3)', 'var11(t-3)', 'var1(t-2)', 'var2(t-2)',\n",
       "       'var3(t-2)', 'var4(t-2)', 'var5(t-2)', 'var6(t-2)', 'var7(t-2)',\n",
       "       'var8(t-2)', 'var9(t-2)', 'var10(t-2)', 'var11(t-2)', 'var1(t-1)',\n",
       "       'var2(t-1)', 'var3(t-1)', 'var4(t-1)', 'var5(t-1)', 'var6(t-1)',\n",
       "       'var7(t-1)', 'var8(t-1)', 'var9(t-1)', 'var10(t-1)', 'var11(t-1)',\n",
       "       'var1', 'var2', 'var3', 'var4', 'var5', 'var6', 'var7', 'var8', 'var9',\n",
       "       'var10', 'var11'],\n",
       "      dtype='object')"
      ]
     },
     "execution_count": 49,
     "metadata": {},
     "output_type": "execute_result"
    }
   ],
   "source": [
    "lag_5.columns"
   ]
  },
  {
   "cell_type": "code",
   "execution_count": 50,
   "metadata": {},
   "outputs": [
    {
     "data": {
      "text/plain": [
       "Index(['var1(t-5)', 'var2(t-5)', 'var3(t-5)', 'var4(t-5)', 'var5(t-5)',\n",
       "       'var6(t-5)', 'var7(t-5)', 'var8(t-5)', 'var9(t-5)', 'var10(t-5)',\n",
       "       'var11(t-5)', 'var1(t-4)', 'var2(t-4)', 'var3(t-4)', 'var4(t-4)',\n",
       "       'var5(t-4)', 'var6(t-4)', 'var7(t-4)', 'var8(t-4)', 'var9(t-4)',\n",
       "       'var10(t-4)', 'var11(t-4)', 'var1(t-3)', 'var2(t-3)', 'var3(t-3)',\n",
       "       'var4(t-3)', 'var5(t-3)', 'var6(t-3)', 'var7(t-3)', 'var8(t-3)',\n",
       "       'var9(t-3)', 'var10(t-3)', 'var11(t-3)', 'var1(t-2)', 'var2(t-2)',\n",
       "       'var3(t-2)', 'var4(t-2)', 'var5(t-2)', 'var6(t-2)', 'var7(t-2)',\n",
       "       'var8(t-2)', 'var9(t-2)', 'var10(t-2)', 'var11(t-2)', 'var1(t-1)',\n",
       "       'var2(t-1)', 'var3(t-1)', 'var4(t-1)', 'var5(t-1)', 'var6(t-1)',\n",
       "       'var7(t-1)', 'var8(t-1)', 'var9(t-1)', 'var10(t-1)', 'var11(t-1)',\n",
       "       'var11'],\n",
       "      dtype='object')"
      ]
     },
     "execution_count": 50,
     "metadata": {},
     "output_type": "execute_result"
    }
   ],
   "source": [
    "lag_5.drop(lag_5.columns[[55, 56, 57, 58, 59, 60, 61, 62, 63, 64]], axis = 1, inplace = True)\n",
    "lag_5.columns"
   ]
  },
  {
   "cell_type": "code",
   "execution_count": 51,
   "metadata": {},
   "outputs": [
    {
     "data": {
      "text/plain": [
       "56"
      ]
     },
     "execution_count": 51,
     "metadata": {},
     "output_type": "execute_result"
    }
   ],
   "source": [
    "len(lag_5.columns)"
   ]
  },
  {
   "cell_type": "code",
   "execution_count": 52,
   "metadata": {},
   "outputs": [],
   "source": [
    "X_5 = lag_5[lag_5.columns[:55]].values\n",
    "y_5 = lag_5['var11'].values"
   ]
  },
  {
   "cell_type": "code",
   "execution_count": 53,
   "metadata": {},
   "outputs": [],
   "source": [
    "X5_train, X5_test, y5_train, y5_test = train_test_split(X_5, y_5, test_size = 0.3, random_state = 42)"
   ]
  },
  {
   "cell_type": "code",
   "execution_count": 54,
   "metadata": {},
   "outputs": [
    {
     "name": "stdout",
     "output_type": "stream",
     "text": [
      "X5_train:  (724, 55)\n",
      "X5_test:  (311, 55)\n",
      "Y5_train:  (724,)\n",
      "y5_test:  (311,)\n"
     ]
    }
   ],
   "source": [
    "print(\"X5_train: \",X5_train.shape)\n",
    "print(\"X5_test: \", X5_test.shape)\n",
    "print(\"Y5_train: \", y5_train.shape)\n",
    "print(\"y5_test: \", y5_test.shape)"
   ]
  },
  {
   "cell_type": "code",
   "execution_count": 58,
   "metadata": {},
   "outputs": [
    {
     "name": "stdout",
     "output_type": "stream",
     "text": [
      "(724, 5, 11)\n",
      "(311, 5, 11)\n"
     ]
    }
   ],
   "source": [
    "X5_train = X5_train.reshape((X5_train.shape[0], 5, 11))\n",
    "X5_test = X5_test.reshape((X5_test.shape[0], 5, 11))\n",
    "print(X5_train.shape)\n",
    "print(X5_test.shape)"
   ]
  },
  {
   "cell_type": "code",
   "execution_count": 61,
   "metadata": {},
   "outputs": [
    {
     "ename": "NameError",
     "evalue": "name 'Sequential' is not defined",
     "output_type": "error",
     "traceback": [
      "\u001b[1;31m---------------------------------------------------------------------------\u001b[0m",
      "\u001b[1;31mNameError\u001b[0m                                 Traceback (most recent call last)",
      "\u001b[1;32m<ipython-input-61-90785174d872>\u001b[0m in \u001b[0;36m<module>\u001b[1;34m\u001b[0m\n\u001b[0;32m      1\u001b[0m \u001b[1;31m#same model from univariate experiment\u001b[0m\u001b[1;33m\u001b[0m\u001b[1;33m\u001b[0m\u001b[1;33m\u001b[0m\u001b[0m\n\u001b[0;32m      2\u001b[0m \u001b[0mnow\u001b[0m \u001b[1;33m=\u001b[0m \u001b[0mdatetime\u001b[0m\u001b[1;33m.\u001b[0m\u001b[0mdatetime\u001b[0m\u001b[1;33m.\u001b[0m\u001b[0mnow\u001b[0m\u001b[1;33m(\u001b[0m\u001b[1;33m)\u001b[0m\u001b[1;33m\u001b[0m\u001b[1;33m\u001b[0m\u001b[0m\n\u001b[1;32m----> 3\u001b[1;33m \u001b[0mmodel_5\u001b[0m \u001b[1;33m=\u001b[0m \u001b[0mSequential\u001b[0m\u001b[1;33m(\u001b[0m\u001b[1;33m)\u001b[0m\u001b[1;33m\u001b[0m\u001b[1;33m\u001b[0m\u001b[0m\n\u001b[0m\u001b[0;32m      4\u001b[0m \u001b[0mmodel_5\u001b[0m\u001b[1;33m.\u001b[0m\u001b[0madd\u001b[0m\u001b[1;33m(\u001b[0m\u001b[0mLSTM\u001b[0m\u001b[1;33m(\u001b[0m\u001b[1;36m50\u001b[0m\u001b[1;33m,\u001b[0m \u001b[0minput_shape\u001b[0m \u001b[1;33m=\u001b[0m \u001b[1;33m(\u001b[0m\u001b[0mX5_train\u001b[0m\u001b[1;33m.\u001b[0m\u001b[0mshape\u001b[0m\u001b[1;33m[\u001b[0m\u001b[1;36m1\u001b[0m\u001b[1;33m]\u001b[0m\u001b[1;33m,\u001b[0m \u001b[0mX5_train\u001b[0m\u001b[1;33m.\u001b[0m\u001b[0mshape\u001b[0m\u001b[1;33m[\u001b[0m\u001b[1;36m2\u001b[0m\u001b[1;33m]\u001b[0m\u001b[1;33m)\u001b[0m\u001b[1;33m)\u001b[0m\u001b[1;33m)\u001b[0m\u001b[1;33m\u001b[0m\u001b[1;33m\u001b[0m\u001b[0m\n\u001b[0;32m      5\u001b[0m \u001b[0mmodel_5\u001b[0m\u001b[1;33m.\u001b[0m\u001b[0madd\u001b[0m\u001b[1;33m(\u001b[0m\u001b[0mDense\u001b[0m\u001b[1;33m(\u001b[0m\u001b[1;36m50\u001b[0m\u001b[1;33m,\u001b[0m \u001b[0mactivation\u001b[0m \u001b[1;33m=\u001b[0m \u001b[1;34m'tanh'\u001b[0m\u001b[1;33m)\u001b[0m\u001b[1;33m)\u001b[0m\u001b[1;33m\u001b[0m\u001b[1;33m\u001b[0m\u001b[0m\n",
      "\u001b[1;31mNameError\u001b[0m: name 'Sequential' is not defined"
     ]
    }
   ],
   "source": [
    "#same model from univariate experiment\n",
    "now = datetime.datetime.now()\n",
    "model_5 = Sequential()\n",
    "model_5.add(LSTM(50, input_shape = (X5_train.shape[1], X5_train.shape[2])))\n",
    "model_5.add(Dense(50, activation = 'tanh'))\n",
    "model_5.add(Dropout(0.3))\n",
    "model_5.add(Dense(35, activation = 'tanh'))\n",
    "model_5.add(Dropout(0.3))\n",
    "model_5.add(Dense(20, activation = 'tanh'))\n",
    "model_5.add(Dropout(0.3))\n",
    "model_5.add(Dense(1))\n",
    "model_5.compile(loss = 'mse', optimizer = 'adam', metrics = ['mse'])\n",
    "\n",
    "history_5 = model_5.fit(X5_train, y5_train, epochs = 10, batch_size = 20, validation_data = (X5_test, y5_test),\n",
    "                        verbose = True, shuffle = False)\n",
    "later = datetime.datetime.now()\n",
    "elapsed = later - now\n",
    "print('Time elapsed: ', elapsed)"
   ]
  },
  {
   "cell_type": "code",
   "execution_count": null,
   "metadata": {},
   "outputs": [],
   "source": []
  }
 ],
 "metadata": {
  "kernelspec": {
   "display_name": "Python 3",
   "language": "python",
   "name": "python3"
  },
  "language_info": {
   "codemirror_mode": {
    "name": "ipython",
    "version": 3
   },
   "file_extension": ".py",
   "mimetype": "text/x-python",
   "name": "python",
   "nbconvert_exporter": "python",
   "pygments_lexer": "ipython3",
   "version": "3.7.3"
  }
 },
 "nbformat": 4,
 "nbformat_minor": 2
}
