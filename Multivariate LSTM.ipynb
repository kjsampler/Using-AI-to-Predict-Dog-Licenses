{
 "cells": [
  {
   "cell_type": "markdown",
   "metadata": {},
   "source": [
    "# Steps: \n",
    "1. Determine which variables to use\n",
    "2. Cut down size of dataframe (maybe top 10 and do dummies? or an aggregate (# of pitbulls per month)\n",
    "3. Create multivariate dataframe, including timestamp index\n",
    "4. Scale, series_to_supervise\n",
    "5. Fit data, split to train_test sets\n",
    "6. Use univariate LSTM, tune to lowest MSE\n",
    "7. Compare univariate to multivariate scores, make analysis\n",
    "8. Save model and fit into function\n",
    "9. Write new prediction function? \n",
    "10. Conclude, interpret\n",
    "11. Make more visualizations\n",
    "12. Blog about it\n",
    "13. Where do we go from here? \n",
    "14. What is the \"so what\"? "
   ]
  },
  {
   "cell_type": "code",
   "execution_count": 68,
   "metadata": {},
   "outputs": [],
   "source": [
    "import pandas as pd\n",
    "import warnings\n",
    "warnings.filterwarnings('ignore')\n",
    "import matplotlib.pyplot as plt\n",
    "%matplotlib inline\n",
    "import seaborn as sns\n",
    "from pandas.plotting import table\n",
    "import dataframe_image as dfi\n",
    "from sklearn.preprocessing import MinMaxScaler\n",
    "from sklearn.model_selection import train_test_split"
   ]
  },
  {
   "cell_type": "code",
   "execution_count": 2,
   "metadata": {},
   "outputs": [],
   "source": [
    "df = pd.read_csv('data/raw_data.csv')"
   ]
  },
  {
   "cell_type": "code",
   "execution_count": 3,
   "metadata": {},
   "outputs": [],
   "source": [
    "df.set_index('ValidDate', inplace = True)"
   ]
  },
  {
   "cell_type": "code",
   "execution_count": 4,
   "metadata": {},
   "outputs": [],
   "source": [
    "df = df.drop(['ExpYear'], axis = 1)"
   ]
  },
  {
   "cell_type": "code",
   "execution_count": 5,
   "metadata": {},
   "outputs": [
    {
     "data": {
      "text/html": [
       "<div>\n",
       "<style scoped>\n",
       "    .dataframe tbody tr th:only-of-type {\n",
       "        vertical-align: middle;\n",
       "    }\n",
       "\n",
       "    .dataframe tbody tr th {\n",
       "        vertical-align: top;\n",
       "    }\n",
       "\n",
       "    .dataframe thead th {\n",
       "        text-align: right;\n",
       "    }\n",
       "</style>\n",
       "<table border=\"1\" class=\"dataframe\">\n",
       "  <thead>\n",
       "    <tr style=\"text-align: right;\">\n",
       "      <th></th>\n",
       "      <th>LicenseType</th>\n",
       "      <th>Breed</th>\n",
       "      <th>Color</th>\n",
       "      <th>DogName</th>\n",
       "      <th>OwnerZip</th>\n",
       "    </tr>\n",
       "    <tr>\n",
       "      <th>ValidDate</th>\n",
       "      <th></th>\n",
       "      <th></th>\n",
       "      <th></th>\n",
       "      <th></th>\n",
       "      <th></th>\n",
       "    </tr>\n",
       "  </thead>\n",
       "  <tbody>\n",
       "    <tr>\n",
       "      <th>2014-12-02 09:40:53</th>\n",
       "      <td>Dog Individual Neutered Male</td>\n",
       "      <td>COCKAPOO</td>\n",
       "      <td>BROWN</td>\n",
       "      <td>CHARLEY</td>\n",
       "      <td>15236</td>\n",
       "    </tr>\n",
       "    <tr>\n",
       "      <th>2014-12-02 09:45:25</th>\n",
       "      <td>Dog Senior Citizen or Disability Neutered Male</td>\n",
       "      <td>GER SHEPHERD</td>\n",
       "      <td>BLACK/BROWN</td>\n",
       "      <td>TACODA</td>\n",
       "      <td>15238</td>\n",
       "    </tr>\n",
       "    <tr>\n",
       "      <th>2014-12-02 09:47:55</th>\n",
       "      <td>Dog Individual Spayed Female</td>\n",
       "      <td>GER SHEPHERD</td>\n",
       "      <td>BLACK</td>\n",
       "      <td>CHARLY</td>\n",
       "      <td>15205</td>\n",
       "    </tr>\n",
       "    <tr>\n",
       "      <th>2014-12-02 10:02:33</th>\n",
       "      <td>Dog Individual Spayed Female</td>\n",
       "      <td>LABRADOR RETRIEVER</td>\n",
       "      <td>BLACK</td>\n",
       "      <td>ABBEY</td>\n",
       "      <td>15143</td>\n",
       "    </tr>\n",
       "    <tr>\n",
       "      <th>2014-12-02 10:05:50</th>\n",
       "      <td>Dog Individual Female</td>\n",
       "      <td>GER SHORTHAIR POINT</td>\n",
       "      <td>BROWN</td>\n",
       "      <td>CHARLEY</td>\n",
       "      <td>15228</td>\n",
       "    </tr>\n",
       "  </tbody>\n",
       "</table>\n",
       "</div>"
      ],
      "text/plain": [
       "                                                        LicenseType  \\\n",
       "ValidDate                                                             \n",
       "2014-12-02 09:40:53                    Dog Individual Neutered Male   \n",
       "2014-12-02 09:45:25  Dog Senior Citizen or Disability Neutered Male   \n",
       "2014-12-02 09:47:55                    Dog Individual Spayed Female   \n",
       "2014-12-02 10:02:33                    Dog Individual Spayed Female   \n",
       "2014-12-02 10:05:50                           Dog Individual Female   \n",
       "\n",
       "                                   Breed        Color  DogName  OwnerZip  \n",
       "ValidDate                                                                 \n",
       "2014-12-02 09:40:53             COCKAPOO        BROWN  CHARLEY     15236  \n",
       "2014-12-02 09:45:25         GER SHEPHERD  BLACK/BROWN   TACODA     15238  \n",
       "2014-12-02 09:47:55         GER SHEPHERD        BLACK   CHARLY     15205  \n",
       "2014-12-02 10:02:33   LABRADOR RETRIEVER        BLACK    ABBEY     15143  \n",
       "2014-12-02 10:05:50  GER SHORTHAIR POINT        BROWN  CHARLEY     15228  "
      ]
     },
     "execution_count": 5,
     "metadata": {},
     "output_type": "execute_result"
    }
   ],
   "source": [
    "df.head()"
   ]
  },
  {
   "cell_type": "code",
   "execution_count": 6,
   "metadata": {},
   "outputs": [
    {
     "data": {
      "text/plain": [
       "286724"
      ]
     },
     "execution_count": 6,
     "metadata": {},
     "output_type": "execute_result"
    }
   ],
   "source": [
    "df['Breed'].value_counts().sum()"
   ]
  },
  {
   "cell_type": "code",
   "execution_count": 11,
   "metadata": {},
   "outputs": [
    {
     "data": {
      "text/plain": [
       "340"
      ]
     },
     "execution_count": 11,
     "metadata": {},
     "output_type": "execute_result"
    }
   ],
   "source": [
    "len(df['Breed'].unique())"
   ]
  },
  {
   "cell_type": "code",
   "execution_count": 8,
   "metadata": {},
   "outputs": [],
   "source": [
    "#I would definitely need to look at cutting that number down- that would be way too noisy.\n",
    "#My initial thought is to see what the top 10 breeds are\n",
    "#Maybe from there I can either to dummies or aggregate"
   ]
  },
  {
   "cell_type": "code",
   "execution_count": 12,
   "metadata": {},
   "outputs": [],
   "source": [
    "top_ten = df['Breed'].value_counts()[:11]"
   ]
  },
  {
   "cell_type": "code",
   "execution_count": 13,
   "metadata": {},
   "outputs": [
    {
     "data": {
      "text/plain": [
       "MIXED                  29009\n",
       "LABRADOR RETRIEVER     19713\n",
       "LAB MIX                17714\n",
       "GOLDEN RETRIEVER        9344\n",
       "GER SHEPHERD            8437\n",
       "SHIH TZU                7976\n",
       "BEAGLE                  7960\n",
       "CHIHUAHUA               7664\n",
       "TAG                     7475\n",
       "AM PIT BULL TERRIER     7332\n",
       "YORKSHIRE TERRIER       6268\n",
       "Name: Breed, dtype: int64"
      ]
     },
     "execution_count": 13,
     "metadata": {},
     "output_type": "execute_result"
    }
   ],
   "source": [
    "top_ten\n",
    "#bar chart here"
   ]
  },
  {
   "cell_type": "code",
   "execution_count": 11,
   "metadata": {},
   "outputs": [],
   "source": [
    "#TAG is not a type of dog. they are denoting that they are putting tags on an existing dog"
   ]
  },
  {
   "cell_type": "code",
   "execution_count": 14,
   "metadata": {},
   "outputs": [
    {
     "data": {
      "text/html": [
       "<div>\n",
       "<style scoped>\n",
       "    .dataframe tbody tr th:only-of-type {\n",
       "        vertical-align: middle;\n",
       "    }\n",
       "\n",
       "    .dataframe tbody tr th {\n",
       "        vertical-align: top;\n",
       "    }\n",
       "\n",
       "    .dataframe thead th {\n",
       "        text-align: right;\n",
       "    }\n",
       "</style>\n",
       "<table border=\"1\" class=\"dataframe\">\n",
       "  <thead>\n",
       "    <tr style=\"text-align: right;\">\n",
       "      <th></th>\n",
       "      <th>LicenseType</th>\n",
       "      <th>Breed</th>\n",
       "      <th>Color</th>\n",
       "      <th>DogName</th>\n",
       "      <th>OwnerZip</th>\n",
       "    </tr>\n",
       "    <tr>\n",
       "      <th>ValidDate</th>\n",
       "      <th></th>\n",
       "      <th></th>\n",
       "      <th></th>\n",
       "      <th></th>\n",
       "      <th></th>\n",
       "    </tr>\n",
       "  </thead>\n",
       "  <tbody>\n",
       "    <tr>\n",
       "      <th>2015-03-12 11:11:36</th>\n",
       "      <td>Dog Individual Spayed Female</td>\n",
       "      <td>TAG</td>\n",
       "      <td>BLACK</td>\n",
       "      <td>SHADOW</td>\n",
       "      <td>15102</td>\n",
       "    </tr>\n",
       "    <tr>\n",
       "      <th>2017-01-10 09:39:46</th>\n",
       "      <td>Dog Individual Spayed Female</td>\n",
       "      <td>TAG</td>\n",
       "      <td>BLACK</td>\n",
       "      <td>SHADOW</td>\n",
       "      <td>15102</td>\n",
       "    </tr>\n",
       "    <tr>\n",
       "      <th>2015-12-11 10:35:08</th>\n",
       "      <td>Dog Individual Spayed Female</td>\n",
       "      <td>TAG</td>\n",
       "      <td>BLACK</td>\n",
       "      <td>SHADOW</td>\n",
       "      <td>15102</td>\n",
       "    </tr>\n",
       "  </tbody>\n",
       "</table>\n",
       "</div>"
      ],
      "text/plain": [
       "                                      LicenseType Breed  Color DogName  \\\n",
       "ValidDate                                                                \n",
       "2015-03-12 11:11:36  Dog Individual Spayed Female   TAG  BLACK  SHADOW   \n",
       "2017-01-10 09:39:46  Dog Individual Spayed Female   TAG  BLACK  SHADOW   \n",
       "2015-12-11 10:35:08  Dog Individual Spayed Female   TAG  BLACK  SHADOW   \n",
       "\n",
       "                     OwnerZip  \n",
       "ValidDate                      \n",
       "2015-03-12 11:11:36     15102  \n",
       "2017-01-10 09:39:46     15102  \n",
       "2015-12-11 10:35:08     15102  "
      ]
     },
     "execution_count": 14,
     "metadata": {},
     "output_type": "execute_result"
    }
   ],
   "source": [
    "tag_df = df.loc[df['Breed'] == 'TAG']\n",
    "tag_df.loc[(tag_df['DogName'] == 'SHADOW') & (tag_df['OwnerZip'] == 15102)]"
   ]
  },
  {
   "cell_type": "code",
   "execution_count": 15,
   "metadata": {
    "scrolled": true
   },
   "outputs": [
    {
     "data": {
      "text/plain": [
       "5708"
      ]
     },
     "execution_count": 15,
     "metadata": {},
     "output_type": "execute_result"
    }
   ],
   "source": [
    "a = len(tag_df['DogName'])\n",
    "b = len(tag_df['DogName'].value_counts())\n",
    "a-b"
   ]
  },
  {
   "cell_type": "code",
   "execution_count": 14,
   "metadata": {},
   "outputs": [],
   "source": [
    "#Time to zoom out. What am i hoping to accomplish here? \n",
    "#A multivariate time series. OG problem: predict number of licenses dispensed per day. \n",
    "#New problem: predict licenses dispenses while considering extra variables. \n",
    "#I think top 10 dummies is actually going to benefit me most. \n",
    "#Let's start with breed: top 9 and 'other'\n",
    "## investigate whether an 'other' column is going to unbalance the data too bad; \n",
    "#we may need to keep it to top 10 with a disclaimer"
   ]
  },
  {
   "cell_type": "code",
   "execution_count": 16,
   "metadata": {},
   "outputs": [
    {
     "data": {
      "text/html": [
       "<div>\n",
       "<style scoped>\n",
       "    .dataframe tbody tr th:only-of-type {\n",
       "        vertical-align: middle;\n",
       "    }\n",
       "\n",
       "    .dataframe tbody tr th {\n",
       "        vertical-align: top;\n",
       "    }\n",
       "\n",
       "    .dataframe thead th {\n",
       "        text-align: right;\n",
       "    }\n",
       "</style>\n",
       "<table border=\"1\" class=\"dataframe\">\n",
       "  <thead>\n",
       "    <tr style=\"text-align: right;\">\n",
       "      <th></th>\n",
       "      <th>LicenseType</th>\n",
       "      <th>Breed</th>\n",
       "      <th>Color</th>\n",
       "      <th>DogName</th>\n",
       "      <th>OwnerZip</th>\n",
       "    </tr>\n",
       "    <tr>\n",
       "      <th>ValidDate</th>\n",
       "      <th></th>\n",
       "      <th></th>\n",
       "      <th></th>\n",
       "      <th></th>\n",
       "      <th></th>\n",
       "    </tr>\n",
       "  </thead>\n",
       "  <tbody>\n",
       "    <tr>\n",
       "      <th>2014-12-02 09:40:53</th>\n",
       "      <td>Dog Individual Neutered Male</td>\n",
       "      <td>COCKAPOO</td>\n",
       "      <td>BROWN</td>\n",
       "      <td>CHARLEY</td>\n",
       "      <td>15236</td>\n",
       "    </tr>\n",
       "    <tr>\n",
       "      <th>2014-12-02 09:45:25</th>\n",
       "      <td>Dog Senior Citizen or Disability Neutered Male</td>\n",
       "      <td>GER SHEPHERD</td>\n",
       "      <td>BLACK/BROWN</td>\n",
       "      <td>TACODA</td>\n",
       "      <td>15238</td>\n",
       "    </tr>\n",
       "    <tr>\n",
       "      <th>2014-12-02 09:47:55</th>\n",
       "      <td>Dog Individual Spayed Female</td>\n",
       "      <td>GER SHEPHERD</td>\n",
       "      <td>BLACK</td>\n",
       "      <td>CHARLY</td>\n",
       "      <td>15205</td>\n",
       "    </tr>\n",
       "    <tr>\n",
       "      <th>2014-12-02 10:02:33</th>\n",
       "      <td>Dog Individual Spayed Female</td>\n",
       "      <td>LABRADOR RETRIEVER</td>\n",
       "      <td>BLACK</td>\n",
       "      <td>ABBEY</td>\n",
       "      <td>15143</td>\n",
       "    </tr>\n",
       "    <tr>\n",
       "      <th>2014-12-02 10:05:50</th>\n",
       "      <td>Dog Individual Female</td>\n",
       "      <td>GER SHORTHAIR POINT</td>\n",
       "      <td>BROWN</td>\n",
       "      <td>CHARLEY</td>\n",
       "      <td>15228</td>\n",
       "    </tr>\n",
       "  </tbody>\n",
       "</table>\n",
       "</div>"
      ],
      "text/plain": [
       "                                                        LicenseType  \\\n",
       "ValidDate                                                             \n",
       "2014-12-02 09:40:53                    Dog Individual Neutered Male   \n",
       "2014-12-02 09:45:25  Dog Senior Citizen or Disability Neutered Male   \n",
       "2014-12-02 09:47:55                    Dog Individual Spayed Female   \n",
       "2014-12-02 10:02:33                    Dog Individual Spayed Female   \n",
       "2014-12-02 10:05:50                           Dog Individual Female   \n",
       "\n",
       "                                   Breed        Color  DogName  OwnerZip  \n",
       "ValidDate                                                                 \n",
       "2014-12-02 09:40:53             COCKAPOO        BROWN  CHARLEY     15236  \n",
       "2014-12-02 09:45:25         GER SHEPHERD  BLACK/BROWN   TACODA     15238  \n",
       "2014-12-02 09:47:55         GER SHEPHERD        BLACK   CHARLY     15205  \n",
       "2014-12-02 10:02:33   LABRADOR RETRIEVER        BLACK    ABBEY     15143  \n",
       "2014-12-02 10:05:50  GER SHORTHAIR POINT        BROWN  CHARLEY     15228  "
      ]
     },
     "execution_count": 16,
     "metadata": {},
     "output_type": "execute_result"
    }
   ],
   "source": [
    "df.head()"
   ]
  },
  {
   "cell_type": "code",
   "execution_count": 17,
   "metadata": {},
   "outputs": [
    {
     "data": {
      "text/plain": [
       "LicenseType    0\n",
       "Breed          0\n",
       "Color          0\n",
       "DogName        0\n",
       "OwnerZip       0\n",
       "dtype: int64"
      ]
     },
     "execution_count": 17,
     "metadata": {},
     "output_type": "execute_result"
    }
   ],
   "source": [
    "df.isnull().sum()"
   ]
  },
  {
   "cell_type": "code",
   "execution_count": 18,
   "metadata": {},
   "outputs": [],
   "source": [
    "breed_df = pd.DataFrame(df.Breed)\n",
    "breed_df.set_index(breed_df.index, inplace = True)\n",
    "breed_df.index = pd.to_datetime(breed_df.index)"
   ]
  },
  {
   "cell_type": "markdown",
   "metadata": {},
   "source": [
    "MIXED\n",
    "LABRADOR RETRIEVER     \n",
    "LAB MIX                \n",
    "GOLDEN RETRIEVER        \n",
    "GER SHEPHERD            \n",
    "SHIH TZU            \n",
    "BEAGLE                  \n",
    "CHIHUAHUA                                  \n",
    "AM PIT BULL TERRIER     \n",
    "YORKSHIRE TERRIER      "
   ]
  },
  {
   "cell_type": "code",
   "execution_count": 19,
   "metadata": {},
   "outputs": [
    {
     "data": {
      "text/html": [
       "<div>\n",
       "<style scoped>\n",
       "    .dataframe tbody tr th:only-of-type {\n",
       "        vertical-align: middle;\n",
       "    }\n",
       "\n",
       "    .dataframe tbody tr th {\n",
       "        vertical-align: top;\n",
       "    }\n",
       "\n",
       "    .dataframe thead th {\n",
       "        text-align: right;\n",
       "    }\n",
       "</style>\n",
       "<table border=\"1\" class=\"dataframe\">\n",
       "  <thead>\n",
       "    <tr style=\"text-align: right;\">\n",
       "      <th></th>\n",
       "      <th>Breed</th>\n",
       "    </tr>\n",
       "    <tr>\n",
       "      <th>ValidDate</th>\n",
       "      <th></th>\n",
       "    </tr>\n",
       "  </thead>\n",
       "  <tbody>\n",
       "    <tr>\n",
       "      <th>2014-12-02 09:45:25</th>\n",
       "      <td>GER SHEPHERD</td>\n",
       "    </tr>\n",
       "    <tr>\n",
       "      <th>2014-12-02 09:47:55</th>\n",
       "      <td>GER SHEPHERD</td>\n",
       "    </tr>\n",
       "    <tr>\n",
       "      <th>2014-12-02 10:02:33</th>\n",
       "      <td>LABRADOR RETRIEVER</td>\n",
       "    </tr>\n",
       "    <tr>\n",
       "      <th>2014-12-02 10:08:13</th>\n",
       "      <td>YORKSHIRE TERRIER</td>\n",
       "    </tr>\n",
       "    <tr>\n",
       "      <th>2014-12-02 10:15:30</th>\n",
       "      <td>YORKSHIRE TERRIER</td>\n",
       "    </tr>\n",
       "  </tbody>\n",
       "</table>\n",
       "</div>"
      ],
      "text/plain": [
       "                                  Breed\n",
       "ValidDate                              \n",
       "2014-12-02 09:45:25        GER SHEPHERD\n",
       "2014-12-02 09:47:55        GER SHEPHERD\n",
       "2014-12-02 10:02:33  LABRADOR RETRIEVER\n",
       "2014-12-02 10:08:13   YORKSHIRE TERRIER\n",
       "2014-12-02 10:15:30   YORKSHIRE TERRIER"
      ]
     },
     "execution_count": 19,
     "metadata": {},
     "output_type": "execute_result"
    }
   ],
   "source": [
    "df_top_ten = breed_df[(breed_df['Breed'] == 'MIXED') |\n",
    "                     (breed_df['Breed'] == 'LABRADOR RETRIEVER') |\n",
    "                     (breed_df['Breed'] == 'LAB MIX') |\n",
    "                     (breed_df['Breed'] == 'GOLDEN RETRIEVER') |\n",
    "                     (breed_df['Breed'] == 'GER SHEPHERD') |\n",
    "                     (breed_df['Breed'] == 'SHIH TZU') |\n",
    "                     (breed_df['Breed'] == 'BEAGLE') |\n",
    "                     (breed_df['Breed'] == 'CHIHUAHUA') |\n",
    "                     (breed_df['Breed'] == 'AM PIT BULL TERRIER')|\n",
    "                     (breed_df['Breed'] == 'YORKSHIRE TERRIER')]\n",
    "df_top_ten.head()"
   ]
  },
  {
   "cell_type": "code",
   "execution_count": 20,
   "metadata": {},
   "outputs": [
    {
     "name": "stdout",
     "output_type": "stream",
     "text": [
      "Breed df:  286724\n",
      "Top Ten df:  121417\n",
      "Difference:  165307\n"
     ]
    }
   ],
   "source": [
    "print(\"Breed df: \", len(breed_df))\n",
    "print(\"Top Ten df: \", len(df_top_ten))\n",
    "print(\"Difference: \", len(breed_df)-len(df_top_ten))"
   ]
  },
  {
   "cell_type": "code",
   "execution_count": 21,
   "metadata": {},
   "outputs": [
    {
     "data": {
      "text/html": [
       "<div>\n",
       "<style scoped>\n",
       "    .dataframe tbody tr th:only-of-type {\n",
       "        vertical-align: middle;\n",
       "    }\n",
       "\n",
       "    .dataframe tbody tr th {\n",
       "        vertical-align: top;\n",
       "    }\n",
       "\n",
       "    .dataframe thead th {\n",
       "        text-align: right;\n",
       "    }\n",
       "</style>\n",
       "<table border=\"1\" class=\"dataframe\">\n",
       "  <thead>\n",
       "    <tr style=\"text-align: right;\">\n",
       "      <th></th>\n",
       "      <th>AM PIT BULL TERRIER</th>\n",
       "      <th>BEAGLE</th>\n",
       "      <th>CHIHUAHUA</th>\n",
       "      <th>GER SHEPHERD</th>\n",
       "      <th>GOLDEN RETRIEVER</th>\n",
       "      <th>LAB MIX</th>\n",
       "      <th>LABRADOR RETRIEVER</th>\n",
       "      <th>MIXED</th>\n",
       "      <th>SHIH TZU</th>\n",
       "      <th>YORKSHIRE TERRIER</th>\n",
       "    </tr>\n",
       "    <tr>\n",
       "      <th>ValidDate</th>\n",
       "      <th></th>\n",
       "      <th></th>\n",
       "      <th></th>\n",
       "      <th></th>\n",
       "      <th></th>\n",
       "      <th></th>\n",
       "      <th></th>\n",
       "      <th></th>\n",
       "      <th></th>\n",
       "      <th></th>\n",
       "    </tr>\n",
       "  </thead>\n",
       "  <tbody>\n",
       "    <tr>\n",
       "      <th>2014-12-02 09:45:25</th>\n",
       "      <td>0</td>\n",
       "      <td>0</td>\n",
       "      <td>0</td>\n",
       "      <td>1</td>\n",
       "      <td>0</td>\n",
       "      <td>0</td>\n",
       "      <td>0</td>\n",
       "      <td>0</td>\n",
       "      <td>0</td>\n",
       "      <td>0</td>\n",
       "    </tr>\n",
       "    <tr>\n",
       "      <th>2014-12-02 09:47:55</th>\n",
       "      <td>0</td>\n",
       "      <td>0</td>\n",
       "      <td>0</td>\n",
       "      <td>1</td>\n",
       "      <td>0</td>\n",
       "      <td>0</td>\n",
       "      <td>0</td>\n",
       "      <td>0</td>\n",
       "      <td>0</td>\n",
       "      <td>0</td>\n",
       "    </tr>\n",
       "    <tr>\n",
       "      <th>2014-12-02 10:02:33</th>\n",
       "      <td>0</td>\n",
       "      <td>0</td>\n",
       "      <td>0</td>\n",
       "      <td>0</td>\n",
       "      <td>0</td>\n",
       "      <td>0</td>\n",
       "      <td>1</td>\n",
       "      <td>0</td>\n",
       "      <td>0</td>\n",
       "      <td>0</td>\n",
       "    </tr>\n",
       "    <tr>\n",
       "      <th>2014-12-02 10:08:13</th>\n",
       "      <td>0</td>\n",
       "      <td>0</td>\n",
       "      <td>0</td>\n",
       "      <td>0</td>\n",
       "      <td>0</td>\n",
       "      <td>0</td>\n",
       "      <td>0</td>\n",
       "      <td>0</td>\n",
       "      <td>0</td>\n",
       "      <td>1</td>\n",
       "    </tr>\n",
       "    <tr>\n",
       "      <th>2014-12-02 10:15:30</th>\n",
       "      <td>0</td>\n",
       "      <td>0</td>\n",
       "      <td>0</td>\n",
       "      <td>0</td>\n",
       "      <td>0</td>\n",
       "      <td>0</td>\n",
       "      <td>0</td>\n",
       "      <td>0</td>\n",
       "      <td>0</td>\n",
       "      <td>1</td>\n",
       "    </tr>\n",
       "  </tbody>\n",
       "</table>\n",
       "</div>"
      ],
      "text/plain": [
       "                     AM PIT BULL TERRIER  BEAGLE  CHIHUAHUA  GER SHEPHERD  \\\n",
       "ValidDate                                                                   \n",
       "2014-12-02 09:45:25                    0       0          0             1   \n",
       "2014-12-02 09:47:55                    0       0          0             1   \n",
       "2014-12-02 10:02:33                    0       0          0             0   \n",
       "2014-12-02 10:08:13                    0       0          0             0   \n",
       "2014-12-02 10:15:30                    0       0          0             0   \n",
       "\n",
       "                     GOLDEN RETRIEVER  LAB MIX  LABRADOR RETRIEVER  MIXED  \\\n",
       "ValidDate                                                                   \n",
       "2014-12-02 09:45:25                 0        0                   0      0   \n",
       "2014-12-02 09:47:55                 0        0                   0      0   \n",
       "2014-12-02 10:02:33                 0        0                   1      0   \n",
       "2014-12-02 10:08:13                 0        0                   0      0   \n",
       "2014-12-02 10:15:30                 0        0                   0      0   \n",
       "\n",
       "                     SHIH TZU  YORKSHIRE TERRIER  \n",
       "ValidDate                                         \n",
       "2014-12-02 09:45:25         0                  0  \n",
       "2014-12-02 09:47:55         0                  0  \n",
       "2014-12-02 10:02:33         0                  0  \n",
       "2014-12-02 10:08:13         0                  1  \n",
       "2014-12-02 10:15:30         0                  1  "
      ]
     },
     "execution_count": 21,
     "metadata": {},
     "output_type": "execute_result"
    }
   ],
   "source": [
    "ten_dummies = pd.get_dummies(df_top_ten['Breed'])\n",
    "ten_dummies.head()"
   ]
  },
  {
   "cell_type": "code",
   "execution_count": 22,
   "metadata": {},
   "outputs": [
    {
     "data": {
      "text/html": [
       "<div>\n",
       "<style scoped>\n",
       "    .dataframe tbody tr th:only-of-type {\n",
       "        vertical-align: middle;\n",
       "    }\n",
       "\n",
       "    .dataframe tbody tr th {\n",
       "        vertical-align: top;\n",
       "    }\n",
       "\n",
       "    .dataframe thead th {\n",
       "        text-align: right;\n",
       "    }\n",
       "</style>\n",
       "<table border=\"1\" class=\"dataframe\">\n",
       "  <thead>\n",
       "    <tr style=\"text-align: right;\">\n",
       "      <th></th>\n",
       "      <th>AM PIT BULL TERRIER</th>\n",
       "      <th>BEAGLE</th>\n",
       "      <th>CHIHUAHUA</th>\n",
       "      <th>GER SHEPHERD</th>\n",
       "      <th>GOLDEN RETRIEVER</th>\n",
       "      <th>LAB MIX</th>\n",
       "      <th>LABRADOR RETRIEVER</th>\n",
       "      <th>MIXED</th>\n",
       "      <th>SHIH TZU</th>\n",
       "      <th>YORKSHIRE TERRIER</th>\n",
       "    </tr>\n",
       "    <tr>\n",
       "      <th>ValidDate</th>\n",
       "      <th></th>\n",
       "      <th></th>\n",
       "      <th></th>\n",
       "      <th></th>\n",
       "      <th></th>\n",
       "      <th></th>\n",
       "      <th></th>\n",
       "      <th></th>\n",
       "      <th></th>\n",
       "      <th></th>\n",
       "    </tr>\n",
       "  </thead>\n",
       "  <tbody>\n",
       "    <tr>\n",
       "      <th>2014-12-02</th>\n",
       "      <td>2.0</td>\n",
       "      <td>1.0</td>\n",
       "      <td>1.0</td>\n",
       "      <td>4.0</td>\n",
       "      <td>2.0</td>\n",
       "      <td>3.0</td>\n",
       "      <td>9.0</td>\n",
       "      <td>10.0</td>\n",
       "      <td>1.0</td>\n",
       "      <td>3.0</td>\n",
       "    </tr>\n",
       "    <tr>\n",
       "      <th>2014-12-03</th>\n",
       "      <td>6.0</td>\n",
       "      <td>8.0</td>\n",
       "      <td>2.0</td>\n",
       "      <td>3.0</td>\n",
       "      <td>8.0</td>\n",
       "      <td>17.0</td>\n",
       "      <td>12.0</td>\n",
       "      <td>40.0</td>\n",
       "      <td>2.0</td>\n",
       "      <td>3.0</td>\n",
       "    </tr>\n",
       "    <tr>\n",
       "      <th>2014-12-04</th>\n",
       "      <td>5.0</td>\n",
       "      <td>7.0</td>\n",
       "      <td>2.0</td>\n",
       "      <td>7.0</td>\n",
       "      <td>17.0</td>\n",
       "      <td>17.0</td>\n",
       "      <td>29.0</td>\n",
       "      <td>51.0</td>\n",
       "      <td>12.0</td>\n",
       "      <td>13.0</td>\n",
       "    </tr>\n",
       "    <tr>\n",
       "      <th>2014-12-05</th>\n",
       "      <td>4.0</td>\n",
       "      <td>2.0</td>\n",
       "      <td>5.0</td>\n",
       "      <td>2.0</td>\n",
       "      <td>9.0</td>\n",
       "      <td>10.0</td>\n",
       "      <td>10.0</td>\n",
       "      <td>21.0</td>\n",
       "      <td>5.0</td>\n",
       "      <td>3.0</td>\n",
       "    </tr>\n",
       "    <tr>\n",
       "      <th>2014-12-08</th>\n",
       "      <td>5.0</td>\n",
       "      <td>5.0</td>\n",
       "      <td>8.0</td>\n",
       "      <td>11.0</td>\n",
       "      <td>9.0</td>\n",
       "      <td>14.0</td>\n",
       "      <td>23.0</td>\n",
       "      <td>47.0</td>\n",
       "      <td>8.0</td>\n",
       "      <td>10.0</td>\n",
       "    </tr>\n",
       "  </tbody>\n",
       "</table>\n",
       "</div>"
      ],
      "text/plain": [
       "            AM PIT BULL TERRIER  BEAGLE  CHIHUAHUA  GER SHEPHERD  \\\n",
       "ValidDate                                                          \n",
       "2014-12-02                  2.0     1.0        1.0           4.0   \n",
       "2014-12-03                  6.0     8.0        2.0           3.0   \n",
       "2014-12-04                  5.0     7.0        2.0           7.0   \n",
       "2014-12-05                  4.0     2.0        5.0           2.0   \n",
       "2014-12-08                  5.0     5.0        8.0          11.0   \n",
       "\n",
       "            GOLDEN RETRIEVER  LAB MIX  LABRADOR RETRIEVER  MIXED  SHIH TZU  \\\n",
       "ValidDate                                                                    \n",
       "2014-12-02               2.0      3.0                 9.0   10.0       1.0   \n",
       "2014-12-03               8.0     17.0                12.0   40.0       2.0   \n",
       "2014-12-04              17.0     17.0                29.0   51.0      12.0   \n",
       "2014-12-05               9.0     10.0                10.0   21.0       5.0   \n",
       "2014-12-08               9.0     14.0                23.0   47.0       8.0   \n",
       "\n",
       "            YORKSHIRE TERRIER  \n",
       "ValidDate                      \n",
       "2014-12-02                3.0  \n",
       "2014-12-03                3.0  \n",
       "2014-12-04               13.0  \n",
       "2014-12-05                3.0  \n",
       "2014-12-08               10.0  "
      ]
     },
     "execution_count": 22,
     "metadata": {},
     "output_type": "execute_result"
    }
   ],
   "source": [
    "breed = ten_dummies.resample('B').sum()\n",
    "breed.head()"
   ]
  },
  {
   "cell_type": "code",
   "execution_count": 23,
   "metadata": {},
   "outputs": [
    {
     "data": {
      "text/html": [
       "<div>\n",
       "<style scoped>\n",
       "    .dataframe tbody tr th:only-of-type {\n",
       "        vertical-align: middle;\n",
       "    }\n",
       "\n",
       "    .dataframe tbody tr th {\n",
       "        vertical-align: top;\n",
       "    }\n",
       "\n",
       "    .dataframe thead th {\n",
       "        text-align: right;\n",
       "    }\n",
       "</style>\n",
       "<table border=\"1\" class=\"dataframe\">\n",
       "  <thead>\n",
       "    <tr style=\"text-align: right;\">\n",
       "      <th></th>\n",
       "      <th>AM PIT BULL TERRIER</th>\n",
       "      <th>BEAGLE</th>\n",
       "      <th>CHIHUAHUA</th>\n",
       "      <th>GER SHEPHERD</th>\n",
       "      <th>GOLDEN RETRIEVER</th>\n",
       "      <th>LAB MIX</th>\n",
       "      <th>LABRADOR RETRIEVER</th>\n",
       "      <th>MIXED</th>\n",
       "      <th>SHIH TZU</th>\n",
       "      <th>YORKSHIRE TERRIER</th>\n",
       "      <th>Total</th>\n",
       "    </tr>\n",
       "    <tr>\n",
       "      <th>ValidDate</th>\n",
       "      <th></th>\n",
       "      <th></th>\n",
       "      <th></th>\n",
       "      <th></th>\n",
       "      <th></th>\n",
       "      <th></th>\n",
       "      <th></th>\n",
       "      <th></th>\n",
       "      <th></th>\n",
       "      <th></th>\n",
       "      <th></th>\n",
       "    </tr>\n",
       "  </thead>\n",
       "  <tbody>\n",
       "    <tr>\n",
       "      <th>2014-12-02</th>\n",
       "      <td>2.0</td>\n",
       "      <td>1.0</td>\n",
       "      <td>1.0</td>\n",
       "      <td>4.0</td>\n",
       "      <td>2.0</td>\n",
       "      <td>3.0</td>\n",
       "      <td>9.0</td>\n",
       "      <td>10.0</td>\n",
       "      <td>1.0</td>\n",
       "      <td>3.0</td>\n",
       "      <td>36.0</td>\n",
       "    </tr>\n",
       "    <tr>\n",
       "      <th>2014-12-03</th>\n",
       "      <td>6.0</td>\n",
       "      <td>8.0</td>\n",
       "      <td>2.0</td>\n",
       "      <td>3.0</td>\n",
       "      <td>8.0</td>\n",
       "      <td>17.0</td>\n",
       "      <td>12.0</td>\n",
       "      <td>40.0</td>\n",
       "      <td>2.0</td>\n",
       "      <td>3.0</td>\n",
       "      <td>101.0</td>\n",
       "    </tr>\n",
       "    <tr>\n",
       "      <th>2014-12-04</th>\n",
       "      <td>5.0</td>\n",
       "      <td>7.0</td>\n",
       "      <td>2.0</td>\n",
       "      <td>7.0</td>\n",
       "      <td>17.0</td>\n",
       "      <td>17.0</td>\n",
       "      <td>29.0</td>\n",
       "      <td>51.0</td>\n",
       "      <td>12.0</td>\n",
       "      <td>13.0</td>\n",
       "      <td>160.0</td>\n",
       "    </tr>\n",
       "    <tr>\n",
       "      <th>2014-12-05</th>\n",
       "      <td>4.0</td>\n",
       "      <td>2.0</td>\n",
       "      <td>5.0</td>\n",
       "      <td>2.0</td>\n",
       "      <td>9.0</td>\n",
       "      <td>10.0</td>\n",
       "      <td>10.0</td>\n",
       "      <td>21.0</td>\n",
       "      <td>5.0</td>\n",
       "      <td>3.0</td>\n",
       "      <td>71.0</td>\n",
       "    </tr>\n",
       "    <tr>\n",
       "      <th>2014-12-08</th>\n",
       "      <td>5.0</td>\n",
       "      <td>5.0</td>\n",
       "      <td>8.0</td>\n",
       "      <td>11.0</td>\n",
       "      <td>9.0</td>\n",
       "      <td>14.0</td>\n",
       "      <td>23.0</td>\n",
       "      <td>47.0</td>\n",
       "      <td>8.0</td>\n",
       "      <td>10.0</td>\n",
       "      <td>140.0</td>\n",
       "    </tr>\n",
       "  </tbody>\n",
       "</table>\n",
       "</div>"
      ],
      "text/plain": [
       "            AM PIT BULL TERRIER  BEAGLE  CHIHUAHUA  GER SHEPHERD  \\\n",
       "ValidDate                                                          \n",
       "2014-12-02                  2.0     1.0        1.0           4.0   \n",
       "2014-12-03                  6.0     8.0        2.0           3.0   \n",
       "2014-12-04                  5.0     7.0        2.0           7.0   \n",
       "2014-12-05                  4.0     2.0        5.0           2.0   \n",
       "2014-12-08                  5.0     5.0        8.0          11.0   \n",
       "\n",
       "            GOLDEN RETRIEVER  LAB MIX  LABRADOR RETRIEVER  MIXED  SHIH TZU  \\\n",
       "ValidDate                                                                    \n",
       "2014-12-02               2.0      3.0                 9.0   10.0       1.0   \n",
       "2014-12-03               8.0     17.0                12.0   40.0       2.0   \n",
       "2014-12-04              17.0     17.0                29.0   51.0      12.0   \n",
       "2014-12-05               9.0     10.0                10.0   21.0       5.0   \n",
       "2014-12-08               9.0     14.0                23.0   47.0       8.0   \n",
       "\n",
       "            YORKSHIRE TERRIER  Total  \n",
       "ValidDate                             \n",
       "2014-12-02                3.0   36.0  \n",
       "2014-12-03                3.0  101.0  \n",
       "2014-12-04               13.0  160.0  \n",
       "2014-12-05                3.0   71.0  \n",
       "2014-12-08               10.0  140.0  "
      ]
     },
     "execution_count": 23,
     "metadata": {},
     "output_type": "execute_result"
    }
   ],
   "source": [
    "breed['Total'] = breed.sum(axis = 1)\n",
    "breed.head()"
   ]
  },
  {
   "cell_type": "code",
   "execution_count": 24,
   "metadata": {},
   "outputs": [],
   "source": [
    "breed.to_csv('data/breed_daily_totals.csv')"
   ]
  },
  {
   "cell_type": "code",
   "execution_count": 25,
   "metadata": {},
   "outputs": [],
   "source": [
    "image_df = breed.head()"
   ]
  },
  {
   "cell_type": "code",
   "execution_count": 26,
   "metadata": {},
   "outputs": [],
   "source": [
    "image_df = image_df.style.background_gradient()\n",
    "dfi.export(image_df, 'data/blog_image.png')"
   ]
  },
  {
   "cell_type": "code",
   "execution_count": null,
   "metadata": {},
   "outputs": [],
   "source": [
    "#next I would like to get a pretty visualization of this- a colorful line chart"
   ]
  },
  {
   "cell_type": "code",
   "execution_count": null,
   "metadata": {},
   "outputs": [],
   "source": [
    "#run model on just top 10, determine the importance of dog breed in prediction\n",
    "#if it's highly correlated, consider 'other' column, or even 340 dummies? "
   ]
  },
  {
   "cell_type": "markdown",
   "metadata": {},
   "source": [
    "## Scaling Data"
   ]
  },
  {
   "cell_type": "code",
   "execution_count": 51,
   "metadata": {},
   "outputs": [],
   "source": [
    "scaler = MinMaxScaler()\n",
    "scaled_df = scaler.fit_transform(breed.values)"
   ]
  },
  {
   "cell_type": "markdown",
   "metadata": {},
   "source": [
    "series_to_supervise function courtesy of Jason Brownlee with Machine Learning Mastery"
   ]
  },
  {
   "cell_type": "code",
   "execution_count": 31,
   "metadata": {},
   "outputs": [],
   "source": [
    "def series_to_supervise(data, n_in = 1, n_out = 1, dropnan = True):\n",
    "    n_vars = 1 if type(data) is list else data.shape[1]\n",
    "    df = pd.DataFrame(data)\n",
    "    cols, names = list(), list()\n",
    "\n",
    "    for i in range(n_in, 0, -1):\n",
    "        cols.append(df.shift(i))\n",
    "        names += [('var%d(t-%d)' % (j+1, i)) for j in range(n_vars)]\n",
    "    for i in range(0, n_out):\n",
    "        cols.append(df.shift(-i))\n",
    "        if i == 0:\n",
    "            names += [('var%d' % (j+1)) for j in range(n_vars)]\n",
    "        else: \n",
    "            names += [('var%d(t-%d)' % (j+1, i)) for j in range(n_vars)]\n",
    "    agg = pd.concat(cols, axis = 1)\n",
    "    agg.columns = names\n",
    "    if dropnan:\n",
    "        agg.dropna(inplace = True)\n",
    "    return agg"
   ]
  },
  {
   "cell_type": "code",
   "execution_count": 56,
   "metadata": {},
   "outputs": [
    {
     "data": {
      "text/html": [
       "<div>\n",
       "<style scoped>\n",
       "    .dataframe tbody tr th:only-of-type {\n",
       "        vertical-align: middle;\n",
       "    }\n",
       "\n",
       "    .dataframe tbody tr th {\n",
       "        vertical-align: top;\n",
       "    }\n",
       "\n",
       "    .dataframe thead th {\n",
       "        text-align: right;\n",
       "    }\n",
       "</style>\n",
       "<table border=\"1\" class=\"dataframe\">\n",
       "  <thead>\n",
       "    <tr style=\"text-align: right;\">\n",
       "      <th></th>\n",
       "      <th>var1(t-1)</th>\n",
       "      <th>var2(t-1)</th>\n",
       "      <th>var3(t-1)</th>\n",
       "      <th>var4(t-1)</th>\n",
       "      <th>var5(t-1)</th>\n",
       "      <th>var6(t-1)</th>\n",
       "      <th>var7(t-1)</th>\n",
       "      <th>var8(t-1)</th>\n",
       "      <th>var9(t-1)</th>\n",
       "      <th>var10(t-1)</th>\n",
       "      <th>...</th>\n",
       "      <th>var2</th>\n",
       "      <th>var3</th>\n",
       "      <th>var4</th>\n",
       "      <th>var5</th>\n",
       "      <th>var6</th>\n",
       "      <th>var7</th>\n",
       "      <th>var8</th>\n",
       "      <th>var9</th>\n",
       "      <th>var10</th>\n",
       "      <th>var11</th>\n",
       "    </tr>\n",
       "  </thead>\n",
       "  <tbody>\n",
       "    <tr>\n",
       "      <th>1</th>\n",
       "      <td>0.018018</td>\n",
       "      <td>0.004831</td>\n",
       "      <td>0.007194</td>\n",
       "      <td>0.023256</td>\n",
       "      <td>0.008475</td>\n",
       "      <td>0.007812</td>\n",
       "      <td>0.020045</td>\n",
       "      <td>0.012690</td>\n",
       "      <td>0.005128</td>\n",
       "      <td>0.019737</td>\n",
       "      <td>...</td>\n",
       "      <td>0.038647</td>\n",
       "      <td>0.014388</td>\n",
       "      <td>0.017442</td>\n",
       "      <td>0.033898</td>\n",
       "      <td>0.044271</td>\n",
       "      <td>0.026726</td>\n",
       "      <td>0.050761</td>\n",
       "      <td>0.010256</td>\n",
       "      <td>0.019737</td>\n",
       "      <td>0.036541</td>\n",
       "    </tr>\n",
       "    <tr>\n",
       "      <th>2</th>\n",
       "      <td>0.054054</td>\n",
       "      <td>0.038647</td>\n",
       "      <td>0.014388</td>\n",
       "      <td>0.017442</td>\n",
       "      <td>0.033898</td>\n",
       "      <td>0.044271</td>\n",
       "      <td>0.026726</td>\n",
       "      <td>0.050761</td>\n",
       "      <td>0.010256</td>\n",
       "      <td>0.019737</td>\n",
       "      <td>...</td>\n",
       "      <td>0.033816</td>\n",
       "      <td>0.014388</td>\n",
       "      <td>0.040698</td>\n",
       "      <td>0.072034</td>\n",
       "      <td>0.044271</td>\n",
       "      <td>0.064588</td>\n",
       "      <td>0.064721</td>\n",
       "      <td>0.061538</td>\n",
       "      <td>0.085526</td>\n",
       "      <td>0.057887</td>\n",
       "    </tr>\n",
       "    <tr>\n",
       "      <th>3</th>\n",
       "      <td>0.045045</td>\n",
       "      <td>0.033816</td>\n",
       "      <td>0.014388</td>\n",
       "      <td>0.040698</td>\n",
       "      <td>0.072034</td>\n",
       "      <td>0.044271</td>\n",
       "      <td>0.064588</td>\n",
       "      <td>0.064721</td>\n",
       "      <td>0.061538</td>\n",
       "      <td>0.085526</td>\n",
       "      <td>...</td>\n",
       "      <td>0.009662</td>\n",
       "      <td>0.035971</td>\n",
       "      <td>0.011628</td>\n",
       "      <td>0.038136</td>\n",
       "      <td>0.026042</td>\n",
       "      <td>0.022272</td>\n",
       "      <td>0.026650</td>\n",
       "      <td>0.025641</td>\n",
       "      <td>0.019737</td>\n",
       "      <td>0.025687</td>\n",
       "    </tr>\n",
       "    <tr>\n",
       "      <th>4</th>\n",
       "      <td>0.036036</td>\n",
       "      <td>0.009662</td>\n",
       "      <td>0.035971</td>\n",
       "      <td>0.011628</td>\n",
       "      <td>0.038136</td>\n",
       "      <td>0.026042</td>\n",
       "      <td>0.022272</td>\n",
       "      <td>0.026650</td>\n",
       "      <td>0.025641</td>\n",
       "      <td>0.019737</td>\n",
       "      <td>...</td>\n",
       "      <td>0.024155</td>\n",
       "      <td>0.057554</td>\n",
       "      <td>0.063953</td>\n",
       "      <td>0.038136</td>\n",
       "      <td>0.036458</td>\n",
       "      <td>0.051225</td>\n",
       "      <td>0.059645</td>\n",
       "      <td>0.041026</td>\n",
       "      <td>0.065789</td>\n",
       "      <td>0.050651</td>\n",
       "    </tr>\n",
       "    <tr>\n",
       "      <th>5</th>\n",
       "      <td>0.045045</td>\n",
       "      <td>0.024155</td>\n",
       "      <td>0.057554</td>\n",
       "      <td>0.063953</td>\n",
       "      <td>0.038136</td>\n",
       "      <td>0.036458</td>\n",
       "      <td>0.051225</td>\n",
       "      <td>0.059645</td>\n",
       "      <td>0.041026</td>\n",
       "      <td>0.065789</td>\n",
       "      <td>...</td>\n",
       "      <td>0.028986</td>\n",
       "      <td>0.014388</td>\n",
       "      <td>0.040698</td>\n",
       "      <td>0.029661</td>\n",
       "      <td>0.010417</td>\n",
       "      <td>0.026726</td>\n",
       "      <td>0.020305</td>\n",
       "      <td>0.015385</td>\n",
       "      <td>0.013158</td>\n",
       "      <td>0.023517</td>\n",
       "    </tr>\n",
       "  </tbody>\n",
       "</table>\n",
       "<p>5 rows × 22 columns</p>\n",
       "</div>"
      ],
      "text/plain": [
       "   var1(t-1)  var2(t-1)  var3(t-1)  var4(t-1)  var5(t-1)  var6(t-1)  \\\n",
       "1   0.018018   0.004831   0.007194   0.023256   0.008475   0.007812   \n",
       "2   0.054054   0.038647   0.014388   0.017442   0.033898   0.044271   \n",
       "3   0.045045   0.033816   0.014388   0.040698   0.072034   0.044271   \n",
       "4   0.036036   0.009662   0.035971   0.011628   0.038136   0.026042   \n",
       "5   0.045045   0.024155   0.057554   0.063953   0.038136   0.036458   \n",
       "\n",
       "   var7(t-1)  var8(t-1)  var9(t-1)  var10(t-1)  ...      var2      var3  \\\n",
       "1   0.020045   0.012690   0.005128    0.019737  ...  0.038647  0.014388   \n",
       "2   0.026726   0.050761   0.010256    0.019737  ...  0.033816  0.014388   \n",
       "3   0.064588   0.064721   0.061538    0.085526  ...  0.009662  0.035971   \n",
       "4   0.022272   0.026650   0.025641    0.019737  ...  0.024155  0.057554   \n",
       "5   0.051225   0.059645   0.041026    0.065789  ...  0.028986  0.014388   \n",
       "\n",
       "       var4      var5      var6      var7      var8      var9     var10  \\\n",
       "1  0.017442  0.033898  0.044271  0.026726  0.050761  0.010256  0.019737   \n",
       "2  0.040698  0.072034  0.044271  0.064588  0.064721  0.061538  0.085526   \n",
       "3  0.011628  0.038136  0.026042  0.022272  0.026650  0.025641  0.019737   \n",
       "4  0.063953  0.038136  0.036458  0.051225  0.059645  0.041026  0.065789   \n",
       "5  0.040698  0.029661  0.010417  0.026726  0.020305  0.015385  0.013158   \n",
       "\n",
       "      var11  \n",
       "1  0.036541  \n",
       "2  0.057887  \n",
       "3  0.025687  \n",
       "4  0.050651  \n",
       "5  0.023517  \n",
       "\n",
       "[5 rows x 22 columns]"
      ]
     },
     "execution_count": 56,
     "metadata": {},
     "output_type": "execute_result"
    }
   ],
   "source": [
    "#start with lag of 1\n",
    "lstm_df = series_to_supervise(scaled_df)\n",
    "lstm_df.head()"
   ]
  },
  {
   "cell_type": "code",
   "execution_count": 34,
   "metadata": {},
   "outputs": [
    {
     "data": {
      "text/plain": [
       "Index(['var1(t-1)', 'var2(t-1)', 'var3(t-1)', 'var4(t-1)', 'var5(t-1)',\n",
       "       'var6(t-1)', 'var7(t-1)', 'var8(t-1)', 'var9(t-1)', 'var10(t-1)',\n",
       "       'var11(t-1)', 'var1', 'var2', 'var3', 'var4', 'var5', 'var6', 'var7',\n",
       "       'var8', 'var9', 'var10', 'var11'],\n",
       "      dtype='object')"
      ]
     },
     "execution_count": 34,
     "metadata": {},
     "output_type": "execute_result"
    }
   ],
   "source": [
    "lstm_df.columns"
   ]
  },
  {
   "cell_type": "code",
   "execution_count": 57,
   "metadata": {},
   "outputs": [
    {
     "data": {
      "text/plain": [
       "Index(['var1(t-1)', 'var2(t-1)', 'var3(t-1)', 'var4(t-1)', 'var5(t-1)',\n",
       "       'var6(t-1)', 'var7(t-1)', 'var8(t-1)', 'var9(t-1)', 'var10(t-1)',\n",
       "       'var11(t-1)', 'var11'],\n",
       "      dtype='object')"
      ]
     },
     "execution_count": 57,
     "metadata": {},
     "output_type": "execute_result"
    }
   ],
   "source": [
    "lstm_df.drop(lstm_df.columns[[11, 12, 13, 14, 15, 16, 17, 18, 19, 20]], axis = 1, inplace = True)\n",
    "lstm_df.columns"
   ]
  },
  {
   "cell_type": "code",
   "execution_count": 66,
   "metadata": {},
   "outputs": [],
   "source": [
    "#train_test_split\n",
    "X = lstm_df[lstm_df.columns[:10]].values\n",
    "y = lstm_df['var11'].values"
   ]
  },
  {
   "cell_type": "code",
   "execution_count": 69,
   "metadata": {},
   "outputs": [],
   "source": [
    "X_train, X_test, y_train, y_test = train_test_split(X, y, test_size = 0.3, random_state = 42)"
   ]
  },
  {
   "cell_type": "code",
   "execution_count": 70,
   "metadata": {},
   "outputs": [
    {
     "name": "stdout",
     "output_type": "stream",
     "text": [
      "X_train:  (727, 10)\n",
      "X_test:  (312, 10)\n",
      "Y_train:  (727,)\n",
      "y_test:  (312,)\n"
     ]
    }
   ],
   "source": [
    "print(\"X_train: \",X_train.shape)\n",
    "print(\"X_test: \", X_test.shape)\n",
    "print(\"Y_train: \", y_train.shape)\n",
    "print(\"y_test: \", y_test.shape)"
   ]
  },
  {
   "cell_type": "code",
   "execution_count": null,
   "metadata": {},
   "outputs": [],
   "source": [
    "#data is ready to go! "
   ]
  }
 ],
 "metadata": {
  "kernelspec": {
   "display_name": "Python 3",
   "language": "python",
   "name": "python3"
  },
  "language_info": {
   "codemirror_mode": {
    "name": "ipython",
    "version": 3
   },
   "file_extension": ".py",
   "mimetype": "text/x-python",
   "name": "python",
   "nbconvert_exporter": "python",
   "pygments_lexer": "ipython3",
   "version": "3.7.3"
  }
 },
 "nbformat": 4,
 "nbformat_minor": 2
}
