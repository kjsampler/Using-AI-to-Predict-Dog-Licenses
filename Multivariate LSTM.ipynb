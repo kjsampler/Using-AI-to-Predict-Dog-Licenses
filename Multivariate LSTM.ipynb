{
  "nbformat": 4,
  "nbformat_minor": 0,
  "metadata": {
    "kernelspec": {
      "display_name": "Python 3",
      "language": "python",
      "name": "python3"
    },
    "language_info": {
      "codemirror_mode": {
        "name": "ipython",
        "version": 3
      },
      "file_extension": ".py",
      "mimetype": "text/x-python",
      "name": "python",
      "nbconvert_exporter": "python",
      "pygments_lexer": "ipython3",
      "version": "3.7.3"
    },
    "colab": {
      "name": "Multivariate LSTM.ipynb",
      "provenance": []
    }
  },
  "cells": [
    {
      "cell_type": "markdown",
      "metadata": {
        "id": "T0kE4jVeOSCw"
      },
      "source": [
        "# Steps: \n",
        "1. Determine which variables to use\n",
        "2. Cut down size of dataframe (maybe top 10 and do dummies? or an aggregate (# of pitbulls per month)\n",
        "3. Create multivariate dataframe, including timestamp index\n",
        "4. Scale, series_to_supervise\n",
        "5. Fit data, split to train_test sets\n",
        "6. Use univariate LSTM, tune to lowest MSE\n",
        "7. Compare univariate to multivariate scores, make analysis\n",
        "8. Save model and fit into function\n",
        "9. Write new prediction function? \n",
        "10. Conclude, interpret\n",
        "11. Make more visualizations\n",
        "12. Blog about it\n",
        "13. Where do we go from here? \n",
        "14. What is the \"so what\"? "
      ]
    },
    {
      "cell_type": "code",
      "metadata": {
        "colab": {
          "base_uri": "https://localhost:8080/"
        },
        "id": "0nzM9RcK33DS",
        "outputId": "bca146db-bc0c-4226-c5b1-30a20dd3aff1"
      },
      "source": [
        "from google.colab import drive\n",
        "drive.mount('/content/drive')"
      ],
      "execution_count": 1,
      "outputs": [
        {
          "output_type": "stream",
          "text": [
            "Mounted at /content/drive\n"
          ],
          "name": "stdout"
        }
      ]
    },
    {
      "cell_type": "code",
      "metadata": {
        "id": "nMGgCrDVOSC3"
      },
      "source": [
        "import pandas as pd\n",
        "import warnings\n",
        "warnings.filterwarnings('ignore')\n",
        "import matplotlib.pyplot as plt\n",
        "%matplotlib inline\n",
        "import seaborn as sns\n",
        "from pandas.plotting import table\n",
        "from sklearn.preprocessing import MinMaxScaler\n",
        "from sklearn.model_selection import train_test_split\n",
        "import time\n",
        "import datetime\n",
        "from sklearn.metrics import mean_squared_error\n",
        "from keras.models import Sequential, load_model\n",
        "from keras.layers import Dense, LSTM, Dropout\n",
        "import numpy as np"
      ],
      "execution_count": 2,
      "outputs": []
    },
    {
      "cell_type": "code",
      "metadata": {
        "id": "NjN747MlU4eL"
      },
      "source": [
        "#file path for data: capstone/using-AI-to-predict-dog-licenses/data\r\n",
        "#open raw_data.csv"
      ],
      "execution_count": 3,
      "outputs": []
    },
    {
      "cell_type": "code",
      "metadata": {
        "id": "1jtq5HZiOSC5"
      },
      "source": [
        "df = pd.read_csv('/content/drive/MyDrive/raw_data.csv')"
      ],
      "execution_count": 4,
      "outputs": []
    },
    {
      "cell_type": "code",
      "metadata": {
        "id": "USRSLPP9OSC5"
      },
      "source": [
        "df.set_index('ValidDate', inplace = True)"
      ],
      "execution_count": 5,
      "outputs": []
    },
    {
      "cell_type": "code",
      "metadata": {
        "id": "i9d8D564OSC6"
      },
      "source": [
        "df = df.drop(['ExpYear'], axis = 1)"
      ],
      "execution_count": 6,
      "outputs": []
    },
    {
      "cell_type": "code",
      "metadata": {
        "id": "-sIwGPlKOSC6",
        "colab": {
          "base_uri": "https://localhost:8080/",
          "height": 233
        },
        "outputId": "7776d853-d6d4-444e-8262-251d4083bd85"
      },
      "source": [
        "df.head()"
      ],
      "execution_count": 7,
      "outputs": [
        {
          "output_type": "execute_result",
          "data": {
            "text/html": [
              "<div>\n",
              "<style scoped>\n",
              "    .dataframe tbody tr th:only-of-type {\n",
              "        vertical-align: middle;\n",
              "    }\n",
              "\n",
              "    .dataframe tbody tr th {\n",
              "        vertical-align: top;\n",
              "    }\n",
              "\n",
              "    .dataframe thead th {\n",
              "        text-align: right;\n",
              "    }\n",
              "</style>\n",
              "<table border=\"1\" class=\"dataframe\">\n",
              "  <thead>\n",
              "    <tr style=\"text-align: right;\">\n",
              "      <th></th>\n",
              "      <th>LicenseType</th>\n",
              "      <th>Breed</th>\n",
              "      <th>Color</th>\n",
              "      <th>DogName</th>\n",
              "      <th>OwnerZip</th>\n",
              "    </tr>\n",
              "    <tr>\n",
              "      <th>ValidDate</th>\n",
              "      <th></th>\n",
              "      <th></th>\n",
              "      <th></th>\n",
              "      <th></th>\n",
              "      <th></th>\n",
              "    </tr>\n",
              "  </thead>\n",
              "  <tbody>\n",
              "    <tr>\n",
              "      <th>2014-12-02 09:40:53</th>\n",
              "      <td>Dog Individual Neutered Male</td>\n",
              "      <td>COCKAPOO</td>\n",
              "      <td>BROWN</td>\n",
              "      <td>CHARLEY</td>\n",
              "      <td>15236</td>\n",
              "    </tr>\n",
              "    <tr>\n",
              "      <th>2014-12-02 09:45:25</th>\n",
              "      <td>Dog Senior Citizen or Disability Neutered Male</td>\n",
              "      <td>GER SHEPHERD</td>\n",
              "      <td>BLACK/BROWN</td>\n",
              "      <td>TACODA</td>\n",
              "      <td>15238</td>\n",
              "    </tr>\n",
              "    <tr>\n",
              "      <th>2014-12-02 09:47:55</th>\n",
              "      <td>Dog Individual Spayed Female</td>\n",
              "      <td>GER SHEPHERD</td>\n",
              "      <td>BLACK</td>\n",
              "      <td>CHARLY</td>\n",
              "      <td>15205</td>\n",
              "    </tr>\n",
              "    <tr>\n",
              "      <th>2014-12-02 10:02:33</th>\n",
              "      <td>Dog Individual Spayed Female</td>\n",
              "      <td>LABRADOR RETRIEVER</td>\n",
              "      <td>BLACK</td>\n",
              "      <td>ABBEY</td>\n",
              "      <td>15143</td>\n",
              "    </tr>\n",
              "    <tr>\n",
              "      <th>2014-12-02 10:05:50</th>\n",
              "      <td>Dog Individual Female</td>\n",
              "      <td>GER SHORTHAIR POINT</td>\n",
              "      <td>BROWN</td>\n",
              "      <td>CHARLEY</td>\n",
              "      <td>15228</td>\n",
              "    </tr>\n",
              "  </tbody>\n",
              "</table>\n",
              "</div>"
            ],
            "text/plain": [
              "                                                        LicenseType  ... OwnerZip\n",
              "ValidDate                                                            ...         \n",
              "2014-12-02 09:40:53                    Dog Individual Neutered Male  ...    15236\n",
              "2014-12-02 09:45:25  Dog Senior Citizen or Disability Neutered Male  ...    15238\n",
              "2014-12-02 09:47:55                    Dog Individual Spayed Female  ...    15205\n",
              "2014-12-02 10:02:33                    Dog Individual Spayed Female  ...    15143\n",
              "2014-12-02 10:05:50                           Dog Individual Female  ...    15228\n",
              "\n",
              "[5 rows x 5 columns]"
            ]
          },
          "metadata": {
            "tags": []
          },
          "execution_count": 7
        }
      ]
    },
    {
      "cell_type": "code",
      "metadata": {
        "id": "rCbpRhDJOSC6",
        "colab": {
          "base_uri": "https://localhost:8080/"
        },
        "outputId": "0381dad5-d3f4-42c6-dedc-b1eaac767172"
      },
      "source": [
        "df['Breed'].value_counts().sum()"
      ],
      "execution_count": 8,
      "outputs": [
        {
          "output_type": "execute_result",
          "data": {
            "text/plain": [
              "286724"
            ]
          },
          "metadata": {
            "tags": []
          },
          "execution_count": 8
        }
      ]
    },
    {
      "cell_type": "code",
      "metadata": {
        "id": "Oqab9Uv9OSC7",
        "colab": {
          "base_uri": "https://localhost:8080/"
        },
        "outputId": "360d1485-6c09-4108-af7b-0ae1931f32e0"
      },
      "source": [
        "len(df['Breed'].unique())"
      ],
      "execution_count": 9,
      "outputs": [
        {
          "output_type": "execute_result",
          "data": {
            "text/plain": [
              "340"
            ]
          },
          "metadata": {
            "tags": []
          },
          "execution_count": 9
        }
      ]
    },
    {
      "cell_type": "code",
      "metadata": {
        "id": "sHZlhfU0OSC7"
      },
      "source": [
        "#I would definitely need to look at cutting that number down- that would be way too noisy.\n",
        "#My initial thought is to see what the top 10 breeds are\n",
        "#Maybe from there I can either to dummies or aggregate"
      ],
      "execution_count": 10,
      "outputs": []
    },
    {
      "cell_type": "code",
      "metadata": {
        "id": "Xw1bZZNrOSC7"
      },
      "source": [
        "top_ten = df['Breed'].value_counts()[:11]"
      ],
      "execution_count": 11,
      "outputs": []
    },
    {
      "cell_type": "code",
      "metadata": {
        "id": "n9T5XZdWOSC8",
        "colab": {
          "base_uri": "https://localhost:8080/"
        },
        "outputId": "fceac1a3-a288-4ef9-cbd5-c1b070dbd742"
      },
      "source": [
        "top_ten\n",
        "#bar chart here"
      ],
      "execution_count": 12,
      "outputs": [
        {
          "output_type": "execute_result",
          "data": {
            "text/plain": [
              "MIXED                  29009\n",
              "LABRADOR RETRIEVER     19713\n",
              "LAB MIX                17714\n",
              "GOLDEN RETRIEVER        9344\n",
              "GER SHEPHERD            8437\n",
              "SHIH TZU                7976\n",
              "BEAGLE                  7960\n",
              "CHIHUAHUA               7664\n",
              "TAG                     7475\n",
              "AM PIT BULL TERRIER     7332\n",
              "YORKSHIRE TERRIER       6268\n",
              "Name: Breed, dtype: int64"
            ]
          },
          "metadata": {
            "tags": []
          },
          "execution_count": 12
        }
      ]
    },
    {
      "cell_type": "code",
      "metadata": {
        "id": "9vt82EMSOSC8"
      },
      "source": [
        "#TAG is not a type of dog. they are denoting that they are putting tags on an existing dog"
      ],
      "execution_count": 13,
      "outputs": []
    },
    {
      "cell_type": "code",
      "metadata": {
        "id": "eX0d16cMOSC8",
        "colab": {
          "base_uri": "https://localhost:8080/",
          "height": 171
        },
        "outputId": "ae289fbb-9e2c-4182-8609-a312644fa1ea"
      },
      "source": [
        "tag_df = df.loc[df['Breed'] == 'TAG']\n",
        "tag_df.loc[(tag_df['DogName'] == 'SHADOW') & (tag_df['OwnerZip'] == 15102)]"
      ],
      "execution_count": 14,
      "outputs": [
        {
          "output_type": "execute_result",
          "data": {
            "text/html": [
              "<div>\n",
              "<style scoped>\n",
              "    .dataframe tbody tr th:only-of-type {\n",
              "        vertical-align: middle;\n",
              "    }\n",
              "\n",
              "    .dataframe tbody tr th {\n",
              "        vertical-align: top;\n",
              "    }\n",
              "\n",
              "    .dataframe thead th {\n",
              "        text-align: right;\n",
              "    }\n",
              "</style>\n",
              "<table border=\"1\" class=\"dataframe\">\n",
              "  <thead>\n",
              "    <tr style=\"text-align: right;\">\n",
              "      <th></th>\n",
              "      <th>LicenseType</th>\n",
              "      <th>Breed</th>\n",
              "      <th>Color</th>\n",
              "      <th>DogName</th>\n",
              "      <th>OwnerZip</th>\n",
              "    </tr>\n",
              "    <tr>\n",
              "      <th>ValidDate</th>\n",
              "      <th></th>\n",
              "      <th></th>\n",
              "      <th></th>\n",
              "      <th></th>\n",
              "      <th></th>\n",
              "    </tr>\n",
              "  </thead>\n",
              "  <tbody>\n",
              "    <tr>\n",
              "      <th>2015-03-12 11:11:36</th>\n",
              "      <td>Dog Individual Spayed Female</td>\n",
              "      <td>TAG</td>\n",
              "      <td>BLACK</td>\n",
              "      <td>SHADOW</td>\n",
              "      <td>15102</td>\n",
              "    </tr>\n",
              "    <tr>\n",
              "      <th>2017-01-10 09:39:46</th>\n",
              "      <td>Dog Individual Spayed Female</td>\n",
              "      <td>TAG</td>\n",
              "      <td>BLACK</td>\n",
              "      <td>SHADOW</td>\n",
              "      <td>15102</td>\n",
              "    </tr>\n",
              "    <tr>\n",
              "      <th>2015-12-11 10:35:08</th>\n",
              "      <td>Dog Individual Spayed Female</td>\n",
              "      <td>TAG</td>\n",
              "      <td>BLACK</td>\n",
              "      <td>SHADOW</td>\n",
              "      <td>15102</td>\n",
              "    </tr>\n",
              "  </tbody>\n",
              "</table>\n",
              "</div>"
            ],
            "text/plain": [
              "                                      LicenseType Breed  ... DogName OwnerZip\n",
              "ValidDate                                                ...                 \n",
              "2015-03-12 11:11:36  Dog Individual Spayed Female   TAG  ...  SHADOW    15102\n",
              "2017-01-10 09:39:46  Dog Individual Spayed Female   TAG  ...  SHADOW    15102\n",
              "2015-12-11 10:35:08  Dog Individual Spayed Female   TAG  ...  SHADOW    15102\n",
              "\n",
              "[3 rows x 5 columns]"
            ]
          },
          "metadata": {
            "tags": []
          },
          "execution_count": 14
        }
      ]
    },
    {
      "cell_type": "code",
      "metadata": {
        "scrolled": true,
        "id": "wgfsZv_6OSC8",
        "colab": {
          "base_uri": "https://localhost:8080/"
        },
        "outputId": "7b9e2142-d8f7-4361-d4d3-968ff3e16a04"
      },
      "source": [
        "a = len(tag_df['DogName'])\n",
        "b = len(tag_df['DogName'].value_counts())\n",
        "a-b"
      ],
      "execution_count": 15,
      "outputs": [
        {
          "output_type": "execute_result",
          "data": {
            "text/plain": [
              "5708"
            ]
          },
          "metadata": {
            "tags": []
          },
          "execution_count": 15
        }
      ]
    },
    {
      "cell_type": "code",
      "metadata": {
        "id": "UlDZAkEJOSC9"
      },
      "source": [
        "#Time to zoom out. What am i hoping to accomplish here? \n",
        "#A multivariate time series. OG problem: predict number of licenses dispensed per day. \n",
        "#New problem: predict licenses dispenses while considering extra variables. \n",
        "#I think top 10 dummies is actually going to benefit me most. \n",
        "#Let's start with breed: top 9 and 'other'\n",
        "## investigate whether an 'other' column is going to unbalance the data too bad; \n",
        "#we may need to keep it to top 10 with a disclaimer"
      ],
      "execution_count": 16,
      "outputs": []
    },
    {
      "cell_type": "code",
      "metadata": {
        "id": "gossOYOwOSC9",
        "colab": {
          "base_uri": "https://localhost:8080/",
          "height": 233
        },
        "outputId": "5b557750-e994-4e9f-b78e-99203496c0b3"
      },
      "source": [
        "df.head()"
      ],
      "execution_count": 17,
      "outputs": [
        {
          "output_type": "execute_result",
          "data": {
            "text/html": [
              "<div>\n",
              "<style scoped>\n",
              "    .dataframe tbody tr th:only-of-type {\n",
              "        vertical-align: middle;\n",
              "    }\n",
              "\n",
              "    .dataframe tbody tr th {\n",
              "        vertical-align: top;\n",
              "    }\n",
              "\n",
              "    .dataframe thead th {\n",
              "        text-align: right;\n",
              "    }\n",
              "</style>\n",
              "<table border=\"1\" class=\"dataframe\">\n",
              "  <thead>\n",
              "    <tr style=\"text-align: right;\">\n",
              "      <th></th>\n",
              "      <th>LicenseType</th>\n",
              "      <th>Breed</th>\n",
              "      <th>Color</th>\n",
              "      <th>DogName</th>\n",
              "      <th>OwnerZip</th>\n",
              "    </tr>\n",
              "    <tr>\n",
              "      <th>ValidDate</th>\n",
              "      <th></th>\n",
              "      <th></th>\n",
              "      <th></th>\n",
              "      <th></th>\n",
              "      <th></th>\n",
              "    </tr>\n",
              "  </thead>\n",
              "  <tbody>\n",
              "    <tr>\n",
              "      <th>2014-12-02 09:40:53</th>\n",
              "      <td>Dog Individual Neutered Male</td>\n",
              "      <td>COCKAPOO</td>\n",
              "      <td>BROWN</td>\n",
              "      <td>CHARLEY</td>\n",
              "      <td>15236</td>\n",
              "    </tr>\n",
              "    <tr>\n",
              "      <th>2014-12-02 09:45:25</th>\n",
              "      <td>Dog Senior Citizen or Disability Neutered Male</td>\n",
              "      <td>GER SHEPHERD</td>\n",
              "      <td>BLACK/BROWN</td>\n",
              "      <td>TACODA</td>\n",
              "      <td>15238</td>\n",
              "    </tr>\n",
              "    <tr>\n",
              "      <th>2014-12-02 09:47:55</th>\n",
              "      <td>Dog Individual Spayed Female</td>\n",
              "      <td>GER SHEPHERD</td>\n",
              "      <td>BLACK</td>\n",
              "      <td>CHARLY</td>\n",
              "      <td>15205</td>\n",
              "    </tr>\n",
              "    <tr>\n",
              "      <th>2014-12-02 10:02:33</th>\n",
              "      <td>Dog Individual Spayed Female</td>\n",
              "      <td>LABRADOR RETRIEVER</td>\n",
              "      <td>BLACK</td>\n",
              "      <td>ABBEY</td>\n",
              "      <td>15143</td>\n",
              "    </tr>\n",
              "    <tr>\n",
              "      <th>2014-12-02 10:05:50</th>\n",
              "      <td>Dog Individual Female</td>\n",
              "      <td>GER SHORTHAIR POINT</td>\n",
              "      <td>BROWN</td>\n",
              "      <td>CHARLEY</td>\n",
              "      <td>15228</td>\n",
              "    </tr>\n",
              "  </tbody>\n",
              "</table>\n",
              "</div>"
            ],
            "text/plain": [
              "                                                        LicenseType  ... OwnerZip\n",
              "ValidDate                                                            ...         \n",
              "2014-12-02 09:40:53                    Dog Individual Neutered Male  ...    15236\n",
              "2014-12-02 09:45:25  Dog Senior Citizen or Disability Neutered Male  ...    15238\n",
              "2014-12-02 09:47:55                    Dog Individual Spayed Female  ...    15205\n",
              "2014-12-02 10:02:33                    Dog Individual Spayed Female  ...    15143\n",
              "2014-12-02 10:05:50                           Dog Individual Female  ...    15228\n",
              "\n",
              "[5 rows x 5 columns]"
            ]
          },
          "metadata": {
            "tags": []
          },
          "execution_count": 17
        }
      ]
    },
    {
      "cell_type": "code",
      "metadata": {
        "id": "Z54G_BXiOSC9",
        "colab": {
          "base_uri": "https://localhost:8080/"
        },
        "outputId": "d6b869ba-7de8-495c-c8dc-52145214f49b"
      },
      "source": [
        "df.isnull().sum()"
      ],
      "execution_count": 18,
      "outputs": [
        {
          "output_type": "execute_result",
          "data": {
            "text/plain": [
              "LicenseType    0\n",
              "Breed          0\n",
              "Color          0\n",
              "DogName        0\n",
              "OwnerZip       0\n",
              "dtype: int64"
            ]
          },
          "metadata": {
            "tags": []
          },
          "execution_count": 18
        }
      ]
    },
    {
      "cell_type": "code",
      "metadata": {
        "id": "GHTtXszROSC9"
      },
      "source": [
        "breed_df = pd.DataFrame(df.Breed)\n",
        "breed_df.set_index(breed_df.index, inplace = True)\n",
        "breed_df.index = pd.to_datetime(breed_df.index)"
      ],
      "execution_count": 19,
      "outputs": []
    },
    {
      "cell_type": "markdown",
      "metadata": {
        "id": "EgVJQW8ZOSC-"
      },
      "source": [
        "MIXED\n",
        "LABRADOR RETRIEVER     \n",
        "LAB MIX                \n",
        "GOLDEN RETRIEVER        \n",
        "GER SHEPHERD            \n",
        "SHIH TZU            \n",
        "BEAGLE                  \n",
        "CHIHUAHUA                                  \n",
        "AM PIT BULL TERRIER     \n",
        "YORKSHIRE TERRIER      "
      ]
    },
    {
      "cell_type": "code",
      "metadata": {
        "id": "_JQmNtrPOSC-",
        "colab": {
          "base_uri": "https://localhost:8080/",
          "height": 233
        },
        "outputId": "67594572-ae5d-497f-8be7-9dea123ea0f9"
      },
      "source": [
        "df_top_ten = breed_df[(breed_df['Breed'] == 'MIXED') |\n",
        "                     (breed_df['Breed'] == 'LABRADOR RETRIEVER') |\n",
        "                     (breed_df['Breed'] == 'LAB MIX') |\n",
        "                     (breed_df['Breed'] == 'GOLDEN RETRIEVER') |\n",
        "                     (breed_df['Breed'] == 'GER SHEPHERD') |\n",
        "                     (breed_df['Breed'] == 'SHIH TZU') |\n",
        "                     (breed_df['Breed'] == 'BEAGLE') |\n",
        "                     (breed_df['Breed'] == 'CHIHUAHUA') |\n",
        "                     (breed_df['Breed'] == 'AM PIT BULL TERRIER')|\n",
        "                     (breed_df['Breed'] == 'YORKSHIRE TERRIER')]\n",
        "df_top_ten.head()"
      ],
      "execution_count": 20,
      "outputs": [
        {
          "output_type": "execute_result",
          "data": {
            "text/html": [
              "<div>\n",
              "<style scoped>\n",
              "    .dataframe tbody tr th:only-of-type {\n",
              "        vertical-align: middle;\n",
              "    }\n",
              "\n",
              "    .dataframe tbody tr th {\n",
              "        vertical-align: top;\n",
              "    }\n",
              "\n",
              "    .dataframe thead th {\n",
              "        text-align: right;\n",
              "    }\n",
              "</style>\n",
              "<table border=\"1\" class=\"dataframe\">\n",
              "  <thead>\n",
              "    <tr style=\"text-align: right;\">\n",
              "      <th></th>\n",
              "      <th>Breed</th>\n",
              "    </tr>\n",
              "    <tr>\n",
              "      <th>ValidDate</th>\n",
              "      <th></th>\n",
              "    </tr>\n",
              "  </thead>\n",
              "  <tbody>\n",
              "    <tr>\n",
              "      <th>2014-12-02 09:45:25</th>\n",
              "      <td>GER SHEPHERD</td>\n",
              "    </tr>\n",
              "    <tr>\n",
              "      <th>2014-12-02 09:47:55</th>\n",
              "      <td>GER SHEPHERD</td>\n",
              "    </tr>\n",
              "    <tr>\n",
              "      <th>2014-12-02 10:02:33</th>\n",
              "      <td>LABRADOR RETRIEVER</td>\n",
              "    </tr>\n",
              "    <tr>\n",
              "      <th>2014-12-02 10:08:13</th>\n",
              "      <td>YORKSHIRE TERRIER</td>\n",
              "    </tr>\n",
              "    <tr>\n",
              "      <th>2014-12-02 10:15:30</th>\n",
              "      <td>YORKSHIRE TERRIER</td>\n",
              "    </tr>\n",
              "  </tbody>\n",
              "</table>\n",
              "</div>"
            ],
            "text/plain": [
              "                                  Breed\n",
              "ValidDate                              \n",
              "2014-12-02 09:45:25        GER SHEPHERD\n",
              "2014-12-02 09:47:55        GER SHEPHERD\n",
              "2014-12-02 10:02:33  LABRADOR RETRIEVER\n",
              "2014-12-02 10:08:13   YORKSHIRE TERRIER\n",
              "2014-12-02 10:15:30   YORKSHIRE TERRIER"
            ]
          },
          "metadata": {
            "tags": []
          },
          "execution_count": 20
        }
      ]
    },
    {
      "cell_type": "code",
      "metadata": {
        "id": "PBay18MVOSC-",
        "colab": {
          "base_uri": "https://localhost:8080/"
        },
        "outputId": "e07111b0-0d61-44a6-e400-d009fe5b420a"
      },
      "source": [
        "print(\"Breed df: \", len(breed_df))\n",
        "print(\"Top Ten df: \", len(df_top_ten))\n",
        "print(\"Difference: \", len(breed_df)-len(df_top_ten))"
      ],
      "execution_count": 21,
      "outputs": [
        {
          "output_type": "stream",
          "text": [
            "Breed df:  286724\n",
            "Top Ten df:  121417\n",
            "Difference:  165307\n"
          ],
          "name": "stdout"
        }
      ]
    },
    {
      "cell_type": "code",
      "metadata": {
        "id": "yPmesD9JOSC_",
        "colab": {
          "base_uri": "https://localhost:8080/",
          "height": 337
        },
        "outputId": "5accd857-4aa8-458e-fd03-cbf84231ebf9"
      },
      "source": [
        "ten_dummies = pd.get_dummies(df_top_ten['Breed'])\n",
        "ten_dummies.head()"
      ],
      "execution_count": 22,
      "outputs": [
        {
          "output_type": "execute_result",
          "data": {
            "text/html": [
              "<div>\n",
              "<style scoped>\n",
              "    .dataframe tbody tr th:only-of-type {\n",
              "        vertical-align: middle;\n",
              "    }\n",
              "\n",
              "    .dataframe tbody tr th {\n",
              "        vertical-align: top;\n",
              "    }\n",
              "\n",
              "    .dataframe thead th {\n",
              "        text-align: right;\n",
              "    }\n",
              "</style>\n",
              "<table border=\"1\" class=\"dataframe\">\n",
              "  <thead>\n",
              "    <tr style=\"text-align: right;\">\n",
              "      <th></th>\n",
              "      <th>AM PIT BULL TERRIER</th>\n",
              "      <th>BEAGLE</th>\n",
              "      <th>CHIHUAHUA</th>\n",
              "      <th>GER SHEPHERD</th>\n",
              "      <th>GOLDEN RETRIEVER</th>\n",
              "      <th>LAB MIX</th>\n",
              "      <th>LABRADOR RETRIEVER</th>\n",
              "      <th>MIXED</th>\n",
              "      <th>SHIH TZU</th>\n",
              "      <th>YORKSHIRE TERRIER</th>\n",
              "    </tr>\n",
              "    <tr>\n",
              "      <th>ValidDate</th>\n",
              "      <th></th>\n",
              "      <th></th>\n",
              "      <th></th>\n",
              "      <th></th>\n",
              "      <th></th>\n",
              "      <th></th>\n",
              "      <th></th>\n",
              "      <th></th>\n",
              "      <th></th>\n",
              "      <th></th>\n",
              "    </tr>\n",
              "  </thead>\n",
              "  <tbody>\n",
              "    <tr>\n",
              "      <th>2014-12-02 09:45:25</th>\n",
              "      <td>0</td>\n",
              "      <td>0</td>\n",
              "      <td>0</td>\n",
              "      <td>1</td>\n",
              "      <td>0</td>\n",
              "      <td>0</td>\n",
              "      <td>0</td>\n",
              "      <td>0</td>\n",
              "      <td>0</td>\n",
              "      <td>0</td>\n",
              "    </tr>\n",
              "    <tr>\n",
              "      <th>2014-12-02 09:47:55</th>\n",
              "      <td>0</td>\n",
              "      <td>0</td>\n",
              "      <td>0</td>\n",
              "      <td>1</td>\n",
              "      <td>0</td>\n",
              "      <td>0</td>\n",
              "      <td>0</td>\n",
              "      <td>0</td>\n",
              "      <td>0</td>\n",
              "      <td>0</td>\n",
              "    </tr>\n",
              "    <tr>\n",
              "      <th>2014-12-02 10:02:33</th>\n",
              "      <td>0</td>\n",
              "      <td>0</td>\n",
              "      <td>0</td>\n",
              "      <td>0</td>\n",
              "      <td>0</td>\n",
              "      <td>0</td>\n",
              "      <td>1</td>\n",
              "      <td>0</td>\n",
              "      <td>0</td>\n",
              "      <td>0</td>\n",
              "    </tr>\n",
              "    <tr>\n",
              "      <th>2014-12-02 10:08:13</th>\n",
              "      <td>0</td>\n",
              "      <td>0</td>\n",
              "      <td>0</td>\n",
              "      <td>0</td>\n",
              "      <td>0</td>\n",
              "      <td>0</td>\n",
              "      <td>0</td>\n",
              "      <td>0</td>\n",
              "      <td>0</td>\n",
              "      <td>1</td>\n",
              "    </tr>\n",
              "    <tr>\n",
              "      <th>2014-12-02 10:15:30</th>\n",
              "      <td>0</td>\n",
              "      <td>0</td>\n",
              "      <td>0</td>\n",
              "      <td>0</td>\n",
              "      <td>0</td>\n",
              "      <td>0</td>\n",
              "      <td>0</td>\n",
              "      <td>0</td>\n",
              "      <td>0</td>\n",
              "      <td>1</td>\n",
              "    </tr>\n",
              "  </tbody>\n",
              "</table>\n",
              "</div>"
            ],
            "text/plain": [
              "                     AM PIT BULL TERRIER  BEAGLE  ...  SHIH TZU  YORKSHIRE TERRIER\n",
              "ValidDate                                         ...                             \n",
              "2014-12-02 09:45:25                    0       0  ...         0                  0\n",
              "2014-12-02 09:47:55                    0       0  ...         0                  0\n",
              "2014-12-02 10:02:33                    0       0  ...         0                  0\n",
              "2014-12-02 10:08:13                    0       0  ...         0                  1\n",
              "2014-12-02 10:15:30                    0       0  ...         0                  1\n",
              "\n",
              "[5 rows x 10 columns]"
            ]
          },
          "metadata": {
            "tags": []
          },
          "execution_count": 22
        }
      ]
    },
    {
      "cell_type": "code",
      "metadata": {
        "id": "-uPwquJqOSC_",
        "colab": {
          "base_uri": "https://localhost:8080/",
          "height": 233
        },
        "outputId": "3fc8c9d5-3e41-4012-c23f-53c43ee3eeb5"
      },
      "source": [
        "breed = ten_dummies.resample('B').sum()\n",
        "breed.head()"
      ],
      "execution_count": 23,
      "outputs": [
        {
          "output_type": "execute_result",
          "data": {
            "text/html": [
              "<div>\n",
              "<style scoped>\n",
              "    .dataframe tbody tr th:only-of-type {\n",
              "        vertical-align: middle;\n",
              "    }\n",
              "\n",
              "    .dataframe tbody tr th {\n",
              "        vertical-align: top;\n",
              "    }\n",
              "\n",
              "    .dataframe thead th {\n",
              "        text-align: right;\n",
              "    }\n",
              "</style>\n",
              "<table border=\"1\" class=\"dataframe\">\n",
              "  <thead>\n",
              "    <tr style=\"text-align: right;\">\n",
              "      <th></th>\n",
              "      <th>AM PIT BULL TERRIER</th>\n",
              "      <th>BEAGLE</th>\n",
              "      <th>CHIHUAHUA</th>\n",
              "      <th>GER SHEPHERD</th>\n",
              "      <th>GOLDEN RETRIEVER</th>\n",
              "      <th>LAB MIX</th>\n",
              "      <th>LABRADOR RETRIEVER</th>\n",
              "      <th>MIXED</th>\n",
              "      <th>SHIH TZU</th>\n",
              "      <th>YORKSHIRE TERRIER</th>\n",
              "    </tr>\n",
              "    <tr>\n",
              "      <th>ValidDate</th>\n",
              "      <th></th>\n",
              "      <th></th>\n",
              "      <th></th>\n",
              "      <th></th>\n",
              "      <th></th>\n",
              "      <th></th>\n",
              "      <th></th>\n",
              "      <th></th>\n",
              "      <th></th>\n",
              "      <th></th>\n",
              "    </tr>\n",
              "  </thead>\n",
              "  <tbody>\n",
              "    <tr>\n",
              "      <th>2014-12-02</th>\n",
              "      <td>2.0</td>\n",
              "      <td>1.0</td>\n",
              "      <td>1.0</td>\n",
              "      <td>4.0</td>\n",
              "      <td>2.0</td>\n",
              "      <td>3.0</td>\n",
              "      <td>9.0</td>\n",
              "      <td>10.0</td>\n",
              "      <td>1.0</td>\n",
              "      <td>3.0</td>\n",
              "    </tr>\n",
              "    <tr>\n",
              "      <th>2014-12-03</th>\n",
              "      <td>6.0</td>\n",
              "      <td>8.0</td>\n",
              "      <td>2.0</td>\n",
              "      <td>3.0</td>\n",
              "      <td>8.0</td>\n",
              "      <td>17.0</td>\n",
              "      <td>12.0</td>\n",
              "      <td>40.0</td>\n",
              "      <td>2.0</td>\n",
              "      <td>3.0</td>\n",
              "    </tr>\n",
              "    <tr>\n",
              "      <th>2014-12-04</th>\n",
              "      <td>5.0</td>\n",
              "      <td>7.0</td>\n",
              "      <td>2.0</td>\n",
              "      <td>7.0</td>\n",
              "      <td>17.0</td>\n",
              "      <td>17.0</td>\n",
              "      <td>29.0</td>\n",
              "      <td>51.0</td>\n",
              "      <td>12.0</td>\n",
              "      <td>13.0</td>\n",
              "    </tr>\n",
              "    <tr>\n",
              "      <th>2014-12-05</th>\n",
              "      <td>4.0</td>\n",
              "      <td>2.0</td>\n",
              "      <td>5.0</td>\n",
              "      <td>2.0</td>\n",
              "      <td>9.0</td>\n",
              "      <td>10.0</td>\n",
              "      <td>10.0</td>\n",
              "      <td>21.0</td>\n",
              "      <td>5.0</td>\n",
              "      <td>3.0</td>\n",
              "    </tr>\n",
              "    <tr>\n",
              "      <th>2014-12-08</th>\n",
              "      <td>5.0</td>\n",
              "      <td>5.0</td>\n",
              "      <td>8.0</td>\n",
              "      <td>11.0</td>\n",
              "      <td>9.0</td>\n",
              "      <td>14.0</td>\n",
              "      <td>23.0</td>\n",
              "      <td>47.0</td>\n",
              "      <td>8.0</td>\n",
              "      <td>10.0</td>\n",
              "    </tr>\n",
              "  </tbody>\n",
              "</table>\n",
              "</div>"
            ],
            "text/plain": [
              "            AM PIT BULL TERRIER  BEAGLE  ...  SHIH TZU  YORKSHIRE TERRIER\n",
              "ValidDate                                ...                             \n",
              "2014-12-02                  2.0     1.0  ...       1.0                3.0\n",
              "2014-12-03                  6.0     8.0  ...       2.0                3.0\n",
              "2014-12-04                  5.0     7.0  ...      12.0               13.0\n",
              "2014-12-05                  4.0     2.0  ...       5.0                3.0\n",
              "2014-12-08                  5.0     5.0  ...       8.0               10.0\n",
              "\n",
              "[5 rows x 10 columns]"
            ]
          },
          "metadata": {
            "tags": []
          },
          "execution_count": 23
        }
      ]
    },
    {
      "cell_type": "code",
      "metadata": {
        "id": "6prIOkJbOSC_",
        "colab": {
          "base_uri": "https://localhost:8080/",
          "height": 337
        },
        "outputId": "779200d3-c772-48cc-e738-d74f3cc20954"
      },
      "source": [
        "breed['Total'] = breed.sum(axis = 1)\n",
        "breed.head()"
      ],
      "execution_count": 24,
      "outputs": [
        {
          "output_type": "execute_result",
          "data": {
            "text/html": [
              "<div>\n",
              "<style scoped>\n",
              "    .dataframe tbody tr th:only-of-type {\n",
              "        vertical-align: middle;\n",
              "    }\n",
              "\n",
              "    .dataframe tbody tr th {\n",
              "        vertical-align: top;\n",
              "    }\n",
              "\n",
              "    .dataframe thead th {\n",
              "        text-align: right;\n",
              "    }\n",
              "</style>\n",
              "<table border=\"1\" class=\"dataframe\">\n",
              "  <thead>\n",
              "    <tr style=\"text-align: right;\">\n",
              "      <th></th>\n",
              "      <th>AM PIT BULL TERRIER</th>\n",
              "      <th>BEAGLE</th>\n",
              "      <th>CHIHUAHUA</th>\n",
              "      <th>GER SHEPHERD</th>\n",
              "      <th>GOLDEN RETRIEVER</th>\n",
              "      <th>LAB MIX</th>\n",
              "      <th>LABRADOR RETRIEVER</th>\n",
              "      <th>MIXED</th>\n",
              "      <th>SHIH TZU</th>\n",
              "      <th>YORKSHIRE TERRIER</th>\n",
              "      <th>Total</th>\n",
              "    </tr>\n",
              "    <tr>\n",
              "      <th>ValidDate</th>\n",
              "      <th></th>\n",
              "      <th></th>\n",
              "      <th></th>\n",
              "      <th></th>\n",
              "      <th></th>\n",
              "      <th></th>\n",
              "      <th></th>\n",
              "      <th></th>\n",
              "      <th></th>\n",
              "      <th></th>\n",
              "      <th></th>\n",
              "    </tr>\n",
              "  </thead>\n",
              "  <tbody>\n",
              "    <tr>\n",
              "      <th>2014-12-02</th>\n",
              "      <td>2.0</td>\n",
              "      <td>1.0</td>\n",
              "      <td>1.0</td>\n",
              "      <td>4.0</td>\n",
              "      <td>2.0</td>\n",
              "      <td>3.0</td>\n",
              "      <td>9.0</td>\n",
              "      <td>10.0</td>\n",
              "      <td>1.0</td>\n",
              "      <td>3.0</td>\n",
              "      <td>36.0</td>\n",
              "    </tr>\n",
              "    <tr>\n",
              "      <th>2014-12-03</th>\n",
              "      <td>6.0</td>\n",
              "      <td>8.0</td>\n",
              "      <td>2.0</td>\n",
              "      <td>3.0</td>\n",
              "      <td>8.0</td>\n",
              "      <td>17.0</td>\n",
              "      <td>12.0</td>\n",
              "      <td>40.0</td>\n",
              "      <td>2.0</td>\n",
              "      <td>3.0</td>\n",
              "      <td>101.0</td>\n",
              "    </tr>\n",
              "    <tr>\n",
              "      <th>2014-12-04</th>\n",
              "      <td>5.0</td>\n",
              "      <td>7.0</td>\n",
              "      <td>2.0</td>\n",
              "      <td>7.0</td>\n",
              "      <td>17.0</td>\n",
              "      <td>17.0</td>\n",
              "      <td>29.0</td>\n",
              "      <td>51.0</td>\n",
              "      <td>12.0</td>\n",
              "      <td>13.0</td>\n",
              "      <td>160.0</td>\n",
              "    </tr>\n",
              "    <tr>\n",
              "      <th>2014-12-05</th>\n",
              "      <td>4.0</td>\n",
              "      <td>2.0</td>\n",
              "      <td>5.0</td>\n",
              "      <td>2.0</td>\n",
              "      <td>9.0</td>\n",
              "      <td>10.0</td>\n",
              "      <td>10.0</td>\n",
              "      <td>21.0</td>\n",
              "      <td>5.0</td>\n",
              "      <td>3.0</td>\n",
              "      <td>71.0</td>\n",
              "    </tr>\n",
              "    <tr>\n",
              "      <th>2014-12-08</th>\n",
              "      <td>5.0</td>\n",
              "      <td>5.0</td>\n",
              "      <td>8.0</td>\n",
              "      <td>11.0</td>\n",
              "      <td>9.0</td>\n",
              "      <td>14.0</td>\n",
              "      <td>23.0</td>\n",
              "      <td>47.0</td>\n",
              "      <td>8.0</td>\n",
              "      <td>10.0</td>\n",
              "      <td>140.0</td>\n",
              "    </tr>\n",
              "  </tbody>\n",
              "</table>\n",
              "</div>"
            ],
            "text/plain": [
              "            AM PIT BULL TERRIER  BEAGLE  ...  YORKSHIRE TERRIER  Total\n",
              "ValidDate                                ...                          \n",
              "2014-12-02                  2.0     1.0  ...                3.0   36.0\n",
              "2014-12-03                  6.0     8.0  ...                3.0  101.0\n",
              "2014-12-04                  5.0     7.0  ...               13.0  160.0\n",
              "2014-12-05                  4.0     2.0  ...                3.0   71.0\n",
              "2014-12-08                  5.0     5.0  ...               10.0  140.0\n",
              "\n",
              "[5 rows x 11 columns]"
            ]
          },
          "metadata": {
            "tags": []
          },
          "execution_count": 24
        }
      ]
    },
    {
      "cell_type": "code",
      "metadata": {
        "id": "JNmLyX_XOSC_"
      },
      "source": [
        "breed.to_csv('breed_daily_totals.csv')"
      ],
      "execution_count": 25,
      "outputs": []
    },
    {
      "cell_type": "code",
      "metadata": {
        "id": "Och2W0XnOSDA"
      },
      "source": [
        "#next I would like to get a pretty visualization of this- a colorful line chart"
      ],
      "execution_count": 26,
      "outputs": []
    },
    {
      "cell_type": "code",
      "metadata": {
        "id": "LghVw0byOSDA"
      },
      "source": [
        "#run model on just top 10, determine the importance of dog breed in prediction\n",
        "#if it's highly correlated, consider 'other' column, or even 340 dummies? "
      ],
      "execution_count": 27,
      "outputs": []
    },
    {
      "cell_type": "markdown",
      "metadata": {
        "id": "D7wfLrl1OSDA"
      },
      "source": [
        "## Scaling Data"
      ]
    },
    {
      "cell_type": "code",
      "metadata": {
        "id": "7x6GxDRAOSDA"
      },
      "source": [
        "scaler = MinMaxScaler()\n",
        "scaled_df = scaler.fit_transform(breed.values)"
      ],
      "execution_count": 28,
      "outputs": []
    },
    {
      "cell_type": "markdown",
      "metadata": {
        "id": "5NAj_ZpjOSDB"
      },
      "source": [
        "series_to_supervise function courtesy of Jason Brownlee with Machine Learning Mastery"
      ]
    },
    {
      "cell_type": "code",
      "metadata": {
        "id": "NT8MSqu4OSDB"
      },
      "source": [
        "def series_to_supervise(data, n_in = 1, n_out = 1, dropnan = True):\n",
        "    n_vars = 1 if type(data) is list else data.shape[1]\n",
        "    df = pd.DataFrame(data)\n",
        "    cols, names = list(), list()\n",
        "\n",
        "    for i in range(n_in, 0, -1):\n",
        "        cols.append(df.shift(i))\n",
        "        names += [('var%d(t-%d)' % (j+1, i)) for j in range(n_vars)]\n",
        "    for i in range(0, n_out):\n",
        "        cols.append(df.shift(-i))\n",
        "        if i == 0:\n",
        "            names += [('var%d' % (j+1)) for j in range(n_vars)]\n",
        "        else: \n",
        "            names += [('var%d(t-%d)' % (j+1, i)) for j in range(n_vars)]\n",
        "    agg = pd.concat(cols, axis = 1)\n",
        "    agg.columns = names\n",
        "    if dropnan:\n",
        "        agg.dropna(inplace = True)\n",
        "    return agg"
      ],
      "execution_count": 29,
      "outputs": []
    },
    {
      "cell_type": "code",
      "metadata": {
        "id": "14fbcYJsOSDB",
        "colab": {
          "base_uri": "https://localhost:8080/",
          "height": 239
        },
        "outputId": "6bf82a01-3215-42ae-92e3-00b8cc6738ab"
      },
      "source": [
        "#start with lag of 1\n",
        "lstm_df = series_to_supervise(scaled_df)\n",
        "lstm_df.head()"
      ],
      "execution_count": 30,
      "outputs": [
        {
          "output_type": "execute_result",
          "data": {
            "text/html": [
              "<div>\n",
              "<style scoped>\n",
              "    .dataframe tbody tr th:only-of-type {\n",
              "        vertical-align: middle;\n",
              "    }\n",
              "\n",
              "    .dataframe tbody tr th {\n",
              "        vertical-align: top;\n",
              "    }\n",
              "\n",
              "    .dataframe thead th {\n",
              "        text-align: right;\n",
              "    }\n",
              "</style>\n",
              "<table border=\"1\" class=\"dataframe\">\n",
              "  <thead>\n",
              "    <tr style=\"text-align: right;\">\n",
              "      <th></th>\n",
              "      <th>var1(t-1)</th>\n",
              "      <th>var2(t-1)</th>\n",
              "      <th>var3(t-1)</th>\n",
              "      <th>var4(t-1)</th>\n",
              "      <th>var5(t-1)</th>\n",
              "      <th>var6(t-1)</th>\n",
              "      <th>var7(t-1)</th>\n",
              "      <th>var8(t-1)</th>\n",
              "      <th>var9(t-1)</th>\n",
              "      <th>var10(t-1)</th>\n",
              "      <th>var11(t-1)</th>\n",
              "      <th>var1</th>\n",
              "      <th>var2</th>\n",
              "      <th>var3</th>\n",
              "      <th>var4</th>\n",
              "      <th>var5</th>\n",
              "      <th>var6</th>\n",
              "      <th>var7</th>\n",
              "      <th>var8</th>\n",
              "      <th>var9</th>\n",
              "      <th>var10</th>\n",
              "      <th>var11</th>\n",
              "    </tr>\n",
              "  </thead>\n",
              "  <tbody>\n",
              "    <tr>\n",
              "      <th>1</th>\n",
              "      <td>0.018018</td>\n",
              "      <td>0.004831</td>\n",
              "      <td>0.007194</td>\n",
              "      <td>0.023256</td>\n",
              "      <td>0.008475</td>\n",
              "      <td>0.007812</td>\n",
              "      <td>0.020045</td>\n",
              "      <td>0.012690</td>\n",
              "      <td>0.005128</td>\n",
              "      <td>0.019737</td>\n",
              "      <td>0.013025</td>\n",
              "      <td>0.054054</td>\n",
              "      <td>0.038647</td>\n",
              "      <td>0.014388</td>\n",
              "      <td>0.017442</td>\n",
              "      <td>0.033898</td>\n",
              "      <td>0.044271</td>\n",
              "      <td>0.026726</td>\n",
              "      <td>0.050761</td>\n",
              "      <td>0.010256</td>\n",
              "      <td>0.019737</td>\n",
              "      <td>0.036541</td>\n",
              "    </tr>\n",
              "    <tr>\n",
              "      <th>2</th>\n",
              "      <td>0.054054</td>\n",
              "      <td>0.038647</td>\n",
              "      <td>0.014388</td>\n",
              "      <td>0.017442</td>\n",
              "      <td>0.033898</td>\n",
              "      <td>0.044271</td>\n",
              "      <td>0.026726</td>\n",
              "      <td>0.050761</td>\n",
              "      <td>0.010256</td>\n",
              "      <td>0.019737</td>\n",
              "      <td>0.036541</td>\n",
              "      <td>0.045045</td>\n",
              "      <td>0.033816</td>\n",
              "      <td>0.014388</td>\n",
              "      <td>0.040698</td>\n",
              "      <td>0.072034</td>\n",
              "      <td>0.044271</td>\n",
              "      <td>0.064588</td>\n",
              "      <td>0.064721</td>\n",
              "      <td>0.061538</td>\n",
              "      <td>0.085526</td>\n",
              "      <td>0.057887</td>\n",
              "    </tr>\n",
              "    <tr>\n",
              "      <th>3</th>\n",
              "      <td>0.045045</td>\n",
              "      <td>0.033816</td>\n",
              "      <td>0.014388</td>\n",
              "      <td>0.040698</td>\n",
              "      <td>0.072034</td>\n",
              "      <td>0.044271</td>\n",
              "      <td>0.064588</td>\n",
              "      <td>0.064721</td>\n",
              "      <td>0.061538</td>\n",
              "      <td>0.085526</td>\n",
              "      <td>0.057887</td>\n",
              "      <td>0.036036</td>\n",
              "      <td>0.009662</td>\n",
              "      <td>0.035971</td>\n",
              "      <td>0.011628</td>\n",
              "      <td>0.038136</td>\n",
              "      <td>0.026042</td>\n",
              "      <td>0.022272</td>\n",
              "      <td>0.026650</td>\n",
              "      <td>0.025641</td>\n",
              "      <td>0.019737</td>\n",
              "      <td>0.025687</td>\n",
              "    </tr>\n",
              "    <tr>\n",
              "      <th>4</th>\n",
              "      <td>0.036036</td>\n",
              "      <td>0.009662</td>\n",
              "      <td>0.035971</td>\n",
              "      <td>0.011628</td>\n",
              "      <td>0.038136</td>\n",
              "      <td>0.026042</td>\n",
              "      <td>0.022272</td>\n",
              "      <td>0.026650</td>\n",
              "      <td>0.025641</td>\n",
              "      <td>0.019737</td>\n",
              "      <td>0.025687</td>\n",
              "      <td>0.045045</td>\n",
              "      <td>0.024155</td>\n",
              "      <td>0.057554</td>\n",
              "      <td>0.063953</td>\n",
              "      <td>0.038136</td>\n",
              "      <td>0.036458</td>\n",
              "      <td>0.051225</td>\n",
              "      <td>0.059645</td>\n",
              "      <td>0.041026</td>\n",
              "      <td>0.065789</td>\n",
              "      <td>0.050651</td>\n",
              "    </tr>\n",
              "    <tr>\n",
              "      <th>5</th>\n",
              "      <td>0.045045</td>\n",
              "      <td>0.024155</td>\n",
              "      <td>0.057554</td>\n",
              "      <td>0.063953</td>\n",
              "      <td>0.038136</td>\n",
              "      <td>0.036458</td>\n",
              "      <td>0.051225</td>\n",
              "      <td>0.059645</td>\n",
              "      <td>0.041026</td>\n",
              "      <td>0.065789</td>\n",
              "      <td>0.050651</td>\n",
              "      <td>0.054054</td>\n",
              "      <td>0.028986</td>\n",
              "      <td>0.014388</td>\n",
              "      <td>0.040698</td>\n",
              "      <td>0.029661</td>\n",
              "      <td>0.010417</td>\n",
              "      <td>0.026726</td>\n",
              "      <td>0.020305</td>\n",
              "      <td>0.015385</td>\n",
              "      <td>0.013158</td>\n",
              "      <td>0.023517</td>\n",
              "    </tr>\n",
              "  </tbody>\n",
              "</table>\n",
              "</div>"
            ],
            "text/plain": [
              "   var1(t-1)  var2(t-1)  var3(t-1)  ...      var9     var10     var11\n",
              "1   0.018018   0.004831   0.007194  ...  0.010256  0.019737  0.036541\n",
              "2   0.054054   0.038647   0.014388  ...  0.061538  0.085526  0.057887\n",
              "3   0.045045   0.033816   0.014388  ...  0.025641  0.019737  0.025687\n",
              "4   0.036036   0.009662   0.035971  ...  0.041026  0.065789  0.050651\n",
              "5   0.045045   0.024155   0.057554  ...  0.015385  0.013158  0.023517\n",
              "\n",
              "[5 rows x 22 columns]"
            ]
          },
          "metadata": {
            "tags": []
          },
          "execution_count": 30
        }
      ]
    },
    {
      "cell_type": "code",
      "metadata": {
        "id": "K5BdEgkdOSDB",
        "colab": {
          "base_uri": "https://localhost:8080/"
        },
        "outputId": "cddafe86-cebe-4989-e510-819e492412fd"
      },
      "source": [
        "lstm_df.columns"
      ],
      "execution_count": 31,
      "outputs": [
        {
          "output_type": "execute_result",
          "data": {
            "text/plain": [
              "Index(['var1(t-1)', 'var2(t-1)', 'var3(t-1)', 'var4(t-1)', 'var5(t-1)',\n",
              "       'var6(t-1)', 'var7(t-1)', 'var8(t-1)', 'var9(t-1)', 'var10(t-1)',\n",
              "       'var11(t-1)', 'var1', 'var2', 'var3', 'var4', 'var5', 'var6', 'var7',\n",
              "       'var8', 'var9', 'var10', 'var11'],\n",
              "      dtype='object')"
            ]
          },
          "metadata": {
            "tags": []
          },
          "execution_count": 31
        }
      ]
    },
    {
      "cell_type": "code",
      "metadata": {
        "id": "UAk3YO5hOSDB",
        "colab": {
          "base_uri": "https://localhost:8080/"
        },
        "outputId": "36174505-48ea-463f-ad69-7efe363de41a"
      },
      "source": [
        "lstm_df.drop(lstm_df.columns[[11, 12, 13, 14, 15, 16, 17, 18, 19, 20]], axis = 1, inplace = True)\n",
        "lstm_df.columns"
      ],
      "execution_count": 32,
      "outputs": [
        {
          "output_type": "execute_result",
          "data": {
            "text/plain": [
              "Index(['var1(t-1)', 'var2(t-1)', 'var3(t-1)', 'var4(t-1)', 'var5(t-1)',\n",
              "       'var6(t-1)', 'var7(t-1)', 'var8(t-1)', 'var9(t-1)', 'var10(t-1)',\n",
              "       'var11(t-1)', 'var11'],\n",
              "      dtype='object')"
            ]
          },
          "metadata": {
            "tags": []
          },
          "execution_count": 32
        }
      ]
    },
    {
      "cell_type": "code",
      "metadata": {
        "id": "ow13znQLOSDC"
      },
      "source": [
        "#train_test_split\n",
        "X = lstm_df[lstm_df.columns[:10]].values\n",
        "y = lstm_df['var11'].values"
      ],
      "execution_count": 33,
      "outputs": []
    },
    {
      "cell_type": "code",
      "metadata": {
        "id": "7UWc5BqnOSDC"
      },
      "source": [
        "X_train, X_test, y_train, y_test = train_test_split(X, y, test_size = 0.3, random_state = 42)"
      ],
      "execution_count": 34,
      "outputs": []
    },
    {
      "cell_type": "code",
      "metadata": {
        "id": "EyKcbfRAOSDC",
        "colab": {
          "base_uri": "https://localhost:8080/"
        },
        "outputId": "5b9eae1a-0c45-473a-e1d7-35fc6c13fd4a"
      },
      "source": [
        "print(\"X_train: \",X_train.shape)\n",
        "print(\"X_test: \", X_test.shape)\n",
        "print(\"Y_train: \", y_train.shape)\n",
        "print(\"y_test: \", y_test.shape)"
      ],
      "execution_count": 35,
      "outputs": [
        {
          "output_type": "stream",
          "text": [
            "X_train:  (727, 10)\n",
            "X_test:  (312, 10)\n",
            "Y_train:  (727,)\n",
            "y_test:  (312,)\n"
          ],
          "name": "stdout"
        }
      ]
    },
    {
      "cell_type": "code",
      "metadata": {
        "id": "6oQ49_D9OSDC",
        "colab": {
          "base_uri": "https://localhost:8080/"
        },
        "outputId": "0226eeb9-c53a-4fbf-c6fc-4b816a630c13"
      },
      "source": [
        "#Reshape into a 3D that LSTM expects\n",
        "X_train = X_train.reshape((X_train.shape[0], 1, X_train.shape[1]))\n",
        "X_test = X_test.reshape((X_test.shape[0], 1, X_test.shape[1]))\n",
        "print(X_train.shape)\n",
        "print(X_test.shape)"
      ],
      "execution_count": 36,
      "outputs": [
        {
          "output_type": "stream",
          "text": [
            "(727, 1, 10)\n",
            "(312, 1, 10)\n"
          ],
          "name": "stdout"
        }
      ]
    },
    {
      "cell_type": "code",
      "metadata": {
        "id": "k3UK_PMtOSDD"
      },
      "source": [
        "#Because I have already done the work of optimizing the sum for LSTM, I'll use the optimal model from the univariate\n",
        "#I can always go back and tune further\n",
        "#This does mean I will have to adjust the data to 5 lags"
      ],
      "execution_count": 37,
      "outputs": []
    },
    {
      "cell_type": "code",
      "metadata": {
        "id": "KiLqK2HBOSDD",
        "colab": {
          "base_uri": "https://localhost:8080/",
          "height": 239
        },
        "outputId": "97ea2ae6-2356-4496-efbe-eeeda0d74299"
      },
      "source": [
        "lag_5 = series_to_supervise(scaled_df, 5, 1)\n",
        "lag_5.head()"
      ],
      "execution_count": 38,
      "outputs": [
        {
          "output_type": "execute_result",
          "data": {
            "text/html": [
              "<div>\n",
              "<style scoped>\n",
              "    .dataframe tbody tr th:only-of-type {\n",
              "        vertical-align: middle;\n",
              "    }\n",
              "\n",
              "    .dataframe tbody tr th {\n",
              "        vertical-align: top;\n",
              "    }\n",
              "\n",
              "    .dataframe thead th {\n",
              "        text-align: right;\n",
              "    }\n",
              "</style>\n",
              "<table border=\"1\" class=\"dataframe\">\n",
              "  <thead>\n",
              "    <tr style=\"text-align: right;\">\n",
              "      <th></th>\n",
              "      <th>var1(t-5)</th>\n",
              "      <th>var2(t-5)</th>\n",
              "      <th>var3(t-5)</th>\n",
              "      <th>var4(t-5)</th>\n",
              "      <th>var5(t-5)</th>\n",
              "      <th>var6(t-5)</th>\n",
              "      <th>var7(t-5)</th>\n",
              "      <th>var8(t-5)</th>\n",
              "      <th>var9(t-5)</th>\n",
              "      <th>var10(t-5)</th>\n",
              "      <th>var11(t-5)</th>\n",
              "      <th>var1(t-4)</th>\n",
              "      <th>var2(t-4)</th>\n",
              "      <th>var3(t-4)</th>\n",
              "      <th>var4(t-4)</th>\n",
              "      <th>var5(t-4)</th>\n",
              "      <th>var6(t-4)</th>\n",
              "      <th>var7(t-4)</th>\n",
              "      <th>var8(t-4)</th>\n",
              "      <th>var9(t-4)</th>\n",
              "      <th>var10(t-4)</th>\n",
              "      <th>var11(t-4)</th>\n",
              "      <th>var1(t-3)</th>\n",
              "      <th>var2(t-3)</th>\n",
              "      <th>var3(t-3)</th>\n",
              "      <th>var4(t-3)</th>\n",
              "      <th>var5(t-3)</th>\n",
              "      <th>var6(t-3)</th>\n",
              "      <th>var7(t-3)</th>\n",
              "      <th>var8(t-3)</th>\n",
              "      <th>var9(t-3)</th>\n",
              "      <th>var10(t-3)</th>\n",
              "      <th>var11(t-3)</th>\n",
              "      <th>var1(t-2)</th>\n",
              "      <th>var2(t-2)</th>\n",
              "      <th>var3(t-2)</th>\n",
              "      <th>var4(t-2)</th>\n",
              "      <th>var5(t-2)</th>\n",
              "      <th>var6(t-2)</th>\n",
              "      <th>var7(t-2)</th>\n",
              "      <th>var8(t-2)</th>\n",
              "      <th>var9(t-2)</th>\n",
              "      <th>var10(t-2)</th>\n",
              "      <th>var11(t-2)</th>\n",
              "      <th>var1(t-1)</th>\n",
              "      <th>var2(t-1)</th>\n",
              "      <th>var3(t-1)</th>\n",
              "      <th>var4(t-1)</th>\n",
              "      <th>var5(t-1)</th>\n",
              "      <th>var6(t-1)</th>\n",
              "      <th>var7(t-1)</th>\n",
              "      <th>var8(t-1)</th>\n",
              "      <th>var9(t-1)</th>\n",
              "      <th>var10(t-1)</th>\n",
              "      <th>var11(t-1)</th>\n",
              "      <th>var1</th>\n",
              "      <th>var2</th>\n",
              "      <th>var3</th>\n",
              "      <th>var4</th>\n",
              "      <th>var5</th>\n",
              "      <th>var6</th>\n",
              "      <th>var7</th>\n",
              "      <th>var8</th>\n",
              "      <th>var9</th>\n",
              "      <th>var10</th>\n",
              "      <th>var11</th>\n",
              "    </tr>\n",
              "  </thead>\n",
              "  <tbody>\n",
              "    <tr>\n",
              "      <th>5</th>\n",
              "      <td>0.018018</td>\n",
              "      <td>0.004831</td>\n",
              "      <td>0.007194</td>\n",
              "      <td>0.023256</td>\n",
              "      <td>0.008475</td>\n",
              "      <td>0.007812</td>\n",
              "      <td>0.020045</td>\n",
              "      <td>0.012690</td>\n",
              "      <td>0.005128</td>\n",
              "      <td>0.019737</td>\n",
              "      <td>0.013025</td>\n",
              "      <td>0.054054</td>\n",
              "      <td>0.038647</td>\n",
              "      <td>0.014388</td>\n",
              "      <td>0.017442</td>\n",
              "      <td>0.033898</td>\n",
              "      <td>0.044271</td>\n",
              "      <td>0.026726</td>\n",
              "      <td>0.050761</td>\n",
              "      <td>0.010256</td>\n",
              "      <td>0.019737</td>\n",
              "      <td>0.036541</td>\n",
              "      <td>0.045045</td>\n",
              "      <td>0.033816</td>\n",
              "      <td>0.014388</td>\n",
              "      <td>0.040698</td>\n",
              "      <td>0.072034</td>\n",
              "      <td>0.044271</td>\n",
              "      <td>0.064588</td>\n",
              "      <td>0.064721</td>\n",
              "      <td>0.061538</td>\n",
              "      <td>0.085526</td>\n",
              "      <td>0.057887</td>\n",
              "      <td>0.036036</td>\n",
              "      <td>0.009662</td>\n",
              "      <td>0.035971</td>\n",
              "      <td>0.011628</td>\n",
              "      <td>0.038136</td>\n",
              "      <td>0.026042</td>\n",
              "      <td>0.022272</td>\n",
              "      <td>0.026650</td>\n",
              "      <td>0.025641</td>\n",
              "      <td>0.019737</td>\n",
              "      <td>0.025687</td>\n",
              "      <td>0.045045</td>\n",
              "      <td>0.024155</td>\n",
              "      <td>0.057554</td>\n",
              "      <td>0.063953</td>\n",
              "      <td>0.038136</td>\n",
              "      <td>0.036458</td>\n",
              "      <td>0.051225</td>\n",
              "      <td>0.059645</td>\n",
              "      <td>0.041026</td>\n",
              "      <td>0.065789</td>\n",
              "      <td>0.050651</td>\n",
              "      <td>0.054054</td>\n",
              "      <td>0.028986</td>\n",
              "      <td>0.014388</td>\n",
              "      <td>0.040698</td>\n",
              "      <td>0.029661</td>\n",
              "      <td>0.010417</td>\n",
              "      <td>0.026726</td>\n",
              "      <td>0.020305</td>\n",
              "      <td>0.015385</td>\n",
              "      <td>0.013158</td>\n",
              "      <td>0.023517</td>\n",
              "    </tr>\n",
              "    <tr>\n",
              "      <th>6</th>\n",
              "      <td>0.054054</td>\n",
              "      <td>0.038647</td>\n",
              "      <td>0.014388</td>\n",
              "      <td>0.017442</td>\n",
              "      <td>0.033898</td>\n",
              "      <td>0.044271</td>\n",
              "      <td>0.026726</td>\n",
              "      <td>0.050761</td>\n",
              "      <td>0.010256</td>\n",
              "      <td>0.019737</td>\n",
              "      <td>0.036541</td>\n",
              "      <td>0.045045</td>\n",
              "      <td>0.033816</td>\n",
              "      <td>0.014388</td>\n",
              "      <td>0.040698</td>\n",
              "      <td>0.072034</td>\n",
              "      <td>0.044271</td>\n",
              "      <td>0.064588</td>\n",
              "      <td>0.064721</td>\n",
              "      <td>0.061538</td>\n",
              "      <td>0.085526</td>\n",
              "      <td>0.057887</td>\n",
              "      <td>0.036036</td>\n",
              "      <td>0.009662</td>\n",
              "      <td>0.035971</td>\n",
              "      <td>0.011628</td>\n",
              "      <td>0.038136</td>\n",
              "      <td>0.026042</td>\n",
              "      <td>0.022272</td>\n",
              "      <td>0.026650</td>\n",
              "      <td>0.025641</td>\n",
              "      <td>0.019737</td>\n",
              "      <td>0.025687</td>\n",
              "      <td>0.045045</td>\n",
              "      <td>0.024155</td>\n",
              "      <td>0.057554</td>\n",
              "      <td>0.063953</td>\n",
              "      <td>0.038136</td>\n",
              "      <td>0.036458</td>\n",
              "      <td>0.051225</td>\n",
              "      <td>0.059645</td>\n",
              "      <td>0.041026</td>\n",
              "      <td>0.065789</td>\n",
              "      <td>0.050651</td>\n",
              "      <td>0.054054</td>\n",
              "      <td>0.028986</td>\n",
              "      <td>0.014388</td>\n",
              "      <td>0.040698</td>\n",
              "      <td>0.029661</td>\n",
              "      <td>0.010417</td>\n",
              "      <td>0.026726</td>\n",
              "      <td>0.020305</td>\n",
              "      <td>0.015385</td>\n",
              "      <td>0.013158</td>\n",
              "      <td>0.023517</td>\n",
              "      <td>0.036036</td>\n",
              "      <td>0.009662</td>\n",
              "      <td>0.007194</td>\n",
              "      <td>0.005814</td>\n",
              "      <td>0.012712</td>\n",
              "      <td>0.013021</td>\n",
              "      <td>0.013363</td>\n",
              "      <td>0.013959</td>\n",
              "      <td>0.010256</td>\n",
              "      <td>0.013158</td>\n",
              "      <td>0.013386</td>\n",
              "    </tr>\n",
              "    <tr>\n",
              "      <th>7</th>\n",
              "      <td>0.045045</td>\n",
              "      <td>0.033816</td>\n",
              "      <td>0.014388</td>\n",
              "      <td>0.040698</td>\n",
              "      <td>0.072034</td>\n",
              "      <td>0.044271</td>\n",
              "      <td>0.064588</td>\n",
              "      <td>0.064721</td>\n",
              "      <td>0.061538</td>\n",
              "      <td>0.085526</td>\n",
              "      <td>0.057887</td>\n",
              "      <td>0.036036</td>\n",
              "      <td>0.009662</td>\n",
              "      <td>0.035971</td>\n",
              "      <td>0.011628</td>\n",
              "      <td>0.038136</td>\n",
              "      <td>0.026042</td>\n",
              "      <td>0.022272</td>\n",
              "      <td>0.026650</td>\n",
              "      <td>0.025641</td>\n",
              "      <td>0.019737</td>\n",
              "      <td>0.025687</td>\n",
              "      <td>0.045045</td>\n",
              "      <td>0.024155</td>\n",
              "      <td>0.057554</td>\n",
              "      <td>0.063953</td>\n",
              "      <td>0.038136</td>\n",
              "      <td>0.036458</td>\n",
              "      <td>0.051225</td>\n",
              "      <td>0.059645</td>\n",
              "      <td>0.041026</td>\n",
              "      <td>0.065789</td>\n",
              "      <td>0.050651</td>\n",
              "      <td>0.054054</td>\n",
              "      <td>0.028986</td>\n",
              "      <td>0.014388</td>\n",
              "      <td>0.040698</td>\n",
              "      <td>0.029661</td>\n",
              "      <td>0.010417</td>\n",
              "      <td>0.026726</td>\n",
              "      <td>0.020305</td>\n",
              "      <td>0.015385</td>\n",
              "      <td>0.013158</td>\n",
              "      <td>0.023517</td>\n",
              "      <td>0.036036</td>\n",
              "      <td>0.009662</td>\n",
              "      <td>0.007194</td>\n",
              "      <td>0.005814</td>\n",
              "      <td>0.012712</td>\n",
              "      <td>0.013021</td>\n",
              "      <td>0.013363</td>\n",
              "      <td>0.013959</td>\n",
              "      <td>0.010256</td>\n",
              "      <td>0.013158</td>\n",
              "      <td>0.013386</td>\n",
              "      <td>0.054054</td>\n",
              "      <td>0.000000</td>\n",
              "      <td>0.000000</td>\n",
              "      <td>0.023256</td>\n",
              "      <td>0.029661</td>\n",
              "      <td>0.020833</td>\n",
              "      <td>0.020045</td>\n",
              "      <td>0.013959</td>\n",
              "      <td>0.020513</td>\n",
              "      <td>0.006579</td>\n",
              "      <td>0.018090</td>\n",
              "    </tr>\n",
              "    <tr>\n",
              "      <th>8</th>\n",
              "      <td>0.036036</td>\n",
              "      <td>0.009662</td>\n",
              "      <td>0.035971</td>\n",
              "      <td>0.011628</td>\n",
              "      <td>0.038136</td>\n",
              "      <td>0.026042</td>\n",
              "      <td>0.022272</td>\n",
              "      <td>0.026650</td>\n",
              "      <td>0.025641</td>\n",
              "      <td>0.019737</td>\n",
              "      <td>0.025687</td>\n",
              "      <td>0.045045</td>\n",
              "      <td>0.024155</td>\n",
              "      <td>0.057554</td>\n",
              "      <td>0.063953</td>\n",
              "      <td>0.038136</td>\n",
              "      <td>0.036458</td>\n",
              "      <td>0.051225</td>\n",
              "      <td>0.059645</td>\n",
              "      <td>0.041026</td>\n",
              "      <td>0.065789</td>\n",
              "      <td>0.050651</td>\n",
              "      <td>0.054054</td>\n",
              "      <td>0.028986</td>\n",
              "      <td>0.014388</td>\n",
              "      <td>0.040698</td>\n",
              "      <td>0.029661</td>\n",
              "      <td>0.010417</td>\n",
              "      <td>0.026726</td>\n",
              "      <td>0.020305</td>\n",
              "      <td>0.015385</td>\n",
              "      <td>0.013158</td>\n",
              "      <td>0.023517</td>\n",
              "      <td>0.036036</td>\n",
              "      <td>0.009662</td>\n",
              "      <td>0.007194</td>\n",
              "      <td>0.005814</td>\n",
              "      <td>0.012712</td>\n",
              "      <td>0.013021</td>\n",
              "      <td>0.013363</td>\n",
              "      <td>0.013959</td>\n",
              "      <td>0.010256</td>\n",
              "      <td>0.013158</td>\n",
              "      <td>0.013386</td>\n",
              "      <td>0.054054</td>\n",
              "      <td>0.000000</td>\n",
              "      <td>0.000000</td>\n",
              "      <td>0.023256</td>\n",
              "      <td>0.029661</td>\n",
              "      <td>0.020833</td>\n",
              "      <td>0.020045</td>\n",
              "      <td>0.013959</td>\n",
              "      <td>0.020513</td>\n",
              "      <td>0.006579</td>\n",
              "      <td>0.018090</td>\n",
              "      <td>0.045045</td>\n",
              "      <td>0.009662</td>\n",
              "      <td>0.021583</td>\n",
              "      <td>0.023256</td>\n",
              "      <td>0.012712</td>\n",
              "      <td>0.015625</td>\n",
              "      <td>0.011136</td>\n",
              "      <td>0.011421</td>\n",
              "      <td>0.010256</td>\n",
              "      <td>0.013158</td>\n",
              "      <td>0.014834</td>\n",
              "    </tr>\n",
              "    <tr>\n",
              "      <th>9</th>\n",
              "      <td>0.045045</td>\n",
              "      <td>0.024155</td>\n",
              "      <td>0.057554</td>\n",
              "      <td>0.063953</td>\n",
              "      <td>0.038136</td>\n",
              "      <td>0.036458</td>\n",
              "      <td>0.051225</td>\n",
              "      <td>0.059645</td>\n",
              "      <td>0.041026</td>\n",
              "      <td>0.065789</td>\n",
              "      <td>0.050651</td>\n",
              "      <td>0.054054</td>\n",
              "      <td>0.028986</td>\n",
              "      <td>0.014388</td>\n",
              "      <td>0.040698</td>\n",
              "      <td>0.029661</td>\n",
              "      <td>0.010417</td>\n",
              "      <td>0.026726</td>\n",
              "      <td>0.020305</td>\n",
              "      <td>0.015385</td>\n",
              "      <td>0.013158</td>\n",
              "      <td>0.023517</td>\n",
              "      <td>0.036036</td>\n",
              "      <td>0.009662</td>\n",
              "      <td>0.007194</td>\n",
              "      <td>0.005814</td>\n",
              "      <td>0.012712</td>\n",
              "      <td>0.013021</td>\n",
              "      <td>0.013363</td>\n",
              "      <td>0.013959</td>\n",
              "      <td>0.010256</td>\n",
              "      <td>0.013158</td>\n",
              "      <td>0.013386</td>\n",
              "      <td>0.054054</td>\n",
              "      <td>0.000000</td>\n",
              "      <td>0.000000</td>\n",
              "      <td>0.023256</td>\n",
              "      <td>0.029661</td>\n",
              "      <td>0.020833</td>\n",
              "      <td>0.020045</td>\n",
              "      <td>0.013959</td>\n",
              "      <td>0.020513</td>\n",
              "      <td>0.006579</td>\n",
              "      <td>0.018090</td>\n",
              "      <td>0.045045</td>\n",
              "      <td>0.009662</td>\n",
              "      <td>0.021583</td>\n",
              "      <td>0.023256</td>\n",
              "      <td>0.012712</td>\n",
              "      <td>0.015625</td>\n",
              "      <td>0.011136</td>\n",
              "      <td>0.011421</td>\n",
              "      <td>0.010256</td>\n",
              "      <td>0.013158</td>\n",
              "      <td>0.014834</td>\n",
              "      <td>0.063063</td>\n",
              "      <td>0.019324</td>\n",
              "      <td>0.007194</td>\n",
              "      <td>0.011628</td>\n",
              "      <td>0.016949</td>\n",
              "      <td>0.018229</td>\n",
              "      <td>0.006682</td>\n",
              "      <td>0.020305</td>\n",
              "      <td>0.010256</td>\n",
              "      <td>0.013158</td>\n",
              "      <td>0.017366</td>\n",
              "    </tr>\n",
              "  </tbody>\n",
              "</table>\n",
              "</div>"
            ],
            "text/plain": [
              "   var1(t-5)  var2(t-5)  var3(t-5)  ...      var9     var10     var11\n",
              "5   0.018018   0.004831   0.007194  ...  0.015385  0.013158  0.023517\n",
              "6   0.054054   0.038647   0.014388  ...  0.010256  0.013158  0.013386\n",
              "7   0.045045   0.033816   0.014388  ...  0.020513  0.006579  0.018090\n",
              "8   0.036036   0.009662   0.035971  ...  0.010256  0.013158  0.014834\n",
              "9   0.045045   0.024155   0.057554  ...  0.010256  0.013158  0.017366\n",
              "\n",
              "[5 rows x 66 columns]"
            ]
          },
          "metadata": {
            "tags": []
          },
          "execution_count": 38
        }
      ]
    },
    {
      "cell_type": "code",
      "metadata": {
        "id": "4XPLUo9hOSDE",
        "colab": {
          "base_uri": "https://localhost:8080/"
        },
        "outputId": "05384035-0265-4870-8d23-d831c7ced856"
      },
      "source": [
        "lag_5.columns"
      ],
      "execution_count": 39,
      "outputs": [
        {
          "output_type": "execute_result",
          "data": {
            "text/plain": [
              "Index(['var1(t-5)', 'var2(t-5)', 'var3(t-5)', 'var4(t-5)', 'var5(t-5)',\n",
              "       'var6(t-5)', 'var7(t-5)', 'var8(t-5)', 'var9(t-5)', 'var10(t-5)',\n",
              "       'var11(t-5)', 'var1(t-4)', 'var2(t-4)', 'var3(t-4)', 'var4(t-4)',\n",
              "       'var5(t-4)', 'var6(t-4)', 'var7(t-4)', 'var8(t-4)', 'var9(t-4)',\n",
              "       'var10(t-4)', 'var11(t-4)', 'var1(t-3)', 'var2(t-3)', 'var3(t-3)',\n",
              "       'var4(t-3)', 'var5(t-3)', 'var6(t-3)', 'var7(t-3)', 'var8(t-3)',\n",
              "       'var9(t-3)', 'var10(t-3)', 'var11(t-3)', 'var1(t-2)', 'var2(t-2)',\n",
              "       'var3(t-2)', 'var4(t-2)', 'var5(t-2)', 'var6(t-2)', 'var7(t-2)',\n",
              "       'var8(t-2)', 'var9(t-2)', 'var10(t-2)', 'var11(t-2)', 'var1(t-1)',\n",
              "       'var2(t-1)', 'var3(t-1)', 'var4(t-1)', 'var5(t-1)', 'var6(t-1)',\n",
              "       'var7(t-1)', 'var8(t-1)', 'var9(t-1)', 'var10(t-1)', 'var11(t-1)',\n",
              "       'var1', 'var2', 'var3', 'var4', 'var5', 'var6', 'var7', 'var8', 'var9',\n",
              "       'var10', 'var11'],\n",
              "      dtype='object')"
            ]
          },
          "metadata": {
            "tags": []
          },
          "execution_count": 39
        }
      ]
    },
    {
      "cell_type": "code",
      "metadata": {
        "id": "8gq9Ml9hOSDE",
        "colab": {
          "base_uri": "https://localhost:8080/"
        },
        "outputId": "bedf7850-a5e5-464e-da72-cdda5dc9d6c7"
      },
      "source": [
        "lag_5.drop(lag_5.columns[[55, 56, 57, 58, 59, 60, 61, 62, 63, 64]], axis = 1, inplace = True)\n",
        "lag_5.columns"
      ],
      "execution_count": 40,
      "outputs": [
        {
          "output_type": "execute_result",
          "data": {
            "text/plain": [
              "Index(['var1(t-5)', 'var2(t-5)', 'var3(t-5)', 'var4(t-5)', 'var5(t-5)',\n",
              "       'var6(t-5)', 'var7(t-5)', 'var8(t-5)', 'var9(t-5)', 'var10(t-5)',\n",
              "       'var11(t-5)', 'var1(t-4)', 'var2(t-4)', 'var3(t-4)', 'var4(t-4)',\n",
              "       'var5(t-4)', 'var6(t-4)', 'var7(t-4)', 'var8(t-4)', 'var9(t-4)',\n",
              "       'var10(t-4)', 'var11(t-4)', 'var1(t-3)', 'var2(t-3)', 'var3(t-3)',\n",
              "       'var4(t-3)', 'var5(t-3)', 'var6(t-3)', 'var7(t-3)', 'var8(t-3)',\n",
              "       'var9(t-3)', 'var10(t-3)', 'var11(t-3)', 'var1(t-2)', 'var2(t-2)',\n",
              "       'var3(t-2)', 'var4(t-2)', 'var5(t-2)', 'var6(t-2)', 'var7(t-2)',\n",
              "       'var8(t-2)', 'var9(t-2)', 'var10(t-2)', 'var11(t-2)', 'var1(t-1)',\n",
              "       'var2(t-1)', 'var3(t-1)', 'var4(t-1)', 'var5(t-1)', 'var6(t-1)',\n",
              "       'var7(t-1)', 'var8(t-1)', 'var9(t-1)', 'var10(t-1)', 'var11(t-1)',\n",
              "       'var11'],\n",
              "      dtype='object')"
            ]
          },
          "metadata": {
            "tags": []
          },
          "execution_count": 40
        }
      ]
    },
    {
      "cell_type": "code",
      "metadata": {
        "id": "XtL1czm5OSDE",
        "colab": {
          "base_uri": "https://localhost:8080/"
        },
        "outputId": "ad59473b-ab3c-4ab3-ee5e-848b47f055b0"
      },
      "source": [
        "len(lag_5.columns)"
      ],
      "execution_count": 41,
      "outputs": [
        {
          "output_type": "execute_result",
          "data": {
            "text/plain": [
              "56"
            ]
          },
          "metadata": {
            "tags": []
          },
          "execution_count": 41
        }
      ]
    },
    {
      "cell_type": "code",
      "metadata": {
        "id": "WaKQ02L1OSDE"
      },
      "source": [
        "X_5 = lag_5[lag_5.columns[:55]].values\n",
        "y_5 = lag_5['var11'].values"
      ],
      "execution_count": 42,
      "outputs": []
    },
    {
      "cell_type": "code",
      "metadata": {
        "id": "8y7MYerLOSDE"
      },
      "source": [
        "X5_train, X5_test, y5_train, y5_test = train_test_split(X_5, y_5, test_size = 0.3, random_state = 42)"
      ],
      "execution_count": 43,
      "outputs": []
    },
    {
      "cell_type": "code",
      "metadata": {
        "id": "3LbeHIYuOSDF",
        "colab": {
          "base_uri": "https://localhost:8080/"
        },
        "outputId": "b6765381-a9f0-455f-8c10-4f5c516f4000"
      },
      "source": [
        "print(\"X5_train: \",X5_train.shape)\n",
        "print(\"X5_test: \", X5_test.shape)\n",
        "print(\"Y5_train: \", y5_train.shape)\n",
        "print(\"y5_test: \", y5_test.shape)"
      ],
      "execution_count": 44,
      "outputs": [
        {
          "output_type": "stream",
          "text": [
            "X5_train:  (724, 55)\n",
            "X5_test:  (311, 55)\n",
            "Y5_train:  (724,)\n",
            "y5_test:  (311,)\n"
          ],
          "name": "stdout"
        }
      ]
    },
    {
      "cell_type": "code",
      "metadata": {
        "colab": {
          "base_uri": "https://localhost:8080/"
        },
        "id": "jC7QVHe-CoBq",
        "outputId": "45dae74c-fe04-4b91-d7b9-ab0650c2d598"
      },
      "source": [
        "X5_train = X5_train.reshape((X5_train.shape[0], 5, 11))\r\n",
        "X5_test = X5_test.reshape((X5_test.shape[0], 5, 11))\r\n",
        "print(X5_train.shape)\r\n",
        "print(X5_test.shape)"
      ],
      "execution_count": 45,
      "outputs": [
        {
          "output_type": "stream",
          "text": [
            "(724, 5, 11)\n",
            "(311, 5, 11)\n"
          ],
          "name": "stdout"
        }
      ]
    },
    {
      "cell_type": "code",
      "metadata": {
        "id": "hUP6pOyTOSDF",
        "colab": {
          "base_uri": "https://localhost:8080/"
        },
        "outputId": "919da989-15ed-4cfc-e9ed-8fd97eb9146c"
      },
      "source": [
        "#same model from univariate experiment\n",
        "now = datetime.datetime.now()\n",
        "model_5 = Sequential()\n",
        "model_5.add(LSTM(50, input_shape = (X5_train.shape[1], X5_train.shape[2])))\n",
        "model_5.add(Dense(50, activation = 'tanh'))\n",
        "model_5.add(Dropout(0.3))\n",
        "model_5.add(Dense(35, activation = 'tanh'))\n",
        "model_5.add(Dropout(0.3))\n",
        "model_5.add(Dense(20, activation = 'tanh'))\n",
        "model_5.add(Dropout(0.3))\n",
        "model_5.add(Dense(1))\n",
        "model_5.compile(loss = 'mse', optimizer = 'adam', metrics = ['mse'])\n",
        "\n",
        "history_5 = model_5.fit(X5_train, y5_train, epochs = 10, batch_size = 20, validation_data = (X5_test, y5_test),\n",
        "                        verbose = True, shuffle = False)\n",
        "later = datetime.datetime.now()\n",
        "elapsed = later - now\n",
        "print('Time elapsed: ', elapsed)"
      ],
      "execution_count": 46,
      "outputs": [
        {
          "output_type": "stream",
          "text": [
            "Epoch 1/10\n",
            "37/37 [==============================] - 4s 30ms/step - loss: 0.0079 - mse: 0.0079 - val_loss: 0.0056 - val_mse: 0.0056\n",
            "Epoch 2/10\n",
            "37/37 [==============================] - 0s 6ms/step - loss: 0.0066 - mse: 0.0066 - val_loss: 0.0055 - val_mse: 0.0055\n",
            "Epoch 3/10\n",
            "37/37 [==============================] - 0s 6ms/step - loss: 0.0048 - mse: 0.0048 - val_loss: 0.0054 - val_mse: 0.0054\n",
            "Epoch 4/10\n",
            "37/37 [==============================] - 0s 6ms/step - loss: 0.0049 - mse: 0.0049 - val_loss: 0.0058 - val_mse: 0.0058\n",
            "Epoch 5/10\n",
            "37/37 [==============================] - 0s 6ms/step - loss: 0.0065 - mse: 0.0065 - val_loss: 0.0052 - val_mse: 0.0052\n",
            "Epoch 6/10\n",
            "37/37 [==============================] - 0s 6ms/step - loss: 0.0044 - mse: 0.0044 - val_loss: 0.0057 - val_mse: 0.0057\n",
            "Epoch 7/10\n",
            "37/37 [==============================] - 0s 6ms/step - loss: 0.0051 - mse: 0.0051 - val_loss: 0.0055 - val_mse: 0.0055\n",
            "Epoch 8/10\n",
            "37/37 [==============================] - 0s 6ms/step - loss: 0.0053 - mse: 0.0053 - val_loss: 0.0057 - val_mse: 0.0057\n",
            "Epoch 9/10\n",
            "37/37 [==============================] - 0s 6ms/step - loss: 0.0045 - mse: 0.0045 - val_loss: 0.0057 - val_mse: 0.0057\n",
            "Epoch 10/10\n",
            "37/37 [==============================] - 0s 6ms/step - loss: 0.0055 - mse: 0.0055 - val_loss: 0.0054 - val_mse: 0.0054\n",
            "Time elapsed:  0:00:06.480041\n"
          ],
          "name": "stdout"
        }
      ]
    },
    {
      "cell_type": "code",
      "metadata": {
        "id": "k9bfoBIvOSDF"
      },
      "source": [
        "#examine and analyze these results- let's see what's up!"
      ],
      "execution_count": 47,
      "outputs": []
    },
    {
      "cell_type": "code",
      "metadata": {
        "colab": {
          "base_uri": "https://localhost:8080/",
          "height": 265
        },
        "id": "tj_U2HrFv7lV",
        "outputId": "b0fd3670-3f77-4a88-9324-700e6f6f81f5"
      },
      "source": [
        "plt.plot(history_5.history['loss'], label = 'train')\r\n",
        "plt.plot(history_5.history['val_loss'], label = 'test')\r\n",
        "plt.legend()\r\n",
        "plt.show()"
      ],
      "execution_count": 48,
      "outputs": [
        {
          "output_type": "display_data",
          "data": {
            "image/png": "[encoded data removed]",
            "text/plain": [
              "<Figure size 432x288 with 1 Axes>"
            ]
          },
          "metadata": {
            "tags": [],
            "needs_background": "light"
          }
        }
      ]
    },
    {
      "cell_type": "code",
      "metadata": {
        "colab": {
          "base_uri": "https://localhost:8080/"
        },
        "id": "S2Eoalw6wAtO",
        "outputId": "e18b891b-a930-4dad-fc70-a4828fc5035c"
      },
      "source": [
        "#making predictions \r\n",
        "yhat = model_5.predict(X5_test)\r\n",
        "X5_test = X5_test.reshape((X5_test.shape[0], 55))\r\n",
        "inv_yhat = np.concatenate((yhat, X5_test[:, -10:]), axis = 1)\r\n",
        "inv_yhat = scaler.inverse_transform(inv_yhat)\r\n",
        "inv_yhat = inv_yhat[:, 0]\r\n",
        "\r\n",
        "y5_test = y5_test.reshape((len(y5_test), 1))\r\n",
        "inv_y = np.concatenate((y5_test, X5_test[:, -10:]), axis = 1)\r\n",
        "inv_y = scaler.inverse_transform(inv_y)\r\n",
        "inv_y = inv_y[:, 0]\r\n",
        "\r\n",
        "mse = mean_squared_error(inv_y, inv_yhat)\r\n",
        "print('MSE of prediction: ', np.round(mse, 2))"
      ],
      "execution_count": 49,
      "outputs": [
        {
          "output_type": "stream",
          "text": [
            "MSE of prediction:  66.21\n"
          ],
          "name": "stdout"
        }
      ]
    },
    {
      "cell_type": "code",
      "metadata": {
        "id": "DBaNN32iySf8"
      },
      "source": [
        "#daaaaaaang"
      ],
      "execution_count": 50,
      "outputs": []
    },
    {
      "cell_type": "markdown",
      "metadata": {
        "id": "9sFGPLmAOitK"
      },
      "source": [
        "Just for fun- let's see what happens when we use the recursive function"
      ]
    },
    {
      "cell_type": "code",
      "metadata": {
        "id": "7QTv8klLwoJk"
      },
      "source": [
        "#Create output df\r\n",
        "output = pd.DataFrame({'Valid Date': pd.date_range(start = '2017-12-22', end = '2018-12-20', freq = 'B')})\r\n",
        "output = output[(output['Valid Date'] != '2017-12-25') &\r\n",
        "                (output['Valid Date'] != '2018-01-01') &\r\n",
        "                (output['Valid Date'] != '2018-01-15') &\r\n",
        "                (output['Valid Date'] != '2018-02-19') &\r\n",
        "                (output['Valid Date'] != '2018-05-28') &\r\n",
        "                (output['Valid Date'] != '2018-07-04') &\r\n",
        "                (output['Valid Date'] != '2018-09-03') &\r\n",
        "                (output['Valid Date'] != '2018-11-12') &\r\n",
        "                (output['Valid Date'] != '2018-11-22')]"
      ],
      "execution_count": 51,
      "outputs": []
    },
    {
      "cell_type": "code",
      "metadata": {
        "id": "rWyRdFkyOrMD"
      },
      "source": [
        "#attempt using predict_values function from univariate model\r\n",
        "def predict_values(training_data, output):\r\n",
        "  ''' A function that takes in training data and uses a tuned LSTM neural \r\n",
        "  network to recursively predict data for a given number of steps.\r\n",
        "\r\n",
        "  Inputs: training_data: The last 5 points of the models training set\r\n",
        "    output: user provided dataframe formatted with a desired time period to be predicted\r\n",
        "    as a pd.TimeStamp \r\n",
        "  Returns: The output parameter with a scaled prediction and unscaled prediction column \r\n",
        "  appended'''\r\n",
        "\r\n",
        "  predictions = []\r\n",
        "  predictions.append(training_data)\r\n",
        "  x_array = np.array(predictions)\r\n",
        "  #ammend function to intake number of input variables\r\n",
        "  x_array = x_array.reshape(1, 5, 1)\r\n",
        "#Generate predictions\r\n",
        "  model = model_5\r\n",
        "  for n in range(len(output)):\r\n",
        "    pred = model.predict(x_array)\r\n",
        "    x_array = np.append(x_array, pred)\r\n",
        "    predictions.append(pred)\r\n",
        "\r\n",
        "    x_array = x_array[-5:].reshape(1, 5, 1)\r\n",
        "\r\n",
        "#Add predictions to output df, unlist the values\r\n",
        "  predictions = predictions[1:]\r\n",
        "  pred_list = []\r\n",
        "  for n in range(len(output)):\r\n",
        "    pred_list.append(predictions[n].tolist())\r\n",
        "\r\n",
        "  unlisted = []\r\n",
        "  for n in range(len(pred_list)):\r\n",
        "    var = pred_list[n]\r\n",
        "    var = var[0]\r\n",
        "    unlisted.append(var)\r\n",
        "\r\n",
        "  output['Scaled Prediction'] = unlisted\r\n",
        "\r\n",
        "#Unscale predicted value\r\n",
        "  unlisted_array = np.array(unlisted)\r\n",
        "  unlisted_array = unlisted_array.reshape(-1, 1)\r\n",
        "  output['Predicted Value'] = scaler.inverse_transform(unlisted_array)\r\n",
        "\r\n",
        "  return output"
      ],
      "execution_count": 52,
      "outputs": []
    },
    {
      "cell_type": "code",
      "metadata": {
        "colab": {
          "base_uri": "https://localhost:8080/",
          "height": 287
        },
        "id": "wEHBPeHIO1sZ",
        "outputId": "dd53c89c-bd50-44a8-ac76-d06e96a92b36"
      },
      "source": [
        "year_one = predict_values(X5_train[-5:], output)"
      ],
      "execution_count": 53,
      "outputs": [
        {
          "output_type": "error",
          "ename": "ValueError",
          "evalue": "ignored",
          "traceback": [
            "\u001b[0;31m---------------------------------------------------------------------------\u001b[0m",
            "\u001b[0;31mValueError\u001b[0m                                Traceback (most recent call last)",
            "\u001b[0;32m<ipython-input-53-bad138c4c5a4>\u001b[0m in \u001b[0;36m<module>\u001b[0;34m()\u001b[0m\n\u001b[0;32m----> 1\u001b[0;31m \u001b[0myear_one\u001b[0m \u001b[0;34m=\u001b[0m \u001b[0mpredict_values\u001b[0m\u001b[0;34m(\u001b[0m\u001b[0mX5_train\u001b[0m\u001b[0;34m[\u001b[0m\u001b[0;34m-\u001b[0m\u001b[0;36m5\u001b[0m\u001b[0;34m:\u001b[0m\u001b[0;34m]\u001b[0m\u001b[0;34m,\u001b[0m \u001b[0moutput\u001b[0m\u001b[0;34m)\u001b[0m\u001b[0;34m\u001b[0m\u001b[0;34m\u001b[0m\u001b[0m\n\u001b[0m",
            "\u001b[0;32m<ipython-input-52-2fd6ee7f5718>\u001b[0m in \u001b[0;36mpredict_values\u001b[0;34m(training_data, output)\u001b[0m\n\u001b[1;32m     14\u001b[0m   \u001b[0mx_array\u001b[0m \u001b[0;34m=\u001b[0m \u001b[0mnp\u001b[0m\u001b[0;34m.\u001b[0m\u001b[0marray\u001b[0m\u001b[0;34m(\u001b[0m\u001b[0mpredictions\u001b[0m\u001b[0;34m)\u001b[0m\u001b[0;34m\u001b[0m\u001b[0;34m\u001b[0m\u001b[0m\n\u001b[1;32m     15\u001b[0m   \u001b[0;31m#ammend function to intake number of input variables\u001b[0m\u001b[0;34m\u001b[0m\u001b[0;34m\u001b[0m\u001b[0;34m\u001b[0m\u001b[0m\n\u001b[0;32m---> 16\u001b[0;31m   \u001b[0mx_array\u001b[0m \u001b[0;34m=\u001b[0m \u001b[0mx_array\u001b[0m\u001b[0;34m.\u001b[0m\u001b[0mreshape\u001b[0m\u001b[0;34m(\u001b[0m\u001b[0;36m1\u001b[0m\u001b[0;34m,\u001b[0m \u001b[0;36m5\u001b[0m\u001b[0;34m,\u001b[0m \u001b[0;36m1\u001b[0m\u001b[0;34m)\u001b[0m\u001b[0;34m\u001b[0m\u001b[0;34m\u001b[0m\u001b[0m\n\u001b[0m\u001b[1;32m     17\u001b[0m \u001b[0;31m#Generate predictions\u001b[0m\u001b[0;34m\u001b[0m\u001b[0;34m\u001b[0m\u001b[0;34m\u001b[0m\u001b[0m\n\u001b[1;32m     18\u001b[0m   \u001b[0mmodel\u001b[0m \u001b[0;34m=\u001b[0m \u001b[0mmodel_5\u001b[0m\u001b[0;34m\u001b[0m\u001b[0;34m\u001b[0m\u001b[0m\n",
            "\u001b[0;31mValueError\u001b[0m: cannot reshape array of size 275 into shape (1,5,1)"
          ]
        }
      ]
    },
    {
      "cell_type": "code",
      "metadata": {
        "id": "yb_g5fZdRrwR"
      },
      "source": [
        "#so the issue is that in a univariate model, i could just take the last 5 data points\r\n",
        "#each point was a unique entry\r\n",
        "#now, the last 5 points would correlate all to the same variable\r\n",
        "#so i need to figure out how to grab the last point from var1, var2 etc"
      ],
      "execution_count": null,
      "outputs": []
    },
    {
      "cell_type": "code",
      "metadata": {
        "id": "aSVxfVOhmzIO"
      },
      "source": [
        "#I think I am losing sight of my mission here.\r\n",
        "#Use last 5 prediction values\r\n",
        "#oh. my. god. I just need to use the same data from the last experiment.\r\n",
        "#just amend it to 10 features, but not 5 lags.  "
      ],
      "execution_count": null,
      "outputs": []
    },
    {
      "cell_type": "code",
      "metadata": {
        "id": "i8mlqeFnrWZB",
        "colab": {
          "base_uri": "https://localhost:8080/"
        },
        "outputId": "e77b8dea-7736-4fa9-b5de-f624237db56c"
      },
      "source": [
        "X_train.shape"
      ],
      "execution_count": 54,
      "outputs": [
        {
          "output_type": "execute_result",
          "data": {
            "text/plain": [
              "(727, 1, 10)"
            ]
          },
          "metadata": {
            "tags": []
          },
          "execution_count": 54
        }
      ]
    },
    {
      "cell_type": "code",
      "metadata": {
        "id": "BX_gFSsgsDZS"
      },
      "source": [
        "X_train = X_train.reshape(727,10)"
      ],
      "execution_count": 55,
      "outputs": []
    },
    {
      "cell_type": "code",
      "metadata": {
        "id": "VCGjVByqr3vl",
        "colab": {
          "base_uri": "https://localhost:8080/",
          "height": 202
        },
        "outputId": "227d75ee-860f-4cd6-a264-8658b7740755"
      },
      "source": [
        "new_viz = pd.DataFrame(X_train[:5])\r\n",
        "new_viz"
      ],
      "execution_count": 56,
      "outputs": [
        {
          "output_type": "execute_result",
          "data": {
            "text/html": [
              "<div>\n",
              "<style scoped>\n",
              "    .dataframe tbody tr th:only-of-type {\n",
              "        vertical-align: middle;\n",
              "    }\n",
              "\n",
              "    .dataframe tbody tr th {\n",
              "        vertical-align: top;\n",
              "    }\n",
              "\n",
              "    .dataframe thead th {\n",
              "        text-align: right;\n",
              "    }\n",
              "</style>\n",
              "<table border=\"1\" class=\"dataframe\">\n",
              "  <thead>\n",
              "    <tr style=\"text-align: right;\">\n",
              "      <th></th>\n",
              "      <th>0</th>\n",
              "      <th>1</th>\n",
              "      <th>2</th>\n",
              "      <th>3</th>\n",
              "      <th>4</th>\n",
              "      <th>5</th>\n",
              "      <th>6</th>\n",
              "      <th>7</th>\n",
              "      <th>8</th>\n",
              "      <th>9</th>\n",
              "    </tr>\n",
              "  </thead>\n",
              "  <tbody>\n",
              "    <tr>\n",
              "      <th>0</th>\n",
              "      <td>0.054054</td>\n",
              "      <td>0.014493</td>\n",
              "      <td>0.050360</td>\n",
              "      <td>0.011628</td>\n",
              "      <td>0.008475</td>\n",
              "      <td>0.007812</td>\n",
              "      <td>0.008909</td>\n",
              "      <td>0.013959</td>\n",
              "      <td>0.020513</td>\n",
              "      <td>0.000000</td>\n",
              "    </tr>\n",
              "    <tr>\n",
              "      <th>1</th>\n",
              "      <td>0.000000</td>\n",
              "      <td>0.000000</td>\n",
              "      <td>0.000000</td>\n",
              "      <td>0.000000</td>\n",
              "      <td>0.000000</td>\n",
              "      <td>0.000000</td>\n",
              "      <td>0.000000</td>\n",
              "      <td>0.000000</td>\n",
              "      <td>0.000000</td>\n",
              "      <td>0.000000</td>\n",
              "    </tr>\n",
              "    <tr>\n",
              "      <th>2</th>\n",
              "      <td>0.009009</td>\n",
              "      <td>0.009662</td>\n",
              "      <td>0.000000</td>\n",
              "      <td>0.000000</td>\n",
              "      <td>0.000000</td>\n",
              "      <td>0.000000</td>\n",
              "      <td>0.004454</td>\n",
              "      <td>0.001269</td>\n",
              "      <td>0.000000</td>\n",
              "      <td>0.000000</td>\n",
              "    </tr>\n",
              "    <tr>\n",
              "      <th>3</th>\n",
              "      <td>0.072072</td>\n",
              "      <td>0.033816</td>\n",
              "      <td>0.007194</td>\n",
              "      <td>0.040698</td>\n",
              "      <td>0.033898</td>\n",
              "      <td>0.031250</td>\n",
              "      <td>0.044543</td>\n",
              "      <td>0.036802</td>\n",
              "      <td>0.025641</td>\n",
              "      <td>0.006579</td>\n",
              "    </tr>\n",
              "    <tr>\n",
              "      <th>4</th>\n",
              "      <td>0.000000</td>\n",
              "      <td>0.000000</td>\n",
              "      <td>0.000000</td>\n",
              "      <td>0.000000</td>\n",
              "      <td>0.000000</td>\n",
              "      <td>0.000000</td>\n",
              "      <td>0.000000</td>\n",
              "      <td>0.000000</td>\n",
              "      <td>0.000000</td>\n",
              "      <td>0.000000</td>\n",
              "    </tr>\n",
              "  </tbody>\n",
              "</table>\n",
              "</div>"
            ],
            "text/plain": [
              "          0         1         2  ...         7         8         9\n",
              "0  0.054054  0.014493  0.050360  ...  0.013959  0.020513  0.000000\n",
              "1  0.000000  0.000000  0.000000  ...  0.000000  0.000000  0.000000\n",
              "2  0.009009  0.009662  0.000000  ...  0.001269  0.000000  0.000000\n",
              "3  0.072072  0.033816  0.007194  ...  0.036802  0.025641  0.006579\n",
              "4  0.000000  0.000000  0.000000  ...  0.000000  0.000000  0.000000\n",
              "\n",
              "[5 rows x 10 columns]"
            ]
          },
          "metadata": {
            "tags": []
          },
          "execution_count": 56
        }
      ]
    },
    {
      "cell_type": "code",
      "metadata": {
        "colab": {
          "base_uri": "https://localhost:8080/",
          "height": 202
        },
        "id": "0AwoPmNg5PhS",
        "outputId": "784b125d-9f2d-4c89-c5c1-1e9e6c8d9c3d"
      },
      "source": [
        "lstm_df.head()"
      ],
      "execution_count": 57,
      "outputs": [
        {
          "output_type": "execute_result",
          "data": {
            "text/html": [
              "<div>\n",
              "<style scoped>\n",
              "    .dataframe tbody tr th:only-of-type {\n",
              "        vertical-align: middle;\n",
              "    }\n",
              "\n",
              "    .dataframe tbody tr th {\n",
              "        vertical-align: top;\n",
              "    }\n",
              "\n",
              "    .dataframe thead th {\n",
              "        text-align: right;\n",
              "    }\n",
              "</style>\n",
              "<table border=\"1\" class=\"dataframe\">\n",
              "  <thead>\n",
              "    <tr style=\"text-align: right;\">\n",
              "      <th></th>\n",
              "      <th>var1(t-1)</th>\n",
              "      <th>var2(t-1)</th>\n",
              "      <th>var3(t-1)</th>\n",
              "      <th>var4(t-1)</th>\n",
              "      <th>var5(t-1)</th>\n",
              "      <th>var6(t-1)</th>\n",
              "      <th>var7(t-1)</th>\n",
              "      <th>var8(t-1)</th>\n",
              "      <th>var9(t-1)</th>\n",
              "      <th>var10(t-1)</th>\n",
              "      <th>var11(t-1)</th>\n",
              "      <th>var11</th>\n",
              "    </tr>\n",
              "  </thead>\n",
              "  <tbody>\n",
              "    <tr>\n",
              "      <th>1</th>\n",
              "      <td>0.018018</td>\n",
              "      <td>0.004831</td>\n",
              "      <td>0.007194</td>\n",
              "      <td>0.023256</td>\n",
              "      <td>0.008475</td>\n",
              "      <td>0.007812</td>\n",
              "      <td>0.020045</td>\n",
              "      <td>0.012690</td>\n",
              "      <td>0.005128</td>\n",
              "      <td>0.019737</td>\n",
              "      <td>0.013025</td>\n",
              "      <td>0.036541</td>\n",
              "    </tr>\n",
              "    <tr>\n",
              "      <th>2</th>\n",
              "      <td>0.054054</td>\n",
              "      <td>0.038647</td>\n",
              "      <td>0.014388</td>\n",
              "      <td>0.017442</td>\n",
              "      <td>0.033898</td>\n",
              "      <td>0.044271</td>\n",
              "      <td>0.026726</td>\n",
              "      <td>0.050761</td>\n",
              "      <td>0.010256</td>\n",
              "      <td>0.019737</td>\n",
              "      <td>0.036541</td>\n",
              "      <td>0.057887</td>\n",
              "    </tr>\n",
              "    <tr>\n",
              "      <th>3</th>\n",
              "      <td>0.045045</td>\n",
              "      <td>0.033816</td>\n",
              "      <td>0.014388</td>\n",
              "      <td>0.040698</td>\n",
              "      <td>0.072034</td>\n",
              "      <td>0.044271</td>\n",
              "      <td>0.064588</td>\n",
              "      <td>0.064721</td>\n",
              "      <td>0.061538</td>\n",
              "      <td>0.085526</td>\n",
              "      <td>0.057887</td>\n",
              "      <td>0.025687</td>\n",
              "    </tr>\n",
              "    <tr>\n",
              "      <th>4</th>\n",
              "      <td>0.036036</td>\n",
              "      <td>0.009662</td>\n",
              "      <td>0.035971</td>\n",
              "      <td>0.011628</td>\n",
              "      <td>0.038136</td>\n",
              "      <td>0.026042</td>\n",
              "      <td>0.022272</td>\n",
              "      <td>0.026650</td>\n",
              "      <td>0.025641</td>\n",
              "      <td>0.019737</td>\n",
              "      <td>0.025687</td>\n",
              "      <td>0.050651</td>\n",
              "    </tr>\n",
              "    <tr>\n",
              "      <th>5</th>\n",
              "      <td>0.045045</td>\n",
              "      <td>0.024155</td>\n",
              "      <td>0.057554</td>\n",
              "      <td>0.063953</td>\n",
              "      <td>0.038136</td>\n",
              "      <td>0.036458</td>\n",
              "      <td>0.051225</td>\n",
              "      <td>0.059645</td>\n",
              "      <td>0.041026</td>\n",
              "      <td>0.065789</td>\n",
              "      <td>0.050651</td>\n",
              "      <td>0.023517</td>\n",
              "    </tr>\n",
              "  </tbody>\n",
              "</table>\n",
              "</div>"
            ],
            "text/plain": [
              "   var1(t-1)  var2(t-1)  var3(t-1)  ...  var10(t-1)  var11(t-1)     var11\n",
              "1   0.018018   0.004831   0.007194  ...    0.019737    0.013025  0.036541\n",
              "2   0.054054   0.038647   0.014388  ...    0.019737    0.036541  0.057887\n",
              "3   0.045045   0.033816   0.014388  ...    0.085526    0.057887  0.025687\n",
              "4   0.036036   0.009662   0.035971  ...    0.019737    0.025687  0.050651\n",
              "5   0.045045   0.024155   0.057554  ...    0.065789    0.050651  0.023517\n",
              "\n",
              "[5 rows x 12 columns]"
            ]
          },
          "metadata": {
            "tags": []
          },
          "execution_count": 57
        }
      ]
    },
    {
      "cell_type": "code",
      "metadata": {
        "id": "R_nO6lrW6cAb"
      },
      "source": [
        "#in theory, y is var11. columns 0-9 are the 10 values for each variable (dog name)\r\n",
        "#let's take a look at what the train_test_split looks like as a dataframe"
      ],
      "execution_count": 58,
      "outputs": []
    },
    {
      "cell_type": "code",
      "metadata": {
        "colab": {
          "base_uri": "https://localhost:8080/",
          "height": 202
        },
        "id": "EAx0fCyl7WNa",
        "outputId": "2f41417d-e271-4b69-fa80-f86ecfc132ae"
      },
      "source": [
        "train_df = pd.DataFrame(X_train)\r\n",
        "train_df.head()"
      ],
      "execution_count": 59,
      "outputs": [
        {
          "output_type": "execute_result",
          "data": {
            "text/html": [
              "<div>\n",
              "<style scoped>\n",
              "    .dataframe tbody tr th:only-of-type {\n",
              "        vertical-align: middle;\n",
              "    }\n",
              "\n",
              "    .dataframe tbody tr th {\n",
              "        vertical-align: top;\n",
              "    }\n",
              "\n",
              "    .dataframe thead th {\n",
              "        text-align: right;\n",
              "    }\n",
              "</style>\n",
              "<table border=\"1\" class=\"dataframe\">\n",
              "  <thead>\n",
              "    <tr style=\"text-align: right;\">\n",
              "      <th></th>\n",
              "      <th>0</th>\n",
              "      <th>1</th>\n",
              "      <th>2</th>\n",
              "      <th>3</th>\n",
              "      <th>4</th>\n",
              "      <th>5</th>\n",
              "      <th>6</th>\n",
              "      <th>7</th>\n",
              "      <th>8</th>\n",
              "      <th>9</th>\n",
              "    </tr>\n",
              "  </thead>\n",
              "  <tbody>\n",
              "    <tr>\n",
              "      <th>0</th>\n",
              "      <td>0.054054</td>\n",
              "      <td>0.014493</td>\n",
              "      <td>0.050360</td>\n",
              "      <td>0.011628</td>\n",
              "      <td>0.008475</td>\n",
              "      <td>0.007812</td>\n",
              "      <td>0.008909</td>\n",
              "      <td>0.013959</td>\n",
              "      <td>0.020513</td>\n",
              "      <td>0.000000</td>\n",
              "    </tr>\n",
              "    <tr>\n",
              "      <th>1</th>\n",
              "      <td>0.000000</td>\n",
              "      <td>0.000000</td>\n",
              "      <td>0.000000</td>\n",
              "      <td>0.000000</td>\n",
              "      <td>0.000000</td>\n",
              "      <td>0.000000</td>\n",
              "      <td>0.000000</td>\n",
              "      <td>0.000000</td>\n",
              "      <td>0.000000</td>\n",
              "      <td>0.000000</td>\n",
              "    </tr>\n",
              "    <tr>\n",
              "      <th>2</th>\n",
              "      <td>0.009009</td>\n",
              "      <td>0.009662</td>\n",
              "      <td>0.000000</td>\n",
              "      <td>0.000000</td>\n",
              "      <td>0.000000</td>\n",
              "      <td>0.000000</td>\n",
              "      <td>0.004454</td>\n",
              "      <td>0.001269</td>\n",
              "      <td>0.000000</td>\n",
              "      <td>0.000000</td>\n",
              "    </tr>\n",
              "    <tr>\n",
              "      <th>3</th>\n",
              "      <td>0.072072</td>\n",
              "      <td>0.033816</td>\n",
              "      <td>0.007194</td>\n",
              "      <td>0.040698</td>\n",
              "      <td>0.033898</td>\n",
              "      <td>0.031250</td>\n",
              "      <td>0.044543</td>\n",
              "      <td>0.036802</td>\n",
              "      <td>0.025641</td>\n",
              "      <td>0.006579</td>\n",
              "    </tr>\n",
              "    <tr>\n",
              "      <th>4</th>\n",
              "      <td>0.000000</td>\n",
              "      <td>0.000000</td>\n",
              "      <td>0.000000</td>\n",
              "      <td>0.000000</td>\n",
              "      <td>0.000000</td>\n",
              "      <td>0.000000</td>\n",
              "      <td>0.000000</td>\n",
              "      <td>0.000000</td>\n",
              "      <td>0.000000</td>\n",
              "      <td>0.000000</td>\n",
              "    </tr>\n",
              "  </tbody>\n",
              "</table>\n",
              "</div>"
            ],
            "text/plain": [
              "          0         1         2  ...         7         8         9\n",
              "0  0.054054  0.014493  0.050360  ...  0.013959  0.020513  0.000000\n",
              "1  0.000000  0.000000  0.000000  ...  0.000000  0.000000  0.000000\n",
              "2  0.009009  0.009662  0.000000  ...  0.001269  0.000000  0.000000\n",
              "3  0.072072  0.033816  0.007194  ...  0.036802  0.025641  0.006579\n",
              "4  0.000000  0.000000  0.000000  ...  0.000000  0.000000  0.000000\n",
              "\n",
              "[5 rows x 10 columns]"
            ]
          },
          "metadata": {
            "tags": []
          },
          "execution_count": 59
        }
      ]
    },
    {
      "cell_type": "code",
      "metadata": {
        "id": "OWUf5soq7dhm"
      },
      "source": [
        "#now we are getting somewhere. now i know how to call the data\r\n",
        "#I just need to adjust the function to take in multiple values\r\n",
        "#or conversely, decide which value i need\r\n",
        "#i think i really only need the last 5 values of the target\r\n",
        "#10 vars work together to produce the target"
      ],
      "execution_count": 60,
      "outputs": []
    },
    {
      "cell_type": "code",
      "metadata": {
        "id": "ZhAOmEa6BCqN"
      },
      "source": [
        "#it would appear that predict actually DOES want 11 inputs.\r\n",
        "#i need to figure out how to use them as predictors, but not append them to predictions"
      ],
      "execution_count": null,
      "outputs": []
    },
    {
      "cell_type": "code",
      "metadata": {
        "id": "Kzx9eIeoBPR8"
      },
      "source": [
        "#find a way to make a list of arrays:\r\n",
        "#each array contains the 10 variable data\r\n",
        "#use this to input into the model, then discard \r\n",
        "#after predictions are made "
      ],
      "execution_count": null,
      "outputs": []
    },
    {
      "cell_type": "code",
      "metadata": {
        "id": "e8NAPQR_q8ay"
      },
      "source": [
        " #X = 10 features\r\n",
        "#y = 1 target\r\n",
        "#i need to predict on the last 5 rows of train_df\r\n",
        "#without a target\r\n",
        "#I'm predicting the target"
      ],
      "execution_count": null,
      "outputs": []
    },
    {
      "cell_type": "code",
      "metadata": {
        "colab": {
          "base_uri": "https://localhost:8080/",
          "height": 202
        },
        "id": "uHzF5T1_O-qH",
        "outputId": "397bb3b1-193f-4e9b-9f25-af20c01b2505"
      },
      "source": [
        "train_df.head()"
      ],
      "execution_count": 73,
      "outputs": [
        {
          "output_type": "execute_result",
          "data": {
            "text/html": [
              "<div>\n",
              "<style scoped>\n",
              "    .dataframe tbody tr th:only-of-type {\n",
              "        vertical-align: middle;\n",
              "    }\n",
              "\n",
              "    .dataframe tbody tr th {\n",
              "        vertical-align: top;\n",
              "    }\n",
              "\n",
              "    .dataframe thead th {\n",
              "        text-align: right;\n",
              "    }\n",
              "</style>\n",
              "<table border=\"1\" class=\"dataframe\">\n",
              "  <thead>\n",
              "    <tr style=\"text-align: right;\">\n",
              "      <th></th>\n",
              "      <th>0</th>\n",
              "      <th>1</th>\n",
              "      <th>2</th>\n",
              "      <th>3</th>\n",
              "      <th>4</th>\n",
              "      <th>5</th>\n",
              "      <th>6</th>\n",
              "      <th>7</th>\n",
              "      <th>8</th>\n",
              "      <th>9</th>\n",
              "    </tr>\n",
              "  </thead>\n",
              "  <tbody>\n",
              "    <tr>\n",
              "      <th>0</th>\n",
              "      <td>0.054054</td>\n",
              "      <td>0.014493</td>\n",
              "      <td>0.050360</td>\n",
              "      <td>0.011628</td>\n",
              "      <td>0.008475</td>\n",
              "      <td>0.007812</td>\n",
              "      <td>0.008909</td>\n",
              "      <td>0.013959</td>\n",
              "      <td>0.020513</td>\n",
              "      <td>0.000000</td>\n",
              "    </tr>\n",
              "    <tr>\n",
              "      <th>1</th>\n",
              "      <td>0.000000</td>\n",
              "      <td>0.000000</td>\n",
              "      <td>0.000000</td>\n",
              "      <td>0.000000</td>\n",
              "      <td>0.000000</td>\n",
              "      <td>0.000000</td>\n",
              "      <td>0.000000</td>\n",
              "      <td>0.000000</td>\n",
              "      <td>0.000000</td>\n",
              "      <td>0.000000</td>\n",
              "    </tr>\n",
              "    <tr>\n",
              "      <th>2</th>\n",
              "      <td>0.009009</td>\n",
              "      <td>0.009662</td>\n",
              "      <td>0.000000</td>\n",
              "      <td>0.000000</td>\n",
              "      <td>0.000000</td>\n",
              "      <td>0.000000</td>\n",
              "      <td>0.004454</td>\n",
              "      <td>0.001269</td>\n",
              "      <td>0.000000</td>\n",
              "      <td>0.000000</td>\n",
              "    </tr>\n",
              "    <tr>\n",
              "      <th>3</th>\n",
              "      <td>0.072072</td>\n",
              "      <td>0.033816</td>\n",
              "      <td>0.007194</td>\n",
              "      <td>0.040698</td>\n",
              "      <td>0.033898</td>\n",
              "      <td>0.031250</td>\n",
              "      <td>0.044543</td>\n",
              "      <td>0.036802</td>\n",
              "      <td>0.025641</td>\n",
              "      <td>0.006579</td>\n",
              "    </tr>\n",
              "    <tr>\n",
              "      <th>4</th>\n",
              "      <td>0.000000</td>\n",
              "      <td>0.000000</td>\n",
              "      <td>0.000000</td>\n",
              "      <td>0.000000</td>\n",
              "      <td>0.000000</td>\n",
              "      <td>0.000000</td>\n",
              "      <td>0.000000</td>\n",
              "      <td>0.000000</td>\n",
              "      <td>0.000000</td>\n",
              "      <td>0.000000</td>\n",
              "    </tr>\n",
              "  </tbody>\n",
              "</table>\n",
              "</div>"
            ],
            "text/plain": [
              "          0         1         2  ...         7         8         9\n",
              "0  0.054054  0.014493  0.050360  ...  0.013959  0.020513  0.000000\n",
              "1  0.000000  0.000000  0.000000  ...  0.000000  0.000000  0.000000\n",
              "2  0.009009  0.009662  0.000000  ...  0.001269  0.000000  0.000000\n",
              "3  0.072072  0.033816  0.007194  ...  0.036802  0.025641  0.006579\n",
              "4  0.000000  0.000000  0.000000  ...  0.000000  0.000000  0.000000\n",
              "\n",
              "[5 rows x 10 columns]"
            ]
          },
          "metadata": {
            "tags": []
          },
          "execution_count": 73
        }
      ]
    },
    {
      "cell_type": "code",
      "metadata": {
        "colab": {
          "base_uri": "https://localhost:8080/",
          "height": 202
        },
        "id": "qJowRxMVPR-e",
        "outputId": "4c73da50-a240-47da-a417-ef8dcf65eb89"
      },
      "source": [
        "y_train_df = pd.DataFrame(y_train)\r\n",
        "train_df['Target'] = y_train_df\r\n",
        "train_df.head()"
      ],
      "execution_count": 80,
      "outputs": [
        {
          "output_type": "execute_result",
          "data": {
            "text/html": [
              "<div>\n",
              "<style scoped>\n",
              "    .dataframe tbody tr th:only-of-type {\n",
              "        vertical-align: middle;\n",
              "    }\n",
              "\n",
              "    .dataframe tbody tr th {\n",
              "        vertical-align: top;\n",
              "    }\n",
              "\n",
              "    .dataframe thead th {\n",
              "        text-align: right;\n",
              "    }\n",
              "</style>\n",
              "<table border=\"1\" class=\"dataframe\">\n",
              "  <thead>\n",
              "    <tr style=\"text-align: right;\">\n",
              "      <th></th>\n",
              "      <th>0</th>\n",
              "      <th>1</th>\n",
              "      <th>2</th>\n",
              "      <th>3</th>\n",
              "      <th>4</th>\n",
              "      <th>5</th>\n",
              "      <th>6</th>\n",
              "      <th>7</th>\n",
              "      <th>8</th>\n",
              "      <th>9</th>\n",
              "      <th>Target</th>\n",
              "    </tr>\n",
              "  </thead>\n",
              "  <tbody>\n",
              "    <tr>\n",
              "      <th>0</th>\n",
              "      <td>0.054054</td>\n",
              "      <td>0.014493</td>\n",
              "      <td>0.050360</td>\n",
              "      <td>0.011628</td>\n",
              "      <td>0.008475</td>\n",
              "      <td>0.007812</td>\n",
              "      <td>0.008909</td>\n",
              "      <td>0.013959</td>\n",
              "      <td>0.020513</td>\n",
              "      <td>0.000000</td>\n",
              "      <td>0.014834</td>\n",
              "    </tr>\n",
              "    <tr>\n",
              "      <th>1</th>\n",
              "      <td>0.000000</td>\n",
              "      <td>0.000000</td>\n",
              "      <td>0.000000</td>\n",
              "      <td>0.000000</td>\n",
              "      <td>0.000000</td>\n",
              "      <td>0.000000</td>\n",
              "      <td>0.000000</td>\n",
              "      <td>0.000000</td>\n",
              "      <td>0.000000</td>\n",
              "      <td>0.000000</td>\n",
              "      <td>0.000000</td>\n",
              "    </tr>\n",
              "    <tr>\n",
              "      <th>2</th>\n",
              "      <td>0.009009</td>\n",
              "      <td>0.009662</td>\n",
              "      <td>0.000000</td>\n",
              "      <td>0.000000</td>\n",
              "      <td>0.000000</td>\n",
              "      <td>0.000000</td>\n",
              "      <td>0.004454</td>\n",
              "      <td>0.001269</td>\n",
              "      <td>0.000000</td>\n",
              "      <td>0.000000</td>\n",
              "      <td>0.000362</td>\n",
              "    </tr>\n",
              "    <tr>\n",
              "      <th>3</th>\n",
              "      <td>0.072072</td>\n",
              "      <td>0.033816</td>\n",
              "      <td>0.007194</td>\n",
              "      <td>0.040698</td>\n",
              "      <td>0.033898</td>\n",
              "      <td>0.031250</td>\n",
              "      <td>0.044543</td>\n",
              "      <td>0.036802</td>\n",
              "      <td>0.025641</td>\n",
              "      <td>0.006579</td>\n",
              "      <td>0.039074</td>\n",
              "    </tr>\n",
              "    <tr>\n",
              "      <th>4</th>\n",
              "      <td>0.000000</td>\n",
              "      <td>0.000000</td>\n",
              "      <td>0.000000</td>\n",
              "      <td>0.000000</td>\n",
              "      <td>0.000000</td>\n",
              "      <td>0.000000</td>\n",
              "      <td>0.000000</td>\n",
              "      <td>0.000000</td>\n",
              "      <td>0.000000</td>\n",
              "      <td>0.000000</td>\n",
              "      <td>0.000000</td>\n",
              "    </tr>\n",
              "  </tbody>\n",
              "</table>\n",
              "</div>"
            ],
            "text/plain": [
              "          0         1         2  ...         8         9    Target\n",
              "0  0.054054  0.014493  0.050360  ...  0.020513  0.000000  0.014834\n",
              "1  0.000000  0.000000  0.000000  ...  0.000000  0.000000  0.000000\n",
              "2  0.009009  0.009662  0.000000  ...  0.000000  0.000000  0.000362\n",
              "3  0.072072  0.033816  0.007194  ...  0.025641  0.006579  0.039074\n",
              "4  0.000000  0.000000  0.000000  ...  0.000000  0.000000  0.000000\n",
              "\n",
              "[5 rows x 11 columns]"
            ]
          },
          "metadata": {
            "tags": []
          },
          "execution_count": 80
        }
      ]
    },
    {
      "cell_type": "code",
      "metadata": {
        "colab": {
          "base_uri": "https://localhost:8080/"
        },
        "id": "nf0eDAWwPvJ2",
        "outputId": "c4ea9b53-fa9f-4977-cfe5-cbd276460258"
      },
      "source": [
        "predict_array = train_df[-5:].values\r\n",
        "predict_array"
      ],
      "execution_count": 81,
      "outputs": [
        {
          "output_type": "execute_result",
          "data": {
            "text/plain": [
              "array([[0.0990991 , 0.01449275, 0.02158273, 0.05232558, 0.01271186,\n",
              "        0.05208333, 0.02672606, 0.02411168, 0.02051282, 0.02631579,\n",
              "        0.02858177],\n",
              "       [0.14414414, 0.04830918, 0.05035971, 0.06395349, 0.02542373,\n",
              "        0.04947917, 0.03563474, 0.02918782, 0.03589744, 0.01973684,\n",
              "        0.07091172],\n",
              "       [0.00900901, 0.        , 0.        , 0.01162791, 0.        ,\n",
              "        0.01041667, 0.00890869, 0.00380711, 0.00512821, 0.        ,\n",
              "        0.00144718],\n",
              "       [0.11711712, 0.09178744, 0.13669065, 0.09883721, 0.04237288,\n",
              "        0.0390625 , 0.04231626, 0.03553299, 0.03589744, 0.05263158,\n",
              "        0.03111433],\n",
              "       [0.        , 0.        , 0.        , 0.        , 0.        ,\n",
              "        0.        , 0.        , 0.        , 0.        , 0.        ,\n",
              "        0.        ]])"
            ]
          },
          "metadata": {
            "tags": []
          },
          "execution_count": 81
        }
      ]
    },
    {
      "cell_type": "code",
      "metadata": {
        "colab": {
          "base_uri": "https://localhost:8080/"
        },
        "id": "0tsYoHU_REpe",
        "outputId": "6cdeb62d-4aeb-4b7e-ca63-eda5aeadff82"
      },
      "source": [
        "predict_array.shape"
      ],
      "execution_count": 82,
      "outputs": [
        {
          "output_type": "execute_result",
          "data": {
            "text/plain": [
              "(5, 11)"
            ]
          },
          "metadata": {
            "tags": []
          },
          "execution_count": 82
        }
      ]
    },
    {
      "cell_type": "code",
      "metadata": {
        "id": "s6zqrnH9RO6e"
      },
      "source": [
        "predict_array = predict_array.reshape(1,5,11)"
      ],
      "execution_count": 91,
      "outputs": []
    },
    {
      "cell_type": "code",
      "metadata": {
        "colab": {
          "base_uri": "https://localhost:8080/",
          "height": 201
        },
        "id": "jSTR4D0ORGsu",
        "outputId": "d059145b-ff33-40ae-b47d-17f776d57d5e"
      },
      "source": [
        "model = model_5\r\n",
        "for n in range(len(output)):\r\n",
        "  pred = model.predict(predict_array)\r\n",
        "  x_array = np.append(x_array, pred)\r\n",
        "  predictions.append(pred)\r\n",
        "\r\n",
        "  x_array = x_array[-5:].reshape(1, 5, 11)"
      ],
      "execution_count": 97,
      "outputs": [
        {
          "output_type": "error",
          "ename": "ValueError",
          "evalue": "ignored",
          "traceback": [
            "\u001b[0;31m---------------------------------------------------------------------------\u001b[0m",
            "\u001b[0;31mValueError\u001b[0m                                Traceback (most recent call last)",
            "\u001b[0;32m<ipython-input-97-08839d6903d3>\u001b[0m in \u001b[0;36m<module>\u001b[0;34m()\u001b[0m\n\u001b[1;32m      5\u001b[0m   \u001b[0mpredictions\u001b[0m\u001b[0;34m.\u001b[0m\u001b[0mappend\u001b[0m\u001b[0;34m(\u001b[0m\u001b[0mpred\u001b[0m\u001b[0;34m)\u001b[0m\u001b[0;34m\u001b[0m\u001b[0;34m\u001b[0m\u001b[0m\n\u001b[1;32m      6\u001b[0m \u001b[0;34m\u001b[0m\u001b[0m\n\u001b[0;32m----> 7\u001b[0;31m   \u001b[0mx_array\u001b[0m \u001b[0;34m=\u001b[0m \u001b[0mx_array\u001b[0m\u001b[0;34m[\u001b[0m\u001b[0;34m-\u001b[0m\u001b[0;36m5\u001b[0m\u001b[0;34m:\u001b[0m\u001b[0;34m]\u001b[0m\u001b[0;34m.\u001b[0m\u001b[0mreshape\u001b[0m\u001b[0;34m(\u001b[0m\u001b[0;36m1\u001b[0m\u001b[0;34m,\u001b[0m \u001b[0;36m5\u001b[0m\u001b[0;34m,\u001b[0m \u001b[0;36m11\u001b[0m\u001b[0;34m)\u001b[0m\u001b[0;34m\u001b[0m\u001b[0;34m\u001b[0m\u001b[0m\n\u001b[0m",
            "\u001b[0;31mValueError\u001b[0m: cannot reshape array of size 5 into shape (1,5,11)"
          ]
        }
      ]
    },
    {
      "cell_type": "code",
      "metadata": {
        "colab": {
          "base_uri": "https://localhost:8080/"
        },
        "id": "tC_q-FYbRMUW",
        "outputId": "d7acb7e7-9d5a-4d10-96c7-3678bdd0ad6d"
      },
      "source": [
        "print(pred)"
      ],
      "execution_count": 94,
      "outputs": [
        {
          "output_type": "stream",
          "text": [
            "[[0.03532956]]\n"
          ],
          "name": "stdout"
        }
      ]
    },
    {
      "cell_type": "code",
      "metadata": {
        "id": "oKv4ViPXRujm"
      },
      "source": [
        "#okay. I got pred to run, now I just need to reconcile\r\n",
        "#what exactly the output is telling me, and how to use it\r\n",
        "#changing input shape to (1, 5, 11) gives me 1 pred"
      ],
      "execution_count": null,
      "outputs": []
    },
    {
      "cell_type": "code",
      "metadata": {
        "id": "et26AF85TpTA"
      },
      "source": [
        "#the crux of the issue:\r\n",
        "#i think vars and target need to be kept seperate\r\n",
        "#and I don't think that's happening right now"
      ],
      "execution_count": null,
      "outputs": []
    },
    {
      "cell_type": "markdown",
      "metadata": {
        "id": "HN_WRYhAU1xp"
      },
      "source": [
        "In the original function, I set x_array = the last 5 of the training data. Just vanilla targets, no predictive factors involved  \r\n",
        "The issue here is that the model will not accept only targets, it needs the 10 predictors (vars) as well  \r\n",
        "Meaning that if my model is shaped to only spit out one predicted target, it still needs predictions on the vars as well?  \r\n",
        "If I create a new line in the data frame, it will only have a value in \"target\", not in vars. And in order to predict the next line, I need it to have all 11 columns filled out.  \r\n",
        "So how am i going to fill in those vars? My initial thought is to generate a prediction for each target as well. (If I dispense 4 yorkie licenses today, my model needs to predict how many yorkie, plus all other breed, licenses will be dispensed tomorrow, in order to properly make a \"target\" prediction.  \r\n",
        "I am considering starting this function from scratch at this point- I think what worked for the univariate model may not fit with the multivariate model. "
      ]
    },
    {
      "cell_type": "code",
      "metadata": {
        "id": "8vhWEnBRUfu-"
      },
      "source": [
        ""
      ],
      "execution_count": null,
      "outputs": []
    }
  ]
}