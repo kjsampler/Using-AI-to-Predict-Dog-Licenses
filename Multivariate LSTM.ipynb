{
  "nbformat": 4,
  "nbformat_minor": 0,
  "metadata": {
    "kernelspec": {
      "display_name": "Python 3",
      "language": "python",
      "name": "python3"
    },
    "language_info": {
      "codemirror_mode": {
        "name": "ipython",
        "version": 3
      },
      "file_extension": ".py",
      "mimetype": "text/x-python",
      "name": "python",
      "nbconvert_exporter": "python",
      "pygments_lexer": "ipython3",
      "version": "3.7.3"
    },
    "colab": {
      "name": "Multivariate LSTM.ipynb",
      "provenance": []
    }
  },
  "cells": [
    {
      "cell_type": "markdown",
      "metadata": {
        "id": "T0kE4jVeOSCw"
      },
      "source": [
        "# Steps: \n",
        "10. Conclude, interpret\n",
        "11. Make more visualizations\n",
        "12. Blog about it\n",
        "13. Where do we go from here? \n",
        "14. What is the \"so what\"? "
      ]
    },
    {
      "cell_type": "code",
      "metadata": {
        "colab": {
          "base_uri": "https://localhost:8080/"
        },
        "id": "0nzM9RcK33DS",
        "outputId": "f07ef00e-5e3e-43fc-a97f-28588e99df3f"
      },
      "source": [
        "from google.colab import drive\n",
        "drive.mount('/content/drive')"
      ],
      "execution_count": 1,
      "outputs": [
        {
          "output_type": "stream",
          "text": [
            "Mounted at /content/drive\n"
          ],
          "name": "stdout"
        }
      ]
    },
    {
      "cell_type": "code",
      "metadata": {
        "id": "nMGgCrDVOSC3"
      },
      "source": [
        "import pandas as pd\n",
        "import warnings\n",
        "warnings.filterwarnings('ignore')\n",
        "import matplotlib.pyplot as plt\n",
        "%matplotlib inline\n",
        "import seaborn as sns\n",
        "from pandas.plotting import table\n",
        "from sklearn.preprocessing import MinMaxScaler\n",
        "from sklearn.model_selection import train_test_split\n",
        "import time\n",
        "import datetime\n",
        "from sklearn.metrics import mean_squared_error\n",
        "from keras.models import Sequential, load_model\n",
        "from keras.layers import Dense, LSTM, Dropout\n",
        "import numpy as np"
      ],
      "execution_count": 2,
      "outputs": []
    },
    {
      "cell_type": "code",
      "metadata": {
        "id": "NjN747MlU4eL"
      },
      "source": [
        "#file path for data: capstone/using-AI-to-predict-dog-licenses/data\n",
        "#open raw_data.csv"
      ],
      "execution_count": 3,
      "outputs": []
    },
    {
      "cell_type": "code",
      "metadata": {
        "id": "1jtq5HZiOSC5"
      },
      "source": [
        "df = pd.read_csv('/content/drive/MyDrive/raw_data.csv')"
      ],
      "execution_count": 4,
      "outputs": []
    },
    {
      "cell_type": "code",
      "metadata": {
        "id": "USRSLPP9OSC5"
      },
      "source": [
        "df.set_index('ValidDate', inplace = True)"
      ],
      "execution_count": 5,
      "outputs": []
    },
    {
      "cell_type": "code",
      "metadata": {
        "id": "i9d8D564OSC6"
      },
      "source": [
        "df = df.drop(['ExpYear'], axis = 1)"
      ],
      "execution_count": 6,
      "outputs": []
    },
    {
      "cell_type": "code",
      "metadata": {
        "id": "-sIwGPlKOSC6",
        "colab": {
          "base_uri": "https://localhost:8080/",
          "height": 233
        },
        "outputId": "32a69b0c-f543-4a06-ce65-f014834f126b"
      },
      "source": [
        "df.head()"
      ],
      "execution_count": 7,
      "outputs": [
        {
          "output_type": "execute_result",
          "data": {
            "text/html": [
              "<div>\n",
              "<style scoped>\n",
              "    .dataframe tbody tr th:only-of-type {\n",
              "        vertical-align: middle;\n",
              "    }\n",
              "\n",
              "    .dataframe tbody tr th {\n",
              "        vertical-align: top;\n",
              "    }\n",
              "\n",
              "    .dataframe thead th {\n",
              "        text-align: right;\n",
              "    }\n",
              "</style>\n",
              "<table border=\"1\" class=\"dataframe\">\n",
              "  <thead>\n",
              "    <tr style=\"text-align: right;\">\n",
              "      <th></th>\n",
              "      <th>LicenseType</th>\n",
              "      <th>Breed</th>\n",
              "      <th>Color</th>\n",
              "      <th>DogName</th>\n",
              "      <th>OwnerZip</th>\n",
              "    </tr>\n",
              "    <tr>\n",
              "      <th>ValidDate</th>\n",
              "      <th></th>\n",
              "      <th></th>\n",
              "      <th></th>\n",
              "      <th></th>\n",
              "      <th></th>\n",
              "    </tr>\n",
              "  </thead>\n",
              "  <tbody>\n",
              "    <tr>\n",
              "      <th>2014-12-02 09:40:53</th>\n",
              "      <td>Dog Individual Neutered Male</td>\n",
              "      <td>COCKAPOO</td>\n",
              "      <td>BROWN</td>\n",
              "      <td>CHARLEY</td>\n",
              "      <td>15236</td>\n",
              "    </tr>\n",
              "    <tr>\n",
              "      <th>2014-12-02 09:45:25</th>\n",
              "      <td>Dog Senior Citizen or Disability Neutered Male</td>\n",
              "      <td>GER SHEPHERD</td>\n",
              "      <td>BLACK/BROWN</td>\n",
              "      <td>TACODA</td>\n",
              "      <td>15238</td>\n",
              "    </tr>\n",
              "    <tr>\n",
              "      <th>2014-12-02 09:47:55</th>\n",
              "      <td>Dog Individual Spayed Female</td>\n",
              "      <td>GER SHEPHERD</td>\n",
              "      <td>BLACK</td>\n",
              "      <td>CHARLY</td>\n",
              "      <td>15205</td>\n",
              "    </tr>\n",
              "    <tr>\n",
              "      <th>2014-12-02 10:02:33</th>\n",
              "      <td>Dog Individual Spayed Female</td>\n",
              "      <td>LABRADOR RETRIEVER</td>\n",
              "      <td>BLACK</td>\n",
              "      <td>ABBEY</td>\n",
              "      <td>15143</td>\n",
              "    </tr>\n",
              "    <tr>\n",
              "      <th>2014-12-02 10:05:50</th>\n",
              "      <td>Dog Individual Female</td>\n",
              "      <td>GER SHORTHAIR POINT</td>\n",
              "      <td>BROWN</td>\n",
              "      <td>CHARLEY</td>\n",
              "      <td>15228</td>\n",
              "    </tr>\n",
              "  </tbody>\n",
              "</table>\n",
              "</div>"
            ],
            "text/plain": [
              "                                                        LicenseType  ... OwnerZip\n",
              "ValidDate                                                            ...         \n",
              "2014-12-02 09:40:53                    Dog Individual Neutered Male  ...    15236\n",
              "2014-12-02 09:45:25  Dog Senior Citizen or Disability Neutered Male  ...    15238\n",
              "2014-12-02 09:47:55                    Dog Individual Spayed Female  ...    15205\n",
              "2014-12-02 10:02:33                    Dog Individual Spayed Female  ...    15143\n",
              "2014-12-02 10:05:50                           Dog Individual Female  ...    15228\n",
              "\n",
              "[5 rows x 5 columns]"
            ]
          },
          "metadata": {
            "tags": []
          },
          "execution_count": 7
        }
      ]
    },
    {
      "cell_type": "code",
      "metadata": {
        "id": "rCbpRhDJOSC6",
        "colab": {
          "base_uri": "https://localhost:8080/"
        },
        "outputId": "21e3fdf2-0c02-466e-f4c5-8d237964b7f9"
      },
      "source": [
        "df['Breed'].value_counts().sum()"
      ],
      "execution_count": 8,
      "outputs": [
        {
          "output_type": "execute_result",
          "data": {
            "text/plain": [
              "286724"
            ]
          },
          "metadata": {
            "tags": []
          },
          "execution_count": 8
        }
      ]
    },
    {
      "cell_type": "code",
      "metadata": {
        "id": "Oqab9Uv9OSC7",
        "colab": {
          "base_uri": "https://localhost:8080/"
        },
        "outputId": "bdbfab3c-5a86-46f4-8113-766c7562c289"
      },
      "source": [
        "len(df['Breed'].unique())"
      ],
      "execution_count": 9,
      "outputs": [
        {
          "output_type": "execute_result",
          "data": {
            "text/plain": [
              "340"
            ]
          },
          "metadata": {
            "tags": []
          },
          "execution_count": 9
        }
      ]
    },
    {
      "cell_type": "code",
      "metadata": {
        "id": "sHZlhfU0OSC7"
      },
      "source": [
        "#I would definitely need to look at cutting that number down- that would be way too noisy.\n",
        "#My initial thought is to see what the top 10 breeds are\n",
        "#Maybe from there I can either to dummies or aggregate"
      ],
      "execution_count": 10,
      "outputs": []
    },
    {
      "cell_type": "code",
      "metadata": {
        "id": "Xw1bZZNrOSC7"
      },
      "source": [
        "top_ten = df['Breed'].value_counts()[:11]"
      ],
      "execution_count": 11,
      "outputs": []
    },
    {
      "cell_type": "code",
      "metadata": {
        "id": "n9T5XZdWOSC8",
        "colab": {
          "base_uri": "https://localhost:8080/"
        },
        "outputId": "ceaba93a-c78b-4016-ba92-6f692cf248f5"
      },
      "source": [
        "top_ten\n",
        "#bar chart here"
      ],
      "execution_count": 12,
      "outputs": [
        {
          "output_type": "execute_result",
          "data": {
            "text/plain": [
              "MIXED                  29009\n",
              "LABRADOR RETRIEVER     19713\n",
              "LAB MIX                17714\n",
              "GOLDEN RETRIEVER        9344\n",
              "GER SHEPHERD            8437\n",
              "SHIH TZU                7976\n",
              "BEAGLE                  7960\n",
              "CHIHUAHUA               7664\n",
              "TAG                     7475\n",
              "AM PIT BULL TERRIER     7332\n",
              "YORKSHIRE TERRIER       6268\n",
              "Name: Breed, dtype: int64"
            ]
          },
          "metadata": {
            "tags": []
          },
          "execution_count": 12
        }
      ]
    },
    {
      "cell_type": "code",
      "metadata": {
        "colab": {
          "base_uri": "https://localhost:8080/",
          "height": 202
        },
        "id": "883bsc3nTu2a",
        "outputId": "4639a71c-5ce4-46c1-fbc1-d397a660ea1f"
      },
      "source": [
        "top_ten_bar = pd.DataFrame(top_ten)\n",
        "top_ten_bar.head()"
      ],
      "execution_count": 13,
      "outputs": [
        {
          "output_type": "execute_result",
          "data": {
            "text/html": [
              "<div>\n",
              "<style scoped>\n",
              "    .dataframe tbody tr th:only-of-type {\n",
              "        vertical-align: middle;\n",
              "    }\n",
              "\n",
              "    .dataframe tbody tr th {\n",
              "        vertical-align: top;\n",
              "    }\n",
              "\n",
              "    .dataframe thead th {\n",
              "        text-align: right;\n",
              "    }\n",
              "</style>\n",
              "<table border=\"1\" class=\"dataframe\">\n",
              "  <thead>\n",
              "    <tr style=\"text-align: right;\">\n",
              "      <th></th>\n",
              "      <th>Breed</th>\n",
              "    </tr>\n",
              "  </thead>\n",
              "  <tbody>\n",
              "    <tr>\n",
              "      <th>MIXED</th>\n",
              "      <td>29009</td>\n",
              "    </tr>\n",
              "    <tr>\n",
              "      <th>LABRADOR RETRIEVER</th>\n",
              "      <td>19713</td>\n",
              "    </tr>\n",
              "    <tr>\n",
              "      <th>LAB MIX</th>\n",
              "      <td>17714</td>\n",
              "    </tr>\n",
              "    <tr>\n",
              "      <th>GOLDEN RETRIEVER</th>\n",
              "      <td>9344</td>\n",
              "    </tr>\n",
              "    <tr>\n",
              "      <th>GER SHEPHERD</th>\n",
              "      <td>8437</td>\n",
              "    </tr>\n",
              "  </tbody>\n",
              "</table>\n",
              "</div>"
            ],
            "text/plain": [
              "                    Breed\n",
              "MIXED               29009\n",
              "LABRADOR RETRIEVER  19713\n",
              "LAB MIX             17714\n",
              "GOLDEN RETRIEVER     9344\n",
              "GER SHEPHERD         8437"
            ]
          },
          "metadata": {
            "tags": []
          },
          "execution_count": 13
        }
      ]
    },
    {
      "cell_type": "code",
      "metadata": {
        "colab": {
          "base_uri": "https://localhost:8080/",
          "height": 592
        },
        "id": "pduy8LTUUQY7",
        "outputId": "b1c746da-fa2b-4fb4-bccd-20976e35cf01"
      },
      "source": [
        "fig = plt.figure(figsize = (20, 10))\n",
        "bar = sns.barplot(top_ten_bar.index, top_ten_bar.Breed)"
      ],
      "execution_count": 14,
      "outputs": [
        {
          "output_type": "display_data",
          "data": {
            "image/png": "[encoded data removed]",
            "text/plain": [
              "<Figure size 1440x720 with 1 Axes>"
            ]
          },
          "metadata": {
            "tags": [],
            "needs_background": "light"
          }
        }
      ]
    },
    {
      "cell_type": "code",
      "metadata": {
        "id": "9vt82EMSOSC8"
      },
      "source": [
        "#TAG is not a type of dog. they are denoting that they are putting tags on an existing dog"
      ],
      "execution_count": 15,
      "outputs": []
    },
    {
      "cell_type": "code",
      "metadata": {
        "id": "eX0d16cMOSC8",
        "colab": {
          "base_uri": "https://localhost:8080/",
          "height": 170
        },
        "outputId": "c77ae88a-216e-4e2a-8eed-384dbb5f5b21"
      },
      "source": [
        "tag_df = df.loc[df['Breed'] == 'TAG']\n",
        "tag_df.loc[(tag_df['DogName'] == 'SHADOW') & (tag_df['OwnerZip'] == 15102)]"
      ],
      "execution_count": 16,
      "outputs": [
        {
          "output_type": "execute_result",
          "data": {
            "text/html": [
              "<div>\n",
              "<style scoped>\n",
              "    .dataframe tbody tr th:only-of-type {\n",
              "        vertical-align: middle;\n",
              "    }\n",
              "\n",
              "    .dataframe tbody tr th {\n",
              "        vertical-align: top;\n",
              "    }\n",
              "\n",
              "    .dataframe thead th {\n",
              "        text-align: right;\n",
              "    }\n",
              "</style>\n",
              "<table border=\"1\" class=\"dataframe\">\n",
              "  <thead>\n",
              "    <tr style=\"text-align: right;\">\n",
              "      <th></th>\n",
              "      <th>LicenseType</th>\n",
              "      <th>Breed</th>\n",
              "      <th>Color</th>\n",
              "      <th>DogName</th>\n",
              "      <th>OwnerZip</th>\n",
              "    </tr>\n",
              "    <tr>\n",
              "      <th>ValidDate</th>\n",
              "      <th></th>\n",
              "      <th></th>\n",
              "      <th></th>\n",
              "      <th></th>\n",
              "      <th></th>\n",
              "    </tr>\n",
              "  </thead>\n",
              "  <tbody>\n",
              "    <tr>\n",
              "      <th>2015-03-12 11:11:36</th>\n",
              "      <td>Dog Individual Spayed Female</td>\n",
              "      <td>TAG</td>\n",
              "      <td>BLACK</td>\n",
              "      <td>SHADOW</td>\n",
              "      <td>15102</td>\n",
              "    </tr>\n",
              "    <tr>\n",
              "      <th>2017-01-10 09:39:46</th>\n",
              "      <td>Dog Individual Spayed Female</td>\n",
              "      <td>TAG</td>\n",
              "      <td>BLACK</td>\n",
              "      <td>SHADOW</td>\n",
              "      <td>15102</td>\n",
              "    </tr>\n",
              "    <tr>\n",
              "      <th>2015-12-11 10:35:08</th>\n",
              "      <td>Dog Individual Spayed Female</td>\n",
              "      <td>TAG</td>\n",
              "      <td>BLACK</td>\n",
              "      <td>SHADOW</td>\n",
              "      <td>15102</td>\n",
              "    </tr>\n",
              "  </tbody>\n",
              "</table>\n",
              "</div>"
            ],
            "text/plain": [
              "                                      LicenseType Breed  ... DogName OwnerZip\n",
              "ValidDate                                                ...                 \n",
              "2015-03-12 11:11:36  Dog Individual Spayed Female   TAG  ...  SHADOW    15102\n",
              "2017-01-10 09:39:46  Dog Individual Spayed Female   TAG  ...  SHADOW    15102\n",
              "2015-12-11 10:35:08  Dog Individual Spayed Female   TAG  ...  SHADOW    15102\n",
              "\n",
              "[3 rows x 5 columns]"
            ]
          },
          "metadata": {
            "tags": []
          },
          "execution_count": 16
        }
      ]
    },
    {
      "cell_type": "code",
      "metadata": {
        "scrolled": true,
        "id": "wgfsZv_6OSC8",
        "colab": {
          "base_uri": "https://localhost:8080/"
        },
        "outputId": "f5491491-6065-47c4-c4f3-333b0471ea46"
      },
      "source": [
        "a = len(tag_df['DogName'])\n",
        "b = len(tag_df['DogName'].value_counts())\n",
        "a-b"
      ],
      "execution_count": 17,
      "outputs": [
        {
          "output_type": "execute_result",
          "data": {
            "text/plain": [
              "5708"
            ]
          },
          "metadata": {
            "tags": []
          },
          "execution_count": 17
        }
      ]
    },
    {
      "cell_type": "code",
      "metadata": {
        "id": "UlDZAkEJOSC9"
      },
      "source": [
        "#Purpose: predict licenses dispensed while considering extra variables. \n",
        "#I think top 10 dummies is actually going to benefit me most. \n",
        "#Let's start with breed: top 9 and 'other'\n",
        "## investigate whether an 'other' column is going to unbalance the data too bad; \n",
        "#we may need to keep it to top 10 with a disclaimer"
      ],
      "execution_count": 18,
      "outputs": []
    },
    {
      "cell_type": "code",
      "metadata": {
        "id": "gossOYOwOSC9",
        "colab": {
          "base_uri": "https://localhost:8080/",
          "height": 230
        },
        "outputId": "a144c29e-3ec7-4caf-b684-2d98708924ed"
      },
      "source": [
        "df.head()"
      ],
      "execution_count": 19,
      "outputs": [
        {
          "output_type": "execute_result",
          "data": {
            "text/html": [
              "<div>\n",
              "<style scoped>\n",
              "    .dataframe tbody tr th:only-of-type {\n",
              "        vertical-align: middle;\n",
              "    }\n",
              "\n",
              "    .dataframe tbody tr th {\n",
              "        vertical-align: top;\n",
              "    }\n",
              "\n",
              "    .dataframe thead th {\n",
              "        text-align: right;\n",
              "    }\n",
              "</style>\n",
              "<table border=\"1\" class=\"dataframe\">\n",
              "  <thead>\n",
              "    <tr style=\"text-align: right;\">\n",
              "      <th></th>\n",
              "      <th>LicenseType</th>\n",
              "      <th>Breed</th>\n",
              "      <th>Color</th>\n",
              "      <th>DogName</th>\n",
              "      <th>OwnerZip</th>\n",
              "    </tr>\n",
              "    <tr>\n",
              "      <th>ValidDate</th>\n",
              "      <th></th>\n",
              "      <th></th>\n",
              "      <th></th>\n",
              "      <th></th>\n",
              "      <th></th>\n",
              "    </tr>\n",
              "  </thead>\n",
              "  <tbody>\n",
              "    <tr>\n",
              "      <th>2014-12-02 09:40:53</th>\n",
              "      <td>Dog Individual Neutered Male</td>\n",
              "      <td>COCKAPOO</td>\n",
              "      <td>BROWN</td>\n",
              "      <td>CHARLEY</td>\n",
              "      <td>15236</td>\n",
              "    </tr>\n",
              "    <tr>\n",
              "      <th>2014-12-02 09:45:25</th>\n",
              "      <td>Dog Senior Citizen or Disability Neutered Male</td>\n",
              "      <td>GER SHEPHERD</td>\n",
              "      <td>BLACK/BROWN</td>\n",
              "      <td>TACODA</td>\n",
              "      <td>15238</td>\n",
              "    </tr>\n",
              "    <tr>\n",
              "      <th>2014-12-02 09:47:55</th>\n",
              "      <td>Dog Individual Spayed Female</td>\n",
              "      <td>GER SHEPHERD</td>\n",
              "      <td>BLACK</td>\n",
              "      <td>CHARLY</td>\n",
              "      <td>15205</td>\n",
              "    </tr>\n",
              "    <tr>\n",
              "      <th>2014-12-02 10:02:33</th>\n",
              "      <td>Dog Individual Spayed Female</td>\n",
              "      <td>LABRADOR RETRIEVER</td>\n",
              "      <td>BLACK</td>\n",
              "      <td>ABBEY</td>\n",
              "      <td>15143</td>\n",
              "    </tr>\n",
              "    <tr>\n",
              "      <th>2014-12-02 10:05:50</th>\n",
              "      <td>Dog Individual Female</td>\n",
              "      <td>GER SHORTHAIR POINT</td>\n",
              "      <td>BROWN</td>\n",
              "      <td>CHARLEY</td>\n",
              "      <td>15228</td>\n",
              "    </tr>\n",
              "  </tbody>\n",
              "</table>\n",
              "</div>"
            ],
            "text/plain": [
              "                                                        LicenseType  ... OwnerZip\n",
              "ValidDate                                                            ...         \n",
              "2014-12-02 09:40:53                    Dog Individual Neutered Male  ...    15236\n",
              "2014-12-02 09:45:25  Dog Senior Citizen or Disability Neutered Male  ...    15238\n",
              "2014-12-02 09:47:55                    Dog Individual Spayed Female  ...    15205\n",
              "2014-12-02 10:02:33                    Dog Individual Spayed Female  ...    15143\n",
              "2014-12-02 10:05:50                           Dog Individual Female  ...    15228\n",
              "\n",
              "[5 rows x 5 columns]"
            ]
          },
          "metadata": {
            "tags": []
          },
          "execution_count": 19
        }
      ]
    },
    {
      "cell_type": "code",
      "metadata": {
        "id": "Z54G_BXiOSC9",
        "colab": {
          "base_uri": "https://localhost:8080/"
        },
        "outputId": "2f925e90-b1bb-4cae-9d20-8c990f5b668e"
      },
      "source": [
        "df.isnull().sum()"
      ],
      "execution_count": 20,
      "outputs": [
        {
          "output_type": "execute_result",
          "data": {
            "text/plain": [
              "LicenseType    0\n",
              "Breed          0\n",
              "Color          0\n",
              "DogName        0\n",
              "OwnerZip       0\n",
              "dtype: int64"
            ]
          },
          "metadata": {
            "tags": []
          },
          "execution_count": 20
        }
      ]
    },
    {
      "cell_type": "code",
      "metadata": {
        "id": "GHTtXszROSC9"
      },
      "source": [
        "breed_df = pd.DataFrame(df.Breed)\n",
        "breed_df.set_index(breed_df.index, inplace = True)\n",
        "breed_df.index = pd.to_datetime(breed_df.index)"
      ],
      "execution_count": 21,
      "outputs": []
    },
    {
      "cell_type": "markdown",
      "metadata": {
        "id": "EgVJQW8ZOSC-"
      },
      "source": [
        "MIXED\n",
        "LABRADOR RETRIEVER     \n",
        "LAB MIX                \n",
        "GOLDEN RETRIEVER        \n",
        "GER SHEPHERD            \n",
        "SHIH TZU            \n",
        "BEAGLE                  \n",
        "CHIHUAHUA                                  \n",
        "AM PIT BULL TERRIER     \n",
        "YORKSHIRE TERRIER      "
      ]
    },
    {
      "cell_type": "code",
      "metadata": {
        "id": "_JQmNtrPOSC-",
        "colab": {
          "base_uri": "https://localhost:8080/",
          "height": 230
        },
        "outputId": "09c72ffa-7017-4735-b533-45fc6f855cc5"
      },
      "source": [
        "df_top_ten = breed_df[(breed_df['Breed'] == 'MIXED') |\n",
        "                     (breed_df['Breed'] == 'LABRADOR RETRIEVER') |\n",
        "                     (breed_df['Breed'] == 'LAB MIX') |\n",
        "                     (breed_df['Breed'] == 'GOLDEN RETRIEVER') |\n",
        "                     (breed_df['Breed'] == 'GER SHEPHERD') |\n",
        "                     (breed_df['Breed'] == 'SHIH TZU') |\n",
        "                     (breed_df['Breed'] == 'BEAGLE') |\n",
        "                     (breed_df['Breed'] == 'CHIHUAHUA') |\n",
        "                     (breed_df['Breed'] == 'AM PIT BULL TERRIER')|\n",
        "                     (breed_df['Breed'] == 'YORKSHIRE TERRIER')]\n",
        "df_top_ten.head()"
      ],
      "execution_count": 22,
      "outputs": [
        {
          "output_type": "execute_result",
          "data": {
            "text/html": [
              "<div>\n",
              "<style scoped>\n",
              "    .dataframe tbody tr th:only-of-type {\n",
              "        vertical-align: middle;\n",
              "    }\n",
              "\n",
              "    .dataframe tbody tr th {\n",
              "        vertical-align: top;\n",
              "    }\n",
              "\n",
              "    .dataframe thead th {\n",
              "        text-align: right;\n",
              "    }\n",
              "</style>\n",
              "<table border=\"1\" class=\"dataframe\">\n",
              "  <thead>\n",
              "    <tr style=\"text-align: right;\">\n",
              "      <th></th>\n",
              "      <th>Breed</th>\n",
              "    </tr>\n",
              "    <tr>\n",
              "      <th>ValidDate</th>\n",
              "      <th></th>\n",
              "    </tr>\n",
              "  </thead>\n",
              "  <tbody>\n",
              "    <tr>\n",
              "      <th>2014-12-02 09:45:25</th>\n",
              "      <td>GER SHEPHERD</td>\n",
              "    </tr>\n",
              "    <tr>\n",
              "      <th>2014-12-02 09:47:55</th>\n",
              "      <td>GER SHEPHERD</td>\n",
              "    </tr>\n",
              "    <tr>\n",
              "      <th>2014-12-02 10:02:33</th>\n",
              "      <td>LABRADOR RETRIEVER</td>\n",
              "    </tr>\n",
              "    <tr>\n",
              "      <th>2014-12-02 10:08:13</th>\n",
              "      <td>YORKSHIRE TERRIER</td>\n",
              "    </tr>\n",
              "    <tr>\n",
              "      <th>2014-12-02 10:15:30</th>\n",
              "      <td>YORKSHIRE TERRIER</td>\n",
              "    </tr>\n",
              "  </tbody>\n",
              "</table>\n",
              "</div>"
            ],
            "text/plain": [
              "                                  Breed\n",
              "ValidDate                              \n",
              "2014-12-02 09:45:25        GER SHEPHERD\n",
              "2014-12-02 09:47:55        GER SHEPHERD\n",
              "2014-12-02 10:02:33  LABRADOR RETRIEVER\n",
              "2014-12-02 10:08:13   YORKSHIRE TERRIER\n",
              "2014-12-02 10:15:30   YORKSHIRE TERRIER"
            ]
          },
          "metadata": {
            "tags": []
          },
          "execution_count": 22
        }
      ]
    },
    {
      "cell_type": "code",
      "metadata": {
        "id": "PBay18MVOSC-",
        "colab": {
          "base_uri": "https://localhost:8080/"
        },
        "outputId": "f38dd4ab-dfc0-47db-d334-fc0e856b6af1"
      },
      "source": [
        "print(\"Breed df: \", len(breed_df))\n",
        "print(\"Top Ten df: \", len(df_top_ten))\n",
        "print(\"Difference: \", len(breed_df)-len(df_top_ten))"
      ],
      "execution_count": 23,
      "outputs": [
        {
          "output_type": "stream",
          "text": [
            "Breed df:  286724\n",
            "Top Ten df:  121417\n",
            "Difference:  165307\n"
          ],
          "name": "stdout"
        }
      ]
    },
    {
      "cell_type": "code",
      "metadata": {
        "id": "2JdCLUCrI257"
      },
      "source": [
        "#the difference is substantial- let's look at top 10"
      ],
      "execution_count": 24,
      "outputs": []
    },
    {
      "cell_type": "code",
      "metadata": {
        "id": "yPmesD9JOSC_",
        "colab": {
          "base_uri": "https://localhost:8080/",
          "height": 230
        },
        "outputId": "05b0f7dc-db4a-49b9-ec4b-587270972800"
      },
      "source": [
        "ten_dummies = pd.get_dummies(df_top_ten['Breed'])\n",
        "ten_dummies.head()"
      ],
      "execution_count": 25,
      "outputs": [
        {
          "output_type": "execute_result",
          "data": {
            "text/html": [
              "<div>\n",
              "<style scoped>\n",
              "    .dataframe tbody tr th:only-of-type {\n",
              "        vertical-align: middle;\n",
              "    }\n",
              "\n",
              "    .dataframe tbody tr th {\n",
              "        vertical-align: top;\n",
              "    }\n",
              "\n",
              "    .dataframe thead th {\n",
              "        text-align: right;\n",
              "    }\n",
              "</style>\n",
              "<table border=\"1\" class=\"dataframe\">\n",
              "  <thead>\n",
              "    <tr style=\"text-align: right;\">\n",
              "      <th></th>\n",
              "      <th>AM PIT BULL TERRIER</th>\n",
              "      <th>BEAGLE</th>\n",
              "      <th>CHIHUAHUA</th>\n",
              "      <th>GER SHEPHERD</th>\n",
              "      <th>GOLDEN RETRIEVER</th>\n",
              "      <th>LAB MIX</th>\n",
              "      <th>LABRADOR RETRIEVER</th>\n",
              "      <th>MIXED</th>\n",
              "      <th>SHIH TZU</th>\n",
              "      <th>YORKSHIRE TERRIER</th>\n",
              "    </tr>\n",
              "    <tr>\n",
              "      <th>ValidDate</th>\n",
              "      <th></th>\n",
              "      <th></th>\n",
              "      <th></th>\n",
              "      <th></th>\n",
              "      <th></th>\n",
              "      <th></th>\n",
              "      <th></th>\n",
              "      <th></th>\n",
              "      <th></th>\n",
              "      <th></th>\n",
              "    </tr>\n",
              "  </thead>\n",
              "  <tbody>\n",
              "    <tr>\n",
              "      <th>2014-12-02 09:45:25</th>\n",
              "      <td>0</td>\n",
              "      <td>0</td>\n",
              "      <td>0</td>\n",
              "      <td>1</td>\n",
              "      <td>0</td>\n",
              "      <td>0</td>\n",
              "      <td>0</td>\n",
              "      <td>0</td>\n",
              "      <td>0</td>\n",
              "      <td>0</td>\n",
              "    </tr>\n",
              "    <tr>\n",
              "      <th>2014-12-02 09:47:55</th>\n",
              "      <td>0</td>\n",
              "      <td>0</td>\n",
              "      <td>0</td>\n",
              "      <td>1</td>\n",
              "      <td>0</td>\n",
              "      <td>0</td>\n",
              "      <td>0</td>\n",
              "      <td>0</td>\n",
              "      <td>0</td>\n",
              "      <td>0</td>\n",
              "    </tr>\n",
              "    <tr>\n",
              "      <th>2014-12-02 10:02:33</th>\n",
              "      <td>0</td>\n",
              "      <td>0</td>\n",
              "      <td>0</td>\n",
              "      <td>0</td>\n",
              "      <td>0</td>\n",
              "      <td>0</td>\n",
              "      <td>1</td>\n",
              "      <td>0</td>\n",
              "      <td>0</td>\n",
              "      <td>0</td>\n",
              "    </tr>\n",
              "    <tr>\n",
              "      <th>2014-12-02 10:08:13</th>\n",
              "      <td>0</td>\n",
              "      <td>0</td>\n",
              "      <td>0</td>\n",
              "      <td>0</td>\n",
              "      <td>0</td>\n",
              "      <td>0</td>\n",
              "      <td>0</td>\n",
              "      <td>0</td>\n",
              "      <td>0</td>\n",
              "      <td>1</td>\n",
              "    </tr>\n",
              "    <tr>\n",
              "      <th>2014-12-02 10:15:30</th>\n",
              "      <td>0</td>\n",
              "      <td>0</td>\n",
              "      <td>0</td>\n",
              "      <td>0</td>\n",
              "      <td>0</td>\n",
              "      <td>0</td>\n",
              "      <td>0</td>\n",
              "      <td>0</td>\n",
              "      <td>0</td>\n",
              "      <td>1</td>\n",
              "    </tr>\n",
              "  </tbody>\n",
              "</table>\n",
              "</div>"
            ],
            "text/plain": [
              "                     AM PIT BULL TERRIER  BEAGLE  ...  SHIH TZU  YORKSHIRE TERRIER\n",
              "ValidDate                                         ...                             \n",
              "2014-12-02 09:45:25                    0       0  ...         0                  0\n",
              "2014-12-02 09:47:55                    0       0  ...         0                  0\n",
              "2014-12-02 10:02:33                    0       0  ...         0                  0\n",
              "2014-12-02 10:08:13                    0       0  ...         0                  1\n",
              "2014-12-02 10:15:30                    0       0  ...         0                  1\n",
              "\n",
              "[5 rows x 10 columns]"
            ]
          },
          "metadata": {
            "tags": []
          },
          "execution_count": 25
        }
      ]
    },
    {
      "cell_type": "code",
      "metadata": {
        "id": "-uPwquJqOSC_",
        "colab": {
          "base_uri": "https://localhost:8080/",
          "height": 230
        },
        "outputId": "f7f55959-817d-4c3c-cff9-a4afce9e0abc"
      },
      "source": [
        "breed = ten_dummies.resample('B').sum()\n",
        "breed.head()"
      ],
      "execution_count": 26,
      "outputs": [
        {
          "output_type": "execute_result",
          "data": {
            "text/html": [
              "<div>\n",
              "<style scoped>\n",
              "    .dataframe tbody tr th:only-of-type {\n",
              "        vertical-align: middle;\n",
              "    }\n",
              "\n",
              "    .dataframe tbody tr th {\n",
              "        vertical-align: top;\n",
              "    }\n",
              "\n",
              "    .dataframe thead th {\n",
              "        text-align: right;\n",
              "    }\n",
              "</style>\n",
              "<table border=\"1\" class=\"dataframe\">\n",
              "  <thead>\n",
              "    <tr style=\"text-align: right;\">\n",
              "      <th></th>\n",
              "      <th>AM PIT BULL TERRIER</th>\n",
              "      <th>BEAGLE</th>\n",
              "      <th>CHIHUAHUA</th>\n",
              "      <th>GER SHEPHERD</th>\n",
              "      <th>GOLDEN RETRIEVER</th>\n",
              "      <th>LAB MIX</th>\n",
              "      <th>LABRADOR RETRIEVER</th>\n",
              "      <th>MIXED</th>\n",
              "      <th>SHIH TZU</th>\n",
              "      <th>YORKSHIRE TERRIER</th>\n",
              "    </tr>\n",
              "    <tr>\n",
              "      <th>ValidDate</th>\n",
              "      <th></th>\n",
              "      <th></th>\n",
              "      <th></th>\n",
              "      <th></th>\n",
              "      <th></th>\n",
              "      <th></th>\n",
              "      <th></th>\n",
              "      <th></th>\n",
              "      <th></th>\n",
              "      <th></th>\n",
              "    </tr>\n",
              "  </thead>\n",
              "  <tbody>\n",
              "    <tr>\n",
              "      <th>2014-12-02</th>\n",
              "      <td>2.0</td>\n",
              "      <td>1.0</td>\n",
              "      <td>1.0</td>\n",
              "      <td>4.0</td>\n",
              "      <td>2.0</td>\n",
              "      <td>3.0</td>\n",
              "      <td>9.0</td>\n",
              "      <td>10.0</td>\n",
              "      <td>1.0</td>\n",
              "      <td>3.0</td>\n",
              "    </tr>\n",
              "    <tr>\n",
              "      <th>2014-12-03</th>\n",
              "      <td>6.0</td>\n",
              "      <td>8.0</td>\n",
              "      <td>2.0</td>\n",
              "      <td>3.0</td>\n",
              "      <td>8.0</td>\n",
              "      <td>17.0</td>\n",
              "      <td>12.0</td>\n",
              "      <td>40.0</td>\n",
              "      <td>2.0</td>\n",
              "      <td>3.0</td>\n",
              "    </tr>\n",
              "    <tr>\n",
              "      <th>2014-12-04</th>\n",
              "      <td>5.0</td>\n",
              "      <td>7.0</td>\n",
              "      <td>2.0</td>\n",
              "      <td>7.0</td>\n",
              "      <td>17.0</td>\n",
              "      <td>17.0</td>\n",
              "      <td>29.0</td>\n",
              "      <td>51.0</td>\n",
              "      <td>12.0</td>\n",
              "      <td>13.0</td>\n",
              "    </tr>\n",
              "    <tr>\n",
              "      <th>2014-12-05</th>\n",
              "      <td>4.0</td>\n",
              "      <td>2.0</td>\n",
              "      <td>5.0</td>\n",
              "      <td>2.0</td>\n",
              "      <td>9.0</td>\n",
              "      <td>10.0</td>\n",
              "      <td>10.0</td>\n",
              "      <td>21.0</td>\n",
              "      <td>5.0</td>\n",
              "      <td>3.0</td>\n",
              "    </tr>\n",
              "    <tr>\n",
              "      <th>2014-12-08</th>\n",
              "      <td>5.0</td>\n",
              "      <td>5.0</td>\n",
              "      <td>8.0</td>\n",
              "      <td>11.0</td>\n",
              "      <td>9.0</td>\n",
              "      <td>14.0</td>\n",
              "      <td>23.0</td>\n",
              "      <td>47.0</td>\n",
              "      <td>8.0</td>\n",
              "      <td>10.0</td>\n",
              "    </tr>\n",
              "  </tbody>\n",
              "</table>\n",
              "</div>"
            ],
            "text/plain": [
              "            AM PIT BULL TERRIER  BEAGLE  ...  SHIH TZU  YORKSHIRE TERRIER\n",
              "ValidDate                                ...                             \n",
              "2014-12-02                  2.0     1.0  ...       1.0                3.0\n",
              "2014-12-03                  6.0     8.0  ...       2.0                3.0\n",
              "2014-12-04                  5.0     7.0  ...      12.0               13.0\n",
              "2014-12-05                  4.0     2.0  ...       5.0                3.0\n",
              "2014-12-08                  5.0     5.0  ...       8.0               10.0\n",
              "\n",
              "[5 rows x 10 columns]"
            ]
          },
          "metadata": {
            "tags": []
          },
          "execution_count": 26
        }
      ]
    },
    {
      "cell_type": "code",
      "metadata": {
        "id": "6prIOkJbOSC_",
        "colab": {
          "base_uri": "https://localhost:8080/",
          "height": 230
        },
        "outputId": "d0cd539e-3850-4aa9-b51c-894103261b30"
      },
      "source": [
        "breed['Total'] = breed.sum(axis = 1)\n",
        "breed.head()"
      ],
      "execution_count": 27,
      "outputs": [
        {
          "output_type": "execute_result",
          "data": {
            "text/html": [
              "<div>\n",
              "<style scoped>\n",
              "    .dataframe tbody tr th:only-of-type {\n",
              "        vertical-align: middle;\n",
              "    }\n",
              "\n",
              "    .dataframe tbody tr th {\n",
              "        vertical-align: top;\n",
              "    }\n",
              "\n",
              "    .dataframe thead th {\n",
              "        text-align: right;\n",
              "    }\n",
              "</style>\n",
              "<table border=\"1\" class=\"dataframe\">\n",
              "  <thead>\n",
              "    <tr style=\"text-align: right;\">\n",
              "      <th></th>\n",
              "      <th>AM PIT BULL TERRIER</th>\n",
              "      <th>BEAGLE</th>\n",
              "      <th>CHIHUAHUA</th>\n",
              "      <th>GER SHEPHERD</th>\n",
              "      <th>GOLDEN RETRIEVER</th>\n",
              "      <th>LAB MIX</th>\n",
              "      <th>LABRADOR RETRIEVER</th>\n",
              "      <th>MIXED</th>\n",
              "      <th>SHIH TZU</th>\n",
              "      <th>YORKSHIRE TERRIER</th>\n",
              "      <th>Total</th>\n",
              "    </tr>\n",
              "    <tr>\n",
              "      <th>ValidDate</th>\n",
              "      <th></th>\n",
              "      <th></th>\n",
              "      <th></th>\n",
              "      <th></th>\n",
              "      <th></th>\n",
              "      <th></th>\n",
              "      <th></th>\n",
              "      <th></th>\n",
              "      <th></th>\n",
              "      <th></th>\n",
              "      <th></th>\n",
              "    </tr>\n",
              "  </thead>\n",
              "  <tbody>\n",
              "    <tr>\n",
              "      <th>2014-12-02</th>\n",
              "      <td>2.0</td>\n",
              "      <td>1.0</td>\n",
              "      <td>1.0</td>\n",
              "      <td>4.0</td>\n",
              "      <td>2.0</td>\n",
              "      <td>3.0</td>\n",
              "      <td>9.0</td>\n",
              "      <td>10.0</td>\n",
              "      <td>1.0</td>\n",
              "      <td>3.0</td>\n",
              "      <td>36.0</td>\n",
              "    </tr>\n",
              "    <tr>\n",
              "      <th>2014-12-03</th>\n",
              "      <td>6.0</td>\n",
              "      <td>8.0</td>\n",
              "      <td>2.0</td>\n",
              "      <td>3.0</td>\n",
              "      <td>8.0</td>\n",
              "      <td>17.0</td>\n",
              "      <td>12.0</td>\n",
              "      <td>40.0</td>\n",
              "      <td>2.0</td>\n",
              "      <td>3.0</td>\n",
              "      <td>101.0</td>\n",
              "    </tr>\n",
              "    <tr>\n",
              "      <th>2014-12-04</th>\n",
              "      <td>5.0</td>\n",
              "      <td>7.0</td>\n",
              "      <td>2.0</td>\n",
              "      <td>7.0</td>\n",
              "      <td>17.0</td>\n",
              "      <td>17.0</td>\n",
              "      <td>29.0</td>\n",
              "      <td>51.0</td>\n",
              "      <td>12.0</td>\n",
              "      <td>13.0</td>\n",
              "      <td>160.0</td>\n",
              "    </tr>\n",
              "    <tr>\n",
              "      <th>2014-12-05</th>\n",
              "      <td>4.0</td>\n",
              "      <td>2.0</td>\n",
              "      <td>5.0</td>\n",
              "      <td>2.0</td>\n",
              "      <td>9.0</td>\n",
              "      <td>10.0</td>\n",
              "      <td>10.0</td>\n",
              "      <td>21.0</td>\n",
              "      <td>5.0</td>\n",
              "      <td>3.0</td>\n",
              "      <td>71.0</td>\n",
              "    </tr>\n",
              "    <tr>\n",
              "      <th>2014-12-08</th>\n",
              "      <td>5.0</td>\n",
              "      <td>5.0</td>\n",
              "      <td>8.0</td>\n",
              "      <td>11.0</td>\n",
              "      <td>9.0</td>\n",
              "      <td>14.0</td>\n",
              "      <td>23.0</td>\n",
              "      <td>47.0</td>\n",
              "      <td>8.0</td>\n",
              "      <td>10.0</td>\n",
              "      <td>140.0</td>\n",
              "    </tr>\n",
              "  </tbody>\n",
              "</table>\n",
              "</div>"
            ],
            "text/plain": [
              "            AM PIT BULL TERRIER  BEAGLE  ...  YORKSHIRE TERRIER  Total\n",
              "ValidDate                                ...                          \n",
              "2014-12-02                  2.0     1.0  ...                3.0   36.0\n",
              "2014-12-03                  6.0     8.0  ...                3.0  101.0\n",
              "2014-12-04                  5.0     7.0  ...               13.0  160.0\n",
              "2014-12-05                  4.0     2.0  ...                3.0   71.0\n",
              "2014-12-08                  5.0     5.0  ...               10.0  140.0\n",
              "\n",
              "[5 rows x 11 columns]"
            ]
          },
          "metadata": {
            "tags": []
          },
          "execution_count": 27
        }
      ]
    },
    {
      "cell_type": "code",
      "metadata": {
        "id": "JNmLyX_XOSC_"
      },
      "source": [
        "breed.to_csv('drive/MyDrive/breed_daily_totals.csv')"
      ],
      "execution_count": 28,
      "outputs": []
    },
    {
      "cell_type": "code",
      "metadata": {
        "id": "Och2W0XnOSDA"
      },
      "source": [
        "#next I would like to get a pretty visualization of this- a colorful line chart"
      ],
      "execution_count": 29,
      "outputs": []
    },
    {
      "cell_type": "code",
      "metadata": {
        "colab": {
          "base_uri": "https://localhost:8080/",
          "height": 230
        },
        "id": "LGFSdbOI5TLh",
        "outputId": "fde066f5-6d35-4748-9254-d43745afce29"
      },
      "source": [
        "line = breed.drop(columns = 'Total', axis = 0)\n",
        "line.head()"
      ],
      "execution_count": 66,
      "outputs": [
        {
          "output_type": "execute_result",
          "data": {
            "text/html": [
              "<div>\n",
              "<style scoped>\n",
              "    .dataframe tbody tr th:only-of-type {\n",
              "        vertical-align: middle;\n",
              "    }\n",
              "\n",
              "    .dataframe tbody tr th {\n",
              "        vertical-align: top;\n",
              "    }\n",
              "\n",
              "    .dataframe thead th {\n",
              "        text-align: right;\n",
              "    }\n",
              "</style>\n",
              "<table border=\"1\" class=\"dataframe\">\n",
              "  <thead>\n",
              "    <tr style=\"text-align: right;\">\n",
              "      <th></th>\n",
              "      <th>AM PIT BULL TERRIER</th>\n",
              "      <th>BEAGLE</th>\n",
              "      <th>CHIHUAHUA</th>\n",
              "      <th>GER SHEPHERD</th>\n",
              "      <th>GOLDEN RETRIEVER</th>\n",
              "      <th>LAB MIX</th>\n",
              "      <th>LABRADOR RETRIEVER</th>\n",
              "      <th>MIXED</th>\n",
              "      <th>SHIH TZU</th>\n",
              "      <th>YORKSHIRE TERRIER</th>\n",
              "    </tr>\n",
              "    <tr>\n",
              "      <th>ValidDate</th>\n",
              "      <th></th>\n",
              "      <th></th>\n",
              "      <th></th>\n",
              "      <th></th>\n",
              "      <th></th>\n",
              "      <th></th>\n",
              "      <th></th>\n",
              "      <th></th>\n",
              "      <th></th>\n",
              "      <th></th>\n",
              "    </tr>\n",
              "  </thead>\n",
              "  <tbody>\n",
              "    <tr>\n",
              "      <th>2014-12-02</th>\n",
              "      <td>2.0</td>\n",
              "      <td>1.0</td>\n",
              "      <td>1.0</td>\n",
              "      <td>4.0</td>\n",
              "      <td>2.0</td>\n",
              "      <td>3.0</td>\n",
              "      <td>9.0</td>\n",
              "      <td>10.0</td>\n",
              "      <td>1.0</td>\n",
              "      <td>3.0</td>\n",
              "    </tr>\n",
              "    <tr>\n",
              "      <th>2014-12-03</th>\n",
              "      <td>6.0</td>\n",
              "      <td>8.0</td>\n",
              "      <td>2.0</td>\n",
              "      <td>3.0</td>\n",
              "      <td>8.0</td>\n",
              "      <td>17.0</td>\n",
              "      <td>12.0</td>\n",
              "      <td>40.0</td>\n",
              "      <td>2.0</td>\n",
              "      <td>3.0</td>\n",
              "    </tr>\n",
              "    <tr>\n",
              "      <th>2014-12-04</th>\n",
              "      <td>5.0</td>\n",
              "      <td>7.0</td>\n",
              "      <td>2.0</td>\n",
              "      <td>7.0</td>\n",
              "      <td>17.0</td>\n",
              "      <td>17.0</td>\n",
              "      <td>29.0</td>\n",
              "      <td>51.0</td>\n",
              "      <td>12.0</td>\n",
              "      <td>13.0</td>\n",
              "    </tr>\n",
              "    <tr>\n",
              "      <th>2014-12-05</th>\n",
              "      <td>4.0</td>\n",
              "      <td>2.0</td>\n",
              "      <td>5.0</td>\n",
              "      <td>2.0</td>\n",
              "      <td>9.0</td>\n",
              "      <td>10.0</td>\n",
              "      <td>10.0</td>\n",
              "      <td>21.0</td>\n",
              "      <td>5.0</td>\n",
              "      <td>3.0</td>\n",
              "    </tr>\n",
              "    <tr>\n",
              "      <th>2014-12-08</th>\n",
              "      <td>5.0</td>\n",
              "      <td>5.0</td>\n",
              "      <td>8.0</td>\n",
              "      <td>11.0</td>\n",
              "      <td>9.0</td>\n",
              "      <td>14.0</td>\n",
              "      <td>23.0</td>\n",
              "      <td>47.0</td>\n",
              "      <td>8.0</td>\n",
              "      <td>10.0</td>\n",
              "    </tr>\n",
              "  </tbody>\n",
              "</table>\n",
              "</div>"
            ],
            "text/plain": [
              "            AM PIT BULL TERRIER  BEAGLE  ...  SHIH TZU  YORKSHIRE TERRIER\n",
              "ValidDate                                ...                             \n",
              "2014-12-02                  2.0     1.0  ...       1.0                3.0\n",
              "2014-12-03                  6.0     8.0  ...       2.0                3.0\n",
              "2014-12-04                  5.0     7.0  ...      12.0               13.0\n",
              "2014-12-05                  4.0     2.0  ...       5.0                3.0\n",
              "2014-12-08                  5.0     5.0  ...       8.0               10.0\n",
              "\n",
              "[5 rows x 10 columns]"
            ]
          },
          "metadata": {
            "tags": []
          },
          "execution_count": 66
        }
      ]
    },
    {
      "cell_type": "code",
      "metadata": {
        "id": "cjoOAi4U7M5y"
      },
      "source": [
        "pitbull = breed['AM PIT BULL TERRIER'].values\n",
        "beagle = breed['BEAGLE'].values\n",
        "chihuahua = breed['CHIHUAHUA'].values\n",
        "shepherd = breed['GER SHEPHERD'].values\n",
        "retriever = breed['GOLDEN RETRIEVER'].values\n",
        "lab_mix = breed['LAB MIX'].values\n",
        "lab_retriever = breed['LABRADOR RETRIEVER'].values\n",
        "mixed = breed['MIXED'].values\n",
        "shitzu = breed['SHIH TZU']\n",
        "yorkie = breed['YORKSHIRE TERRIER']"
      ],
      "execution_count": 88,
      "outputs": []
    },
    {
      "cell_type": "code",
      "metadata": {
        "colab": {
          "base_uri": "https://localhost:8080/",
          "height": 606
        },
        "id": "Itcwmy2z6RS5",
        "outputId": "53d6109f-a716-4c11-be7e-f2f257c19334"
      },
      "source": [
        "fig = plt.figure(figsize = (20, 10))\n",
        "ax = fig.add_subplot(111)\n",
        "line_plot = sns.lineplot(line.index, pitbull)\n",
        "exp = sns.lineplot(line.index, lab_mix)\n",
        "#this is going to look v noisy..."
      ],
      "execution_count": 92,
      "outputs": [
        {
          "output_type": "display_data",
          "data": {
            "image/png": "[encoded data removed]",
            "text/plain": [
              "<Figure size 1440x720 with 1 Axes>"
            ]
          },
          "metadata": {
            "tags": [],
            "needs_background": "light"
          }
        }
      ]
    },
    {
      "cell_type": "code",
      "metadata": {
        "id": "LghVw0byOSDA"
      },
      "source": [
        "#run model on just top 10, determine the importance of dog breed in prediction\n",
        "#if it's highly correlated, consider 'other' column, or even 340 dummies? \n",
        "#future work idea ^"
      ],
      "execution_count": 30,
      "outputs": []
    },
    {
      "cell_type": "markdown",
      "metadata": {
        "id": "D7wfLrl1OSDA"
      },
      "source": [
        "## Scaling Data"
      ]
    },
    {
      "cell_type": "code",
      "metadata": {
        "id": "7x6GxDRAOSDA"
      },
      "source": [
        "scaler = MinMaxScaler()\n",
        "scaled_df = scaler.fit_transform(breed.values)"
      ],
      "execution_count": 31,
      "outputs": []
    },
    {
      "cell_type": "markdown",
      "metadata": {
        "id": "5NAj_ZpjOSDB"
      },
      "source": [
        "series_to_supervise function courtesy of Jason Brownlee with Machine Learning Mastery"
      ]
    },
    {
      "cell_type": "code",
      "metadata": {
        "id": "NT8MSqu4OSDB"
      },
      "source": [
        "def series_to_supervise(data, n_in = 1, n_out = 1, dropnan = True):\n",
        "    n_vars = 1 if type(data) is list else data.shape[1]\n",
        "    df = pd.DataFrame(data)\n",
        "    cols, names = list(), list()\n",
        "\n",
        "    for i in range(n_in, 0, -1):\n",
        "        cols.append(df.shift(i))\n",
        "        names += [('var%d(t-%d)' % (j+1, i)) for j in range(n_vars)]\n",
        "    for i in range(0, n_out):\n",
        "        cols.append(df.shift(-i))\n",
        "        if i == 0:\n",
        "            names += [('var%d' % (j+1)) for j in range(n_vars)]\n",
        "        else: \n",
        "            names += [('var%d(t-%d)' % (j+1, i)) for j in range(n_vars)]\n",
        "    agg = pd.concat(cols, axis = 1)\n",
        "    agg.columns = names\n",
        "    if dropnan:\n",
        "        agg.dropna(inplace = True)\n",
        "    return agg"
      ],
      "execution_count": 32,
      "outputs": []
    },
    {
      "cell_type": "code",
      "metadata": {
        "id": "14fbcYJsOSDB",
        "colab": {
          "base_uri": "https://localhost:8080/",
          "height": 239
        },
        "outputId": "6a50609f-5c62-4394-b57b-074027abbbd7"
      },
      "source": [
        "#start with lag of 1\n",
        "lstm_df = series_to_supervise(scaled_df)\n",
        "lstm_df.head()"
      ],
      "execution_count": 33,
      "outputs": [
        {
          "output_type": "execute_result",
          "data": {
            "text/html": [
              "<div>\n",
              "<style scoped>\n",
              "    .dataframe tbody tr th:only-of-type {\n",
              "        vertical-align: middle;\n",
              "    }\n",
              "\n",
              "    .dataframe tbody tr th {\n",
              "        vertical-align: top;\n",
              "    }\n",
              "\n",
              "    .dataframe thead th {\n",
              "        text-align: right;\n",
              "    }\n",
              "</style>\n",
              "<table border=\"1\" class=\"dataframe\">\n",
              "  <thead>\n",
              "    <tr style=\"text-align: right;\">\n",
              "      <th></th>\n",
              "      <th>var1(t-1)</th>\n",
              "      <th>var2(t-1)</th>\n",
              "      <th>var3(t-1)</th>\n",
              "      <th>var4(t-1)</th>\n",
              "      <th>var5(t-1)</th>\n",
              "      <th>var6(t-1)</th>\n",
              "      <th>var7(t-1)</th>\n",
              "      <th>var8(t-1)</th>\n",
              "      <th>var9(t-1)</th>\n",
              "      <th>var10(t-1)</th>\n",
              "      <th>var11(t-1)</th>\n",
              "      <th>var1</th>\n",
              "      <th>var2</th>\n",
              "      <th>var3</th>\n",
              "      <th>var4</th>\n",
              "      <th>var5</th>\n",
              "      <th>var6</th>\n",
              "      <th>var7</th>\n",
              "      <th>var8</th>\n",
              "      <th>var9</th>\n",
              "      <th>var10</th>\n",
              "      <th>var11</th>\n",
              "    </tr>\n",
              "  </thead>\n",
              "  <tbody>\n",
              "    <tr>\n",
              "      <th>1</th>\n",
              "      <td>0.018018</td>\n",
              "      <td>0.004831</td>\n",
              "      <td>0.007194</td>\n",
              "      <td>0.023256</td>\n",
              "      <td>0.008475</td>\n",
              "      <td>0.007812</td>\n",
              "      <td>0.020045</td>\n",
              "      <td>0.012690</td>\n",
              "      <td>0.005128</td>\n",
              "      <td>0.019737</td>\n",
              "      <td>0.013025</td>\n",
              "      <td>0.054054</td>\n",
              "      <td>0.038647</td>\n",
              "      <td>0.014388</td>\n",
              "      <td>0.017442</td>\n",
              "      <td>0.033898</td>\n",
              "      <td>0.044271</td>\n",
              "      <td>0.026726</td>\n",
              "      <td>0.050761</td>\n",
              "      <td>0.010256</td>\n",
              "      <td>0.019737</td>\n",
              "      <td>0.036541</td>\n",
              "    </tr>\n",
              "    <tr>\n",
              "      <th>2</th>\n",
              "      <td>0.054054</td>\n",
              "      <td>0.038647</td>\n",
              "      <td>0.014388</td>\n",
              "      <td>0.017442</td>\n",
              "      <td>0.033898</td>\n",
              "      <td>0.044271</td>\n",
              "      <td>0.026726</td>\n",
              "      <td>0.050761</td>\n",
              "      <td>0.010256</td>\n",
              "      <td>0.019737</td>\n",
              "      <td>0.036541</td>\n",
              "      <td>0.045045</td>\n",
              "      <td>0.033816</td>\n",
              "      <td>0.014388</td>\n",
              "      <td>0.040698</td>\n",
              "      <td>0.072034</td>\n",
              "      <td>0.044271</td>\n",
              "      <td>0.064588</td>\n",
              "      <td>0.064721</td>\n",
              "      <td>0.061538</td>\n",
              "      <td>0.085526</td>\n",
              "      <td>0.057887</td>\n",
              "    </tr>\n",
              "    <tr>\n",
              "      <th>3</th>\n",
              "      <td>0.045045</td>\n",
              "      <td>0.033816</td>\n",
              "      <td>0.014388</td>\n",
              "      <td>0.040698</td>\n",
              "      <td>0.072034</td>\n",
              "      <td>0.044271</td>\n",
              "      <td>0.064588</td>\n",
              "      <td>0.064721</td>\n",
              "      <td>0.061538</td>\n",
              "      <td>0.085526</td>\n",
              "      <td>0.057887</td>\n",
              "      <td>0.036036</td>\n",
              "      <td>0.009662</td>\n",
              "      <td>0.035971</td>\n",
              "      <td>0.011628</td>\n",
              "      <td>0.038136</td>\n",
              "      <td>0.026042</td>\n",
              "      <td>0.022272</td>\n",
              "      <td>0.026650</td>\n",
              "      <td>0.025641</td>\n",
              "      <td>0.019737</td>\n",
              "      <td>0.025687</td>\n",
              "    </tr>\n",
              "    <tr>\n",
              "      <th>4</th>\n",
              "      <td>0.036036</td>\n",
              "      <td>0.009662</td>\n",
              "      <td>0.035971</td>\n",
              "      <td>0.011628</td>\n",
              "      <td>0.038136</td>\n",
              "      <td>0.026042</td>\n",
              "      <td>0.022272</td>\n",
              "      <td>0.026650</td>\n",
              "      <td>0.025641</td>\n",
              "      <td>0.019737</td>\n",
              "      <td>0.025687</td>\n",
              "      <td>0.045045</td>\n",
              "      <td>0.024155</td>\n",
              "      <td>0.057554</td>\n",
              "      <td>0.063953</td>\n",
              "      <td>0.038136</td>\n",
              "      <td>0.036458</td>\n",
              "      <td>0.051225</td>\n",
              "      <td>0.059645</td>\n",
              "      <td>0.041026</td>\n",
              "      <td>0.065789</td>\n",
              "      <td>0.050651</td>\n",
              "    </tr>\n",
              "    <tr>\n",
              "      <th>5</th>\n",
              "      <td>0.045045</td>\n",
              "      <td>0.024155</td>\n",
              "      <td>0.057554</td>\n",
              "      <td>0.063953</td>\n",
              "      <td>0.038136</td>\n",
              "      <td>0.036458</td>\n",
              "      <td>0.051225</td>\n",
              "      <td>0.059645</td>\n",
              "      <td>0.041026</td>\n",
              "      <td>0.065789</td>\n",
              "      <td>0.050651</td>\n",
              "      <td>0.054054</td>\n",
              "      <td>0.028986</td>\n",
              "      <td>0.014388</td>\n",
              "      <td>0.040698</td>\n",
              "      <td>0.029661</td>\n",
              "      <td>0.010417</td>\n",
              "      <td>0.026726</td>\n",
              "      <td>0.020305</td>\n",
              "      <td>0.015385</td>\n",
              "      <td>0.013158</td>\n",
              "      <td>0.023517</td>\n",
              "    </tr>\n",
              "  </tbody>\n",
              "</table>\n",
              "</div>"
            ],
            "text/plain": [
              "   var1(t-1)  var2(t-1)  var3(t-1)  ...      var9     var10     var11\n",
              "1   0.018018   0.004831   0.007194  ...  0.010256  0.019737  0.036541\n",
              "2   0.054054   0.038647   0.014388  ...  0.061538  0.085526  0.057887\n",
              "3   0.045045   0.033816   0.014388  ...  0.025641  0.019737  0.025687\n",
              "4   0.036036   0.009662   0.035971  ...  0.041026  0.065789  0.050651\n",
              "5   0.045045   0.024155   0.057554  ...  0.015385  0.013158  0.023517\n",
              "\n",
              "[5 rows x 22 columns]"
            ]
          },
          "metadata": {
            "tags": []
          },
          "execution_count": 33
        }
      ]
    },
    {
      "cell_type": "code",
      "metadata": {
        "id": "K5BdEgkdOSDB",
        "colab": {
          "base_uri": "https://localhost:8080/"
        },
        "outputId": "acce5e4f-76b2-4e2f-f521-24f0c03d0ef6"
      },
      "source": [
        "lstm_df.columns"
      ],
      "execution_count": 34,
      "outputs": [
        {
          "output_type": "execute_result",
          "data": {
            "text/plain": [
              "Index(['var1(t-1)', 'var2(t-1)', 'var3(t-1)', 'var4(t-1)', 'var5(t-1)',\n",
              "       'var6(t-1)', 'var7(t-1)', 'var8(t-1)', 'var9(t-1)', 'var10(t-1)',\n",
              "       'var11(t-1)', 'var1', 'var2', 'var3', 'var4', 'var5', 'var6', 'var7',\n",
              "       'var8', 'var9', 'var10', 'var11'],\n",
              "      dtype='object')"
            ]
          },
          "metadata": {
            "tags": []
          },
          "execution_count": 34
        }
      ]
    },
    {
      "cell_type": "code",
      "metadata": {
        "id": "UAk3YO5hOSDB",
        "colab": {
          "base_uri": "https://localhost:8080/"
        },
        "outputId": "2e7dccab-4738-4a23-ed3a-93aeaaf323cc"
      },
      "source": [
        "lstm_df.drop(lstm_df.columns[[11, 12, 13, 14, 15, 16, 17, 18, 19, 20]], axis = 1, inplace = True)\n",
        "lstm_df.columns"
      ],
      "execution_count": 35,
      "outputs": [
        {
          "output_type": "execute_result",
          "data": {
            "text/plain": [
              "Index(['var1(t-1)', 'var2(t-1)', 'var3(t-1)', 'var4(t-1)', 'var5(t-1)',\n",
              "       'var6(t-1)', 'var7(t-1)', 'var8(t-1)', 'var9(t-1)', 'var10(t-1)',\n",
              "       'var11(t-1)', 'var11'],\n",
              "      dtype='object')"
            ]
          },
          "metadata": {
            "tags": []
          },
          "execution_count": 35
        }
      ]
    },
    {
      "cell_type": "code",
      "metadata": {
        "id": "ow13znQLOSDC"
      },
      "source": [
        "#train_test_split\n",
        "X = lstm_df[lstm_df.columns[:10]].values\n",
        "y = lstm_df['var11'].values"
      ],
      "execution_count": 36,
      "outputs": []
    },
    {
      "cell_type": "code",
      "metadata": {
        "id": "7UWc5BqnOSDC"
      },
      "source": [
        "X_train, X_test, y_train, y_test = train_test_split(X, y, test_size = 0.3, random_state = 42)"
      ],
      "execution_count": 37,
      "outputs": []
    },
    {
      "cell_type": "code",
      "metadata": {
        "id": "EyKcbfRAOSDC",
        "colab": {
          "base_uri": "https://localhost:8080/"
        },
        "outputId": "d1a09aaa-7cfa-4bb2-963c-9e2852b2fe7d"
      },
      "source": [
        "print(\"X_train: \",X_train.shape)\n",
        "print(\"X_test: \", X_test.shape)\n",
        "print(\"Y_train: \", y_train.shape)\n",
        "print(\"y_test: \", y_test.shape)"
      ],
      "execution_count": 38,
      "outputs": [
        {
          "output_type": "stream",
          "text": [
            "X_train:  (727, 10)\n",
            "X_test:  (312, 10)\n",
            "Y_train:  (727,)\n",
            "y_test:  (312,)\n"
          ],
          "name": "stdout"
        }
      ]
    },
    {
      "cell_type": "code",
      "metadata": {
        "id": "6oQ49_D9OSDC",
        "colab": {
          "base_uri": "https://localhost:8080/"
        },
        "outputId": "0a5ab249-dafe-4ad2-faf7-6ca46d681a3a"
      },
      "source": [
        "#Reshape into a 3D that LSTM expects\n",
        "X_train = X_train.reshape((X_train.shape[0], 1, X_train.shape[1]))\n",
        "X_test = X_test.reshape((X_test.shape[0], 1, X_test.shape[1]))\n",
        "print(X_train.shape)\n",
        "print(X_test.shape)"
      ],
      "execution_count": 39,
      "outputs": [
        {
          "output_type": "stream",
          "text": [
            "(727, 1, 10)\n",
            "(312, 1, 10)\n"
          ],
          "name": "stdout"
        }
      ]
    },
    {
      "cell_type": "code",
      "metadata": {
        "id": "gqL0MkYSpJ4L"
      },
      "source": [
        "np.save(\"drive/MyDrive/X_train\", X_train)\n",
        "np.save(\"drive/MyDrive/X_test\", X_test)"
      ],
      "execution_count": 40,
      "outputs": []
    },
    {
      "cell_type": "code",
      "metadata": {
        "id": "aFbO0eMRrf8t"
      },
      "source": [
        "np.save(\"drive/MyDrive/y_train\", y_train)\n",
        "np.save(\"drive/MyDrive/y_test\", y_test)"
      ],
      "execution_count": 41,
      "outputs": []
    },
    {
      "cell_type": "code",
      "metadata": {
        "id": "k3UK_PMtOSDD"
      },
      "source": [
        "#Because I have already done the work of optimizing the sum for LSTM, I'll use the optimal model from the univariate\n",
        "#I can always go back and tune further\n",
        "#Must adjust data to 5 lags"
      ],
      "execution_count": 42,
      "outputs": []
    },
    {
      "cell_type": "code",
      "metadata": {
        "id": "KiLqK2HBOSDD",
        "colab": {
          "base_uri": "https://localhost:8080/",
          "height": 239
        },
        "outputId": "70462f6c-3fb3-470d-c3c7-66062f529a45"
      },
      "source": [
        "lag_5 = series_to_supervise(scaled_df, 5, 1)\n",
        "lag_5.head()"
      ],
      "execution_count": 43,
      "outputs": [
        {
          "output_type": "execute_result",
          "data": {
            "text/html": [
              "<div>\n",
              "<style scoped>\n",
              "    .dataframe tbody tr th:only-of-type {\n",
              "        vertical-align: middle;\n",
              "    }\n",
              "\n",
              "    .dataframe tbody tr th {\n",
              "        vertical-align: top;\n",
              "    }\n",
              "\n",
              "    .dataframe thead th {\n",
              "        text-align: right;\n",
              "    }\n",
              "</style>\n",
              "<table border=\"1\" class=\"dataframe\">\n",
              "  <thead>\n",
              "    <tr style=\"text-align: right;\">\n",
              "      <th></th>\n",
              "      <th>var1(t-5)</th>\n",
              "      <th>var2(t-5)</th>\n",
              "      <th>var3(t-5)</th>\n",
              "      <th>var4(t-5)</th>\n",
              "      <th>var5(t-5)</th>\n",
              "      <th>var6(t-5)</th>\n",
              "      <th>var7(t-5)</th>\n",
              "      <th>var8(t-5)</th>\n",
              "      <th>var9(t-5)</th>\n",
              "      <th>var10(t-5)</th>\n",
              "      <th>var11(t-5)</th>\n",
              "      <th>var1(t-4)</th>\n",
              "      <th>var2(t-4)</th>\n",
              "      <th>var3(t-4)</th>\n",
              "      <th>var4(t-4)</th>\n",
              "      <th>var5(t-4)</th>\n",
              "      <th>var6(t-4)</th>\n",
              "      <th>var7(t-4)</th>\n",
              "      <th>var8(t-4)</th>\n",
              "      <th>var9(t-4)</th>\n",
              "      <th>var10(t-4)</th>\n",
              "      <th>var11(t-4)</th>\n",
              "      <th>var1(t-3)</th>\n",
              "      <th>var2(t-3)</th>\n",
              "      <th>var3(t-3)</th>\n",
              "      <th>var4(t-3)</th>\n",
              "      <th>var5(t-3)</th>\n",
              "      <th>var6(t-3)</th>\n",
              "      <th>var7(t-3)</th>\n",
              "      <th>var8(t-3)</th>\n",
              "      <th>var9(t-3)</th>\n",
              "      <th>var10(t-3)</th>\n",
              "      <th>var11(t-3)</th>\n",
              "      <th>var1(t-2)</th>\n",
              "      <th>var2(t-2)</th>\n",
              "      <th>var3(t-2)</th>\n",
              "      <th>var4(t-2)</th>\n",
              "      <th>var5(t-2)</th>\n",
              "      <th>var6(t-2)</th>\n",
              "      <th>var7(t-2)</th>\n",
              "      <th>var8(t-2)</th>\n",
              "      <th>var9(t-2)</th>\n",
              "      <th>var10(t-2)</th>\n",
              "      <th>var11(t-2)</th>\n",
              "      <th>var1(t-1)</th>\n",
              "      <th>var2(t-1)</th>\n",
              "      <th>var3(t-1)</th>\n",
              "      <th>var4(t-1)</th>\n",
              "      <th>var5(t-1)</th>\n",
              "      <th>var6(t-1)</th>\n",
              "      <th>var7(t-1)</th>\n",
              "      <th>var8(t-1)</th>\n",
              "      <th>var9(t-1)</th>\n",
              "      <th>var10(t-1)</th>\n",
              "      <th>var11(t-1)</th>\n",
              "      <th>var1</th>\n",
              "      <th>var2</th>\n",
              "      <th>var3</th>\n",
              "      <th>var4</th>\n",
              "      <th>var5</th>\n",
              "      <th>var6</th>\n",
              "      <th>var7</th>\n",
              "      <th>var8</th>\n",
              "      <th>var9</th>\n",
              "      <th>var10</th>\n",
              "      <th>var11</th>\n",
              "    </tr>\n",
              "  </thead>\n",
              "  <tbody>\n",
              "    <tr>\n",
              "      <th>5</th>\n",
              "      <td>0.018018</td>\n",
              "      <td>0.004831</td>\n",
              "      <td>0.007194</td>\n",
              "      <td>0.023256</td>\n",
              "      <td>0.008475</td>\n",
              "      <td>0.007812</td>\n",
              "      <td>0.020045</td>\n",
              "      <td>0.012690</td>\n",
              "      <td>0.005128</td>\n",
              "      <td>0.019737</td>\n",
              "      <td>0.013025</td>\n",
              "      <td>0.054054</td>\n",
              "      <td>0.038647</td>\n",
              "      <td>0.014388</td>\n",
              "      <td>0.017442</td>\n",
              "      <td>0.033898</td>\n",
              "      <td>0.044271</td>\n",
              "      <td>0.026726</td>\n",
              "      <td>0.050761</td>\n",
              "      <td>0.010256</td>\n",
              "      <td>0.019737</td>\n",
              "      <td>0.036541</td>\n",
              "      <td>0.045045</td>\n",
              "      <td>0.033816</td>\n",
              "      <td>0.014388</td>\n",
              "      <td>0.040698</td>\n",
              "      <td>0.072034</td>\n",
              "      <td>0.044271</td>\n",
              "      <td>0.064588</td>\n",
              "      <td>0.064721</td>\n",
              "      <td>0.061538</td>\n",
              "      <td>0.085526</td>\n",
              "      <td>0.057887</td>\n",
              "      <td>0.036036</td>\n",
              "      <td>0.009662</td>\n",
              "      <td>0.035971</td>\n",
              "      <td>0.011628</td>\n",
              "      <td>0.038136</td>\n",
              "      <td>0.026042</td>\n",
              "      <td>0.022272</td>\n",
              "      <td>0.026650</td>\n",
              "      <td>0.025641</td>\n",
              "      <td>0.019737</td>\n",
              "      <td>0.025687</td>\n",
              "      <td>0.045045</td>\n",
              "      <td>0.024155</td>\n",
              "      <td>0.057554</td>\n",
              "      <td>0.063953</td>\n",
              "      <td>0.038136</td>\n",
              "      <td>0.036458</td>\n",
              "      <td>0.051225</td>\n",
              "      <td>0.059645</td>\n",
              "      <td>0.041026</td>\n",
              "      <td>0.065789</td>\n",
              "      <td>0.050651</td>\n",
              "      <td>0.054054</td>\n",
              "      <td>0.028986</td>\n",
              "      <td>0.014388</td>\n",
              "      <td>0.040698</td>\n",
              "      <td>0.029661</td>\n",
              "      <td>0.010417</td>\n",
              "      <td>0.026726</td>\n",
              "      <td>0.020305</td>\n",
              "      <td>0.015385</td>\n",
              "      <td>0.013158</td>\n",
              "      <td>0.023517</td>\n",
              "    </tr>\n",
              "    <tr>\n",
              "      <th>6</th>\n",
              "      <td>0.054054</td>\n",
              "      <td>0.038647</td>\n",
              "      <td>0.014388</td>\n",
              "      <td>0.017442</td>\n",
              "      <td>0.033898</td>\n",
              "      <td>0.044271</td>\n",
              "      <td>0.026726</td>\n",
              "      <td>0.050761</td>\n",
              "      <td>0.010256</td>\n",
              "      <td>0.019737</td>\n",
              "      <td>0.036541</td>\n",
              "      <td>0.045045</td>\n",
              "      <td>0.033816</td>\n",
              "      <td>0.014388</td>\n",
              "      <td>0.040698</td>\n",
              "      <td>0.072034</td>\n",
              "      <td>0.044271</td>\n",
              "      <td>0.064588</td>\n",
              "      <td>0.064721</td>\n",
              "      <td>0.061538</td>\n",
              "      <td>0.085526</td>\n",
              "      <td>0.057887</td>\n",
              "      <td>0.036036</td>\n",
              "      <td>0.009662</td>\n",
              "      <td>0.035971</td>\n",
              "      <td>0.011628</td>\n",
              "      <td>0.038136</td>\n",
              "      <td>0.026042</td>\n",
              "      <td>0.022272</td>\n",
              "      <td>0.026650</td>\n",
              "      <td>0.025641</td>\n",
              "      <td>0.019737</td>\n",
              "      <td>0.025687</td>\n",
              "      <td>0.045045</td>\n",
              "      <td>0.024155</td>\n",
              "      <td>0.057554</td>\n",
              "      <td>0.063953</td>\n",
              "      <td>0.038136</td>\n",
              "      <td>0.036458</td>\n",
              "      <td>0.051225</td>\n",
              "      <td>0.059645</td>\n",
              "      <td>0.041026</td>\n",
              "      <td>0.065789</td>\n",
              "      <td>0.050651</td>\n",
              "      <td>0.054054</td>\n",
              "      <td>0.028986</td>\n",
              "      <td>0.014388</td>\n",
              "      <td>0.040698</td>\n",
              "      <td>0.029661</td>\n",
              "      <td>0.010417</td>\n",
              "      <td>0.026726</td>\n",
              "      <td>0.020305</td>\n",
              "      <td>0.015385</td>\n",
              "      <td>0.013158</td>\n",
              "      <td>0.023517</td>\n",
              "      <td>0.036036</td>\n",
              "      <td>0.009662</td>\n",
              "      <td>0.007194</td>\n",
              "      <td>0.005814</td>\n",
              "      <td>0.012712</td>\n",
              "      <td>0.013021</td>\n",
              "      <td>0.013363</td>\n",
              "      <td>0.013959</td>\n",
              "      <td>0.010256</td>\n",
              "      <td>0.013158</td>\n",
              "      <td>0.013386</td>\n",
              "    </tr>\n",
              "    <tr>\n",
              "      <th>7</th>\n",
              "      <td>0.045045</td>\n",
              "      <td>0.033816</td>\n",
              "      <td>0.014388</td>\n",
              "      <td>0.040698</td>\n",
              "      <td>0.072034</td>\n",
              "      <td>0.044271</td>\n",
              "      <td>0.064588</td>\n",
              "      <td>0.064721</td>\n",
              "      <td>0.061538</td>\n",
              "      <td>0.085526</td>\n",
              "      <td>0.057887</td>\n",
              "      <td>0.036036</td>\n",
              "      <td>0.009662</td>\n",
              "      <td>0.035971</td>\n",
              "      <td>0.011628</td>\n",
              "      <td>0.038136</td>\n",
              "      <td>0.026042</td>\n",
              "      <td>0.022272</td>\n",
              "      <td>0.026650</td>\n",
              "      <td>0.025641</td>\n",
              "      <td>0.019737</td>\n",
              "      <td>0.025687</td>\n",
              "      <td>0.045045</td>\n",
              "      <td>0.024155</td>\n",
              "      <td>0.057554</td>\n",
              "      <td>0.063953</td>\n",
              "      <td>0.038136</td>\n",
              "      <td>0.036458</td>\n",
              "      <td>0.051225</td>\n",
              "      <td>0.059645</td>\n",
              "      <td>0.041026</td>\n",
              "      <td>0.065789</td>\n",
              "      <td>0.050651</td>\n",
              "      <td>0.054054</td>\n",
              "      <td>0.028986</td>\n",
              "      <td>0.014388</td>\n",
              "      <td>0.040698</td>\n",
              "      <td>0.029661</td>\n",
              "      <td>0.010417</td>\n",
              "      <td>0.026726</td>\n",
              "      <td>0.020305</td>\n",
              "      <td>0.015385</td>\n",
              "      <td>0.013158</td>\n",
              "      <td>0.023517</td>\n",
              "      <td>0.036036</td>\n",
              "      <td>0.009662</td>\n",
              "      <td>0.007194</td>\n",
              "      <td>0.005814</td>\n",
              "      <td>0.012712</td>\n",
              "      <td>0.013021</td>\n",
              "      <td>0.013363</td>\n",
              "      <td>0.013959</td>\n",
              "      <td>0.010256</td>\n",
              "      <td>0.013158</td>\n",
              "      <td>0.013386</td>\n",
              "      <td>0.054054</td>\n",
              "      <td>0.000000</td>\n",
              "      <td>0.000000</td>\n",
              "      <td>0.023256</td>\n",
              "      <td>0.029661</td>\n",
              "      <td>0.020833</td>\n",
              "      <td>0.020045</td>\n",
              "      <td>0.013959</td>\n",
              "      <td>0.020513</td>\n",
              "      <td>0.006579</td>\n",
              "      <td>0.018090</td>\n",
              "    </tr>\n",
              "    <tr>\n",
              "      <th>8</th>\n",
              "      <td>0.036036</td>\n",
              "      <td>0.009662</td>\n",
              "      <td>0.035971</td>\n",
              "      <td>0.011628</td>\n",
              "      <td>0.038136</td>\n",
              "      <td>0.026042</td>\n",
              "      <td>0.022272</td>\n",
              "      <td>0.026650</td>\n",
              "      <td>0.025641</td>\n",
              "      <td>0.019737</td>\n",
              "      <td>0.025687</td>\n",
              "      <td>0.045045</td>\n",
              "      <td>0.024155</td>\n",
              "      <td>0.057554</td>\n",
              "      <td>0.063953</td>\n",
              "      <td>0.038136</td>\n",
              "      <td>0.036458</td>\n",
              "      <td>0.051225</td>\n",
              "      <td>0.059645</td>\n",
              "      <td>0.041026</td>\n",
              "      <td>0.065789</td>\n",
              "      <td>0.050651</td>\n",
              "      <td>0.054054</td>\n",
              "      <td>0.028986</td>\n",
              "      <td>0.014388</td>\n",
              "      <td>0.040698</td>\n",
              "      <td>0.029661</td>\n",
              "      <td>0.010417</td>\n",
              "      <td>0.026726</td>\n",
              "      <td>0.020305</td>\n",
              "      <td>0.015385</td>\n",
              "      <td>0.013158</td>\n",
              "      <td>0.023517</td>\n",
              "      <td>0.036036</td>\n",
              "      <td>0.009662</td>\n",
              "      <td>0.007194</td>\n",
              "      <td>0.005814</td>\n",
              "      <td>0.012712</td>\n",
              "      <td>0.013021</td>\n",
              "      <td>0.013363</td>\n",
              "      <td>0.013959</td>\n",
              "      <td>0.010256</td>\n",
              "      <td>0.013158</td>\n",
              "      <td>0.013386</td>\n",
              "      <td>0.054054</td>\n",
              "      <td>0.000000</td>\n",
              "      <td>0.000000</td>\n",
              "      <td>0.023256</td>\n",
              "      <td>0.029661</td>\n",
              "      <td>0.020833</td>\n",
              "      <td>0.020045</td>\n",
              "      <td>0.013959</td>\n",
              "      <td>0.020513</td>\n",
              "      <td>0.006579</td>\n",
              "      <td>0.018090</td>\n",
              "      <td>0.045045</td>\n",
              "      <td>0.009662</td>\n",
              "      <td>0.021583</td>\n",
              "      <td>0.023256</td>\n",
              "      <td>0.012712</td>\n",
              "      <td>0.015625</td>\n",
              "      <td>0.011136</td>\n",
              "      <td>0.011421</td>\n",
              "      <td>0.010256</td>\n",
              "      <td>0.013158</td>\n",
              "      <td>0.014834</td>\n",
              "    </tr>\n",
              "    <tr>\n",
              "      <th>9</th>\n",
              "      <td>0.045045</td>\n",
              "      <td>0.024155</td>\n",
              "      <td>0.057554</td>\n",
              "      <td>0.063953</td>\n",
              "      <td>0.038136</td>\n",
              "      <td>0.036458</td>\n",
              "      <td>0.051225</td>\n",
              "      <td>0.059645</td>\n",
              "      <td>0.041026</td>\n",
              "      <td>0.065789</td>\n",
              "      <td>0.050651</td>\n",
              "      <td>0.054054</td>\n",
              "      <td>0.028986</td>\n",
              "      <td>0.014388</td>\n",
              "      <td>0.040698</td>\n",
              "      <td>0.029661</td>\n",
              "      <td>0.010417</td>\n",
              "      <td>0.026726</td>\n",
              "      <td>0.020305</td>\n",
              "      <td>0.015385</td>\n",
              "      <td>0.013158</td>\n",
              "      <td>0.023517</td>\n",
              "      <td>0.036036</td>\n",
              "      <td>0.009662</td>\n",
              "      <td>0.007194</td>\n",
              "      <td>0.005814</td>\n",
              "      <td>0.012712</td>\n",
              "      <td>0.013021</td>\n",
              "      <td>0.013363</td>\n",
              "      <td>0.013959</td>\n",
              "      <td>0.010256</td>\n",
              "      <td>0.013158</td>\n",
              "      <td>0.013386</td>\n",
              "      <td>0.054054</td>\n",
              "      <td>0.000000</td>\n",
              "      <td>0.000000</td>\n",
              "      <td>0.023256</td>\n",
              "      <td>0.029661</td>\n",
              "      <td>0.020833</td>\n",
              "      <td>0.020045</td>\n",
              "      <td>0.013959</td>\n",
              "      <td>0.020513</td>\n",
              "      <td>0.006579</td>\n",
              "      <td>0.018090</td>\n",
              "      <td>0.045045</td>\n",
              "      <td>0.009662</td>\n",
              "      <td>0.021583</td>\n",
              "      <td>0.023256</td>\n",
              "      <td>0.012712</td>\n",
              "      <td>0.015625</td>\n",
              "      <td>0.011136</td>\n",
              "      <td>0.011421</td>\n",
              "      <td>0.010256</td>\n",
              "      <td>0.013158</td>\n",
              "      <td>0.014834</td>\n",
              "      <td>0.063063</td>\n",
              "      <td>0.019324</td>\n",
              "      <td>0.007194</td>\n",
              "      <td>0.011628</td>\n",
              "      <td>0.016949</td>\n",
              "      <td>0.018229</td>\n",
              "      <td>0.006682</td>\n",
              "      <td>0.020305</td>\n",
              "      <td>0.010256</td>\n",
              "      <td>0.013158</td>\n",
              "      <td>0.017366</td>\n",
              "    </tr>\n",
              "  </tbody>\n",
              "</table>\n",
              "</div>"
            ],
            "text/plain": [
              "   var1(t-5)  var2(t-5)  var3(t-5)  ...      var9     var10     var11\n",
              "5   0.018018   0.004831   0.007194  ...  0.015385  0.013158  0.023517\n",
              "6   0.054054   0.038647   0.014388  ...  0.010256  0.013158  0.013386\n",
              "7   0.045045   0.033816   0.014388  ...  0.020513  0.006579  0.018090\n",
              "8   0.036036   0.009662   0.035971  ...  0.010256  0.013158  0.014834\n",
              "9   0.045045   0.024155   0.057554  ...  0.010256  0.013158  0.017366\n",
              "\n",
              "[5 rows x 66 columns]"
            ]
          },
          "metadata": {
            "tags": []
          },
          "execution_count": 43
        }
      ]
    },
    {
      "cell_type": "code",
      "metadata": {
        "id": "4XPLUo9hOSDE",
        "colab": {
          "base_uri": "https://localhost:8080/"
        },
        "outputId": "0c2242c6-11fb-4450-e51f-d33b5c7387ce"
      },
      "source": [
        "lag_5.columns"
      ],
      "execution_count": 44,
      "outputs": [
        {
          "output_type": "execute_result",
          "data": {
            "text/plain": [
              "Index(['var1(t-5)', 'var2(t-5)', 'var3(t-5)', 'var4(t-5)', 'var5(t-5)',\n",
              "       'var6(t-5)', 'var7(t-5)', 'var8(t-5)', 'var9(t-5)', 'var10(t-5)',\n",
              "       'var11(t-5)', 'var1(t-4)', 'var2(t-4)', 'var3(t-4)', 'var4(t-4)',\n",
              "       'var5(t-4)', 'var6(t-4)', 'var7(t-4)', 'var8(t-4)', 'var9(t-4)',\n",
              "       'var10(t-4)', 'var11(t-4)', 'var1(t-3)', 'var2(t-3)', 'var3(t-3)',\n",
              "       'var4(t-3)', 'var5(t-3)', 'var6(t-3)', 'var7(t-3)', 'var8(t-3)',\n",
              "       'var9(t-3)', 'var10(t-3)', 'var11(t-3)', 'var1(t-2)', 'var2(t-2)',\n",
              "       'var3(t-2)', 'var4(t-2)', 'var5(t-2)', 'var6(t-2)', 'var7(t-2)',\n",
              "       'var8(t-2)', 'var9(t-2)', 'var10(t-2)', 'var11(t-2)', 'var1(t-1)',\n",
              "       'var2(t-1)', 'var3(t-1)', 'var4(t-1)', 'var5(t-1)', 'var6(t-1)',\n",
              "       'var7(t-1)', 'var8(t-1)', 'var9(t-1)', 'var10(t-1)', 'var11(t-1)',\n",
              "       'var1', 'var2', 'var3', 'var4', 'var5', 'var6', 'var7', 'var8', 'var9',\n",
              "       'var10', 'var11'],\n",
              "      dtype='object')"
            ]
          },
          "metadata": {
            "tags": []
          },
          "execution_count": 44
        }
      ]
    },
    {
      "cell_type": "code",
      "metadata": {
        "id": "8gq9Ml9hOSDE",
        "colab": {
          "base_uri": "https://localhost:8080/"
        },
        "outputId": "bcd39760-9872-40a6-c4b8-06e581c23c35"
      },
      "source": [
        "lag_5.drop(lag_5.columns[[55, 56, 57, 58, 59, 60, 61, 62, 63, 64]], axis = 1, inplace = True)\n",
        "lag_5.columns"
      ],
      "execution_count": 45,
      "outputs": [
        {
          "output_type": "execute_result",
          "data": {
            "text/plain": [
              "Index(['var1(t-5)', 'var2(t-5)', 'var3(t-5)', 'var4(t-5)', 'var5(t-5)',\n",
              "       'var6(t-5)', 'var7(t-5)', 'var8(t-5)', 'var9(t-5)', 'var10(t-5)',\n",
              "       'var11(t-5)', 'var1(t-4)', 'var2(t-4)', 'var3(t-4)', 'var4(t-4)',\n",
              "       'var5(t-4)', 'var6(t-4)', 'var7(t-4)', 'var8(t-4)', 'var9(t-4)',\n",
              "       'var10(t-4)', 'var11(t-4)', 'var1(t-3)', 'var2(t-3)', 'var3(t-3)',\n",
              "       'var4(t-3)', 'var5(t-3)', 'var6(t-3)', 'var7(t-3)', 'var8(t-3)',\n",
              "       'var9(t-3)', 'var10(t-3)', 'var11(t-3)', 'var1(t-2)', 'var2(t-2)',\n",
              "       'var3(t-2)', 'var4(t-2)', 'var5(t-2)', 'var6(t-2)', 'var7(t-2)',\n",
              "       'var8(t-2)', 'var9(t-2)', 'var10(t-2)', 'var11(t-2)', 'var1(t-1)',\n",
              "       'var2(t-1)', 'var3(t-1)', 'var4(t-1)', 'var5(t-1)', 'var6(t-1)',\n",
              "       'var7(t-1)', 'var8(t-1)', 'var9(t-1)', 'var10(t-1)', 'var11(t-1)',\n",
              "       'var11'],\n",
              "      dtype='object')"
            ]
          },
          "metadata": {
            "tags": []
          },
          "execution_count": 45
        }
      ]
    },
    {
      "cell_type": "code",
      "metadata": {
        "id": "XtL1czm5OSDE",
        "colab": {
          "base_uri": "https://localhost:8080/"
        },
        "outputId": "1d8c6040-72cf-4814-ca90-22e33686de1b"
      },
      "source": [
        "len(lag_5.columns)"
      ],
      "execution_count": 46,
      "outputs": [
        {
          "output_type": "execute_result",
          "data": {
            "text/plain": [
              "56"
            ]
          },
          "metadata": {
            "tags": []
          },
          "execution_count": 46
        }
      ]
    },
    {
      "cell_type": "code",
      "metadata": {
        "id": "WaKQ02L1OSDE"
      },
      "source": [
        "X_5 = lag_5[lag_5.columns[:55]].values\n",
        "y_5 = lag_5['var11'].values"
      ],
      "execution_count": 47,
      "outputs": []
    },
    {
      "cell_type": "code",
      "metadata": {
        "id": "8y7MYerLOSDE"
      },
      "source": [
        "X5_train, X5_test, y5_train, y5_test = train_test_split(X_5, y_5, test_size = 0.3, random_state = 42)"
      ],
      "execution_count": 48,
      "outputs": []
    },
    {
      "cell_type": "code",
      "metadata": {
        "id": "3LbeHIYuOSDF",
        "colab": {
          "base_uri": "https://localhost:8080/"
        },
        "outputId": "a8b204ee-51b0-4d7f-e1a9-2163f3f9599b"
      },
      "source": [
        "print(\"X5_train: \",X5_train.shape)\n",
        "print(\"X5_test: \", X5_test.shape)\n",
        "print(\"Y5_train: \", y5_train.shape)\n",
        "print(\"y5_test: \", y5_test.shape)"
      ],
      "execution_count": 49,
      "outputs": [
        {
          "output_type": "stream",
          "text": [
            "X5_train:  (724, 55)\n",
            "X5_test:  (311, 55)\n",
            "Y5_train:  (724,)\n",
            "y5_test:  (311,)\n"
          ],
          "name": "stdout"
        }
      ]
    },
    {
      "cell_type": "code",
      "metadata": {
        "colab": {
          "base_uri": "https://localhost:8080/"
        },
        "id": "jC7QVHe-CoBq",
        "outputId": "475826e2-94ce-4ca6-a7f2-0b610ba4938a"
      },
      "source": [
        "X5_train = X5_train.reshape((X5_train.shape[0], 5, 11))\n",
        "X5_test = X5_test.reshape((X5_test.shape[0], 5, 11))\n",
        "print(X5_train.shape)\n",
        "print(X5_test.shape)"
      ],
      "execution_count": 50,
      "outputs": [
        {
          "output_type": "stream",
          "text": [
            "(724, 5, 11)\n",
            "(311, 5, 11)\n"
          ],
          "name": "stdout"
        }
      ]
    },
    {
      "cell_type": "code",
      "metadata": {
        "id": "bJtsEdGdC1JC"
      },
      "source": [
        "np.save(\"drive/MyDrive/X5_train\", X5_train)\n",
        "np.save(\"drive/MyDrive/X5_test\", X5_test)"
      ],
      "execution_count": 51,
      "outputs": []
    },
    {
      "cell_type": "code",
      "metadata": {
        "id": "hUP6pOyTOSDF",
        "colab": {
          "base_uri": "https://localhost:8080/"
        },
        "outputId": "2c76bdb6-eedf-4914-b753-9b67cb273bbd"
      },
      "source": [
        "#same model from univariate experiment\n",
        "now = datetime.datetime.now()\n",
        "model_5 = Sequential()\n",
        "model_5.add(LSTM(50, input_shape = (X5_train.shape[1], X5_train.shape[2])))\n",
        "model_5.add(Dense(50, activation = 'tanh'))\n",
        "model_5.add(Dropout(0.3))\n",
        "model_5.add(Dense(35, activation = 'tanh'))\n",
        "model_5.add(Dropout(0.3))\n",
        "model_5.add(Dense(20, activation = 'tanh'))\n",
        "model_5.add(Dropout(0.3))\n",
        "model_5.add(Dense(1))\n",
        "model_5.compile(loss = 'mse', optimizer = 'adam', metrics = ['mse'])\n",
        "\n",
        "history_5 = model_5.fit(X5_train, y5_train, epochs = 10, batch_size = 20, validation_data = (X5_test, y5_test),\n",
        "                        verbose = True, shuffle = False)\n",
        "later = datetime.datetime.now()\n",
        "elapsed = later - now\n",
        "print('Time elapsed: ', elapsed)"
      ],
      "execution_count": 52,
      "outputs": [
        {
          "output_type": "stream",
          "text": [
            "Epoch 1/10\n",
            "37/37 [==============================] - 3s 29ms/step - loss: 0.0056 - mse: 0.0056 - val_loss: 0.0056 - val_mse: 0.0056\n",
            "Epoch 2/10\n",
            "37/37 [==============================] - 0s 6ms/step - loss: 0.0058 - mse: 0.0058 - val_loss: 0.0071 - val_mse: 0.0071\n",
            "Epoch 3/10\n",
            "37/37 [==============================] - 0s 6ms/step - loss: 0.0074 - mse: 0.0074 - val_loss: 0.0052 - val_mse: 0.0052\n",
            "Epoch 4/10\n",
            "37/37 [==============================] - 0s 6ms/step - loss: 0.0056 - mse: 0.0056 - val_loss: 0.0052 - val_mse: 0.0052\n",
            "Epoch 5/10\n",
            "37/37 [==============================] - 0s 7ms/step - loss: 0.0049 - mse: 0.0049 - val_loss: 0.0061 - val_mse: 0.0061\n",
            "Epoch 6/10\n",
            "37/37 [==============================] - 0s 7ms/step - loss: 0.0043 - mse: 0.0043 - val_loss: 0.0065 - val_mse: 0.0065\n",
            "Epoch 7/10\n",
            "37/37 [==============================] - 0s 7ms/step - loss: 0.0051 - mse: 0.0051 - val_loss: 0.0056 - val_mse: 0.0056\n",
            "Epoch 8/10\n",
            "37/37 [==============================] - 0s 6ms/step - loss: 0.0036 - mse: 0.0036 - val_loss: 0.0066 - val_mse: 0.0066\n",
            "Epoch 9/10\n",
            "37/37 [==============================] - 0s 6ms/step - loss: 0.0056 - mse: 0.0056 - val_loss: 0.0054 - val_mse: 0.0054\n",
            "Epoch 10/10\n",
            "37/37 [==============================] - 0s 6ms/step - loss: 0.0044 - mse: 0.0044 - val_loss: 0.0060 - val_mse: 0.0060\n",
            "Time elapsed:  0:00:06.116618\n"
          ],
          "name": "stdout"
        }
      ]
    },
    {
      "cell_type": "code",
      "metadata": {
        "colab": {
          "base_uri": "https://localhost:8080/"
        },
        "id": "v3PaPjcXuZCe",
        "outputId": "c9343b09-344d-41fb-fcbe-fa4368f36b35"
      },
      "source": [
        "model_5.save('drive/MyDrive/model_5')"
      ],
      "execution_count": 53,
      "outputs": [
        {
          "output_type": "stream",
          "text": [
            "WARNING:absl:Found untraced functions such as lstm_cell_layer_call_fn, lstm_cell_layer_call_and_return_conditional_losses, lstm_cell_layer_call_fn, lstm_cell_layer_call_and_return_conditional_losses, lstm_cell_layer_call_and_return_conditional_losses while saving (showing 5 of 5). These functions will not be directly callable after loading.\n",
            "WARNING:absl:Found untraced functions such as lstm_cell_layer_call_fn, lstm_cell_layer_call_and_return_conditional_losses, lstm_cell_layer_call_fn, lstm_cell_layer_call_and_return_conditional_losses, lstm_cell_layer_call_and_return_conditional_losses while saving (showing 5 of 5). These functions will not be directly callable after loading.\n"
          ],
          "name": "stderr"
        },
        {
          "output_type": "stream",
          "text": [
            "INFO:tensorflow:Assets written to: drive/MyDrive/model_5/assets\n"
          ],
          "name": "stdout"
        },
        {
          "output_type": "stream",
          "text": [
            "INFO:tensorflow:Assets written to: drive/MyDrive/model_5/assets\n"
          ],
          "name": "stderr"
        }
      ]
    },
    {
      "cell_type": "code",
      "metadata": {
        "id": "k9bfoBIvOSDF"
      },
      "source": [
        "#examine and analyze these results- let's see what's up!"
      ],
      "execution_count": 54,
      "outputs": []
    },
    {
      "cell_type": "code",
      "metadata": {
        "colab": {
          "base_uri": "https://localhost:8080/",
          "height": 265
        },
        "id": "tj_U2HrFv7lV",
        "outputId": "c339e0aa-18cc-4ea6-aabb-e58513b6617d"
      },
      "source": [
        "plt.plot(history_5.history['loss'], label = 'train')\n",
        "plt.plot(history_5.history['val_loss'], label = 'test')\n",
        "plt.legend()\n",
        "plt.show()"
      ],
      "execution_count": 55,
      "outputs": [
        {
          "output_type": "display_data",
          "data": {
            "image/png": "[encoded data removed]",
            "text/plain": [
              "<Figure size 432x288 with 1 Axes>"
            ]
          },
          "metadata": {
            "tags": [],
            "needs_background": "light"
          }
        }
      ]
    },
    {
      "cell_type": "code",
      "metadata": {
        "colab": {
          "base_uri": "https://localhost:8080/"
        },
        "id": "S2Eoalw6wAtO",
        "outputId": "d74e8fc1-7d7c-4285-da23-412c96524bff"
      },
      "source": [
        "#making predictions \n",
        "yhat = model_5.predict(X5_test)\n",
        "X5_test = X5_test.reshape((X5_test.shape[0], 55))\n",
        "inv_yhat = np.concatenate((yhat, X5_test[:, -10:]), axis = 1)\n",
        "inv_yhat = scaler.inverse_transform(inv_yhat)\n",
        "inv_yhat = inv_yhat[:, 0]\n",
        "\n",
        "y5_test = y5_test.reshape((len(y5_test), 1))\n",
        "inv_y = np.concatenate((y5_test, X5_test[:, -10:]), axis = 1)\n",
        "inv_y = scaler.inverse_transform(inv_y)\n",
        "inv_y = inv_y[:, 0]\n",
        "\n",
        "mse = mean_squared_error(inv_y, inv_yhat)\n",
        "print('MSE of prediction: ', np.round(mse, 2))"
      ],
      "execution_count": 56,
      "outputs": [
        {
          "output_type": "stream",
          "text": [
            "MSE of prediction:  74.34\n"
          ],
          "name": "stdout"
        }
      ]
    },
    {
      "cell_type": "markdown",
      "metadata": {
        "id": "9sFGPLmAOitK"
      },
      "source": [
        "It was originally intended to follow this model up with an exploration of the recursive prediction function used in the univariate model. This proved to be beyond the scope of this project. For a more complete look  at how this was ascertained, please see the notebook entitled \"Multivariate Prediction Function\" in this same repo. "
      ]
    },
    {
      "cell_type": "code",
      "metadata": {
        "id": "B6WNNuPgAxYw"
      },
      "source": [
        "#draw conclusions\n",
        "#next steps\n",
        "#clean up notebook\n",
        "#create more visualizations\n",
        "#create presentation, record"
      ],
      "execution_count": 57,
      "outputs": []
    }
  ]
}