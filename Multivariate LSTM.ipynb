{
 "cells": [
  {
   "cell_type": "markdown",
   "metadata": {},
   "source": [
    "# Steps: \n",
    "1. Determine which variables to use\n",
    "2. Cut down size of dataframe (maybe top 10 and do dummies? or an aggregate (# of pitbulls per month)\n",
    "3. Create multivariate dataframe, including timestamp index\n",
    "4. Scale, series_to_supervise\n",
    "5. Fit data, split to train_test sets\n",
    "6. Use univariate LSTM, tune to lowest MSE\n",
    "7. Compare univariate to multivariate scores, make analysis\n",
    "8. Save model and fit into function\n",
    "9. Write new prediction function? \n",
    "10. Conclude, interpret\n",
    "11. Make more visualizations\n",
    "12. Blog about it\n",
    "13. Where do we go from here? \n",
    "14. What is the \"so what\"? "
   ]
  },
  {
   "cell_type": "code",
   "execution_count": 19,
   "metadata": {},
   "outputs": [],
   "source": [
    "import pandas as pd\n",
    "import warnings\n",
    "warnings.filterwarnings('ignore')"
   ]
  },
  {
   "cell_type": "code",
   "execution_count": 3,
   "metadata": {},
   "outputs": [],
   "source": [
    "df = pd.read_csv('data/raw_data.csv')"
   ]
  },
  {
   "cell_type": "code",
   "execution_count": 4,
   "metadata": {},
   "outputs": [],
   "source": [
    "df.set_index('ValidDate', inplace = True)"
   ]
  },
  {
   "cell_type": "code",
   "execution_count": 5,
   "metadata": {},
   "outputs": [],
   "source": [
    "df = df.drop(['ExpYear'], axis = 1)"
   ]
  },
  {
   "cell_type": "code",
   "execution_count": 6,
   "metadata": {},
   "outputs": [
    {
     "data": {
      "text/html": [
       "<div>\n",
       "<style scoped>\n",
       "    .dataframe tbody tr th:only-of-type {\n",
       "        vertical-align: middle;\n",
       "    }\n",
       "\n",
       "    .dataframe tbody tr th {\n",
       "        vertical-align: top;\n",
       "    }\n",
       "\n",
       "    .dataframe thead th {\n",
       "        text-align: right;\n",
       "    }\n",
       "</style>\n",
       "<table border=\"1\" class=\"dataframe\">\n",
       "  <thead>\n",
       "    <tr style=\"text-align: right;\">\n",
       "      <th></th>\n",
       "      <th>LicenseType</th>\n",
       "      <th>Breed</th>\n",
       "      <th>Color</th>\n",
       "      <th>DogName</th>\n",
       "      <th>OwnerZip</th>\n",
       "    </tr>\n",
       "    <tr>\n",
       "      <th>ValidDate</th>\n",
       "      <th></th>\n",
       "      <th></th>\n",
       "      <th></th>\n",
       "      <th></th>\n",
       "      <th></th>\n",
       "    </tr>\n",
       "  </thead>\n",
       "  <tbody>\n",
       "    <tr>\n",
       "      <th>2014-12-02 09:40:53</th>\n",
       "      <td>Dog Individual Neutered Male</td>\n",
       "      <td>COCKAPOO</td>\n",
       "      <td>BROWN</td>\n",
       "      <td>CHARLEY</td>\n",
       "      <td>15236</td>\n",
       "    </tr>\n",
       "    <tr>\n",
       "      <th>2014-12-02 09:45:25</th>\n",
       "      <td>Dog Senior Citizen or Disability Neutered Male</td>\n",
       "      <td>GER SHEPHERD</td>\n",
       "      <td>BLACK/BROWN</td>\n",
       "      <td>TACODA</td>\n",
       "      <td>15238</td>\n",
       "    </tr>\n",
       "    <tr>\n",
       "      <th>2014-12-02 09:47:55</th>\n",
       "      <td>Dog Individual Spayed Female</td>\n",
       "      <td>GER SHEPHERD</td>\n",
       "      <td>BLACK</td>\n",
       "      <td>CHARLY</td>\n",
       "      <td>15205</td>\n",
       "    </tr>\n",
       "    <tr>\n",
       "      <th>2014-12-02 10:02:33</th>\n",
       "      <td>Dog Individual Spayed Female</td>\n",
       "      <td>LABRADOR RETRIEVER</td>\n",
       "      <td>BLACK</td>\n",
       "      <td>ABBEY</td>\n",
       "      <td>15143</td>\n",
       "    </tr>\n",
       "    <tr>\n",
       "      <th>2014-12-02 10:05:50</th>\n",
       "      <td>Dog Individual Female</td>\n",
       "      <td>GER SHORTHAIR POINT</td>\n",
       "      <td>BROWN</td>\n",
       "      <td>CHARLEY</td>\n",
       "      <td>15228</td>\n",
       "    </tr>\n",
       "  </tbody>\n",
       "</table>\n",
       "</div>"
      ],
      "text/plain": [
       "                                                        LicenseType  \\\n",
       "ValidDate                                                             \n",
       "2014-12-02 09:40:53                    Dog Individual Neutered Male   \n",
       "2014-12-02 09:45:25  Dog Senior Citizen or Disability Neutered Male   \n",
       "2014-12-02 09:47:55                    Dog Individual Spayed Female   \n",
       "2014-12-02 10:02:33                    Dog Individual Spayed Female   \n",
       "2014-12-02 10:05:50                           Dog Individual Female   \n",
       "\n",
       "                                   Breed        Color  DogName  OwnerZip  \n",
       "ValidDate                                                                 \n",
       "2014-12-02 09:40:53             COCKAPOO        BROWN  CHARLEY     15236  \n",
       "2014-12-02 09:45:25         GER SHEPHERD  BLACK/BROWN   TACODA     15238  \n",
       "2014-12-02 09:47:55         GER SHEPHERD        BLACK   CHARLY     15205  \n",
       "2014-12-02 10:02:33   LABRADOR RETRIEVER        BLACK    ABBEY     15143  \n",
       "2014-12-02 10:05:50  GER SHORTHAIR POINT        BROWN  CHARLEY     15228  "
      ]
     },
     "execution_count": 6,
     "metadata": {},
     "output_type": "execute_result"
    }
   ],
   "source": [
    "df.head()"
   ]
  },
  {
   "cell_type": "code",
   "execution_count": 7,
   "metadata": {},
   "outputs": [
    {
     "data": {
      "text/plain": [
       "286724"
      ]
     },
     "execution_count": 7,
     "metadata": {},
     "output_type": "execute_result"
    }
   ],
   "source": [
    "df['Breed'].value_counts().sum()"
   ]
  },
  {
   "cell_type": "code",
   "execution_count": null,
   "metadata": {},
   "outputs": [],
   "source": [
    "#I would definitely need to look at cutting that number down- that would be way too noisy.\n",
    "#My initial thought is to see what the top 10 breeds are\n",
    "#Maybe from there I can either to dummies or aggregate"
   ]
  },
  {
   "cell_type": "code",
   "execution_count": 8,
   "metadata": {},
   "outputs": [],
   "source": [
    "top_ten = df['Breed'].value_counts()[:11]"
   ]
  },
  {
   "cell_type": "code",
   "execution_count": 9,
   "metadata": {},
   "outputs": [
    {
     "data": {
      "text/plain": [
       "MIXED                  29009\n",
       "LABRADOR RETRIEVER     19713\n",
       "LAB MIX                17714\n",
       "GOLDEN RETRIEVER        9344\n",
       "GER SHEPHERD            8437\n",
       "SHIH TZU                7976\n",
       "BEAGLE                  7960\n",
       "CHIHUAHUA               7664\n",
       "TAG                     7475\n",
       "AM PIT BULL TERRIER     7332\n",
       "YORKSHIRE TERRIER       6268\n",
       "Name: Breed, dtype: int64"
      ]
     },
     "execution_count": 9,
     "metadata": {},
     "output_type": "execute_result"
    }
   ],
   "source": [
    "top_ten\n",
    "#bar chart here"
   ]
  },
  {
   "cell_type": "code",
   "execution_count": null,
   "metadata": {},
   "outputs": [],
   "source": [
    "#TAG is not a type of dog. they are denoting that they are putting tags on an existing dog"
   ]
  },
  {
   "cell_type": "code",
   "execution_count": 10,
   "metadata": {},
   "outputs": [
    {
     "data": {
      "text/html": [
       "<div>\n",
       "<style scoped>\n",
       "    .dataframe tbody tr th:only-of-type {\n",
       "        vertical-align: middle;\n",
       "    }\n",
       "\n",
       "    .dataframe tbody tr th {\n",
       "        vertical-align: top;\n",
       "    }\n",
       "\n",
       "    .dataframe thead th {\n",
       "        text-align: right;\n",
       "    }\n",
       "</style>\n",
       "<table border=\"1\" class=\"dataframe\">\n",
       "  <thead>\n",
       "    <tr style=\"text-align: right;\">\n",
       "      <th></th>\n",
       "      <th>LicenseType</th>\n",
       "      <th>Breed</th>\n",
       "      <th>Color</th>\n",
       "      <th>DogName</th>\n",
       "      <th>OwnerZip</th>\n",
       "    </tr>\n",
       "    <tr>\n",
       "      <th>ValidDate</th>\n",
       "      <th></th>\n",
       "      <th></th>\n",
       "      <th></th>\n",
       "      <th></th>\n",
       "      <th></th>\n",
       "    </tr>\n",
       "  </thead>\n",
       "  <tbody>\n",
       "    <tr>\n",
       "      <th>2015-03-12 11:11:36</th>\n",
       "      <td>Dog Individual Spayed Female</td>\n",
       "      <td>TAG</td>\n",
       "      <td>BLACK</td>\n",
       "      <td>SHADOW</td>\n",
       "      <td>15102</td>\n",
       "    </tr>\n",
       "    <tr>\n",
       "      <th>2017-01-10 09:39:46</th>\n",
       "      <td>Dog Individual Spayed Female</td>\n",
       "      <td>TAG</td>\n",
       "      <td>BLACK</td>\n",
       "      <td>SHADOW</td>\n",
       "      <td>15102</td>\n",
       "    </tr>\n",
       "    <tr>\n",
       "      <th>2015-12-11 10:35:08</th>\n",
       "      <td>Dog Individual Spayed Female</td>\n",
       "      <td>TAG</td>\n",
       "      <td>BLACK</td>\n",
       "      <td>SHADOW</td>\n",
       "      <td>15102</td>\n",
       "    </tr>\n",
       "  </tbody>\n",
       "</table>\n",
       "</div>"
      ],
      "text/plain": [
       "                                      LicenseType Breed  Color DogName  \\\n",
       "ValidDate                                                                \n",
       "2015-03-12 11:11:36  Dog Individual Spayed Female   TAG  BLACK  SHADOW   \n",
       "2017-01-10 09:39:46  Dog Individual Spayed Female   TAG  BLACK  SHADOW   \n",
       "2015-12-11 10:35:08  Dog Individual Spayed Female   TAG  BLACK  SHADOW   \n",
       "\n",
       "                     OwnerZip  \n",
       "ValidDate                      \n",
       "2015-03-12 11:11:36     15102  \n",
       "2017-01-10 09:39:46     15102  \n",
       "2015-12-11 10:35:08     15102  "
      ]
     },
     "execution_count": 10,
     "metadata": {},
     "output_type": "execute_result"
    }
   ],
   "source": [
    "tag_df = df.loc[df['Breed'] == 'TAG']\n",
    "tag_df.loc[(tag_df['DogName'] == 'SHADOW') & (tag_df['OwnerZip'] == 15102)]"
   ]
  },
  {
   "cell_type": "code",
   "execution_count": 11,
   "metadata": {
    "scrolled": true
   },
   "outputs": [
    {
     "data": {
      "text/plain": [
       "5708"
      ]
     },
     "execution_count": 11,
     "metadata": {},
     "output_type": "execute_result"
    }
   ],
   "source": [
    "a = len(tag_df['DogName'])\n",
    "b = len(tag_df['DogName'].value_counts())\n",
    "a-b"
   ]
  },
  {
   "cell_type": "code",
   "execution_count": 12,
   "metadata": {},
   "outputs": [],
   "source": [
    "top_ten_df = df[(df['Breed'] == 'MIXED') |\n",
    "                (df['Breed'] == 'LABRADOR RETRIEVER') |\n",
    "                (df['Breed'] == 'LAB MIX') |\n",
    "                (df['Breed'] == 'GOLDEN RETRIEVER') |\n",
    "                (df['Breed'] == 'GER SHEPHERD') |\n",
    "                (df['Breed'] == 'SHIH TZU') |\n",
    "                (df['Breed'] == 'BEAGLE') |\n",
    "                (df['Breed'] == 'CHIHUAHUA') |\n",
    "                (df['Breed'] == 'YORKSHIRE TERRIER') |\n",
    "                (df['Breed'] == 'AM PIT BULL TERRIER')]"
   ]
  },
  {
   "cell_type": "code",
   "execution_count": null,
   "metadata": {},
   "outputs": [],
   "source": [
    "#In the univariate model, we summed the total licenses per day. I think we could sum each breed per day,\n",
    "#and also include a column that shows the % of dogs per day that were top 10\n",
    "#Let's start by summing the top 10 per day"
   ]
  },
  {
   "cell_type": "code",
   "execution_count": 17,
   "metadata": {},
   "outputs": [
    {
     "name": "stderr",
     "output_type": "stream",
     "text": [
      "C:\\Users\\kayce_000\\Anaconda3\\lib\\site-packages\\ipykernel_launcher.py:2: SettingWithCopyWarning: \n",
      "A value is trying to be set on a copy of a slice from a DataFrame.\n",
      "Try using .loc[row_indexer,col_indexer] = value instead\n",
      "\n",
      "See the caveats in the documentation: http://pandas.pydata.org/pandas-docs/stable/indexing.html#indexing-view-versus-copy\n",
      "  \n"
     ]
    },
    {
     "data": {
      "text/html": [
       "<div>\n",
       "<style scoped>\n",
       "    .dataframe tbody tr th:only-of-type {\n",
       "        vertical-align: middle;\n",
       "    }\n",
       "\n",
       "    .dataframe tbody tr th {\n",
       "        vertical-align: top;\n",
       "    }\n",
       "\n",
       "    .dataframe thead th {\n",
       "        text-align: right;\n",
       "    }\n",
       "</style>\n",
       "<table border=\"1\" class=\"dataframe\">\n",
       "  <thead>\n",
       "    <tr style=\"text-align: right;\">\n",
       "      <th></th>\n",
       "      <th>LicenseType</th>\n",
       "      <th>Breed</th>\n",
       "      <th>Color</th>\n",
       "      <th>DogName</th>\n",
       "      <th>OwnerZip</th>\n",
       "      <th>Sum</th>\n",
       "    </tr>\n",
       "    <tr>\n",
       "      <th>ValidDate</th>\n",
       "      <th></th>\n",
       "      <th></th>\n",
       "      <th></th>\n",
       "      <th></th>\n",
       "      <th></th>\n",
       "      <th></th>\n",
       "    </tr>\n",
       "  </thead>\n",
       "  <tbody>\n",
       "    <tr>\n",
       "      <th>2014-12-02 11:25:48</th>\n",
       "      <td>Dog Individual Neutered Male</td>\n",
       "      <td>MIXED</td>\n",
       "      <td>BROWN</td>\n",
       "      <td>SPAULDING</td>\n",
       "      <td>15120</td>\n",
       "      <td>1</td>\n",
       "    </tr>\n",
       "    <tr>\n",
       "      <th>2014-12-02 11:29:03</th>\n",
       "      <td>Dog Individual Neutered Male</td>\n",
       "      <td>MIXED</td>\n",
       "      <td>BROWN</td>\n",
       "      <td>ROCKY</td>\n",
       "      <td>15227</td>\n",
       "      <td>1</td>\n",
       "    </tr>\n",
       "    <tr>\n",
       "      <th>2014-12-02 11:48:53</th>\n",
       "      <td>Dog Senior Citizen or Disability Neutered Male</td>\n",
       "      <td>MIXED</td>\n",
       "      <td>WHITE</td>\n",
       "      <td>BUDDY</td>\n",
       "      <td>15229</td>\n",
       "      <td>1</td>\n",
       "    </tr>\n",
       "    <tr>\n",
       "      <th>2014-12-03 08:48:30</th>\n",
       "      <td>Dog Individual Neutered Male</td>\n",
       "      <td>MIXED</td>\n",
       "      <td>BROWN</td>\n",
       "      <td>DEWEY</td>\n",
       "      <td>15216</td>\n",
       "      <td>1</td>\n",
       "    </tr>\n",
       "    <tr>\n",
       "      <th>2014-12-03 08:48:32</th>\n",
       "      <td>Dog Individual Neutered Male</td>\n",
       "      <td>MIXED</td>\n",
       "      <td>BLACK</td>\n",
       "      <td>ROXIE</td>\n",
       "      <td>15145</td>\n",
       "      <td>1</td>\n",
       "    </tr>\n",
       "  </tbody>\n",
       "</table>\n",
       "</div>"
      ],
      "text/plain": [
       "                                                        LicenseType  Breed  \\\n",
       "ValidDate                                                                    \n",
       "2014-12-02 11:25:48                    Dog Individual Neutered Male  MIXED   \n",
       "2014-12-02 11:29:03                    Dog Individual Neutered Male  MIXED   \n",
       "2014-12-02 11:48:53  Dog Senior Citizen or Disability Neutered Male  MIXED   \n",
       "2014-12-03 08:48:30                    Dog Individual Neutered Male  MIXED   \n",
       "2014-12-03 08:48:32                    Dog Individual Neutered Male  MIXED   \n",
       "\n",
       "                     Color    DogName  OwnerZip  Sum  \n",
       "ValidDate                                             \n",
       "2014-12-02 11:25:48  BROWN  SPAULDING     15120    1  \n",
       "2014-12-02 11:29:03  BROWN      ROCKY     15227    1  \n",
       "2014-12-02 11:48:53  WHITE      BUDDY     15229    1  \n",
       "2014-12-03 08:48:30  BROWN      DEWEY     15216    1  \n",
       "2014-12-03 08:48:32  BLACK      ROXIE     15145    1  "
      ]
     },
     "execution_count": 17,
     "metadata": {},
     "output_type": "execute_result"
    }
   ],
   "source": [
    "mixed = top_ten_df.loc[top_ten_df['Breed'] == 'MIXED']\n",
    "mixed['Sum'] = 1\n",
    "mixed.head()"
   ]
  },
  {
   "cell_type": "code",
   "execution_count": 18,
   "metadata": {},
   "outputs": [
    {
     "name": "stderr",
     "output_type": "stream",
     "text": [
      "C:\\Users\\kayce_000\\Anaconda3\\lib\\site-packages\\ipykernel_launcher.py:2: SettingWithCopyWarning: \n",
      "A value is trying to be set on a copy of a slice from a DataFrame.\n",
      "Try using .loc[row_indexer,col_indexer] = value instead\n",
      "\n",
      "See the caveats in the documentation: http://pandas.pydata.org/pandas-docs/stable/indexing.html#indexing-view-versus-copy\n",
      "  \n"
     ]
    },
    {
     "data": {
      "text/html": [
       "<div>\n",
       "<style scoped>\n",
       "    .dataframe tbody tr th:only-of-type {\n",
       "        vertical-align: middle;\n",
       "    }\n",
       "\n",
       "    .dataframe tbody tr th {\n",
       "        vertical-align: top;\n",
       "    }\n",
       "\n",
       "    .dataframe thead th {\n",
       "        text-align: right;\n",
       "    }\n",
       "</style>\n",
       "<table border=\"1\" class=\"dataframe\">\n",
       "  <thead>\n",
       "    <tr style=\"text-align: right;\">\n",
       "      <th></th>\n",
       "      <th>LicenseType</th>\n",
       "      <th>Breed</th>\n",
       "      <th>Color</th>\n",
       "      <th>DogName</th>\n",
       "      <th>OwnerZip</th>\n",
       "      <th>Sum</th>\n",
       "    </tr>\n",
       "    <tr>\n",
       "      <th>ValidDate</th>\n",
       "      <th></th>\n",
       "      <th></th>\n",
       "      <th></th>\n",
       "      <th></th>\n",
       "      <th></th>\n",
       "      <th></th>\n",
       "    </tr>\n",
       "  </thead>\n",
       "  <tbody>\n",
       "    <tr>\n",
       "      <th>2014-12-02 10:02:33</th>\n",
       "      <td>Dog Individual Spayed Female</td>\n",
       "      <td>LABRADOR RETRIEVER</td>\n",
       "      <td>BLACK</td>\n",
       "      <td>ABBEY</td>\n",
       "      <td>15143</td>\n",
       "      <td>2</td>\n",
       "    </tr>\n",
       "    <tr>\n",
       "      <th>2014-12-02 11:27:08</th>\n",
       "      <td>Dog Individual Male</td>\n",
       "      <td>LABRADOR RETRIEVER</td>\n",
       "      <td>YELLOW</td>\n",
       "      <td>BAILEY</td>\n",
       "      <td>15065</td>\n",
       "      <td>2</td>\n",
       "    </tr>\n",
       "    <tr>\n",
       "      <th>2014-12-02 11:29:37</th>\n",
       "      <td>Dog Individual Spayed Female</td>\n",
       "      <td>LABRADOR RETRIEVER</td>\n",
       "      <td>BLACK</td>\n",
       "      <td>GYPSY</td>\n",
       "      <td>15209</td>\n",
       "      <td>2</td>\n",
       "    </tr>\n",
       "    <tr>\n",
       "      <th>2014-12-03 08:48:32</th>\n",
       "      <td>Dog Individual Female</td>\n",
       "      <td>LABRADOR RETRIEVER</td>\n",
       "      <td>BROWN</td>\n",
       "      <td>ROXY</td>\n",
       "      <td>15237</td>\n",
       "      <td>2</td>\n",
       "    </tr>\n",
       "    <tr>\n",
       "      <th>2014-12-03 08:48:36</th>\n",
       "      <td>Dog Individual Spayed Female</td>\n",
       "      <td>LABRADOR RETRIEVER</td>\n",
       "      <td>YELLOW</td>\n",
       "      <td>DAISY</td>\n",
       "      <td>15143</td>\n",
       "      <td>2</td>\n",
       "    </tr>\n",
       "  </tbody>\n",
       "</table>\n",
       "</div>"
      ],
      "text/plain": [
       "                                      LicenseType               Breed   Color  \\\n",
       "ValidDate                                                                       \n",
       "2014-12-02 10:02:33  Dog Individual Spayed Female  LABRADOR RETRIEVER   BLACK   \n",
       "2014-12-02 11:27:08           Dog Individual Male  LABRADOR RETRIEVER  YELLOW   \n",
       "2014-12-02 11:29:37  Dog Individual Spayed Female  LABRADOR RETRIEVER   BLACK   \n",
       "2014-12-03 08:48:32         Dog Individual Female  LABRADOR RETRIEVER   BROWN   \n",
       "2014-12-03 08:48:36  Dog Individual Spayed Female  LABRADOR RETRIEVER  YELLOW   \n",
       "\n",
       "                    DogName  OwnerZip  Sum  \n",
       "ValidDate                                   \n",
       "2014-12-02 10:02:33   ABBEY     15143    2  \n",
       "2014-12-02 11:27:08  BAILEY     15065    2  \n",
       "2014-12-02 11:29:37   GYPSY     15209    2  \n",
       "2014-12-03 08:48:32    ROXY     15237    2  \n",
       "2014-12-03 08:48:36   DAISY     15143    2  "
      ]
     },
     "execution_count": 18,
     "metadata": {},
     "output_type": "execute_result"
    }
   ],
   "source": [
    "lab = top_ten_df.loc[top_ten_df['Breed'] == 'LABRADOR RETRIEVER']\n",
    "lab['Sum'] = 2\n",
    "lab.head()"
   ]
  },
  {
   "cell_type": "code",
   "execution_count": 21,
   "metadata": {},
   "outputs": [
    {
     "data": {
      "text/html": [
       "<div>\n",
       "<style scoped>\n",
       "    .dataframe tbody tr th:only-of-type {\n",
       "        vertical-align: middle;\n",
       "    }\n",
       "\n",
       "    .dataframe tbody tr th {\n",
       "        vertical-align: top;\n",
       "    }\n",
       "\n",
       "    .dataframe thead th {\n",
       "        text-align: right;\n",
       "    }\n",
       "</style>\n",
       "<table border=\"1\" class=\"dataframe\">\n",
       "  <thead>\n",
       "    <tr style=\"text-align: right;\">\n",
       "      <th></th>\n",
       "      <th>LicenseType</th>\n",
       "      <th>Breed</th>\n",
       "      <th>Color</th>\n",
       "      <th>DogName</th>\n",
       "      <th>OwnerZip</th>\n",
       "      <th>Sum</th>\n",
       "    </tr>\n",
       "    <tr>\n",
       "      <th>ValidDate</th>\n",
       "      <th></th>\n",
       "      <th></th>\n",
       "      <th></th>\n",
       "      <th></th>\n",
       "      <th></th>\n",
       "      <th></th>\n",
       "    </tr>\n",
       "  </thead>\n",
       "  <tbody>\n",
       "    <tr>\n",
       "      <th>2014-12-02 10:53:56</th>\n",
       "      <td>Dog Individual Neutered Male</td>\n",
       "      <td>LAB MIX</td>\n",
       "      <td>RUST</td>\n",
       "      <td>RUSTY</td>\n",
       "      <td>15102</td>\n",
       "      <td>3</td>\n",
       "    </tr>\n",
       "    <tr>\n",
       "      <th>2014-12-02 13:29:21</th>\n",
       "      <td>Dog Senior Citizen or Disability Spayed Female</td>\n",
       "      <td>LAB MIX</td>\n",
       "      <td>BROWN</td>\n",
       "      <td>NALA</td>\n",
       "      <td>15104</td>\n",
       "      <td>3</td>\n",
       "    </tr>\n",
       "    <tr>\n",
       "      <th>2014-12-02 15:24:45</th>\n",
       "      <td>Dog Individual Spayed Female</td>\n",
       "      <td>LAB MIX</td>\n",
       "      <td>BLACK</td>\n",
       "      <td>WILLOW</td>\n",
       "      <td>15101</td>\n",
       "      <td>3</td>\n",
       "    </tr>\n",
       "    <tr>\n",
       "      <th>2014-12-03 09:06:37</th>\n",
       "      <td>Dog Individual Neutered Male</td>\n",
       "      <td>LAB MIX</td>\n",
       "      <td>SPOTTED</td>\n",
       "      <td>PATCHES</td>\n",
       "      <td>15108</td>\n",
       "      <td>3</td>\n",
       "    </tr>\n",
       "    <tr>\n",
       "      <th>2014-12-03 09:42:40</th>\n",
       "      <td>Dog Individual Neutered Male</td>\n",
       "      <td>LAB MIX</td>\n",
       "      <td>BLACK</td>\n",
       "      <td>JACK</td>\n",
       "      <td>15102</td>\n",
       "      <td>3</td>\n",
       "    </tr>\n",
       "  </tbody>\n",
       "</table>\n",
       "</div>"
      ],
      "text/plain": [
       "                                                        LicenseType    Breed  \\\n",
       "ValidDate                                                                      \n",
       "2014-12-02 10:53:56                    Dog Individual Neutered Male  LAB MIX   \n",
       "2014-12-02 13:29:21  Dog Senior Citizen or Disability Spayed Female  LAB MIX   \n",
       "2014-12-02 15:24:45                    Dog Individual Spayed Female  LAB MIX   \n",
       "2014-12-03 09:06:37                    Dog Individual Neutered Male  LAB MIX   \n",
       "2014-12-03 09:42:40                    Dog Individual Neutered Male  LAB MIX   \n",
       "\n",
       "                       Color  DogName  OwnerZip  Sum  \n",
       "ValidDate                                             \n",
       "2014-12-02 10:53:56     RUST    RUSTY     15102    3  \n",
       "2014-12-02 13:29:21    BROWN     NALA     15104    3  \n",
       "2014-12-02 15:24:45    BLACK   WILLOW     15101    3  \n",
       "2014-12-03 09:06:37  SPOTTED  PATCHES     15108    3  \n",
       "2014-12-03 09:42:40    BLACK     JACK     15102    3  "
      ]
     },
     "execution_count": 21,
     "metadata": {},
     "output_type": "execute_result"
    }
   ],
   "source": [
    "lab_mix = top_ten_df.loc[top_ten_df['Breed'] == 'LAB MIX']\n",
    "lab_mix['Sum'] = 3\n",
    "lab_mix.head()"
   ]
  },
  {
   "cell_type": "code",
   "execution_count": 22,
   "metadata": {},
   "outputs": [],
   "source": [
    "golden = top_ten_df.loc[top_ten_df['Breed'] == 'GOLDEN RETRIEVER']\n",
    "golden['Sum'] = 4"
   ]
  },
  {
   "cell_type": "code",
   "execution_count": 23,
   "metadata": {},
   "outputs": [],
   "source": [
    "ger_shepherd = top_ten_df.loc[top_ten_df['Breed'] == 'GER SHEPHERD']\n",
    "ger_shepherd['Sum'] = 5"
   ]
  },
  {
   "cell_type": "code",
   "execution_count": 24,
   "metadata": {},
   "outputs": [],
   "source": [
    "shitzu = top_ten_df.loc[top_ten_df['Breed'] == 'SHIH TZU']\n",
    "shitzu['Sum'] = 6"
   ]
  },
  {
   "cell_type": "code",
   "execution_count": 25,
   "metadata": {},
   "outputs": [],
   "source": [
    "beagle = top_ten_df.loc[top_ten_df['Breed'] == 'BEAGLE']\n",
    "beagle['Sum'] = 7"
   ]
  },
  {
   "cell_type": "code",
   "execution_count": 26,
   "metadata": {},
   "outputs": [],
   "source": [
    "chihuahua = top_ten_df.loc[top_ten_df['Breed'] == 'CHIHUAHUA']\n",
    "chihuahua['Sum'] = 8"
   ]
  },
  {
   "cell_type": "code",
   "execution_count": 27,
   "metadata": {},
   "outputs": [],
   "source": [
    "yorkie = top_ten_df.loc[top_ten_df['Breed'] == 'YORKSHIRE TERRIER']\n",
    "yorkie['Sum'] = 9"
   ]
  },
  {
   "cell_type": "code",
   "execution_count": 28,
   "metadata": {},
   "outputs": [],
   "source": [
    "pittie = top_ten_df.loc[top_ten_df['Breed'] == 'AM PIT BULL TERRIER']\n",
    "pittie['Sum'] = 10"
   ]
  },
  {
   "cell_type": "code",
   "execution_count": 34,
   "metadata": {},
   "outputs": [
    {
     "data": {
      "text/plain": [
       "1     29009\n",
       "2     19713\n",
       "3     17714\n",
       "4      9344\n",
       "5      8437\n",
       "6      7976\n",
       "7      7960\n",
       "8      7664\n",
       "10     7332\n",
       "9      6268\n",
       "Name: Sum, dtype: int64"
      ]
     },
     "execution_count": 34,
     "metadata": {},
     "output_type": "execute_result"
    }
   ],
   "source": [
    "dogs = (mixed, lab, lab_mix, golden, ger_shepherd, shitzu, beagle, chihuahua, yorkie, pittie)\n",
    "coded = pd.concat(dogs)\n",
    "coded['Sum'].value_counts()"
   ]
  },
  {
   "cell_type": "code",
   "execution_count": null,
   "metadata": {},
   "outputs": [],
   "source": [
    "#I now have an encoded dataframe 1 = mixed 2 = lab etc. \n",
    "#I still need to figure out how I'm going to use this to create a sum of each dog, each day. \n",
    "#I hope I didn't do this for nothing. "
   ]
  }
 ],
 "metadata": {
  "kernelspec": {
   "display_name": "Python 3",
   "language": "python",
   "name": "python3"
  },
  "language_info": {
   "codemirror_mode": {
    "name": "ipython",
    "version": 3
   },
   "file_extension": ".py",
   "mimetype": "text/x-python",
   "name": "python",
   "nbconvert_exporter": "python",
   "pygments_lexer": "ipython3",
   "version": "3.7.3"
  }
 },
 "nbformat": 4,
 "nbformat_minor": 2
}
