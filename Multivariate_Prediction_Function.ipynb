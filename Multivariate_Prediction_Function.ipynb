{
  "nbformat": 4,
  "nbformat_minor": 0,
  "metadata": {
    "colab": {
      "name": "Multivariate Prediction Function.ipynb",
      "provenance": [],
      "authorship_tag": "ABX9TyNfQILEf88uP6zdqpXlc9tf",
      "include_colab_link": true
    },
    "kernelspec": {
      "name": "python3",
      "display_name": "Python 3"
    }
  },
  "cells": [
    {
      "cell_type": "markdown",
      "metadata": {
        "id": "view-in-github",
        "colab_type": "text"
      },
      "source": [
        "<a href=\"https://colab.research.google.com/github/kjsampler/Using-AI-to-Predict-Dog-Licenses/blob/main/Multivariate_Prediction_Function.ipynb\" target=\"_parent\"><img src=\"https://colab.research.google.com/assets/colab-badge.svg\" alt=\"Open In Colab\"/></a>"
      ]
    },
    {
      "cell_type": "markdown",
      "metadata": {
        "id": "hbr7W3qD2uWz"
      },
      "source": [
        "Rather than clutter another notebook, I've decided to show the process of writing the multivariate prediction function in its own seperate notebook. This will allow for more organization and a better ability to explain the process. "
      ]
    },
    {
      "cell_type": "code",
      "metadata": {
        "id": "qFSw6cWY2lDp"
      },
      "source": [
        ""
      ],
      "execution_count": null,
      "outputs": []
    }
  ]
}